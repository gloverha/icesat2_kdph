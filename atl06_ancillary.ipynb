{
 "cells": [
  {
   "cell_type": "code",
   "execution_count": 1,
   "id": "3d6b3418-01b5-4546-ba53-175e3ad50d55",
   "metadata": {
    "tags": []
   },
   "outputs": [],
   "source": [
    "# Imports\n",
    "import matplotlib.pyplot as plt\n",
    "from sliderule import sliderule, icesat2"
   ]
  },
  {
   "cell_type": "code",
   "execution_count": 2,
   "id": "2e7c4e03-2993-4ff3-9beb-0a815328ae02",
   "metadata": {
    "tags": []
   },
   "outputs": [],
   "source": [
    "# Configure ICESat-2 API\n",
    "icesat2.init(\"slideruleearth.io\", verbose=False)"
   ]
  },
  {
   "cell_type": "code",
   "execution_count": 3,
   "id": "23d6327c-1b96-4a80-8843-adc760fba0e0",
   "metadata": {
    "tags": []
   },
   "outputs": [],
   "source": [
    "# Area of Interest\n",
    "region = sliderule.toregion('grandmesa.geojson')"
   ]
  },
  {
   "cell_type": "code",
   "execution_count": 4,
   "id": "c7dc7f2e-c8a3-4745-a8f5-7d28af1e0449",
   "metadata": {
    "tags": []
   },
   "outputs": [],
   "source": [
    "# Build ATL06 Request\n",
    "parms = {\n",
    "    \"poly\": region[\"poly\"],\n",
    "    \"srt\": icesat2.SRT_LAND,\n",
    "    \"cnf\": icesat2.CNF_SURFACE_HIGH,\n",
    "    \"ats\": 10.0,\n",
    "    \"cnt\": 10,\n",
    "    \"len\": 40.0,\n",
    "    \"res\": 20.0,\n",
    "    \"atl03_geo_fields\": [\"dem_h\"]\n",
    "}"
   ]
  },
  {
   "cell_type": "code",
   "execution_count": 5,
   "id": "fcf33b7a-026e-425e-8e6c-9887b9896138",
   "metadata": {
    "tags": []
   },
   "outputs": [
    {
     "data": {
      "text/html": [
       "<div>\n",
       "<style scoped>\n",
       "    .dataframe tbody tr th:only-of-type {\n",
       "        vertical-align: middle;\n",
       "    }\n",
       "\n",
       "    .dataframe tbody tr th {\n",
       "        vertical-align: top;\n",
       "    }\n",
       "\n",
       "    .dataframe thead th {\n",
       "        text-align: right;\n",
       "    }\n",
       "</style>\n",
       "<table border=\"1\" class=\"dataframe\">\n",
       "  <thead>\n",
       "    <tr style=\"text-align: right;\">\n",
       "      <th></th>\n",
       "      <th>h_mean</th>\n",
       "      <th>gt</th>\n",
       "      <th>region</th>\n",
       "      <th>pflags</th>\n",
       "      <th>cycle</th>\n",
       "      <th>dh_fit_dx</th>\n",
       "      <th>y_atc</th>\n",
       "      <th>x_atc</th>\n",
       "      <th>h_sigma</th>\n",
       "      <th>rms_misfit</th>\n",
       "      <th>w_surface_window_final</th>\n",
       "      <th>rgt</th>\n",
       "      <th>spot</th>\n",
       "      <th>n_fit_photons</th>\n",
       "      <th>segment_id</th>\n",
       "      <th>geometry</th>\n",
       "      <th>dem_h</th>\n",
       "    </tr>\n",
       "    <tr>\n",
       "      <th>time</th>\n",
       "      <th></th>\n",
       "      <th></th>\n",
       "      <th></th>\n",
       "      <th></th>\n",
       "      <th></th>\n",
       "      <th></th>\n",
       "      <th></th>\n",
       "      <th></th>\n",
       "      <th></th>\n",
       "      <th></th>\n",
       "      <th></th>\n",
       "      <th></th>\n",
       "      <th></th>\n",
       "      <th></th>\n",
       "      <th></th>\n",
       "      <th></th>\n",
       "      <th></th>\n",
       "    </tr>\n",
       "  </thead>\n",
       "  <tbody>\n",
       "    <tr>\n",
       "      <th>2018-10-16 10:49:21.177004288</th>\n",
       "      <td>1932.724302</td>\n",
       "      <td>10</td>\n",
       "      <td>6</td>\n",
       "      <td>0</td>\n",
       "      <td>1</td>\n",
       "      <td>0.033667</td>\n",
       "      <td>44675.378906</td>\n",
       "      <td>15708287.0</td>\n",
       "      <td>0.111745</td>\n",
       "      <td>0.604252</td>\n",
       "      <td>3.642701</td>\n",
       "      <td>272</td>\n",
       "      <td>6</td>\n",
       "      <td>31</td>\n",
       "      <td>784256</td>\n",
       "      <td>POINT (-108.05598 39.17009)</td>\n",
       "      <td>1934.513398</td>\n",
       "    </tr>\n",
       "    <tr>\n",
       "      <th>2018-10-16 10:49:21.180020480</th>\n",
       "      <td>1934.069145</td>\n",
       "      <td>10</td>\n",
       "      <td>6</td>\n",
       "      <td>0</td>\n",
       "      <td>1</td>\n",
       "      <td>0.087854</td>\n",
       "      <td>44674.816406</td>\n",
       "      <td>15708307.0</td>\n",
       "      <td>0.095391</td>\n",
       "      <td>0.662935</td>\n",
       "      <td>4.146861</td>\n",
       "      <td>272</td>\n",
       "      <td>6</td>\n",
       "      <td>52</td>\n",
       "      <td>784257</td>\n",
       "      <td>POINT (-108.05601 39.16991)</td>\n",
       "      <td>1936.373667</td>\n",
       "    </tr>\n",
       "    <tr>\n",
       "      <th>2018-10-16 10:49:21.183400960</th>\n",
       "      <td>1935.859843</td>\n",
       "      <td>10</td>\n",
       "      <td>6</td>\n",
       "      <td>0</td>\n",
       "      <td>1</td>\n",
       "      <td>0.081110</td>\n",
       "      <td>44674.156250</td>\n",
       "      <td>15708327.0</td>\n",
       "      <td>0.085968</td>\n",
       "      <td>0.589985</td>\n",
       "      <td>4.299329</td>\n",
       "      <td>272</td>\n",
       "      <td>6</td>\n",
       "      <td>49</td>\n",
       "      <td>784258</td>\n",
       "      <td>POINT (-108.05605 39.16971)</td>\n",
       "      <td>1938.076879</td>\n",
       "    </tr>\n",
       "    <tr>\n",
       "      <th>2018-10-16 10:49:21.186394368</th>\n",
       "      <td>1937.363736</td>\n",
       "      <td>10</td>\n",
       "      <td>6</td>\n",
       "      <td>0</td>\n",
       "      <td>1</td>\n",
       "      <td>0.085489</td>\n",
       "      <td>44673.578125</td>\n",
       "      <td>15708347.0</td>\n",
       "      <td>0.103511</td>\n",
       "      <td>0.552829</td>\n",
       "      <td>4.377315</td>\n",
       "      <td>272</td>\n",
       "      <td>6</td>\n",
       "      <td>29</td>\n",
       "      <td>784259</td>\n",
       "      <td>POINT (-108.05608 39.16953)</td>\n",
       "      <td>1940.455453</td>\n",
       "    </tr>\n",
       "    <tr>\n",
       "      <th>2018-10-16 10:49:21.189383680</th>\n",
       "      <td>1939.724812</td>\n",
       "      <td>10</td>\n",
       "      <td>6</td>\n",
       "      <td>0</td>\n",
       "      <td>1</td>\n",
       "      <td>0.156731</td>\n",
       "      <td>44672.921875</td>\n",
       "      <td>15708367.0</td>\n",
       "      <td>0.228836</td>\n",
       "      <td>1.105599</td>\n",
       "      <td>5.491649</td>\n",
       "      <td>272</td>\n",
       "      <td>6</td>\n",
       "      <td>24</td>\n",
       "      <td>784260</td>\n",
       "      <td>POINT (-108.05611 39.16935)</td>\n",
       "      <td>1942.912454</td>\n",
       "    </tr>\n",
       "  </tbody>\n",
       "</table>\n",
       "</div>"
      ],
      "text/plain": [
       "                                    h_mean  gt  region  pflags  cycle  \\\n",
       "time                                                                    \n",
       "2018-10-16 10:49:21.177004288  1932.724302  10       6       0      1   \n",
       "2018-10-16 10:49:21.180020480  1934.069145  10       6       0      1   \n",
       "2018-10-16 10:49:21.183400960  1935.859843  10       6       0      1   \n",
       "2018-10-16 10:49:21.186394368  1937.363736  10       6       0      1   \n",
       "2018-10-16 10:49:21.189383680  1939.724812  10       6       0      1   \n",
       "\n",
       "                               dh_fit_dx         y_atc       x_atc   h_sigma  \\\n",
       "time                                                                           \n",
       "2018-10-16 10:49:21.177004288   0.033667  44675.378906  15708287.0  0.111745   \n",
       "2018-10-16 10:49:21.180020480   0.087854  44674.816406  15708307.0  0.095391   \n",
       "2018-10-16 10:49:21.183400960   0.081110  44674.156250  15708327.0  0.085968   \n",
       "2018-10-16 10:49:21.186394368   0.085489  44673.578125  15708347.0  0.103511   \n",
       "2018-10-16 10:49:21.189383680   0.156731  44672.921875  15708367.0  0.228836   \n",
       "\n",
       "                               rms_misfit  w_surface_window_final  rgt  spot  \\\n",
       "time                                                                           \n",
       "2018-10-16 10:49:21.177004288    0.604252                3.642701  272     6   \n",
       "2018-10-16 10:49:21.180020480    0.662935                4.146861  272     6   \n",
       "2018-10-16 10:49:21.183400960    0.589985                4.299329  272     6   \n",
       "2018-10-16 10:49:21.186394368    0.552829                4.377315  272     6   \n",
       "2018-10-16 10:49:21.189383680    1.105599                5.491649  272     6   \n",
       "\n",
       "                               n_fit_photons  segment_id  \\\n",
       "time                                                       \n",
       "2018-10-16 10:49:21.177004288             31      784256   \n",
       "2018-10-16 10:49:21.180020480             52      784257   \n",
       "2018-10-16 10:49:21.183400960             49      784258   \n",
       "2018-10-16 10:49:21.186394368             29      784259   \n",
       "2018-10-16 10:49:21.189383680             24      784260   \n",
       "\n",
       "                                                  geometry        dem_h  \n",
       "time                                                                     \n",
       "2018-10-16 10:49:21.177004288  POINT (-108.05598 39.17009)  1934.513398  \n",
       "2018-10-16 10:49:21.180020480  POINT (-108.05601 39.16991)  1936.373667  \n",
       "2018-10-16 10:49:21.183400960  POINT (-108.05605 39.16971)  1938.076879  \n",
       "2018-10-16 10:49:21.186394368  POINT (-108.05608 39.16953)  1940.455453  \n",
       "2018-10-16 10:49:21.189383680  POINT (-108.05611 39.16935)  1942.912454  "
      ]
     },
     "execution_count": 5,
     "metadata": {},
     "output_type": "execute_result"
    }
   ],
   "source": [
    "# Request ATL06 Data\n",
    "atl06 = icesat2.atl06p(parms)\n",
    "atl06.head()"
   ]
  },
  {
   "cell_type": "code",
   "execution_count": null,
   "id": "6af9de57-1bc5-4163-abe0-f5bddd2207e2",
   "metadata": {
    "tags": []
   },
   "outputs": [],
   "source": [
    "# Display Statistics\n",
    "print(\"Reference Ground Tracks: {}\".format(atl06[\"rgt\"].unique()))\n",
    "print(\"Cycles: {}\".format(atl06[\"cycle\"].unique()))\n",
    "print(\"Received {} elevations\".format(atl06.shape[0]))\n",
    "print(\"Timing Profiles\")\n",
    "for key in icesat2.profiles:\n",
    "    print(\"{:20} {:.6f} secs\".format(key + \":\", icesat2.profiles[key]))"
   ]
  },
  {
   "cell_type": "code",
   "execution_count": null,
   "id": "47b48f46-8c12-4796-bd0f-8f26b6d5fbe3",
   "metadata": {
    "tags": []
   },
   "outputs": [],
   "source": [
    "# Build Delta Column\n",
    "atl06[\"h_delta\"] = atl06[\"h_mean\"] - atl06[\"dem_h\"]"
   ]
  },
  {
   "cell_type": "code",
   "execution_count": null,
   "id": "96aacc09-79a4-48bb-8287-8703f217aae6",
   "metadata": {
    "tags": []
   },
   "outputs": [],
   "source": [
    "# Plot Heights\n",
    "f, ax = plt.subplots(1, 2)\n",
    "ax[0].set_title(\"h_mean\")\n",
    "atl06.plot(ax=ax[0], column='h_mean', cmap='inferno', s=0.1)\n",
    "ax[1].set_title(\"h_delta\")\n",
    "atl06.plot(ax=ax[1], column='h_delta', cmap='inferno', s=0.1)"
   ]
  },
  {
   "cell_type": "code",
   "execution_count": null,
   "id": "1d0ecee5-9d52-4370-a258-411fbb0b7626",
   "metadata": {},
   "outputs": [],
   "source": []
  }
 ],
 "metadata": {
  "kernelspec": {
   "display_name": "Python 3 (ipykernel)",
   "language": "python",
   "name": "python3"
  },
  "language_info": {
   "codemirror_mode": {
    "name": "ipython",
    "version": 3
   },
   "file_extension": ".py",
   "mimetype": "text/x-python",
   "name": "python",
   "nbconvert_exporter": "python",
   "pygments_lexer": "ipython3",
   "version": "3.12.4"
  }
 },
 "nbformat": 4,
 "nbformat_minor": 5
}
