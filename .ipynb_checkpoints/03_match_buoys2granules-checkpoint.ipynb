{
 "cells": [
  {
   "cell_type": "markdown",
   "id": "e8ee7b13-ffc0-4421-97cb-d0521eda0e26",
   "metadata": {},
   "source": [
    "Goal: pull out 1 buoy record that has ssc&chla and search for matching icesat2 granules\n",
    "\n",
    "To do:\n",
    "- Load info for 1 relevant station\n",
    "- Find all matching atl granules and save times from file names\n",
    "- Compare times to see if any matching buoy times"
   ]
  },
  {
   "cell_type": "code",
   "execution_count": 3,
   "id": "e7ac0bb6-2b05-466a-b79e-2ca653da7401",
   "metadata": {},
   "outputs": [
    {
     "name": "stdout",
     "output_type": "stream",
     "text": [
      "Note: you may need to restart the kernel to use updated packages.\n"
     ]
    }
   ],
   "source": [
    "%pip install --quiet erddapy"
   ]
  },
  {
   "cell_type": "code",
   "execution_count": 1,
   "id": "950557e2-e65e-41e4-9e4e-e74111ba592c",
   "metadata": {},
   "outputs": [
    {
     "name": "stderr",
     "output_type": "stream",
     "text": [
      "Client (version (4, 5, 3)) is out of date with the server (version (4, 6, 2))\n"
     ]
    },
    {
     "data": {
      "text/plain": [
       "False"
      ]
     },
     "execution_count": 1,
     "metadata": {},
     "output_type": "execute_result"
    }
   ],
   "source": [
    "# from erddapy import ERDDAP\n",
    "import pandas as pd\n",
    "import numpy as np\n",
    "from sliderule import sliderule, icesat2, earthdata\n",
    "from datetime import datetime, timezone, timedelta\n",
    "\n",
    "pd.set_option('display.max_columns', None)\n",
    "pd.set_option('display.max_rows', None)\n",
    "\n",
    "sliderule.init()"
   ]
  },
  {
   "cell_type": "code",
   "execution_count": 2,
   "id": "65db29b3-ac6e-44bb-a73c-65eb4949880f",
   "metadata": {},
   "outputs": [],
   "source": [
    "def fname2datetime(fname):\n",
    "    y = int(fname[6:10])\n",
    "    m = int(fname[10:12])\n",
    "    d = int(fname[12:14])\n",
    "    H = int(fname[14:16])\n",
    "    M = int(fname[16:18])\n",
    "    S = int(fname[18:20])\n",
    "\n",
    "    t = datetime(y,m,d,H,M,S, tzinfo=timezone.utc)\n",
    "    return t\n",
    "\n",
    "def buoy_bound_box(lat,lon,buffer_km):\n",
    "    # define a buffer distance around the buoy to search for icesat-2 data\n",
    "    lat_buff = buffer_km/111 # convert buffer distance to frac of 1 deg lat\n",
    "    lon_buff = buffer_km/(111*np.cos(lat*np.pi/180)) # convert buffer distance to frac of 1 deg lon\n",
    "    # define bounding box around the buoy (WSEN)\n",
    "    # example: bbox = [-108.3, 39.2, -107.8, 38.8]\n",
    "    # bbox = [lon-lon_buff,lat+lat_buff,lon+lon_buff,lat-lat_buff]\n",
    "    # region = sliderule.toregion(bbox)\n",
    "    minx = lon - lon_buff\n",
    "    miny = lat - lat_buff\n",
    "    maxx = lon + lon_buff\n",
    "    maxy = lat + lat_buff\n",
    "\n",
    "    poly = [{'lon': minx, 'lat': miny},\n",
    "            {'lon': maxx, 'lat': miny},\n",
    "            {'lon': maxx, 'lat': maxy},\n",
    "            {'lon': minx, 'lat': maxy},\n",
    "            {'lon': minx, 'lat': miny}] # Closing the loop by repeating the first point\n",
    "    return poly\n"
   ]
  },
  {
   "cell_type": "code",
   "execution_count": 3,
   "id": "132b8ab8-f0fb-44d2-ba8e-14c52ca4362f",
   "metadata": {
    "scrolled": true
   },
   "outputs": [
    {
     "data": {
      "text/html": [
       "<div>\n",
       "<style scoped>\n",
       "    .dataframe tbody tr th:only-of-type {\n",
       "        vertical-align: middle;\n",
       "    }\n",
       "\n",
       "    .dataframe tbody tr th {\n",
       "        vertical-align: top;\n",
       "    }\n",
       "\n",
       "    .dataframe thead th {\n",
       "        text-align: right;\n",
       "    }\n",
       "</style>\n",
       "<table border=\"1\" class=\"dataframe\">\n",
       "  <thead>\n",
       "    <tr style=\"text-align: right;\">\n",
       "      <th></th>\n",
       "      <th>sites</th>\n",
       "      <th>url</th>\n",
       "      <th>time_coverage_start</th>\n",
       "      <th>time_coverage_end</th>\n",
       "      <th>geospatial_lat_min</th>\n",
       "      <th>geospatial_lat_max</th>\n",
       "      <th>geospatial_lon_min</th>\n",
       "      <th>geospatial_lon_max</th>\n",
       "      <th>geospatial_lat_units</th>\n",
       "      <th>geospatial_lon_units</th>\n",
       "      <th>check_sum</th>\n",
       "      <th>buoy</th>\n",
       "      <th>glider</th>\n",
       "      <th>ship</th>\n",
       "      <th>turb</th>\n",
       "      <th>ssc</th>\n",
       "      <th>phot</th>\n",
       "      <th>chl</th>\n",
       "      <th>turbid</th>\n",
       "      <th>photo</th>\n",
       "      <th>radiation</th>\n",
       "    </tr>\n",
       "  </thead>\n",
       "  <tbody>\n",
       "    <tr>\n",
       "      <th>0</th>\n",
       "      <td>mpoPmzaVikingBuoysTimeseries</td>\n",
       "      <td>https://erddap.ogsl.ca/erddap/</td>\n",
       "      <td>2020-07-09T05:00:00Z</td>\n",
       "      <td>2024-07-01T23:00:00Z</td>\n",
       "      <td>44.349300</td>\n",
       "      <td>49.734700</td>\n",
       "      <td>-124.771500</td>\n",
       "      <td>-52.586200</td>\n",
       "      <td>degrees_north</td>\n",
       "      <td>degrees_east</td>\n",
       "      <td>1.0</td>\n",
       "      <td>True</td>\n",
       "      <td>False</td>\n",
       "      <td>False</td>\n",
       "      <td>False</td>\n",
       "      <td>False</td>\n",
       "      <td>True</td>\n",
       "      <td>False</td>\n",
       "      <td>False</td>\n",
       "      <td>True</td>\n",
       "      <td>True</td>\n",
       "    </tr>\n",
       "    <tr>\n",
       "      <th>1</th>\n",
       "      <td>bcodmo_dataset_737163</td>\n",
       "      <td>https://erddap.bco-dmo.org/erddap/</td>\n",
       "      <td>1989-07-29T19:00:00Z</td>\n",
       "      <td>NaN</td>\n",
       "      <td>22.750000</td>\n",
       "      <td>22.750000</td>\n",
       "      <td>-158.000000</td>\n",
       "      <td>-158.000000</td>\n",
       "      <td>degrees_north</td>\n",
       "      <td>degrees_east</td>\n",
       "      <td>1.0</td>\n",
       "      <td>True</td>\n",
       "      <td>False</td>\n",
       "      <td>True</td>\n",
       "      <td>True</td>\n",
       "      <td>False</td>\n",
       "      <td>True</td>\n",
       "      <td>True</td>\n",
       "      <td>False</td>\n",
       "      <td>True</td>\n",
       "      <td>True</td>\n",
       "    </tr>\n",
       "    <tr>\n",
       "      <th>2</th>\n",
       "      <td>bcodmo_dataset_3093</td>\n",
       "      <td>https://erddap.bco-dmo.org/erddap/</td>\n",
       "      <td>1995-11-08T10:12:00Z</td>\n",
       "      <td>NaN</td>\n",
       "      <td>10.492000</td>\n",
       "      <td>10.683000</td>\n",
       "      <td>-64.735000</td>\n",
       "      <td>-64.367000</td>\n",
       "      <td>degrees_north</td>\n",
       "      <td>degrees_east</td>\n",
       "      <td>1.0</td>\n",
       "      <td>True</td>\n",
       "      <td>False</td>\n",
       "      <td>True</td>\n",
       "      <td>True</td>\n",
       "      <td>False</td>\n",
       "      <td>True</td>\n",
       "      <td>True</td>\n",
       "      <td>True</td>\n",
       "      <td>True</td>\n",
       "      <td>True</td>\n",
       "    </tr>\n",
       "    <tr>\n",
       "      <th>3</th>\n",
       "      <td>edu_humboldt_humboldt</td>\n",
       "      <td>https://erddap.sensors.ioos.us/erddap/</td>\n",
       "      <td>2013-02-14T17:15:00Z</td>\n",
       "      <td>2024-07-01T21:45:00Z</td>\n",
       "      <td>40.777500</td>\n",
       "      <td>40.777500</td>\n",
       "      <td>-124.196520</td>\n",
       "      <td>-124.196520</td>\n",
       "      <td>degrees_north</td>\n",
       "      <td>degrees_east</td>\n",
       "      <td>1.0</td>\n",
       "      <td>True</td>\n",
       "      <td>False</td>\n",
       "      <td>False</td>\n",
       "      <td>True</td>\n",
       "      <td>False</td>\n",
       "      <td>True</td>\n",
       "      <td>True</td>\n",
       "      <td>True</td>\n",
       "      <td>True</td>\n",
       "      <td>True</td>\n",
       "    </tr>\n",
       "    <tr>\n",
       "      <th>4</th>\n",
       "      <td>nerrs_kachomet</td>\n",
       "      <td>https://erddap.sensors.ioos.us/erddap/</td>\n",
       "      <td>2003-06-01T09:15:00Z</td>\n",
       "      <td>2024-05-28T21:00:00Z</td>\n",
       "      <td>59.600930</td>\n",
       "      <td>59.600930</td>\n",
       "      <td>-151.409500</td>\n",
       "      <td>-151.409500</td>\n",
       "      <td>degrees_north</td>\n",
       "      <td>degrees_east</td>\n",
       "      <td>1.0</td>\n",
       "      <td>True</td>\n",
       "      <td>False</td>\n",
       "      <td>False</td>\n",
       "      <td>False</td>\n",
       "      <td>False</td>\n",
       "      <td>True</td>\n",
       "      <td>False</td>\n",
       "      <td>False</td>\n",
       "      <td>True</td>\n",
       "      <td>True</td>\n",
       "    </tr>\n",
       "    <tr>\n",
       "      <th>5</th>\n",
       "      <td>ism-glos-obs_46</td>\n",
       "      <td>https://erddap.sensors.ioos.us/erddap/</td>\n",
       "      <td>2023-05-05T18:15:00Z</td>\n",
       "      <td>2024-07-01T18:20:00Z</td>\n",
       "      <td>46.968730</td>\n",
       "      <td>46.968730</td>\n",
       "      <td>-88.397680</td>\n",
       "      <td>-88.397680</td>\n",
       "      <td>degrees_north</td>\n",
       "      <td>degrees_east</td>\n",
       "      <td>1.0</td>\n",
       "      <td>True</td>\n",
       "      <td>False</td>\n",
       "      <td>False</td>\n",
       "      <td>False</td>\n",
       "      <td>False</td>\n",
       "      <td>True</td>\n",
       "      <td>False</td>\n",
       "      <td>False</td>\n",
       "      <td>True</td>\n",
       "      <td>True</td>\n",
       "    </tr>\n",
       "    <tr>\n",
       "      <th>6</th>\n",
       "      <td>edu_humboldt_humboldt</td>\n",
       "      <td>http://erddap.cencoos.org/erddap/</td>\n",
       "      <td>2013-02-14T17:15:00Z</td>\n",
       "      <td>2024-07-01T23:45:00Z</td>\n",
       "      <td>40.777500</td>\n",
       "      <td>40.777500</td>\n",
       "      <td>-124.196520</td>\n",
       "      <td>-124.196520</td>\n",
       "      <td>degrees_north</td>\n",
       "      <td>degrees_east</td>\n",
       "      <td>1.0</td>\n",
       "      <td>True</td>\n",
       "      <td>False</td>\n",
       "      <td>False</td>\n",
       "      <td>True</td>\n",
       "      <td>False</td>\n",
       "      <td>True</td>\n",
       "      <td>True</td>\n",
       "      <td>True</td>\n",
       "      <td>True</td>\n",
       "      <td>True</td>\n",
       "    </tr>\n",
       "    <tr>\n",
       "      <th>7</th>\n",
       "      <td>bios_jack-20190725T1346-delayed</td>\n",
       "      <td>https://gliders.ioos.us/erddap/</td>\n",
       "      <td>2019-07-25T13:58:08Z</td>\n",
       "      <td>2019-08-17T16:15:26Z</td>\n",
       "      <td>31.615136</td>\n",
       "      <td>32.359756</td>\n",
       "      <td>-64.570206</td>\n",
       "      <td>-63.869049</td>\n",
       "      <td>degrees_north</td>\n",
       "      <td>degrees_east</td>\n",
       "      <td>1.0</td>\n",
       "      <td>True</td>\n",
       "      <td>True</td>\n",
       "      <td>False</td>\n",
       "      <td>False</td>\n",
       "      <td>False</td>\n",
       "      <td>True</td>\n",
       "      <td>True</td>\n",
       "      <td>False</td>\n",
       "      <td>True</td>\n",
       "      <td>True</td>\n",
       "    </tr>\n",
       "    <tr>\n",
       "      <th>8</th>\n",
       "      <td>bios_jack-20190917T0241-delayed</td>\n",
       "      <td>https://gliders.ioos.us/erddap/</td>\n",
       "      <td>2019-09-17T02:09:41Z</td>\n",
       "      <td>2019-10-21T09:47:37Z</td>\n",
       "      <td>31.664385</td>\n",
       "      <td>31.862342</td>\n",
       "      <td>-64.167289</td>\n",
       "      <td>-63.887414</td>\n",
       "      <td>degrees_north</td>\n",
       "      <td>degrees_east</td>\n",
       "      <td>1.0</td>\n",
       "      <td>True</td>\n",
       "      <td>True</td>\n",
       "      <td>False</td>\n",
       "      <td>False</td>\n",
       "      <td>False</td>\n",
       "      <td>True</td>\n",
       "      <td>True</td>\n",
       "      <td>False</td>\n",
       "      <td>True</td>\n",
       "      <td>True</td>\n",
       "    </tr>\n",
       "    <tr>\n",
       "      <th>9</th>\n",
       "      <td>bios_jack-20220627T1351-delayed</td>\n",
       "      <td>https://gliders.ioos.us/erddap/</td>\n",
       "      <td>2022-06-27T13:27:55Z</td>\n",
       "      <td>2022-08-19T15:30:24Z</td>\n",
       "      <td>32.007419</td>\n",
       "      <td>32.362515</td>\n",
       "      <td>-64.597226</td>\n",
       "      <td>-63.838511</td>\n",
       "      <td>degrees_north</td>\n",
       "      <td>degrees_east</td>\n",
       "      <td>1.0</td>\n",
       "      <td>True</td>\n",
       "      <td>True</td>\n",
       "      <td>False</td>\n",
       "      <td>False</td>\n",
       "      <td>False</td>\n",
       "      <td>True</td>\n",
       "      <td>True</td>\n",
       "      <td>False</td>\n",
       "      <td>True</td>\n",
       "      <td>True</td>\n",
       "    </tr>\n",
       "    <tr>\n",
       "      <th>10</th>\n",
       "      <td>bios_jack-20230626T1521-delayed</td>\n",
       "      <td>https://gliders.ioos.us/erddap/</td>\n",
       "      <td>2023-06-26T15:32:43Z</td>\n",
       "      <td>2023-07-28T15:40:04Z</td>\n",
       "      <td>31.811454</td>\n",
       "      <td>32.344116</td>\n",
       "      <td>-64.723230</td>\n",
       "      <td>-63.824359</td>\n",
       "      <td>degrees_north</td>\n",
       "      <td>degrees_east</td>\n",
       "      <td>1.0</td>\n",
       "      <td>True</td>\n",
       "      <td>True</td>\n",
       "      <td>False</td>\n",
       "      <td>False</td>\n",
       "      <td>False</td>\n",
       "      <td>True</td>\n",
       "      <td>True</td>\n",
       "      <td>False</td>\n",
       "      <td>True</td>\n",
       "      <td>True</td>\n",
       "    </tr>\n",
       "    <tr>\n",
       "      <th>11</th>\n",
       "      <td>bios_minnie-20190705T1821-delayed</td>\n",
       "      <td>https://gliders.ioos.us/erddap/</td>\n",
       "      <td>2019-07-05T18:30:39Z</td>\n",
       "      <td>2019-07-11T12:26:37Z</td>\n",
       "      <td>32.123349</td>\n",
       "      <td>32.177341</td>\n",
       "      <td>-64.470272</td>\n",
       "      <td>-64.015989</td>\n",
       "      <td>degrees_north</td>\n",
       "      <td>degrees_east</td>\n",
       "      <td>1.0</td>\n",
       "      <td>True</td>\n",
       "      <td>True</td>\n",
       "      <td>False</td>\n",
       "      <td>False</td>\n",
       "      <td>False</td>\n",
       "      <td>True</td>\n",
       "      <td>True</td>\n",
       "      <td>False</td>\n",
       "      <td>True</td>\n",
       "      <td>True</td>\n",
       "    </tr>\n",
       "    <tr>\n",
       "      <th>12</th>\n",
       "      <td>bios_minnie-20191021T1613-delayed</td>\n",
       "      <td>https://gliders.ioos.us/erddap/</td>\n",
       "      <td>2019-10-21T16:23:47Z</td>\n",
       "      <td>2020-01-26T11:50:27Z</td>\n",
       "      <td>31.658501</td>\n",
       "      <td>31.866358</td>\n",
       "      <td>-64.093539</td>\n",
       "      <td>-63.877451</td>\n",
       "      <td>degrees_north</td>\n",
       "      <td>degrees_east</td>\n",
       "      <td>1.0</td>\n",
       "      <td>True</td>\n",
       "      <td>True</td>\n",
       "      <td>False</td>\n",
       "      <td>False</td>\n",
       "      <td>False</td>\n",
       "      <td>True</td>\n",
       "      <td>True</td>\n",
       "      <td>False</td>\n",
       "      <td>True</td>\n",
       "      <td>True</td>\n",
       "    </tr>\n",
       "    <tr>\n",
       "      <th>13</th>\n",
       "      <td>bios_minnie-20211110T2025-delayed</td>\n",
       "      <td>https://gliders.ioos.us/erddap/</td>\n",
       "      <td>2021-11-10T20:47:23Z</td>\n",
       "      <td>2021-12-04T15:06:29Z</td>\n",
       "      <td>32.158903</td>\n",
       "      <td>32.175945</td>\n",
       "      <td>-64.503146</td>\n",
       "      <td>-64.440117</td>\n",
       "      <td>degrees_north</td>\n",
       "      <td>degrees_east</td>\n",
       "      <td>1.0</td>\n",
       "      <td>True</td>\n",
       "      <td>True</td>\n",
       "      <td>False</td>\n",
       "      <td>False</td>\n",
       "      <td>False</td>\n",
       "      <td>True</td>\n",
       "      <td>True</td>\n",
       "      <td>False</td>\n",
       "      <td>True</td>\n",
       "      <td>True</td>\n",
       "    </tr>\n",
       "    <tr>\n",
       "      <th>14</th>\n",
       "      <td>ce_384-20200708T1545-delayed</td>\n",
       "      <td>https://gliders.ioos.us/erddap/</td>\n",
       "      <td>2020-07-08T16:05:31Z</td>\n",
       "      <td>2020-07-13T15:51:32Z</td>\n",
       "      <td>44.628951</td>\n",
       "      <td>44.664340</td>\n",
       "      <td>-125.476354</td>\n",
       "      <td>-124.714689</td>\n",
       "      <td>degrees_north</td>\n",
       "      <td>degrees_east</td>\n",
       "      <td>1.0</td>\n",
       "      <td>True</td>\n",
       "      <td>True</td>\n",
       "      <td>False</td>\n",
       "      <td>False</td>\n",
       "      <td>False</td>\n",
       "      <td>True</td>\n",
       "      <td>True</td>\n",
       "      <td>False</td>\n",
       "      <td>True</td>\n",
       "      <td>True</td>\n",
       "    </tr>\n",
       "    <tr>\n",
       "      <th>15</th>\n",
       "      <td>glos_236-20180907T1822-delayed</td>\n",
       "      <td>https://gliders.ioos.us/erddap/</td>\n",
       "      <td>2018-09-07T18:25:52Z</td>\n",
       "      <td>2018-10-02T12:32:15Z</td>\n",
       "      <td>42.672392</td>\n",
       "      <td>43.208323</td>\n",
       "      <td>-87.771761</td>\n",
       "      <td>-86.372101</td>\n",
       "      <td>degrees_north</td>\n",
       "      <td>degrees_east</td>\n",
       "      <td>1.0</td>\n",
       "      <td>True</td>\n",
       "      <td>True</td>\n",
       "      <td>False</td>\n",
       "      <td>False</td>\n",
       "      <td>False</td>\n",
       "      <td>True</td>\n",
       "      <td>True</td>\n",
       "      <td>False</td>\n",
       "      <td>True</td>\n",
       "      <td>True</td>\n",
       "    </tr>\n",
       "    <tr>\n",
       "      <th>16</th>\n",
       "      <td>glos_236-20190910T1517-delayed</td>\n",
       "      <td>https://gliders.ioos.us/erddap/</td>\n",
       "      <td>2019-09-10T15:24:02Z</td>\n",
       "      <td>2019-10-18T10:54:32Z</td>\n",
       "      <td>42.137159</td>\n",
       "      <td>43.270626</td>\n",
       "      <td>-87.768605</td>\n",
       "      <td>-86.389235</td>\n",
       "      <td>degrees_north</td>\n",
       "      <td>degrees_east</td>\n",
       "      <td>1.0</td>\n",
       "      <td>True</td>\n",
       "      <td>True</td>\n",
       "      <td>False</td>\n",
       "      <td>False</td>\n",
       "      <td>False</td>\n",
       "      <td>True</td>\n",
       "      <td>True</td>\n",
       "      <td>False</td>\n",
       "      <td>True</td>\n",
       "      <td>True</td>\n",
       "    </tr>\n",
       "    <tr>\n",
       "      <th>17</th>\n",
       "      <td>glos_870-20210909T1754-delayed</td>\n",
       "      <td>https://gliders.ioos.us/erddap/</td>\n",
       "      <td>2021-09-09T17:54:10Z</td>\n",
       "      <td>2021-09-30T18:09:05Z</td>\n",
       "      <td>42.645029</td>\n",
       "      <td>43.227573</td>\n",
       "      <td>-87.771019</td>\n",
       "      <td>-86.339089</td>\n",
       "      <td>degrees_north</td>\n",
       "      <td>degrees_east</td>\n",
       "      <td>1.0</td>\n",
       "      <td>True</td>\n",
       "      <td>True</td>\n",
       "      <td>False</td>\n",
       "      <td>False</td>\n",
       "      <td>False</td>\n",
       "      <td>True</td>\n",
       "      <td>True</td>\n",
       "      <td>False</td>\n",
       "      <td>True</td>\n",
       "      <td>True</td>\n",
       "    </tr>\n",
       "    <tr>\n",
       "      <th>18</th>\n",
       "      <td>ud_476-20230113T1454</td>\n",
       "      <td>https://gliders.ioos.us/erddap/</td>\n",
       "      <td>2023-01-13T14:58:05Z</td>\n",
       "      <td>2023-01-22T01:55:59Z</td>\n",
       "      <td>-67.595395</td>\n",
       "      <td>-66.676916</td>\n",
       "      <td>-69.581001</td>\n",
       "      <td>-69.144831</td>\n",
       "      <td>degrees_north</td>\n",
       "      <td>degrees_east</td>\n",
       "      <td>1.0</td>\n",
       "      <td>True</td>\n",
       "      <td>True</td>\n",
       "      <td>False</td>\n",
       "      <td>False</td>\n",
       "      <td>False</td>\n",
       "      <td>True</td>\n",
       "      <td>True</td>\n",
       "      <td>False</td>\n",
       "      <td>True</td>\n",
       "      <td>True</td>\n",
       "    </tr>\n",
       "    <tr>\n",
       "      <th>19</th>\n",
       "      <td>ooi-ce01issp-sp001-10-paradj000</td>\n",
       "      <td>https://erddap.dataexplorer.oceanobservatories...</td>\n",
       "      <td>2014-04-17T22:28:00Z</td>\n",
       "      <td>2023-09-22T08:00:00Z</td>\n",
       "      <td>44.660120</td>\n",
       "      <td>44.660120</td>\n",
       "      <td>-124.098120</td>\n",
       "      <td>-124.098120</td>\n",
       "      <td>degrees_north</td>\n",
       "      <td>degrees_east</td>\n",
       "      <td>1.0</td>\n",
       "      <td>True</td>\n",
       "      <td>False</td>\n",
       "      <td>False</td>\n",
       "      <td>False</td>\n",
       "      <td>False</td>\n",
       "      <td>True</td>\n",
       "      <td>False</td>\n",
       "      <td>False</td>\n",
       "      <td>True</td>\n",
       "      <td>True</td>\n",
       "    </tr>\n",
       "    <tr>\n",
       "      <th>20</th>\n",
       "      <td>ooi-ce04osps-sf01b-3c-parada102</td>\n",
       "      <td>https://erddap.dataexplorer.oceanobservatories...</td>\n",
       "      <td>2015-08-03T15:10:00Z</td>\n",
       "      <td>2024-04-09T22:00:00Z</td>\n",
       "      <td>44.369353</td>\n",
       "      <td>44.369353</td>\n",
       "      <td>-124.954108</td>\n",
       "      <td>-124.954108</td>\n",
       "      <td>degrees_north</td>\n",
       "      <td>degrees_east</td>\n",
       "      <td>1.0</td>\n",
       "      <td>True</td>\n",
       "      <td>False</td>\n",
       "      <td>False</td>\n",
       "      <td>False</td>\n",
       "      <td>False</td>\n",
       "      <td>True</td>\n",
       "      <td>False</td>\n",
       "      <td>False</td>\n",
       "      <td>True</td>\n",
       "      <td>True</td>\n",
       "    </tr>\n",
       "    <tr>\n",
       "      <th>21</th>\n",
       "      <td>ooi-ce02shsp-sp001-09-paradj000</td>\n",
       "      <td>https://erddap.dataexplorer.oceanobservatories...</td>\n",
       "      <td>2015-03-18T19:36:00Z</td>\n",
       "      <td>2023-09-23T08:08:00Z</td>\n",
       "      <td>44.635550</td>\n",
       "      <td>44.635550</td>\n",
       "      <td>-124.301470</td>\n",
       "      <td>-124.301470</td>\n",
       "      <td>degrees_north</td>\n",
       "      <td>degrees_east</td>\n",
       "      <td>1.0</td>\n",
       "      <td>True</td>\n",
       "      <td>False</td>\n",
       "      <td>False</td>\n",
       "      <td>False</td>\n",
       "      <td>False</td>\n",
       "      <td>True</td>\n",
       "      <td>False</td>\n",
       "      <td>False</td>\n",
       "      <td>True</td>\n",
       "      <td>True</td>\n",
       "    </tr>\n",
       "    <tr>\n",
       "      <th>22</th>\n",
       "      <td>ooi-ce06issp-sp001-10-paradj000</td>\n",
       "      <td>https://erddap.dataexplorer.oceanobservatories...</td>\n",
       "      <td>2015-04-10T18:28:00Z</td>\n",
       "      <td>2023-09-23T08:02:00Z</td>\n",
       "      <td>47.135530</td>\n",
       "      <td>47.135530</td>\n",
       "      <td>-124.270170</td>\n",
       "      <td>-124.270170</td>\n",
       "      <td>degrees_north</td>\n",
       "      <td>degrees_east</td>\n",
       "      <td>1.0</td>\n",
       "      <td>True</td>\n",
       "      <td>False</td>\n",
       "      <td>False</td>\n",
       "      <td>False</td>\n",
       "      <td>False</td>\n",
       "      <td>True</td>\n",
       "      <td>False</td>\n",
       "      <td>False</td>\n",
       "      <td>True</td>\n",
       "      <td>True</td>\n",
       "    </tr>\n",
       "    <tr>\n",
       "      <th>23</th>\n",
       "      <td>ooi-ce09ospm-wfp01-05-paradk000</td>\n",
       "      <td>https://erddap.dataexplorer.oceanobservatories...</td>\n",
       "      <td>2014-04-19T01:02:00Z</td>\n",
       "      <td>2024-04-19T13:09:00Z</td>\n",
       "      <td>46.851630</td>\n",
       "      <td>46.851630</td>\n",
       "      <td>-124.974420</td>\n",
       "      <td>-124.974420</td>\n",
       "      <td>degrees_north</td>\n",
       "      <td>degrees_east</td>\n",
       "      <td>1.0</td>\n",
       "      <td>True</td>\n",
       "      <td>False</td>\n",
       "      <td>False</td>\n",
       "      <td>False</td>\n",
       "      <td>False</td>\n",
       "      <td>True</td>\n",
       "      <td>False</td>\n",
       "      <td>False</td>\n",
       "      <td>True</td>\n",
       "      <td>True</td>\n",
       "    </tr>\n",
       "    <tr>\n",
       "      <th>24</th>\n",
       "      <td>ooi-ce07shsp-sp001-09-paradj000</td>\n",
       "      <td>https://erddap.dataexplorer.oceanobservatories...</td>\n",
       "      <td>2015-04-09T23:25:00Z</td>\n",
       "      <td>2022-04-26T20:04:00Z</td>\n",
       "      <td>46.983580</td>\n",
       "      <td>46.983580</td>\n",
       "      <td>-124.552130</td>\n",
       "      <td>-124.552130</td>\n",
       "      <td>degrees_north</td>\n",
       "      <td>degrees_east</td>\n",
       "      <td>1.0</td>\n",
       "      <td>True</td>\n",
       "      <td>False</td>\n",
       "      <td>False</td>\n",
       "      <td>False</td>\n",
       "      <td>False</td>\n",
       "      <td>True</td>\n",
       "      <td>False</td>\n",
       "      <td>False</td>\n",
       "      <td>True</td>\n",
       "      <td>True</td>\n",
       "    </tr>\n",
       "    <tr>\n",
       "      <th>25</th>\n",
       "      <td>ooi-cp02pmci-wfp01-05-paradk000</td>\n",
       "      <td>https://erddap.dataexplorer.oceanobservatories...</td>\n",
       "      <td>2014-04-17T01:02:00Z</td>\n",
       "      <td>2022-11-18T18:36:00Z</td>\n",
       "      <td>40.226633</td>\n",
       "      <td>40.226633</td>\n",
       "      <td>-70.889067</td>\n",
       "      <td>-70.889067</td>\n",
       "      <td>degrees_north</td>\n",
       "      <td>degrees_east</td>\n",
       "      <td>1.0</td>\n",
       "      <td>True</td>\n",
       "      <td>False</td>\n",
       "      <td>False</td>\n",
       "      <td>False</td>\n",
       "      <td>False</td>\n",
       "      <td>True</td>\n",
       "      <td>False</td>\n",
       "      <td>False</td>\n",
       "      <td>True</td>\n",
       "      <td>True</td>\n",
       "    </tr>\n",
       "    <tr>\n",
       "      <th>26</th>\n",
       "      <td>ooi-cp02pmco-wfp01-05-paradk000</td>\n",
       "      <td>https://erddap.dataexplorer.oceanobservatories...</td>\n",
       "      <td>2014-04-13T18:02:00Z</td>\n",
       "      <td>2022-11-18T15:30:00Z</td>\n",
       "      <td>40.096817</td>\n",
       "      <td>40.096817</td>\n",
       "      <td>-70.879150</td>\n",
       "      <td>-70.879150</td>\n",
       "      <td>degrees_north</td>\n",
       "      <td>degrees_east</td>\n",
       "      <td>1.0</td>\n",
       "      <td>True</td>\n",
       "      <td>False</td>\n",
       "      <td>False</td>\n",
       "      <td>False</td>\n",
       "      <td>False</td>\n",
       "      <td>True</td>\n",
       "      <td>False</td>\n",
       "      <td>False</td>\n",
       "      <td>True</td>\n",
       "      <td>True</td>\n",
       "    </tr>\n",
       "    <tr>\n",
       "      <th>27</th>\n",
       "      <td>ooi-cp01cnpm-wfp01-05-paradk000</td>\n",
       "      <td>https://erddap.dataexplorer.oceanobservatories...</td>\n",
       "      <td>2017-11-06T19:02:00Z</td>\n",
       "      <td>2022-04-24T18:27:00Z</td>\n",
       "      <td>40.133907</td>\n",
       "      <td>40.133907</td>\n",
       "      <td>-70.770433</td>\n",
       "      <td>-70.770433</td>\n",
       "      <td>degrees_north</td>\n",
       "      <td>degrees_east</td>\n",
       "      <td>1.0</td>\n",
       "      <td>True</td>\n",
       "      <td>False</td>\n",
       "      <td>False</td>\n",
       "      <td>False</td>\n",
       "      <td>False</td>\n",
       "      <td>True</td>\n",
       "      <td>False</td>\n",
       "      <td>False</td>\n",
       "      <td>True</td>\n",
       "      <td>True</td>\n",
       "    </tr>\n",
       "    <tr>\n",
       "      <th>28</th>\n",
       "      <td>ooi-cp03ispm-wfp01-05-paradk000</td>\n",
       "      <td>https://erddap.dataexplorer.oceanobservatories...</td>\n",
       "      <td>2017-11-12T05:02:00Z</td>\n",
       "      <td>2022-04-25T18:24:00Z</td>\n",
       "      <td>40.362005</td>\n",
       "      <td>40.362005</td>\n",
       "      <td>-70.878502</td>\n",
       "      <td>-70.878502</td>\n",
       "      <td>degrees_north</td>\n",
       "      <td>degrees_east</td>\n",
       "      <td>1.0</td>\n",
       "      <td>True</td>\n",
       "      <td>False</td>\n",
       "      <td>False</td>\n",
       "      <td>False</td>\n",
       "      <td>False</td>\n",
       "      <td>True</td>\n",
       "      <td>False</td>\n",
       "      <td>False</td>\n",
       "      <td>True</td>\n",
       "      <td>True</td>\n",
       "    </tr>\n",
       "    <tr>\n",
       "      <th>29</th>\n",
       "      <td>ooi-cp04ospm-wfp01-05-paradk000</td>\n",
       "      <td>https://erddap.dataexplorer.oceanobservatories...</td>\n",
       "      <td>2014-04-15T20:02:00Z</td>\n",
       "      <td>2022-11-11T18:03:00Z</td>\n",
       "      <td>39.936000</td>\n",
       "      <td>39.936000</td>\n",
       "      <td>-70.879417</td>\n",
       "      <td>-70.879417</td>\n",
       "      <td>degrees_north</td>\n",
       "      <td>degrees_east</td>\n",
       "      <td>1.0</td>\n",
       "      <td>True</td>\n",
       "      <td>False</td>\n",
       "      <td>False</td>\n",
       "      <td>False</td>\n",
       "      <td>False</td>\n",
       "      <td>True</td>\n",
       "      <td>False</td>\n",
       "      <td>False</td>\n",
       "      <td>True</td>\n",
       "      <td>True</td>\n",
       "    </tr>\n",
       "    <tr>\n",
       "      <th>30</th>\n",
       "      <td>ooi-cp02pmui-wfp01-05-paradk000</td>\n",
       "      <td>https://erddap.dataexplorer.oceanobservatories...</td>\n",
       "      <td>2013-11-24T01:32:00Z</td>\n",
       "      <td>2022-11-19T09:24:00Z</td>\n",
       "      <td>40.364917</td>\n",
       "      <td>40.364917</td>\n",
       "      <td>-70.780483</td>\n",
       "      <td>-70.780483</td>\n",
       "      <td>degrees_north</td>\n",
       "      <td>degrees_east</td>\n",
       "      <td>1.0</td>\n",
       "      <td>True</td>\n",
       "      <td>False</td>\n",
       "      <td>False</td>\n",
       "      <td>False</td>\n",
       "      <td>False</td>\n",
       "      <td>True</td>\n",
       "      <td>False</td>\n",
       "      <td>False</td>\n",
       "      <td>True</td>\n",
       "      <td>True</td>\n",
       "    </tr>\n",
       "    <tr>\n",
       "      <th>31</th>\n",
       "      <td>ooi-cp02pmuo-wfp01-05-paradk000</td>\n",
       "      <td>https://erddap.dataexplorer.oceanobservatories...</td>\n",
       "      <td>2013-11-23T16:02:00Z</td>\n",
       "      <td>2022-11-18T09:10:00Z</td>\n",
       "      <td>39.939333</td>\n",
       "      <td>39.939333</td>\n",
       "      <td>-70.770183</td>\n",
       "      <td>-70.770183</td>\n",
       "      <td>degrees_north</td>\n",
       "      <td>degrees_east</td>\n",
       "      <td>1.0</td>\n",
       "      <td>True</td>\n",
       "      <td>False</td>\n",
       "      <td>False</td>\n",
       "      <td>False</td>\n",
       "      <td>False</td>\n",
       "      <td>True</td>\n",
       "      <td>False</td>\n",
       "      <td>False</td>\n",
       "      <td>True</td>\n",
       "      <td>True</td>\n",
       "    </tr>\n",
       "    <tr>\n",
       "      <th>32</th>\n",
       "      <td>ooi-rs03axps-sf03a-3c-parada301</td>\n",
       "      <td>https://erddap.dataexplorer.oceanobservatories...</td>\n",
       "      <td>2014-10-07T21:49:00Z</td>\n",
       "      <td>2024-07-01T08:03:00Z</td>\n",
       "      <td>45.816712</td>\n",
       "      <td>45.816712</td>\n",
       "      <td>-129.754055</td>\n",
       "      <td>-129.754055</td>\n",
       "      <td>degrees_north</td>\n",
       "      <td>degrees_east</td>\n",
       "      <td>1.0</td>\n",
       "      <td>True</td>\n",
       "      <td>False</td>\n",
       "      <td>False</td>\n",
       "      <td>False</td>\n",
       "      <td>False</td>\n",
       "      <td>True</td>\n",
       "      <td>False</td>\n",
       "      <td>False</td>\n",
       "      <td>True</td>\n",
       "      <td>True</td>\n",
       "    </tr>\n",
       "    <tr>\n",
       "      <th>33</th>\n",
       "      <td>ooi-rs01sbps-sf01a-3c-parada101</td>\n",
       "      <td>https://erddap.dataexplorer.oceanobservatories...</td>\n",
       "      <td>2014-10-07T20:47:00Z</td>\n",
       "      <td>2024-07-01T07:44:00Z</td>\n",
       "      <td>44.515161</td>\n",
       "      <td>44.515161</td>\n",
       "      <td>-125.389899</td>\n",
       "      <td>-125.389899</td>\n",
       "      <td>degrees_north</td>\n",
       "      <td>degrees_east</td>\n",
       "      <td>1.0</td>\n",
       "      <td>True</td>\n",
       "      <td>False</td>\n",
       "      <td>False</td>\n",
       "      <td>False</td>\n",
       "      <td>False</td>\n",
       "      <td>True</td>\n",
       "      <td>False</td>\n",
       "      <td>False</td>\n",
       "      <td>True</td>\n",
       "      <td>True</td>\n",
       "    </tr>\n",
       "    <tr>\n",
       "      <th>34</th>\n",
       "      <td>sd1066_2019</td>\n",
       "      <td>https://ferret.pmel.noaa.gov/pmel/erddap</td>\n",
       "      <td>2019-06-08T02:00:00Z</td>\n",
       "      <td>2020-01-07T01:59:00Z</td>\n",
       "      <td>-0.871070</td>\n",
       "      <td>22.859878</td>\n",
       "      <td>-158.781798</td>\n",
       "      <td>-138.125747</td>\n",
       "      <td>degrees_north</td>\n",
       "      <td>degrees_east</td>\n",
       "      <td>1.0</td>\n",
       "      <td>True</td>\n",
       "      <td>False</td>\n",
       "      <td>False</td>\n",
       "      <td>False</td>\n",
       "      <td>False</td>\n",
       "      <td>True</td>\n",
       "      <td>True</td>\n",
       "      <td>False</td>\n",
       "      <td>True</td>\n",
       "      <td>True</td>\n",
       "    </tr>\n",
       "    <tr>\n",
       "      <th>35</th>\n",
       "      <td>sd1067_2019</td>\n",
       "      <td>https://ferret.pmel.noaa.gov/pmel/erddap</td>\n",
       "      <td>2019-06-08T02:00:00Z</td>\n",
       "      <td>2020-01-03T19:59:00Z</td>\n",
       "      <td>-1.816232</td>\n",
       "      <td>47.000000</td>\n",
       "      <td>-158.740134</td>\n",
       "      <td>-137.561024</td>\n",
       "      <td>degrees_north</td>\n",
       "      <td>degrees_east</td>\n",
       "      <td>1.0</td>\n",
       "      <td>True</td>\n",
       "      <td>False</td>\n",
       "      <td>False</td>\n",
       "      <td>False</td>\n",
       "      <td>False</td>\n",
       "      <td>True</td>\n",
       "      <td>True</td>\n",
       "      <td>False</td>\n",
       "      <td>True</td>\n",
       "      <td>True</td>\n",
       "    </tr>\n",
       "    <tr>\n",
       "      <th>36</th>\n",
       "      <td>sd1068_2019</td>\n",
       "      <td>https://ferret.pmel.noaa.gov/pmel/erddap</td>\n",
       "      <td>2019-06-08T02:00:00Z</td>\n",
       "      <td>2020-01-07T17:59:00Z</td>\n",
       "      <td>-5.544163</td>\n",
       "      <td>23.043114</td>\n",
       "      <td>-158.868851</td>\n",
       "      <td>-137.640128</td>\n",
       "      <td>degrees_north</td>\n",
       "      <td>degrees_east</td>\n",
       "      <td>1.0</td>\n",
       "      <td>True</td>\n",
       "      <td>False</td>\n",
       "      <td>False</td>\n",
       "      <td>False</td>\n",
       "      <td>False</td>\n",
       "      <td>True</td>\n",
       "      <td>True</td>\n",
       "      <td>False</td>\n",
       "      <td>True</td>\n",
       "      <td>True</td>\n",
       "    </tr>\n",
       "    <tr>\n",
       "      <th>37</th>\n",
       "      <td>sd1069_2019</td>\n",
       "      <td>https://ferret.pmel.noaa.gov/pmel/erddap</td>\n",
       "      <td>2019-06-08T02:00:00Z</td>\n",
       "      <td>2019-12-28T21:59:00Z</td>\n",
       "      <td>-1.510918</td>\n",
       "      <td>22.961058</td>\n",
       "      <td>-158.828685</td>\n",
       "      <td>-139.400243</td>\n",
       "      <td>degrees_north</td>\n",
       "      <td>degrees_east</td>\n",
       "      <td>1.0</td>\n",
       "      <td>True</td>\n",
       "      <td>False</td>\n",
       "      <td>False</td>\n",
       "      <td>False</td>\n",
       "      <td>False</td>\n",
       "      <td>True</td>\n",
       "      <td>True</td>\n",
       "      <td>False</td>\n",
       "      <td>True</td>\n",
       "      <td>True</td>\n",
       "    </tr>\n",
       "    <tr>\n",
       "      <th>38</th>\n",
       "      <td>sd1065_tpos_2021</td>\n",
       "      <td>https://ferret.pmel.noaa.gov/pmel/erddap</td>\n",
       "      <td>2021-07-21T00:00:00Z</td>\n",
       "      <td>2022-09-24T23:59:00Z</td>\n",
       "      <td>-8.881985</td>\n",
       "      <td>37.632250</td>\n",
       "      <td>-157.872589</td>\n",
       "      <td>-97.658970</td>\n",
       "      <td>degrees_north</td>\n",
       "      <td>degrees_east</td>\n",
       "      <td>1.0</td>\n",
       "      <td>True</td>\n",
       "      <td>False</td>\n",
       "      <td>True</td>\n",
       "      <td>False</td>\n",
       "      <td>False</td>\n",
       "      <td>True</td>\n",
       "      <td>True</td>\n",
       "      <td>False</td>\n",
       "      <td>True</td>\n",
       "      <td>True</td>\n",
       "    </tr>\n",
       "    <tr>\n",
       "      <th>39</th>\n",
       "      <td>sd1066_tpos_2021</td>\n",
       "      <td>https://ferret.pmel.noaa.gov/pmel/erddap</td>\n",
       "      <td>2021-07-21T00:00:00Z</td>\n",
       "      <td>2022-09-18T23:59:00Z</td>\n",
       "      <td>1.138532</td>\n",
       "      <td>37.815424</td>\n",
       "      <td>-134.876390</td>\n",
       "      <td>-109.792602</td>\n",
       "      <td>degrees_north</td>\n",
       "      <td>degrees_east</td>\n",
       "      <td>1.0</td>\n",
       "      <td>True</td>\n",
       "      <td>False</td>\n",
       "      <td>True</td>\n",
       "      <td>False</td>\n",
       "      <td>False</td>\n",
       "      <td>True</td>\n",
       "      <td>True</td>\n",
       "      <td>False</td>\n",
       "      <td>True</td>\n",
       "      <td>True</td>\n",
       "    </tr>\n",
       "    <tr>\n",
       "      <th>40</th>\n",
       "      <td>ud_476-20230113T1454</td>\n",
       "      <td>https://polarwatch.noaa.gov/erddap/</td>\n",
       "      <td>2023-01-13T14:58:05Z</td>\n",
       "      <td>2023-01-22T01:55:59Z</td>\n",
       "      <td>-67.595395</td>\n",
       "      <td>-66.676916</td>\n",
       "      <td>-69.581001</td>\n",
       "      <td>-69.144831</td>\n",
       "      <td>degrees_north</td>\n",
       "      <td>degrees_east</td>\n",
       "      <td>1.0</td>\n",
       "      <td>True</td>\n",
       "      <td>True</td>\n",
       "      <td>False</td>\n",
       "      <td>False</td>\n",
       "      <td>False</td>\n",
       "      <td>True</td>\n",
       "      <td>True</td>\n",
       "      <td>False</td>\n",
       "      <td>True</td>\n",
       "      <td>True</td>\n",
       "    </tr>\n",
       "    <tr>\n",
       "      <th>41</th>\n",
       "      <td>Gulf-of-Mexico-C12-OCSv3-Data-10252018-to-0129...</td>\n",
       "      <td>https://geoport.usgs.esipfed.org/erddap/</td>\n",
       "      <td>2018-10-25T12:30:00Z</td>\n",
       "      <td>2020-01-29T11:30:00Z</td>\n",
       "      <td>27.499530</td>\n",
       "      <td>27.499530</td>\n",
       "      <td>-83.742390</td>\n",
       "      <td>-83.742390</td>\n",
       "      <td>degrees_north</td>\n",
       "      <td>degrees_east</td>\n",
       "      <td>1.0</td>\n",
       "      <td>True</td>\n",
       "      <td>False</td>\n",
       "      <td>False</td>\n",
       "      <td>False</td>\n",
       "      <td>False</td>\n",
       "      <td>True</td>\n",
       "      <td>False</td>\n",
       "      <td>False</td>\n",
       "      <td>True</td>\n",
       "      <td>True</td>\n",
       "    </tr>\n",
       "  </tbody>\n",
       "</table>\n",
       "</div>"
      ],
      "text/plain": [
       "                                                sites  \\\n",
       "0                        mpoPmzaVikingBuoysTimeseries   \n",
       "1                               bcodmo_dataset_737163   \n",
       "2                                 bcodmo_dataset_3093   \n",
       "3                               edu_humboldt_humboldt   \n",
       "4                                      nerrs_kachomet   \n",
       "5                                     ism-glos-obs_46   \n",
       "6                               edu_humboldt_humboldt   \n",
       "7                     bios_jack-20190725T1346-delayed   \n",
       "8                     bios_jack-20190917T0241-delayed   \n",
       "9                     bios_jack-20220627T1351-delayed   \n",
       "10                    bios_jack-20230626T1521-delayed   \n",
       "11                  bios_minnie-20190705T1821-delayed   \n",
       "12                  bios_minnie-20191021T1613-delayed   \n",
       "13                  bios_minnie-20211110T2025-delayed   \n",
       "14                       ce_384-20200708T1545-delayed   \n",
       "15                     glos_236-20180907T1822-delayed   \n",
       "16                     glos_236-20190910T1517-delayed   \n",
       "17                     glos_870-20210909T1754-delayed   \n",
       "18                               ud_476-20230113T1454   \n",
       "19                    ooi-ce01issp-sp001-10-paradj000   \n",
       "20                    ooi-ce04osps-sf01b-3c-parada102   \n",
       "21                    ooi-ce02shsp-sp001-09-paradj000   \n",
       "22                    ooi-ce06issp-sp001-10-paradj000   \n",
       "23                    ooi-ce09ospm-wfp01-05-paradk000   \n",
       "24                    ooi-ce07shsp-sp001-09-paradj000   \n",
       "25                    ooi-cp02pmci-wfp01-05-paradk000   \n",
       "26                    ooi-cp02pmco-wfp01-05-paradk000   \n",
       "27                    ooi-cp01cnpm-wfp01-05-paradk000   \n",
       "28                    ooi-cp03ispm-wfp01-05-paradk000   \n",
       "29                    ooi-cp04ospm-wfp01-05-paradk000   \n",
       "30                    ooi-cp02pmui-wfp01-05-paradk000   \n",
       "31                    ooi-cp02pmuo-wfp01-05-paradk000   \n",
       "32                    ooi-rs03axps-sf03a-3c-parada301   \n",
       "33                    ooi-rs01sbps-sf01a-3c-parada101   \n",
       "34                                        sd1066_2019   \n",
       "35                                        sd1067_2019   \n",
       "36                                        sd1068_2019   \n",
       "37                                        sd1069_2019   \n",
       "38                                   sd1065_tpos_2021   \n",
       "39                                   sd1066_tpos_2021   \n",
       "40                               ud_476-20230113T1454   \n",
       "41  Gulf-of-Mexico-C12-OCSv3-Data-10252018-to-0129...   \n",
       "\n",
       "                                                  url   time_coverage_start  \\\n",
       "0                      https://erddap.ogsl.ca/erddap/  2020-07-09T05:00:00Z   \n",
       "1                  https://erddap.bco-dmo.org/erddap/  1989-07-29T19:00:00Z   \n",
       "2                  https://erddap.bco-dmo.org/erddap/  1995-11-08T10:12:00Z   \n",
       "3              https://erddap.sensors.ioos.us/erddap/  2013-02-14T17:15:00Z   \n",
       "4              https://erddap.sensors.ioos.us/erddap/  2003-06-01T09:15:00Z   \n",
       "5              https://erddap.sensors.ioos.us/erddap/  2023-05-05T18:15:00Z   \n",
       "6                   http://erddap.cencoos.org/erddap/  2013-02-14T17:15:00Z   \n",
       "7                     https://gliders.ioos.us/erddap/  2019-07-25T13:58:08Z   \n",
       "8                     https://gliders.ioos.us/erddap/  2019-09-17T02:09:41Z   \n",
       "9                     https://gliders.ioos.us/erddap/  2022-06-27T13:27:55Z   \n",
       "10                    https://gliders.ioos.us/erddap/  2023-06-26T15:32:43Z   \n",
       "11                    https://gliders.ioos.us/erddap/  2019-07-05T18:30:39Z   \n",
       "12                    https://gliders.ioos.us/erddap/  2019-10-21T16:23:47Z   \n",
       "13                    https://gliders.ioos.us/erddap/  2021-11-10T20:47:23Z   \n",
       "14                    https://gliders.ioos.us/erddap/  2020-07-08T16:05:31Z   \n",
       "15                    https://gliders.ioos.us/erddap/  2018-09-07T18:25:52Z   \n",
       "16                    https://gliders.ioos.us/erddap/  2019-09-10T15:24:02Z   \n",
       "17                    https://gliders.ioos.us/erddap/  2021-09-09T17:54:10Z   \n",
       "18                    https://gliders.ioos.us/erddap/  2023-01-13T14:58:05Z   \n",
       "19  https://erddap.dataexplorer.oceanobservatories...  2014-04-17T22:28:00Z   \n",
       "20  https://erddap.dataexplorer.oceanobservatories...  2015-08-03T15:10:00Z   \n",
       "21  https://erddap.dataexplorer.oceanobservatories...  2015-03-18T19:36:00Z   \n",
       "22  https://erddap.dataexplorer.oceanobservatories...  2015-04-10T18:28:00Z   \n",
       "23  https://erddap.dataexplorer.oceanobservatories...  2014-04-19T01:02:00Z   \n",
       "24  https://erddap.dataexplorer.oceanobservatories...  2015-04-09T23:25:00Z   \n",
       "25  https://erddap.dataexplorer.oceanobservatories...  2014-04-17T01:02:00Z   \n",
       "26  https://erddap.dataexplorer.oceanobservatories...  2014-04-13T18:02:00Z   \n",
       "27  https://erddap.dataexplorer.oceanobservatories...  2017-11-06T19:02:00Z   \n",
       "28  https://erddap.dataexplorer.oceanobservatories...  2017-11-12T05:02:00Z   \n",
       "29  https://erddap.dataexplorer.oceanobservatories...  2014-04-15T20:02:00Z   \n",
       "30  https://erddap.dataexplorer.oceanobservatories...  2013-11-24T01:32:00Z   \n",
       "31  https://erddap.dataexplorer.oceanobservatories...  2013-11-23T16:02:00Z   \n",
       "32  https://erddap.dataexplorer.oceanobservatories...  2014-10-07T21:49:00Z   \n",
       "33  https://erddap.dataexplorer.oceanobservatories...  2014-10-07T20:47:00Z   \n",
       "34           https://ferret.pmel.noaa.gov/pmel/erddap  2019-06-08T02:00:00Z   \n",
       "35           https://ferret.pmel.noaa.gov/pmel/erddap  2019-06-08T02:00:00Z   \n",
       "36           https://ferret.pmel.noaa.gov/pmel/erddap  2019-06-08T02:00:00Z   \n",
       "37           https://ferret.pmel.noaa.gov/pmel/erddap  2019-06-08T02:00:00Z   \n",
       "38           https://ferret.pmel.noaa.gov/pmel/erddap  2021-07-21T00:00:00Z   \n",
       "39           https://ferret.pmel.noaa.gov/pmel/erddap  2021-07-21T00:00:00Z   \n",
       "40                https://polarwatch.noaa.gov/erddap/  2023-01-13T14:58:05Z   \n",
       "41           https://geoport.usgs.esipfed.org/erddap/  2018-10-25T12:30:00Z   \n",
       "\n",
       "       time_coverage_end  geospatial_lat_min  geospatial_lat_max  \\\n",
       "0   2024-07-01T23:00:00Z           44.349300           49.734700   \n",
       "1                    NaN           22.750000           22.750000   \n",
       "2                    NaN           10.492000           10.683000   \n",
       "3   2024-07-01T21:45:00Z           40.777500           40.777500   \n",
       "4   2024-05-28T21:00:00Z           59.600930           59.600930   \n",
       "5   2024-07-01T18:20:00Z           46.968730           46.968730   \n",
       "6   2024-07-01T23:45:00Z           40.777500           40.777500   \n",
       "7   2019-08-17T16:15:26Z           31.615136           32.359756   \n",
       "8   2019-10-21T09:47:37Z           31.664385           31.862342   \n",
       "9   2022-08-19T15:30:24Z           32.007419           32.362515   \n",
       "10  2023-07-28T15:40:04Z           31.811454           32.344116   \n",
       "11  2019-07-11T12:26:37Z           32.123349           32.177341   \n",
       "12  2020-01-26T11:50:27Z           31.658501           31.866358   \n",
       "13  2021-12-04T15:06:29Z           32.158903           32.175945   \n",
       "14  2020-07-13T15:51:32Z           44.628951           44.664340   \n",
       "15  2018-10-02T12:32:15Z           42.672392           43.208323   \n",
       "16  2019-10-18T10:54:32Z           42.137159           43.270626   \n",
       "17  2021-09-30T18:09:05Z           42.645029           43.227573   \n",
       "18  2023-01-22T01:55:59Z          -67.595395          -66.676916   \n",
       "19  2023-09-22T08:00:00Z           44.660120           44.660120   \n",
       "20  2024-04-09T22:00:00Z           44.369353           44.369353   \n",
       "21  2023-09-23T08:08:00Z           44.635550           44.635550   \n",
       "22  2023-09-23T08:02:00Z           47.135530           47.135530   \n",
       "23  2024-04-19T13:09:00Z           46.851630           46.851630   \n",
       "24  2022-04-26T20:04:00Z           46.983580           46.983580   \n",
       "25  2022-11-18T18:36:00Z           40.226633           40.226633   \n",
       "26  2022-11-18T15:30:00Z           40.096817           40.096817   \n",
       "27  2022-04-24T18:27:00Z           40.133907           40.133907   \n",
       "28  2022-04-25T18:24:00Z           40.362005           40.362005   \n",
       "29  2022-11-11T18:03:00Z           39.936000           39.936000   \n",
       "30  2022-11-19T09:24:00Z           40.364917           40.364917   \n",
       "31  2022-11-18T09:10:00Z           39.939333           39.939333   \n",
       "32  2024-07-01T08:03:00Z           45.816712           45.816712   \n",
       "33  2024-07-01T07:44:00Z           44.515161           44.515161   \n",
       "34  2020-01-07T01:59:00Z           -0.871070           22.859878   \n",
       "35  2020-01-03T19:59:00Z           -1.816232           47.000000   \n",
       "36  2020-01-07T17:59:00Z           -5.544163           23.043114   \n",
       "37  2019-12-28T21:59:00Z           -1.510918           22.961058   \n",
       "38  2022-09-24T23:59:00Z           -8.881985           37.632250   \n",
       "39  2022-09-18T23:59:00Z            1.138532           37.815424   \n",
       "40  2023-01-22T01:55:59Z          -67.595395          -66.676916   \n",
       "41  2020-01-29T11:30:00Z           27.499530           27.499530   \n",
       "\n",
       "    geospatial_lon_min  geospatial_lon_max geospatial_lat_units  \\\n",
       "0          -124.771500          -52.586200        degrees_north   \n",
       "1          -158.000000         -158.000000        degrees_north   \n",
       "2           -64.735000          -64.367000        degrees_north   \n",
       "3          -124.196520         -124.196520        degrees_north   \n",
       "4          -151.409500         -151.409500        degrees_north   \n",
       "5           -88.397680          -88.397680        degrees_north   \n",
       "6          -124.196520         -124.196520        degrees_north   \n",
       "7           -64.570206          -63.869049        degrees_north   \n",
       "8           -64.167289          -63.887414        degrees_north   \n",
       "9           -64.597226          -63.838511        degrees_north   \n",
       "10          -64.723230          -63.824359        degrees_north   \n",
       "11          -64.470272          -64.015989        degrees_north   \n",
       "12          -64.093539          -63.877451        degrees_north   \n",
       "13          -64.503146          -64.440117        degrees_north   \n",
       "14         -125.476354         -124.714689        degrees_north   \n",
       "15          -87.771761          -86.372101        degrees_north   \n",
       "16          -87.768605          -86.389235        degrees_north   \n",
       "17          -87.771019          -86.339089        degrees_north   \n",
       "18          -69.581001          -69.144831        degrees_north   \n",
       "19         -124.098120         -124.098120        degrees_north   \n",
       "20         -124.954108         -124.954108        degrees_north   \n",
       "21         -124.301470         -124.301470        degrees_north   \n",
       "22         -124.270170         -124.270170        degrees_north   \n",
       "23         -124.974420         -124.974420        degrees_north   \n",
       "24         -124.552130         -124.552130        degrees_north   \n",
       "25          -70.889067          -70.889067        degrees_north   \n",
       "26          -70.879150          -70.879150        degrees_north   \n",
       "27          -70.770433          -70.770433        degrees_north   \n",
       "28          -70.878502          -70.878502        degrees_north   \n",
       "29          -70.879417          -70.879417        degrees_north   \n",
       "30          -70.780483          -70.780483        degrees_north   \n",
       "31          -70.770183          -70.770183        degrees_north   \n",
       "32         -129.754055         -129.754055        degrees_north   \n",
       "33         -125.389899         -125.389899        degrees_north   \n",
       "34         -158.781798         -138.125747        degrees_north   \n",
       "35         -158.740134         -137.561024        degrees_north   \n",
       "36         -158.868851         -137.640128        degrees_north   \n",
       "37         -158.828685         -139.400243        degrees_north   \n",
       "38         -157.872589          -97.658970        degrees_north   \n",
       "39         -134.876390         -109.792602        degrees_north   \n",
       "40          -69.581001          -69.144831        degrees_north   \n",
       "41          -83.742390          -83.742390        degrees_north   \n",
       "\n",
       "   geospatial_lon_units  check_sum  buoy  glider   ship   turb    ssc  phot  \\\n",
       "0          degrees_east        1.0  True   False  False  False  False  True   \n",
       "1          degrees_east        1.0  True   False   True   True  False  True   \n",
       "2          degrees_east        1.0  True   False   True   True  False  True   \n",
       "3          degrees_east        1.0  True   False  False   True  False  True   \n",
       "4          degrees_east        1.0  True   False  False  False  False  True   \n",
       "5          degrees_east        1.0  True   False  False  False  False  True   \n",
       "6          degrees_east        1.0  True   False  False   True  False  True   \n",
       "7          degrees_east        1.0  True    True  False  False  False  True   \n",
       "8          degrees_east        1.0  True    True  False  False  False  True   \n",
       "9          degrees_east        1.0  True    True  False  False  False  True   \n",
       "10         degrees_east        1.0  True    True  False  False  False  True   \n",
       "11         degrees_east        1.0  True    True  False  False  False  True   \n",
       "12         degrees_east        1.0  True    True  False  False  False  True   \n",
       "13         degrees_east        1.0  True    True  False  False  False  True   \n",
       "14         degrees_east        1.0  True    True  False  False  False  True   \n",
       "15         degrees_east        1.0  True    True  False  False  False  True   \n",
       "16         degrees_east        1.0  True    True  False  False  False  True   \n",
       "17         degrees_east        1.0  True    True  False  False  False  True   \n",
       "18         degrees_east        1.0  True    True  False  False  False  True   \n",
       "19         degrees_east        1.0  True   False  False  False  False  True   \n",
       "20         degrees_east        1.0  True   False  False  False  False  True   \n",
       "21         degrees_east        1.0  True   False  False  False  False  True   \n",
       "22         degrees_east        1.0  True   False  False  False  False  True   \n",
       "23         degrees_east        1.0  True   False  False  False  False  True   \n",
       "24         degrees_east        1.0  True   False  False  False  False  True   \n",
       "25         degrees_east        1.0  True   False  False  False  False  True   \n",
       "26         degrees_east        1.0  True   False  False  False  False  True   \n",
       "27         degrees_east        1.0  True   False  False  False  False  True   \n",
       "28         degrees_east        1.0  True   False  False  False  False  True   \n",
       "29         degrees_east        1.0  True   False  False  False  False  True   \n",
       "30         degrees_east        1.0  True   False  False  False  False  True   \n",
       "31         degrees_east        1.0  True   False  False  False  False  True   \n",
       "32         degrees_east        1.0  True   False  False  False  False  True   \n",
       "33         degrees_east        1.0  True   False  False  False  False  True   \n",
       "34         degrees_east        1.0  True   False  False  False  False  True   \n",
       "35         degrees_east        1.0  True   False  False  False  False  True   \n",
       "36         degrees_east        1.0  True   False  False  False  False  True   \n",
       "37         degrees_east        1.0  True   False  False  False  False  True   \n",
       "38         degrees_east        1.0  True   False   True  False  False  True   \n",
       "39         degrees_east        1.0  True   False   True  False  False  True   \n",
       "40         degrees_east        1.0  True    True  False  False  False  True   \n",
       "41         degrees_east        1.0  True   False  False  False  False  True   \n",
       "\n",
       "      chl  turbid  photo  radiation  \n",
       "0   False   False   True       True  \n",
       "1    True   False   True       True  \n",
       "2    True    True   True       True  \n",
       "3    True    True   True       True  \n",
       "4   False   False   True       True  \n",
       "5   False   False   True       True  \n",
       "6    True    True   True       True  \n",
       "7    True   False   True       True  \n",
       "8    True   False   True       True  \n",
       "9    True   False   True       True  \n",
       "10   True   False   True       True  \n",
       "11   True   False   True       True  \n",
       "12   True   False   True       True  \n",
       "13   True   False   True       True  \n",
       "14   True   False   True       True  \n",
       "15   True   False   True       True  \n",
       "16   True   False   True       True  \n",
       "17   True   False   True       True  \n",
       "18   True   False   True       True  \n",
       "19  False   False   True       True  \n",
       "20  False   False   True       True  \n",
       "21  False   False   True       True  \n",
       "22  False   False   True       True  \n",
       "23  False   False   True       True  \n",
       "24  False   False   True       True  \n",
       "25  False   False   True       True  \n",
       "26  False   False   True       True  \n",
       "27  False   False   True       True  \n",
       "28  False   False   True       True  \n",
       "29  False   False   True       True  \n",
       "30  False   False   True       True  \n",
       "31  False   False   True       True  \n",
       "32  False   False   True       True  \n",
       "33  False   False   True       True  \n",
       "34   True   False   True       True  \n",
       "35   True   False   True       True  \n",
       "36   True   False   True       True  \n",
       "37   True   False   True       True  \n",
       "38   True   False   True       True  \n",
       "39   True   False   True       True  \n",
       "40   True   False   True       True  \n",
       "41  False   False   True       True  "
      ]
     },
     "execution_count": 3,
     "metadata": {},
     "output_type": "execute_result"
    }
   ],
   "source": [
    "# load a list of all the relevant ERDDAPs and their urls\n",
    "FF = pd.read_pickle(\"labeled_relevant_stations.pkl\")\n",
    "FF = FF[(FF.buoy == True) & (FF.radiation==True)]\n",
    "FF.reset_index(drop=True, inplace=True)\n",
    "\n",
    "FF[\"geospatial_lat_min\"] = pd.to_numeric(FF[\"geospatial_lat_min\"])\n",
    "FF[\"geospatial_lon_min\"] = pd.to_numeric(FF[\"geospatial_lon_min\"])\n",
    "FF[\"geospatial_lat_max\"] = pd.to_numeric(FF[\"geospatial_lat_max\"])\n",
    "FF[\"geospatial_lon_max\"] = pd.to_numeric(FF[\"geospatial_lon_max\"])\n",
    "FF"
   ]
  },
  {
   "cell_type": "code",
   "execution_count": null,
   "id": "f83b14d3-5c29-41db-8b18-8baec3bed70c",
   "metadata": {},
   "outputs": [],
   "source": [
    "# # example with no looping (next cell is loops)\n",
    "# # make an ROI within a 0.1 km range of buoy\n",
    "# jj = 2\n",
    "# poly = buoy_bound_box(FF['geospatial_lat_min'][jj],\n",
    "#                       FF['geospatial_lon_min'][jj],\n",
    "#                       0.1)\n",
    "\n",
    "# # search CMR for ATL03 granules in the bounding box\n",
    "# grns = earthdata.cmr(short_name=\"ATL03\",\n",
    "#                      polygon=poly,\n",
    "#                      version='006')\n",
    "\n",
    "# # save the times for each granule as a datetime object\n",
    "# icesat_times = [fname2datetime(fname) for fname in grns]\n",
    "# print(len(icesat_times))\n",
    "\n",
    "# # now check if buoy data exists for these granule times (loop)\n",
    "# kk = 5\n",
    "# t = icesat_times[kk]\n",
    "# filename = grns[kk]\n",
    "# print(filename)\n",
    "# # make erddap request for all data within +/- 1h of the icesat-2 granule\n",
    "# e = ERDDAP(server=FF['url'][jj],\n",
    "#            protocol=\"tabledap\",\n",
    "#            response=\"csv\")\n",
    "# e.dataset_id = FF['sites'][jj]\n",
    "# t_start = (t-timedelta(hours=1)).strftime(\"%Y-%m-%dT%H:%M:%S+00:00\")\n",
    "# t_end = (t+timedelta(hours=1)).strftime(\"%Y-%m-%dT%H:%M:%S+00:00\")\n",
    "# e.constraints = {\"time>=\": t_start,\n",
    "#                  \"time<=\": t_end}\n",
    "\n",
    "# # try to download the associated buoy data\n",
    "# buoy = e.to_pandas(parse_dates=True)\n",
    "\n",
    "# # try to download associated photons\n",
    "# t_start = (t-timedelta(hours=1)).strftime(\"%Y-%m-%dT%H:%M:%SZ\")\n",
    "# t_end = (t+timedelta(hours=1)).strftime(\"%Y-%m-%dT%H:%M:%SZ\")\n",
    "# poly = buoy_bound_box(FF['geospatial_lat_min'][jj],\n",
    "#                       FF['geospatial_lon_min'][jj],\n",
    "#                       2)\n",
    "# parms = {\"poly\": poly,\n",
    "#          \"t0\": t_start,\n",
    "#          \"t1\": t_end,\n",
    "#          \"srt\": icesat2.SRT_OCEAN}\n",
    "\n",
    "# atl_gdb = icesat2.atl03sp(parms)\n",
    "# len(atl_gdb)"
   ]
  },
  {
   "cell_type": "code",
   "execution_count": 5,
   "id": "88b5d7a0-4f0a-412e-ae47-70428e04ae44",
   "metadata": {},
   "outputs": [
    {
     "name": "stdout",
     "output_type": "stream",
     "text": [
      "downloading ATL03 for mpoPmzaVikingBuoysTimeseries 2020-09-03T13:44:09+00:00\n"
     ]
    },
    {
     "name": "stderr",
     "output_type": "stream",
     "text": [
      "Using simplified polygon (for CMR request only!), 5 points using tolerance of 0.01\n",
      "Using simplified polygon (for CMR request only!), 5 points using tolerance of 0.01\n",
      "Using simplified polygon (for CMR request only!), 5 points using tolerance of 0.01\n",
      "Unable to complete request due to errors\n"
     ]
    },
    {
     "name": "stdout",
     "output_type": "stream",
     "text": [
      "no. of photons: 0\n",
      "downloading ATL03 for mpoPmzaVikingBuoysTimeseries 2021-03-04T05:03:53+00:00\n"
     ]
    },
    {
     "name": "stderr",
     "output_type": "stream",
     "text": [
      "Using simplified polygon (for CMR request only!), 5 points using tolerance of 0.01\n",
      "Using simplified polygon (for CMR request only!), 5 points using tolerance of 0.01\n",
      "Using simplified polygon (for CMR request only!), 5 points using tolerance of 0.01\n",
      "Unable to complete request due to errors\n"
     ]
    },
    {
     "name": "stdout",
     "output_type": "stream",
     "text": [
      "no. of photons: 0\n",
      "downloading ATL03 for mpoPmzaVikingBuoysTimeseries 2021-05-07T14:15:11+00:00\n"
     ]
    },
    {
     "name": "stderr",
     "output_type": "stream",
     "text": [
      "Using simplified polygon (for CMR request only!), 5 points using tolerance of 0.01\n",
      "Using simplified polygon (for CMR request only!), 5 points using tolerance of 0.01\n",
      "Using simplified polygon (for CMR request only!), 5 points using tolerance of 0.01\n",
      "Unable to complete request due to errors\n"
     ]
    },
    {
     "name": "stdout",
     "output_type": "stream",
     "text": [
      "no. of photons: 0\n",
      "downloading ATL03 for mpoPmzaVikingBuoysTimeseries 2021-08-06T09:55:02+00:00\n"
     ]
    },
    {
     "name": "stderr",
     "output_type": "stream",
     "text": [
      "Using simplified polygon (for CMR request only!), 5 points using tolerance of 0.01\n",
      "Using simplified polygon (for CMR request only!), 5 points using tolerance of 0.01\n",
      "Using simplified polygon (for CMR request only!), 5 points using tolerance of 0.01\n",
      "Unable to complete request due to errors\n"
     ]
    },
    {
     "name": "stdout",
     "output_type": "stream",
     "text": [
      "no. of photons: 0\n",
      "downloading ATL03 for mpoPmzaVikingBuoysTimeseries 2022-08-04T16:34:45+00:00\n"
     ]
    },
    {
     "name": "stderr",
     "output_type": "stream",
     "text": [
      "Using simplified polygon (for CMR request only!), 5 points using tolerance of 0.01\n",
      "Using simplified polygon (for CMR request only!), 5 points using tolerance of 0.01\n",
      "Using simplified polygon (for CMR request only!), 5 points using tolerance of 0.01\n",
      "Unable to complete request due to errors\n"
     ]
    },
    {
     "name": "stdout",
     "output_type": "stream",
     "text": [
      "no. of photons: 0\n",
      "downloading ATL03 for mpoPmzaVikingBuoysTimeseries 2022-11-03T12:14:25+00:00\n"
     ]
    },
    {
     "name": "stderr",
     "output_type": "stream",
     "text": [
      "Using simplified polygon (for CMR request only!), 5 points using tolerance of 0.01\n",
      "Using simplified polygon (for CMR request only!), 5 points using tolerance of 0.01\n",
      "Using simplified polygon (for CMR request only!), 5 points using tolerance of 0.01\n",
      "Unable to complete request due to errors\n"
     ]
    },
    {
     "name": "stdout",
     "output_type": "stream",
     "text": [
      "no. of photons: 0\n",
      "downloading ATL03 for mpoPmzaVikingBuoysTimeseries 2023-05-04T03:33:55+00:00\n"
     ]
    },
    {
     "name": "stderr",
     "output_type": "stream",
     "text": [
      "Using simplified polygon (for CMR request only!), 5 points using tolerance of 0.01\n",
      "Using simplified polygon (for CMR request only!), 5 points using tolerance of 0.01\n",
      "Using simplified polygon (for CMR request only!), 5 points using tolerance of 0.01\n",
      "Unable to complete request due to errors\n"
     ]
    },
    {
     "name": "stdout",
     "output_type": "stream",
     "text": [
      "no. of photons: 0\n",
      "downloading ATL03 for mpoPmzaVikingBuoysTimeseries 2023-08-02T23:13:08+00:00\n"
     ]
    },
    {
     "name": "stderr",
     "output_type": "stream",
     "text": [
      "Using simplified polygon (for CMR request only!), 5 points using tolerance of 0.01\n",
      "Using simplified polygon (for CMR request only!), 5 points using tolerance of 0.01\n",
      "Using simplified polygon (for CMR request only!), 5 points using tolerance of 0.01\n",
      "Unable to complete request due to errors\n"
     ]
    },
    {
     "name": "stdout",
     "output_type": "stream",
     "text": [
      "no. of photons: 0\n",
      "downloading ATL03 for mpoPmzaVikingBuoysTimeseries 2023-08-29T09:41:35+00:00\n"
     ]
    },
    {
     "name": "stderr",
     "output_type": "stream",
     "text": [
      "Using simplified polygon (for CMR request only!), 5 points using tolerance of 0.01\n",
      "Using simplified polygon (for CMR request only!), 5 points using tolerance of 0.01\n",
      "Using simplified polygon (for CMR request only!), 5 points using tolerance of 0.01\n",
      "Unable to complete request due to errors\n"
     ]
    },
    {
     "name": "stdout",
     "output_type": "stream",
     "text": [
      "no. of photons: 0\n",
      "downloading ATL03 for mpoPmzaVikingBuoysTimeseries 2023-11-01T18:52:45+00:00\n"
     ]
    },
    {
     "name": "stderr",
     "output_type": "stream",
     "text": [
      "Using simplified polygon (for CMR request only!), 5 points using tolerance of 0.01\n",
      "Using simplified polygon (for CMR request only!), 5 points using tolerance of 0.01\n",
      "Using simplified polygon (for CMR request only!), 5 points using tolerance of 0.01\n",
      "Unable to complete request due to errors\n"
     ]
    },
    {
     "name": "stdout",
     "output_type": "stream",
     "text": [
      "no. of photons: 0\n",
      "downloading ATL03 for mpoPmzaVikingBuoysTimeseries 2024-05-01T10:11:52+00:00\n"
     ]
    },
    {
     "name": "stderr",
     "output_type": "stream",
     "text": [
      "Using simplified polygon (for CMR request only!), 5 points using tolerance of 0.01\n",
      "Using simplified polygon (for CMR request only!), 5 points using tolerance of 0.01\n",
      "Using simplified polygon (for CMR request only!), 5 points using tolerance of 0.01\n",
      "Unable to complete request due to errors\n"
     ]
    },
    {
     "name": "stdout",
     "output_type": "stream",
     "text": [
      "no. of photons: 0\n",
      "downloading ATL03 for edu_humboldt_humboldt 2018-12-06T08:21:24+00:00\n"
     ]
    },
    {
     "name": "stderr",
     "output_type": "stream",
     "text": [
      "Using simplified polygon (for CMR request only!), 5 points using tolerance of 0.01\n",
      "Using simplified polygon (for CMR request only!), 5 points using tolerance of 0.01\n",
      "Using simplified polygon (for CMR request only!), 5 points using tolerance of 0.01\n",
      "Unable to complete request due to errors\n"
     ]
    },
    {
     "name": "stdout",
     "output_type": "stream",
     "text": [
      "no. of photons: 0\n",
      "downloading ATL03 for edu_humboldt_humboldt 2019-01-05T18:41:42+00:00\n"
     ]
    },
    {
     "name": "stderr",
     "output_type": "stream",
     "text": [
      "Using simplified polygon (for CMR request only!), 5 points using tolerance of 0.01\n",
      "Using simplified polygon (for CMR request only!), 5 points using tolerance of 0.01\n",
      "Using simplified polygon (for CMR request only!), 5 points using tolerance of 0.01\n",
      "Unable to complete request due to errors\n"
     ]
    },
    {
     "name": "stdout",
     "output_type": "stream",
     "text": [
      "no. of photons: 0\n",
      "downloading ATL03 for edu_humboldt_humboldt 2019-03-07T04:01:25+00:00\n"
     ]
    },
    {
     "name": "stderr",
     "output_type": "stream",
     "text": [
      "Using simplified polygon (for CMR request only!), 5 points using tolerance of 0.01\n",
      "Using simplified polygon (for CMR request only!), 5 points using tolerance of 0.01\n",
      "Using simplified polygon (for CMR request only!), 5 points using tolerance of 0.01\n",
      "Unable to complete request due to errors\n"
     ]
    },
    {
     "name": "stdout",
     "output_type": "stream",
     "text": [
      "no. of photons: 0\n",
      "downloading ATL03 for edu_humboldt_humboldt 2019-04-06T14:21:34+00:00\n"
     ]
    },
    {
     "name": "stderr",
     "output_type": "stream",
     "text": [
      "Using simplified polygon (for CMR request only!), 5 points using tolerance of 0.01\n",
      "Using simplified polygon (for CMR request only!), 5 points using tolerance of 0.01\n",
      "Using simplified polygon (for CMR request only!), 5 points using tolerance of 0.01\n",
      "Unable to complete request due to errors\n"
     ]
    },
    {
     "name": "stdout",
     "output_type": "stream",
     "text": [
      "no. of photons: 0\n",
      "downloading ATL03 for edu_humboldt_humboldt 2019-06-05T23:40:59+00:00\n"
     ]
    },
    {
     "name": "stderr",
     "output_type": "stream",
     "text": [
      "Using simplified polygon (for CMR request only!), 5 points using tolerance of 0.01\n",
      "Using simplified polygon (for CMR request only!), 5 points using tolerance of 0.01\n",
      "Using simplified polygon (for CMR request only!), 5 points using tolerance of 0.01\n",
      "Unable to complete request due to errors\n"
     ]
    },
    {
     "name": "stdout",
     "output_type": "stream",
     "text": [
      "no. of photons: 0\n",
      "downloading ATL03 for edu_humboldt_humboldt 2020-03-04T10:40:21+00:00\n"
     ]
    },
    {
     "name": "stderr",
     "output_type": "stream",
     "text": [
      "Using simplified polygon (for CMR request only!), 5 points using tolerance of 0.01\n",
      "Using simplified polygon (for CMR request only!), 5 points using tolerance of 0.01\n",
      "Using simplified polygon (for CMR request only!), 5 points using tolerance of 0.01\n",
      "Unable to complete request due to errors\n"
     ]
    },
    {
     "name": "stdout",
     "output_type": "stream",
     "text": [
      "no. of photons: 0\n",
      "downloading ATL03 for edu_humboldt_humboldt 2020-04-03T21:00:35+00:00\n"
     ]
    },
    {
     "name": "stderr",
     "output_type": "stream",
     "text": [
      "Using simplified polygon (for CMR request only!), 5 points using tolerance of 0.01\n",
      "Using simplified polygon (for CMR request only!), 5 points using tolerance of 0.01\n",
      "Using simplified polygon (for CMR request only!), 5 points using tolerance of 0.01\n",
      "Unable to complete request due to errors\n"
     ]
    },
    {
     "name": "stdout",
     "output_type": "stream",
     "text": [
      "no. of photons: 0\n",
      "downloading ATL03 for edu_humboldt_humboldt 2020-06-03T06:20:13+00:00\n"
     ]
    },
    {
     "name": "stderr",
     "output_type": "stream",
     "text": [
      "Using simplified polygon (for CMR request only!), 5 points using tolerance of 0.01\n",
      "Using simplified polygon (for CMR request only!), 5 points using tolerance of 0.01\n",
      "Using simplified polygon (for CMR request only!), 5 points using tolerance of 0.01\n",
      "Unable to complete request due to errors\n"
     ]
    },
    {
     "name": "stdout",
     "output_type": "stream",
     "text": [
      "no. of photons: 0\n",
      "downloading ATL03 for edu_humboldt_humboldt 2020-07-03T16:40:23+00:00\n"
     ]
    },
    {
     "name": "stderr",
     "output_type": "stream",
     "text": [
      "Using simplified polygon (for CMR request only!), 5 points using tolerance of 0.01\n",
      "Using simplified polygon (for CMR request only!), 5 points using tolerance of 0.01\n",
      "Using simplified polygon (for CMR request only!), 5 points using tolerance of 0.01\n",
      "Unable to complete request due to errors\n"
     ]
    },
    {
     "name": "stdout",
     "output_type": "stream",
     "text": [
      "no. of photons: 0\n",
      "downloading ATL03 for edu_humboldt_humboldt 2020-09-02T01:59:59+00:00\n"
     ]
    },
    {
     "name": "stderr",
     "output_type": "stream",
     "text": [
      "Using simplified polygon (for CMR request only!), 5 points using tolerance of 0.01\n",
      "Using simplified polygon (for CMR request only!), 5 points using tolerance of 0.01\n",
      "Using simplified polygon (for CMR request only!), 5 points using tolerance of 0.01\n",
      "Unable to complete request due to errors\n"
     ]
    },
    {
     "name": "stdout",
     "output_type": "stream",
     "text": [
      "no. of photons: 0\n",
      "downloading ATL03 for edu_humboldt_humboldt 2020-10-02T12:20:06+00:00\n"
     ]
    },
    {
     "name": "stderr",
     "output_type": "stream",
     "text": [
      "Using simplified polygon (for CMR request only!), 5 points using tolerance of 0.01\n",
      "Using simplified polygon (for CMR request only!), 5 points using tolerance of 0.01\n",
      "Using simplified polygon (for CMR request only!), 5 points using tolerance of 0.01\n",
      "Unable to complete request due to errors\n"
     ]
    },
    {
     "name": "stdout",
     "output_type": "stream",
     "text": [
      "no. of photons: 0\n",
      "downloading ATL03 for edu_humboldt_humboldt 2020-12-01T21:39:49+00:00\n"
     ]
    },
    {
     "name": "stderr",
     "output_type": "stream",
     "text": [
      "Using simplified polygon (for CMR request only!), 5 points using tolerance of 0.01\n",
      "Using simplified polygon (for CMR request only!), 5 points using tolerance of 0.01\n",
      "Using simplified polygon (for CMR request only!), 5 points using tolerance of 0.01\n",
      "Unable to complete request due to errors\n"
     ]
    },
    {
     "name": "stdout",
     "output_type": "stream",
     "text": [
      "no. of photons: 0\n",
      "downloading ATL03 for edu_humboldt_humboldt 2021-04-02T03:39:56+00:00\n"
     ]
    },
    {
     "name": "stderr",
     "output_type": "stream",
     "text": [
      "Using simplified polygon (for CMR request only!), 5 points using tolerance of 0.01\n",
      "Using simplified polygon (for CMR request only!), 5 points using tolerance of 0.01\n",
      "Using simplified polygon (for CMR request only!), 5 points using tolerance of 0.01\n",
      "Unable to complete request due to errors\n"
     ]
    },
    {
     "name": "stdout",
     "output_type": "stream",
     "text": [
      "no. of photons: 0\n",
      "downloading ATL03 for edu_humboldt_humboldt 2021-06-01T12:59:33+00:00\n"
     ]
    },
    {
     "name": "stderr",
     "output_type": "stream",
     "text": [
      "Using simplified polygon (for CMR request only!), 5 points using tolerance of 0.01\n",
      "Using simplified polygon (for CMR request only!), 5 points using tolerance of 0.01\n",
      "Using simplified polygon (for CMR request only!), 5 points using tolerance of 0.01\n",
      "Unable to complete request due to errors\n"
     ]
    },
    {
     "name": "stdout",
     "output_type": "stream",
     "text": [
      "no. of photons: 0\n",
      "downloading ATL03 for edu_humboldt_humboldt 2021-07-01T23:19:46+00:00\n"
     ]
    },
    {
     "name": "stderr",
     "output_type": "stream",
     "text": [
      "Using simplified polygon (for CMR request only!), 5 points using tolerance of 0.01\n",
      "Using simplified polygon (for CMR request only!), 5 points using tolerance of 0.01\n",
      "Using simplified polygon (for CMR request only!), 5 points using tolerance of 0.01\n",
      "Unable to complete request due to errors\n"
     ]
    },
    {
     "name": "stdout",
     "output_type": "stream",
     "text": [
      "no. of photons: 0\n",
      "downloading ATL03 for edu_humboldt_humboldt 2021-08-31T08:39:28+00:00\n"
     ]
    },
    {
     "name": "stderr",
     "output_type": "stream",
     "text": [
      "Using simplified polygon (for CMR request only!), 5 points using tolerance of 0.01\n",
      "Using simplified polygon (for CMR request only!), 5 points using tolerance of 0.01\n",
      "Using simplified polygon (for CMR request only!), 5 points using tolerance of 0.01\n",
      "Unable to complete request due to errors\n"
     ]
    },
    {
     "name": "stdout",
     "output_type": "stream",
     "text": [
      "no. of photons: 0\n",
      "downloading ATL03 for edu_humboldt_humboldt 2021-12-30T14:39:37+00:00\n"
     ]
    },
    {
     "name": "stderr",
     "output_type": "stream",
     "text": [
      "Using simplified polygon (for CMR request only!), 5 points using tolerance of 0.01\n",
      "Using simplified polygon (for CMR request only!), 5 points using tolerance of 0.01\n",
      "Using simplified polygon (for CMR request only!), 5 points using tolerance of 0.01\n",
      "Unable to complete request due to errors\n"
     ]
    },
    {
     "name": "stdout",
     "output_type": "stream",
     "text": [
      "no. of photons: 0\n",
      "downloading ATL03 for edu_humboldt_humboldt 2022-02-28T23:59:16+00:00\n"
     ]
    },
    {
     "name": "stderr",
     "output_type": "stream",
     "text": [
      "Using simplified polygon (for CMR request only!), 5 points using tolerance of 0.01\n",
      "Using simplified polygon (for CMR request only!), 5 points using tolerance of 0.01\n",
      "Using simplified polygon (for CMR request only!), 5 points using tolerance of 0.01\n",
      "Unable to complete request due to errors\n"
     ]
    },
    {
     "name": "stdout",
     "output_type": "stream",
     "text": [
      "no. of photons: 0\n",
      "downloading ATL03 for edu_humboldt_humboldt 2022-03-31T10:19:30+00:00\n"
     ]
    },
    {
     "name": "stderr",
     "output_type": "stream",
     "text": [
      "Using simplified polygon (for CMR request only!), 5 points using tolerance of 0.01\n",
      "Using simplified polygon (for CMR request only!), 5 points using tolerance of 0.01\n",
      "Using simplified polygon (for CMR request only!), 5 points using tolerance of 0.01\n",
      "Unable to complete request due to errors\n"
     ]
    },
    {
     "name": "stdout",
     "output_type": "stream",
     "text": [
      "no. of photons: 0\n",
      "downloading ATL03 for edu_humboldt_humboldt 2022-05-30T19:39:11+00:00\n"
     ]
    },
    {
     "name": "stderr",
     "output_type": "stream",
     "text": [
      "Using simplified polygon (for CMR request only!), 5 points using tolerance of 0.01\n",
      "Using simplified polygon (for CMR request only!), 5 points using tolerance of 0.01\n",
      "Using simplified polygon (for CMR request only!), 5 points using tolerance of 0.01\n",
      "Unable to complete request due to errors\n"
     ]
    },
    {
     "name": "stdout",
     "output_type": "stream",
     "text": [
      "no. of photons: 0\n",
      "downloading ATL03 for edu_humboldt_humboldt 2022-06-30T05:59:30+00:00\n"
     ]
    },
    {
     "name": "stderr",
     "output_type": "stream",
     "text": [
      "Using simplified polygon (for CMR request only!), 5 points using tolerance of 0.01\n",
      "Using simplified polygon (for CMR request only!), 5 points using tolerance of 0.01\n",
      "Using simplified polygon (for CMR request only!), 5 points using tolerance of 0.01\n",
      "Unable to complete request due to errors\n"
     ]
    },
    {
     "name": "stdout",
     "output_type": "stream",
     "text": [
      "no. of photons: 0\n",
      "downloading ATL03 for edu_humboldt_humboldt 2022-08-29T15:19:09+00:00\n"
     ]
    },
    {
     "name": "stderr",
     "output_type": "stream",
     "text": [
      "Using simplified polygon (for CMR request only!), 5 points using tolerance of 0.01\n",
      "Using simplified polygon (for CMR request only!), 5 points using tolerance of 0.01\n",
      "Using simplified polygon (for CMR request only!), 5 points using tolerance of 0.01\n",
      "Unable to complete request due to errors\n"
     ]
    },
    {
     "name": "stdout",
     "output_type": "stream",
     "text": [
      "no. of photons: 0\n",
      "downloading ATL03 for edu_humboldt_humboldt 2022-09-29T01:39:18+00:00\n"
     ]
    },
    {
     "name": "stderr",
     "output_type": "stream",
     "text": [
      "Using simplified polygon (for CMR request only!), 5 points using tolerance of 0.01\n",
      "Using simplified polygon (for CMR request only!), 5 points using tolerance of 0.01\n",
      "Using simplified polygon (for CMR request only!), 5 points using tolerance of 0.01\n",
      "Unable to complete request due to errors\n"
     ]
    },
    {
     "name": "stdout",
     "output_type": "stream",
     "text": [
      "no. of photons: 0\n",
      "downloading ATL03 for edu_humboldt_humboldt 2022-11-28T10:58:49+00:00\n"
     ]
    },
    {
     "name": "stderr",
     "output_type": "stream",
     "text": [
      "Using simplified polygon (for CMR request only!), 5 points using tolerance of 0.01\n",
      "Using simplified polygon (for CMR request only!), 5 points using tolerance of 0.01\n",
      "Using simplified polygon (for CMR request only!), 5 points using tolerance of 0.01\n",
      "Unable to complete request due to errors\n"
     ]
    },
    {
     "name": "stdout",
     "output_type": "stream",
     "text": [
      "no. of photons: 0\n",
      "downloading ATL03 for edu_humboldt_humboldt 2023-05-29T02:18:12+00:00\n"
     ]
    },
    {
     "name": "stderr",
     "output_type": "stream",
     "text": [
      "Using simplified polygon (for CMR request only!), 5 points using tolerance of 0.01\n",
      "Using simplified polygon (for CMR request only!), 5 points using tolerance of 0.01\n",
      "Using simplified polygon (for CMR request only!), 5 points using tolerance of 0.01\n",
      "Unable to complete request due to errors\n"
     ]
    },
    {
     "name": "stdout",
     "output_type": "stream",
     "text": [
      "no. of photons: 0\n",
      "downloading ATL03 for edu_humboldt_humboldt 2023-06-28T12:38:08+00:00\n"
     ]
    },
    {
     "name": "stderr",
     "output_type": "stream",
     "text": [
      "Using simplified polygon (for CMR request only!), 5 points using tolerance of 0.01\n",
      "Using simplified polygon (for CMR request only!), 5 points using tolerance of 0.01\n",
      "Using simplified polygon (for CMR request only!), 5 points using tolerance of 0.01\n",
      "Unable to complete request due to errors\n"
     ]
    },
    {
     "name": "stdout",
     "output_type": "stream",
     "text": [
      "no. of photons: 0\n",
      "downloading ATL03 for edu_humboldt_humboldt 2023-08-27T21:57:28+00:00\n"
     ]
    },
    {
     "name": "stderr",
     "output_type": "stream",
     "text": [
      "Using simplified polygon (for CMR request only!), 5 points using tolerance of 0.01\n",
      "Using simplified polygon (for CMR request only!), 5 points using tolerance of 0.01\n",
      "Using simplified polygon (for CMR request only!), 5 points using tolerance of 0.01\n",
      "Unable to complete request due to errors\n"
     ]
    },
    {
     "name": "stdout",
     "output_type": "stream",
     "text": [
      "no. of photons: 0\n",
      "downloading ATL03 for edu_humboldt_humboldt 2023-09-27T08:17:28+00:00\n"
     ]
    },
    {
     "name": "stderr",
     "output_type": "stream",
     "text": [
      "Using simplified polygon (for CMR request only!), 5 points using tolerance of 0.01\n",
      "Using simplified polygon (for CMR request only!), 5 points using tolerance of 0.01\n",
      "Using simplified polygon (for CMR request only!), 5 points using tolerance of 0.01\n",
      "Unable to complete request due to errors\n"
     ]
    },
    {
     "name": "stdout",
     "output_type": "stream",
     "text": [
      "no. of photons: 0\n",
      "downloading ATL03 for edu_humboldt_humboldt 2023-11-26T17:37:03+00:00\n"
     ]
    },
    {
     "name": "stderr",
     "output_type": "stream",
     "text": [
      "Using simplified polygon (for CMR request only!), 5 points using tolerance of 0.01\n",
      "Using simplified polygon (for CMR request only!), 5 points using tolerance of 0.01\n",
      "Using simplified polygon (for CMR request only!), 5 points using tolerance of 0.01\n",
      "Unable to complete request due to errors\n"
     ]
    },
    {
     "name": "stdout",
     "output_type": "stream",
     "text": [
      "no. of photons: 0\n",
      "downloading ATL03 for edu_humboldt_humboldt 2024-02-25T13:16:30+00:00\n"
     ]
    },
    {
     "name": "stderr",
     "output_type": "stream",
     "text": [
      "Using simplified polygon (for CMR request only!), 5 points using tolerance of 0.01\n",
      "Using simplified polygon (for CMR request only!), 5 points using tolerance of 0.01\n",
      "Using simplified polygon (for CMR request only!), 5 points using tolerance of 0.01\n",
      "Unable to complete request due to errors\n"
     ]
    },
    {
     "name": "stdout",
     "output_type": "stream",
     "text": [
      "no. of photons: 0\n",
      "downloading ATL03 for edu_humboldt_humboldt 2024-03-26T23:36:25+00:00\n"
     ]
    },
    {
     "name": "stderr",
     "output_type": "stream",
     "text": [
      "Using simplified polygon (for CMR request only!), 5 points using tolerance of 0.01\n",
      "Using simplified polygon (for CMR request only!), 5 points using tolerance of 0.01\n",
      "Using simplified polygon (for CMR request only!), 5 points using tolerance of 0.01\n",
      "Unable to complete request due to errors\n"
     ]
    },
    {
     "name": "stdout",
     "output_type": "stream",
     "text": [
      "no. of photons: 0\n",
      "downloading ATL03 for nerrs_kachomet 2019-01-09T20:16:08+00:00\n"
     ]
    },
    {
     "name": "stderr",
     "output_type": "stream",
     "text": [
      "Using simplified polygon (for CMR request only!), 5 points using tolerance of 0.01\n",
      "Using simplified polygon (for CMR request only!), 5 points using tolerance of 0.01\n",
      "Using simplified polygon (for CMR request only!), 5 points using tolerance of 0.01\n",
      "Unable to complete request due to errors\n"
     ]
    },
    {
     "name": "stdout",
     "output_type": "stream",
     "text": [
      "no. of photons: 0\n",
      "downloading ATL03 for nerrs_kachomet 2019-03-10T05:47:36+00:00\n"
     ]
    },
    {
     "name": "stderr",
     "output_type": "stream",
     "text": [
      "Using simplified polygon (for CMR request only!), 5 points using tolerance of 0.01\n",
      "Using simplified polygon (for CMR request only!), 5 points using tolerance of 0.01\n",
      "Using simplified polygon (for CMR request only!), 5 points using tolerance of 0.01\n",
      "Unable to complete request due to errors\n"
     ]
    },
    {
     "name": "stdout",
     "output_type": "stream",
     "text": [
      "no. of photons: 0\n",
      "downloading ATL03 for nerrs_kachomet 2019-04-10T15:56:02+00:00\n"
     ]
    },
    {
     "name": "stderr",
     "output_type": "stream",
     "text": [
      "Using simplified polygon (for CMR request only!), 5 points using tolerance of 0.01\n",
      "Using simplified polygon (for CMR request only!), 5 points using tolerance of 0.01\n",
      "Using simplified polygon (for CMR request only!), 5 points using tolerance of 0.01\n",
      "Unable to complete request due to errors\n"
     ]
    },
    {
     "name": "stdout",
     "output_type": "stream",
     "text": [
      "no. of photons: 0\n",
      "downloading ATL03 for nerrs_kachomet 2019-06-09T01:27:11+00:00\n"
     ]
    },
    {
     "name": "stderr",
     "output_type": "stream",
     "text": [
      "Using simplified polygon (for CMR request only!), 5 points using tolerance of 0.01\n",
      "Using simplified polygon (for CMR request only!), 5 points using tolerance of 0.01\n",
      "Using simplified polygon (for CMR request only!), 5 points using tolerance of 0.01\n",
      "Unable to complete request due to errors\n"
     ]
    },
    {
     "name": "stdout",
     "output_type": "stream",
     "text": [
      "no. of photons: 0\n",
      "downloading ATL03 for nerrs_kachomet 2019-07-10T11:35:27+00:00\n"
     ]
    },
    {
     "name": "stderr",
     "output_type": "stream",
     "text": [
      "Using simplified polygon (for CMR request only!), 5 points using tolerance of 0.01\n",
      "Using simplified polygon (for CMR request only!), 5 points using tolerance of 0.01\n",
      "Using simplified polygon (for CMR request only!), 5 points using tolerance of 0.01\n",
      "Unable to complete request due to errors\n"
     ]
    },
    {
     "name": "stdout",
     "output_type": "stream",
     "text": [
      "no. of photons: 0\n",
      "downloading ATL03 for nerrs_kachomet 2019-08-08T10:11:41+00:00\n"
     ]
    },
    {
     "name": "stderr",
     "output_type": "stream",
     "text": [
      "Using simplified polygon (for CMR request only!), 5 points using tolerance of 0.01\n",
      "Using simplified polygon (for CMR request only!), 5 points using tolerance of 0.01\n",
      "Using simplified polygon (for CMR request only!), 5 points using tolerance of 0.01\n",
      "Unable to complete request due to errors\n"
     ]
    },
    {
     "name": "stdout",
     "output_type": "stream",
     "text": [
      "no. of photons: 0\n",
      "downloading ATL03 for nerrs_kachomet 2019-09-07T21:07:00+00:00\n"
     ]
    },
    {
     "name": "stderr",
     "output_type": "stream",
     "text": [
      "Using simplified polygon (for CMR request only!), 5 points using tolerance of 0.01\n",
      "Using simplified polygon (for CMR request only!), 5 points using tolerance of 0.01\n",
      "Using simplified polygon (for CMR request only!), 5 points using tolerance of 0.01\n",
      "Unable to complete request due to errors\n"
     ]
    },
    {
     "name": "stdout",
     "output_type": "stream",
     "text": [
      "no. of photons: 0\n",
      "downloading ATL03 for nerrs_kachomet 2019-11-07T05:51:35+00:00\n"
     ]
    },
    {
     "name": "stderr",
     "output_type": "stream",
     "text": [
      "Using simplified polygon (for CMR request only!), 5 points using tolerance of 0.01\n",
      "Using simplified polygon (for CMR request only!), 5 points using tolerance of 0.01\n",
      "Using simplified polygon (for CMR request only!), 5 points using tolerance of 0.01\n",
      "Unable to complete request due to errors\n"
     ]
    },
    {
     "name": "stdout",
     "output_type": "stream",
     "text": [
      "no. of photons: 0\n",
      "downloading ATL03 for nerrs_kachomet 2019-12-07T16:46:50+00:00\n"
     ]
    },
    {
     "name": "stderr",
     "output_type": "stream",
     "text": [
      "Using simplified polygon (for CMR request only!), 5 points using tolerance of 0.01\n",
      "Using simplified polygon (for CMR request only!), 5 points using tolerance of 0.01\n",
      "Using simplified polygon (for CMR request only!), 5 points using tolerance of 0.01\n",
      "Unable to complete request due to errors\n",
      "Using simplified polygon (for CMR request only!), 5 points using tolerance of 0.01\n"
     ]
    },
    {
     "name": "stdout",
     "output_type": "stream",
     "text": [
      "no. of photons: 0\n",
      "downloading ATL03 for nerrs_kachomet 2020-01-08T02:55:17+00:00\n"
     ]
    },
    {
     "name": "stderr",
     "output_type": "stream",
     "text": [
      "Using simplified polygon (for CMR request only!), 5 points using tolerance of 0.01\n",
      "Using simplified polygon (for CMR request only!), 5 points using tolerance of 0.01\n",
      "Unable to complete request due to errors\n"
     ]
    },
    {
     "name": "stdout",
     "output_type": "stream",
     "text": [
      "no. of photons: 0\n",
      "downloading ATL03 for nerrs_kachomet 2020-03-07T12:26:35+00:00\n"
     ]
    },
    {
     "name": "stderr",
     "output_type": "stream",
     "text": [
      "Using simplified polygon (for CMR request only!), 5 points using tolerance of 0.01\n",
      "Using simplified polygon (for CMR request only!), 5 points using tolerance of 0.01\n",
      "Using simplified polygon (for CMR request only!), 5 points using tolerance of 0.01\n",
      "Unable to complete request due to errors\n"
     ]
    },
    {
     "name": "stdout",
     "output_type": "stream",
     "text": [
      "no. of photons: 0\n",
      "downloading ATL03 for nerrs_kachomet 2020-06-06T08:06:24+00:00\n"
     ]
    },
    {
     "name": "stderr",
     "output_type": "stream",
     "text": [
      "Using simplified polygon (for CMR request only!), 5 points using tolerance of 0.01\n",
      "Using simplified polygon (for CMR request only!), 5 points using tolerance of 0.01\n",
      "Using simplified polygon (for CMR request only!), 5 points using tolerance of 0.01\n",
      "Unable to complete request due to errors\n"
     ]
    },
    {
     "name": "stdout",
     "output_type": "stream",
     "text": [
      "no. of photons: 0\n",
      "downloading ATL03 for nerrs_kachomet 2020-07-07T18:14:49+00:00\n"
     ]
    },
    {
     "name": "stderr",
     "output_type": "stream",
     "text": [
      "Using simplified polygon (for CMR request only!), 5 points using tolerance of 0.01\n",
      "Using simplified polygon (for CMR request only!), 5 points using tolerance of 0.01\n",
      "Using simplified polygon (for CMR request only!), 5 points using tolerance of 0.01\n",
      "Unable to complete request due to errors\n"
     ]
    },
    {
     "name": "stdout",
     "output_type": "stream",
     "text": [
      "no. of photons: 0\n",
      "downloading ATL03 for nerrs_kachomet 2020-09-05T03:46:10+00:00\n"
     ]
    },
    {
     "name": "stderr",
     "output_type": "stream",
     "text": [
      "Using simplified polygon (for CMR request only!), 5 points using tolerance of 0.01\n",
      "Using simplified polygon (for CMR request only!), 5 points using tolerance of 0.01\n",
      "Using simplified polygon (for CMR request only!), 5 points using tolerance of 0.01\n",
      "Unable to complete request due to errors\n"
     ]
    },
    {
     "name": "stdout",
     "output_type": "stream",
     "text": [
      "no. of photons: 0\n",
      "downloading ATL03 for nerrs_kachomet 2020-10-06T13:54:36+00:00\n"
     ]
    },
    {
     "name": "stderr",
     "output_type": "stream",
     "text": [
      "Using simplified polygon (for CMR request only!), 5 points using tolerance of 0.01\n",
      "Using simplified polygon (for CMR request only!), 5 points using tolerance of 0.01\n",
      "Using simplified polygon (for CMR request only!), 5 points using tolerance of 0.01\n",
      "Unable to complete request due to errors\n"
     ]
    },
    {
     "name": "stdout",
     "output_type": "stream",
     "text": [
      "no. of photons: 0\n",
      "downloading ATL03 for nerrs_kachomet 2020-12-04T23:26:01+00:00\n"
     ]
    },
    {
     "name": "stderr",
     "output_type": "stream",
     "text": [
      "Using simplified polygon (for CMR request only!), 5 points using tolerance of 0.01\n",
      "Using simplified polygon (for CMR request only!), 5 points using tolerance of 0.01\n",
      "Using simplified polygon (for CMR request only!), 5 points using tolerance of 0.01\n",
      "Unable to complete request due to errors\n"
     ]
    },
    {
     "name": "stdout",
     "output_type": "stream",
     "text": [
      "no. of photons: 0\n",
      "downloading ATL03 for nerrs_kachomet 2021-01-05T09:34:32+00:00\n"
     ]
    },
    {
     "name": "stderr",
     "output_type": "stream",
     "text": [
      "Using simplified polygon (for CMR request only!), 5 points using tolerance of 0.01\n",
      "Using simplified polygon (for CMR request only!), 5 points using tolerance of 0.01\n",
      "Using simplified polygon (for CMR request only!), 5 points using tolerance of 0.01\n",
      "Unable to complete request due to errors\n"
     ]
    },
    {
     "name": "stdout",
     "output_type": "stream",
     "text": [
      "no. of photons: 0\n",
      "downloading ATL03 for nerrs_kachomet 2021-03-05T19:05:55+00:00\n"
     ]
    },
    {
     "name": "stderr",
     "output_type": "stream",
     "text": [
      "Using simplified polygon (for CMR request only!), 5 points using tolerance of 0.01\n",
      "Using simplified polygon (for CMR request only!), 5 points using tolerance of 0.01\n",
      "Using simplified polygon (for CMR request only!), 5 points using tolerance of 0.01\n",
      "Unable to complete request due to errors\n"
     ]
    },
    {
     "name": "stdout",
     "output_type": "stream",
     "text": [
      "no. of photons: 0\n",
      "downloading ATL03 for nerrs_kachomet 2021-05-05T03:50:28+00:00\n"
     ]
    },
    {
     "name": "stderr",
     "output_type": "stream",
     "text": [
      "Using simplified polygon (for CMR request only!), 5 points using tolerance of 0.01\n",
      "Using simplified polygon (for CMR request only!), 5 points using tolerance of 0.01\n",
      "Using simplified polygon (for CMR request only!), 5 points using tolerance of 0.01\n",
      "Unable to complete request due to errors\n"
     ]
    },
    {
     "name": "stdout",
     "output_type": "stream",
     "text": [
      "no. of photons: 0\n",
      "downloading ATL03 for nerrs_kachomet 2021-06-04T14:45:45+00:00\n"
     ]
    },
    {
     "name": "stderr",
     "output_type": "stream",
     "text": [
      "Using simplified polygon (for CMR request only!), 5 points using tolerance of 0.01\n",
      "Using simplified polygon (for CMR request only!), 5 points using tolerance of 0.01\n",
      "Using simplified polygon (for CMR request only!), 5 points using tolerance of 0.01\n",
      "Unable to complete request due to errors\n"
     ]
    },
    {
     "name": "stdout",
     "output_type": "stream",
     "text": [
      "no. of photons: 0\n",
      "downloading ATL03 for nerrs_kachomet 2021-07-06T00:54:14+00:00\n"
     ]
    },
    {
     "name": "stderr",
     "output_type": "stream",
     "text": [
      "Using simplified polygon (for CMR request only!), 5 points using tolerance of 0.01\n",
      "Using simplified polygon (for CMR request only!), 5 points using tolerance of 0.01\n",
      "Using simplified polygon (for CMR request only!), 5 points using tolerance of 0.01\n",
      "Unable to complete request due to errors\n"
     ]
    },
    {
     "name": "stdout",
     "output_type": "stream",
     "text": [
      "no. of photons: 0\n",
      "downloading ATL03 for nerrs_kachomet 2021-09-03T10:25:39+00:00\n"
     ]
    },
    {
     "name": "stderr",
     "output_type": "stream",
     "text": [
      "Using simplified polygon (for CMR request only!), 5 points using tolerance of 0.01\n",
      "Using simplified polygon (for CMR request only!), 5 points using tolerance of 0.01\n",
      "Using simplified polygon (for CMR request only!), 5 points using tolerance of 0.01\n",
      "Unable to complete request due to errors\n"
     ]
    },
    {
     "name": "stdout",
     "output_type": "stream",
     "text": [
      "no. of photons: 0\n",
      "downloading ATL03 for nerrs_kachomet 2021-10-04T20:34:14+00:00\n"
     ]
    },
    {
     "name": "stderr",
     "output_type": "stream",
     "text": [
      "Using simplified polygon (for CMR request only!), 5 points using tolerance of 0.01\n",
      "Using simplified polygon (for CMR request only!), 5 points using tolerance of 0.01\n",
      "Using simplified polygon (for CMR request only!), 5 points using tolerance of 0.01\n",
      "Unable to complete request due to errors\n"
     ]
    },
    {
     "name": "stdout",
     "output_type": "stream",
     "text": [
      "no. of photons: 0\n",
      "downloading ATL03 for nerrs_kachomet 2021-12-03T06:05:37+00:00\n"
     ]
    },
    {
     "name": "stderr",
     "output_type": "stream",
     "text": [
      "Using simplified polygon (for CMR request only!), 5 points using tolerance of 0.01\n",
      "Using simplified polygon (for CMR request only!), 5 points using tolerance of 0.01\n",
      "Using simplified polygon (for CMR request only!), 5 points using tolerance of 0.01\n",
      "Unable to complete request due to errors\n"
     ]
    },
    {
     "name": "stdout",
     "output_type": "stream",
     "text": [
      "no. of photons: 0\n",
      "downloading ATL03 for nerrs_kachomet 2022-01-03T16:14:06+00:00\n"
     ]
    },
    {
     "name": "stderr",
     "output_type": "stream",
     "text": [
      "Using simplified polygon (for CMR request only!), 5 points using tolerance of 0.01\n",
      "Using simplified polygon (for CMR request only!), 5 points using tolerance of 0.01\n",
      "Using simplified polygon (for CMR request only!), 5 points using tolerance of 0.01\n",
      "Unable to complete request due to errors\n"
     ]
    },
    {
     "name": "stdout",
     "output_type": "stream",
     "text": [
      "no. of photons: 0\n",
      "downloading ATL03 for nerrs_kachomet 2022-03-04T01:45:26+00:00\n"
     ]
    },
    {
     "name": "stderr",
     "output_type": "stream",
     "text": [
      "Using simplified polygon (for CMR request only!), 5 points using tolerance of 0.01\n",
      "Using simplified polygon (for CMR request only!), 5 points using tolerance of 0.01\n",
      "Using simplified polygon (for CMR request only!), 5 points using tolerance of 0.01\n",
      "Unable to complete request due to errors\n"
     ]
    },
    {
     "name": "stdout",
     "output_type": "stream",
     "text": [
      "no. of photons: 0\n",
      "downloading ATL03 for nerrs_kachomet 2022-05-03T10:29:58+00:00\n"
     ]
    },
    {
     "name": "stderr",
     "output_type": "stream",
     "text": [
      "Using simplified polygon (for CMR request only!), 5 points using tolerance of 0.01\n",
      "Using simplified polygon (for CMR request only!), 5 points using tolerance of 0.01\n",
      "Using simplified polygon (for CMR request only!), 5 points using tolerance of 0.01\n",
      "Unable to complete request due to errors\n"
     ]
    },
    {
     "name": "stdout",
     "output_type": "stream",
     "text": [
      "no. of photons: 0\n",
      "downloading ATL03 for nerrs_kachomet 2022-06-02T21:25:24+00:00\n"
     ]
    },
    {
     "name": "stderr",
     "output_type": "stream",
     "text": [
      "Using simplified polygon (for CMR request only!), 5 points using tolerance of 0.01\n",
      "Using simplified polygon (for CMR request only!), 5 points using tolerance of 0.01\n",
      "Using simplified polygon (for CMR request only!), 5 points using tolerance of 0.01\n",
      "Unable to complete request due to errors\n"
     ]
    },
    {
     "name": "stdout",
     "output_type": "stream",
     "text": [
      "no. of photons: 0\n",
      "downloading ATL03 for nerrs_kachomet 2022-09-01T17:05:18+00:00\n"
     ]
    },
    {
     "name": "stderr",
     "output_type": "stream",
     "text": [
      "Using simplified polygon (for CMR request only!), 5 points using tolerance of 0.01\n",
      "Using simplified polygon (for CMR request only!), 5 points using tolerance of 0.01\n",
      "Using simplified polygon (for CMR request only!), 5 points using tolerance of 0.01\n",
      "Unable to complete request due to errors\n"
     ]
    },
    {
     "name": "stdout",
     "output_type": "stream",
     "text": [
      "no. of photons: 0\n",
      "downloading ATL03 for nerrs_kachomet 2022-10-03T03:13:44+00:00\n"
     ]
    },
    {
     "name": "stderr",
     "output_type": "stream",
     "text": [
      "Using simplified polygon (for CMR request only!), 5 points using tolerance of 0.01\n",
      "Using simplified polygon (for CMR request only!), 5 points using tolerance of 0.01\n",
      "Using simplified polygon (for CMR request only!), 5 points using tolerance of 0.01\n",
      "Unable to complete request due to errors\n"
     ]
    },
    {
     "name": "stdout",
     "output_type": "stream",
     "text": [
      "no. of photons: 0\n",
      "downloading ATL03 for nerrs_kachomet 2022-12-01T12:44:57+00:00\n"
     ]
    },
    {
     "name": "stderr",
     "output_type": "stream",
     "text": [
      "Using simplified polygon (for CMR request only!), 5 points using tolerance of 0.01\n",
      "Using simplified polygon (for CMR request only!), 5 points using tolerance of 0.01\n",
      "Using simplified polygon (for CMR request only!), 5 points using tolerance of 0.01\n",
      "Unable to complete request due to errors\n"
     ]
    },
    {
     "name": "stdout",
     "output_type": "stream",
     "text": [
      "no. of photons: 0\n",
      "downloading ATL03 for nerrs_kachomet 2023-01-01T22:53:28+00:00\n"
     ]
    },
    {
     "name": "stderr",
     "output_type": "stream",
     "text": [
      "Using simplified polygon (for CMR request only!), 5 points using tolerance of 0.01\n",
      "Using simplified polygon (for CMR request only!), 5 points using tolerance of 0.01\n",
      "Using simplified polygon (for CMR request only!), 5 points using tolerance of 0.01\n",
      "Unable to complete request due to errors\n"
     ]
    },
    {
     "name": "stdout",
     "output_type": "stream",
     "text": [
      "no. of photons: 0\n",
      "downloading ATL03 for ism-glos-obs_46 2023-06-22T10:29:14+00:00\n"
     ]
    },
    {
     "name": "stderr",
     "output_type": "stream",
     "text": [
      "Using simplified polygon (for CMR request only!), 5 points using tolerance of 0.01\n",
      "Using simplified polygon (for CMR request only!), 5 points using tolerance of 0.01\n",
      "Using simplified polygon (for CMR request only!), 5 points using tolerance of 0.01\n",
      "Unable to complete request due to errors\n"
     ]
    },
    {
     "name": "stdout",
     "output_type": "stream",
     "text": [
      "no. of photons: 0\n",
      "downloading ATL03 for edu_humboldt_humboldt 2018-12-06T08:21:24+00:00\n"
     ]
    },
    {
     "name": "stderr",
     "output_type": "stream",
     "text": [
      "Using simplified polygon (for CMR request only!), 5 points using tolerance of 0.01\n",
      "Using simplified polygon (for CMR request only!), 5 points using tolerance of 0.01\n",
      "Using simplified polygon (for CMR request only!), 5 points using tolerance of 0.01\n",
      "Unable to complete request due to errors\n"
     ]
    },
    {
     "name": "stdout",
     "output_type": "stream",
     "text": [
      "no. of photons: 0\n",
      "downloading ATL03 for edu_humboldt_humboldt 2019-01-05T18:41:42+00:00\n"
     ]
    },
    {
     "name": "stderr",
     "output_type": "stream",
     "text": [
      "Using simplified polygon (for CMR request only!), 5 points using tolerance of 0.01\n",
      "Using simplified polygon (for CMR request only!), 5 points using tolerance of 0.01\n",
      "Using simplified polygon (for CMR request only!), 5 points using tolerance of 0.01\n",
      "Unable to complete request due to errors\n"
     ]
    },
    {
     "name": "stdout",
     "output_type": "stream",
     "text": [
      "no. of photons: 0\n",
      "downloading ATL03 for edu_humboldt_humboldt 2019-03-07T04:01:25+00:00\n"
     ]
    },
    {
     "name": "stderr",
     "output_type": "stream",
     "text": [
      "Using simplified polygon (for CMR request only!), 5 points using tolerance of 0.01\n",
      "Using simplified polygon (for CMR request only!), 5 points using tolerance of 0.01\n",
      "Using simplified polygon (for CMR request only!), 5 points using tolerance of 0.01\n",
      "Unable to complete request due to errors\n"
     ]
    },
    {
     "name": "stdout",
     "output_type": "stream",
     "text": [
      "no. of photons: 0\n",
      "downloading ATL03 for edu_humboldt_humboldt 2019-04-06T14:21:34+00:00\n"
     ]
    },
    {
     "name": "stderr",
     "output_type": "stream",
     "text": [
      "Using simplified polygon (for CMR request only!), 5 points using tolerance of 0.01\n",
      "Using simplified polygon (for CMR request only!), 5 points using tolerance of 0.01\n",
      "Using simplified polygon (for CMR request only!), 5 points using tolerance of 0.01\n",
      "Unable to complete request due to errors\n"
     ]
    },
    {
     "name": "stdout",
     "output_type": "stream",
     "text": [
      "no. of photons: 0\n",
      "downloading ATL03 for edu_humboldt_humboldt 2019-06-05T23:40:59+00:00\n"
     ]
    },
    {
     "name": "stderr",
     "output_type": "stream",
     "text": [
      "Using simplified polygon (for CMR request only!), 5 points using tolerance of 0.01\n",
      "Using simplified polygon (for CMR request only!), 5 points using tolerance of 0.01\n",
      "Using simplified polygon (for CMR request only!), 5 points using tolerance of 0.01\n",
      "Unable to complete request due to errors\n"
     ]
    },
    {
     "name": "stdout",
     "output_type": "stream",
     "text": [
      "no. of photons: 0\n",
      "downloading ATL03 for edu_humboldt_humboldt 2020-03-04T10:40:21+00:00\n"
     ]
    },
    {
     "name": "stderr",
     "output_type": "stream",
     "text": [
      "Using simplified polygon (for CMR request only!), 5 points using tolerance of 0.01\n",
      "Using simplified polygon (for CMR request only!), 5 points using tolerance of 0.01\n",
      "Using simplified polygon (for CMR request only!), 5 points using tolerance of 0.01\n",
      "Unable to complete request due to errors\n"
     ]
    },
    {
     "name": "stdout",
     "output_type": "stream",
     "text": [
      "no. of photons: 0\n",
      "downloading ATL03 for edu_humboldt_humboldt 2020-04-03T21:00:35+00:00\n"
     ]
    },
    {
     "name": "stderr",
     "output_type": "stream",
     "text": [
      "Using simplified polygon (for CMR request only!), 5 points using tolerance of 0.01\n",
      "Using simplified polygon (for CMR request only!), 5 points using tolerance of 0.01\n",
      "Using simplified polygon (for CMR request only!), 5 points using tolerance of 0.01\n",
      "Unable to complete request due to errors\n"
     ]
    },
    {
     "name": "stdout",
     "output_type": "stream",
     "text": [
      "no. of photons: 0\n",
      "downloading ATL03 for edu_humboldt_humboldt 2020-06-03T06:20:13+00:00\n"
     ]
    },
    {
     "name": "stderr",
     "output_type": "stream",
     "text": [
      "Using simplified polygon (for CMR request only!), 5 points using tolerance of 0.01\n",
      "Using simplified polygon (for CMR request only!), 5 points using tolerance of 0.01\n",
      "Using simplified polygon (for CMR request only!), 5 points using tolerance of 0.01\n",
      "Unable to complete request due to errors\n"
     ]
    },
    {
     "name": "stdout",
     "output_type": "stream",
     "text": [
      "no. of photons: 0\n",
      "downloading ATL03 for edu_humboldt_humboldt 2020-07-03T16:40:23+00:00\n"
     ]
    },
    {
     "name": "stderr",
     "output_type": "stream",
     "text": [
      "Using simplified polygon (for CMR request only!), 5 points using tolerance of 0.01\n",
      "Using simplified polygon (for CMR request only!), 5 points using tolerance of 0.01\n",
      "Using simplified polygon (for CMR request only!), 5 points using tolerance of 0.01\n",
      "Unable to complete request due to errors\n"
     ]
    },
    {
     "name": "stdout",
     "output_type": "stream",
     "text": [
      "no. of photons: 0\n",
      "downloading ATL03 for edu_humboldt_humboldt 2020-09-02T01:59:59+00:00\n"
     ]
    },
    {
     "name": "stderr",
     "output_type": "stream",
     "text": [
      "Using simplified polygon (for CMR request only!), 5 points using tolerance of 0.01\n",
      "Using simplified polygon (for CMR request only!), 5 points using tolerance of 0.01\n",
      "Using simplified polygon (for CMR request only!), 5 points using tolerance of 0.01\n",
      "Unable to complete request due to errors\n"
     ]
    },
    {
     "name": "stdout",
     "output_type": "stream",
     "text": [
      "no. of photons: 0\n",
      "downloading ATL03 for edu_humboldt_humboldt 2020-10-02T12:20:06+00:00\n"
     ]
    },
    {
     "name": "stderr",
     "output_type": "stream",
     "text": [
      "Using simplified polygon (for CMR request only!), 5 points using tolerance of 0.01\n",
      "Using simplified polygon (for CMR request only!), 5 points using tolerance of 0.01\n",
      "Using simplified polygon (for CMR request only!), 5 points using tolerance of 0.01\n",
      "Unable to complete request due to errors\n"
     ]
    },
    {
     "name": "stdout",
     "output_type": "stream",
     "text": [
      "no. of photons: 0\n",
      "downloading ATL03 for edu_humboldt_humboldt 2020-12-01T21:39:49+00:00\n"
     ]
    },
    {
     "name": "stderr",
     "output_type": "stream",
     "text": [
      "Using simplified polygon (for CMR request only!), 5 points using tolerance of 0.01\n",
      "Using simplified polygon (for CMR request only!), 5 points using tolerance of 0.01\n",
      "Using simplified polygon (for CMR request only!), 5 points using tolerance of 0.01\n",
      "Unable to complete request due to errors\n"
     ]
    },
    {
     "name": "stdout",
     "output_type": "stream",
     "text": [
      "no. of photons: 0\n",
      "downloading ATL03 for edu_humboldt_humboldt 2021-04-02T03:39:56+00:00\n"
     ]
    },
    {
     "name": "stderr",
     "output_type": "stream",
     "text": [
      "Using simplified polygon (for CMR request only!), 5 points using tolerance of 0.01\n",
      "Using simplified polygon (for CMR request only!), 5 points using tolerance of 0.01\n",
      "Using simplified polygon (for CMR request only!), 5 points using tolerance of 0.01\n",
      "Unable to complete request due to errors\n"
     ]
    },
    {
     "name": "stdout",
     "output_type": "stream",
     "text": [
      "no. of photons: 0\n",
      "downloading ATL03 for edu_humboldt_humboldt 2021-06-01T12:59:33+00:00\n"
     ]
    },
    {
     "name": "stderr",
     "output_type": "stream",
     "text": [
      "Using simplified polygon (for CMR request only!), 5 points using tolerance of 0.01\n",
      "Using simplified polygon (for CMR request only!), 5 points using tolerance of 0.01\n",
      "Using simplified polygon (for CMR request only!), 5 points using tolerance of 0.01\n",
      "Unable to complete request due to errors\n"
     ]
    },
    {
     "name": "stdout",
     "output_type": "stream",
     "text": [
      "no. of photons: 0\n",
      "downloading ATL03 for edu_humboldt_humboldt 2021-07-01T23:19:46+00:00\n"
     ]
    },
    {
     "name": "stderr",
     "output_type": "stream",
     "text": [
      "Using simplified polygon (for CMR request only!), 5 points using tolerance of 0.01\n",
      "Using simplified polygon (for CMR request only!), 5 points using tolerance of 0.01\n",
      "Using simplified polygon (for CMR request only!), 5 points using tolerance of 0.01\n",
      "Unable to complete request due to errors\n"
     ]
    },
    {
     "name": "stdout",
     "output_type": "stream",
     "text": [
      "no. of photons: 0\n",
      "downloading ATL03 for edu_humboldt_humboldt 2021-08-31T08:39:28+00:00\n"
     ]
    },
    {
     "name": "stderr",
     "output_type": "stream",
     "text": [
      "Using simplified polygon (for CMR request only!), 5 points using tolerance of 0.01\n",
      "Using simplified polygon (for CMR request only!), 5 points using tolerance of 0.01\n",
      "Using simplified polygon (for CMR request only!), 5 points using tolerance of 0.01\n",
      "Unable to complete request due to errors\n",
      "Using simplified polygon (for CMR request only!), 5 points using tolerance of 0.01\n"
     ]
    },
    {
     "name": "stdout",
     "output_type": "stream",
     "text": [
      "no. of photons: 0\n",
      "downloading ATL03 for edu_humboldt_humboldt 2021-12-30T14:39:37+00:00\n"
     ]
    },
    {
     "name": "stderr",
     "output_type": "stream",
     "text": [
      "Using simplified polygon (for CMR request only!), 5 points using tolerance of 0.01\n",
      "Using simplified polygon (for CMR request only!), 5 points using tolerance of 0.01\n",
      "Unable to complete request due to errors\n"
     ]
    },
    {
     "name": "stdout",
     "output_type": "stream",
     "text": [
      "no. of photons: 0\n",
      "downloading ATL03 for edu_humboldt_humboldt 2022-02-28T23:59:16+00:00\n"
     ]
    },
    {
     "name": "stderr",
     "output_type": "stream",
     "text": [
      "Using simplified polygon (for CMR request only!), 5 points using tolerance of 0.01\n",
      "Using simplified polygon (for CMR request only!), 5 points using tolerance of 0.01\n",
      "Using simplified polygon (for CMR request only!), 5 points using tolerance of 0.01\n",
      "Unable to complete request due to errors\n"
     ]
    },
    {
     "name": "stdout",
     "output_type": "stream",
     "text": [
      "no. of photons: 0\n",
      "downloading ATL03 for edu_humboldt_humboldt 2022-03-31T10:19:30+00:00\n"
     ]
    },
    {
     "name": "stderr",
     "output_type": "stream",
     "text": [
      "Using simplified polygon (for CMR request only!), 5 points using tolerance of 0.01\n",
      "Using simplified polygon (for CMR request only!), 5 points using tolerance of 0.01\n",
      "Using simplified polygon (for CMR request only!), 5 points using tolerance of 0.01\n",
      "Unable to complete request due to errors\n",
      "Using simplified polygon (for CMR request only!), 5 points using tolerance of 0.01\n"
     ]
    },
    {
     "name": "stdout",
     "output_type": "stream",
     "text": [
      "no. of photons: 0\n",
      "downloading ATL03 for edu_humboldt_humboldt 2022-05-30T19:39:11+00:00\n"
     ]
    },
    {
     "name": "stderr",
     "output_type": "stream",
     "text": [
      "Using simplified polygon (for CMR request only!), 5 points using tolerance of 0.01\n",
      "Using simplified polygon (for CMR request only!), 5 points using tolerance of 0.01\n",
      "Unable to complete request due to errors\n"
     ]
    },
    {
     "name": "stdout",
     "output_type": "stream",
     "text": [
      "no. of photons: 0\n",
      "downloading ATL03 for edu_humboldt_humboldt 2022-06-30T05:59:30+00:00\n"
     ]
    },
    {
     "name": "stderr",
     "output_type": "stream",
     "text": [
      "Using simplified polygon (for CMR request only!), 5 points using tolerance of 0.01\n",
      "Using simplified polygon (for CMR request only!), 5 points using tolerance of 0.01\n",
      "Using simplified polygon (for CMR request only!), 5 points using tolerance of 0.01\n",
      "Unable to complete request due to errors\n"
     ]
    },
    {
     "name": "stdout",
     "output_type": "stream",
     "text": [
      "no. of photons: 0\n",
      "downloading ATL03 for edu_humboldt_humboldt 2022-08-29T15:19:09+00:00\n"
     ]
    },
    {
     "name": "stderr",
     "output_type": "stream",
     "text": [
      "Using simplified polygon (for CMR request only!), 5 points using tolerance of 0.01\n",
      "Using simplified polygon (for CMR request only!), 5 points using tolerance of 0.01\n",
      "Using simplified polygon (for CMR request only!), 5 points using tolerance of 0.01\n",
      "Unable to complete request due to errors\n"
     ]
    },
    {
     "name": "stdout",
     "output_type": "stream",
     "text": [
      "no. of photons: 0\n",
      "downloading ATL03 for edu_humboldt_humboldt 2022-09-29T01:39:18+00:00\n"
     ]
    },
    {
     "name": "stderr",
     "output_type": "stream",
     "text": [
      "Using simplified polygon (for CMR request only!), 5 points using tolerance of 0.01\n",
      "Using simplified polygon (for CMR request only!), 5 points using tolerance of 0.01\n",
      "Using simplified polygon (for CMR request only!), 5 points using tolerance of 0.01\n",
      "Unable to complete request due to errors\n"
     ]
    },
    {
     "name": "stdout",
     "output_type": "stream",
     "text": [
      "no. of photons: 0\n",
      "downloading ATL03 for edu_humboldt_humboldt 2022-11-28T10:58:49+00:00\n"
     ]
    },
    {
     "name": "stderr",
     "output_type": "stream",
     "text": [
      "Using simplified polygon (for CMR request only!), 5 points using tolerance of 0.01\n",
      "Using simplified polygon (for CMR request only!), 5 points using tolerance of 0.01\n",
      "Using simplified polygon (for CMR request only!), 5 points using tolerance of 0.01\n",
      "Unable to complete request due to errors\n"
     ]
    },
    {
     "name": "stdout",
     "output_type": "stream",
     "text": [
      "no. of photons: 0\n",
      "downloading ATL03 for edu_humboldt_humboldt 2023-05-29T02:18:12+00:00\n"
     ]
    },
    {
     "name": "stderr",
     "output_type": "stream",
     "text": [
      "Using simplified polygon (for CMR request only!), 5 points using tolerance of 0.01\n",
      "Using simplified polygon (for CMR request only!), 5 points using tolerance of 0.01\n",
      "Using simplified polygon (for CMR request only!), 5 points using tolerance of 0.01\n",
      "Unable to complete request due to errors\n"
     ]
    },
    {
     "name": "stdout",
     "output_type": "stream",
     "text": [
      "no. of photons: 0\n"
     ]
    },
    {
     "name": "stderr",
     "output_type": "stream",
     "text": [
      "Using simplified polygon (for CMR request only!), 5 points using tolerance of 0.01\n"
     ]
    },
    {
     "name": "stdout",
     "output_type": "stream",
     "text": [
      "downloading ATL03 for edu_humboldt_humboldt 2023-06-28T12:38:08+00:00\n"
     ]
    },
    {
     "name": "stderr",
     "output_type": "stream",
     "text": [
      "Using simplified polygon (for CMR request only!), 5 points using tolerance of 0.01\n",
      "Using simplified polygon (for CMR request only!), 5 points using tolerance of 0.01\n",
      "Unable to complete request due to errors\n"
     ]
    },
    {
     "name": "stdout",
     "output_type": "stream",
     "text": [
      "no. of photons: 0\n",
      "downloading ATL03 for edu_humboldt_humboldt 2023-08-27T21:57:28+00:00\n"
     ]
    },
    {
     "name": "stderr",
     "output_type": "stream",
     "text": [
      "Using simplified polygon (for CMR request only!), 5 points using tolerance of 0.01\n",
      "Using simplified polygon (for CMR request only!), 5 points using tolerance of 0.01\n",
      "Using simplified polygon (for CMR request only!), 5 points using tolerance of 0.01\n",
      "Unable to complete request due to errors\n"
     ]
    },
    {
     "name": "stdout",
     "output_type": "stream",
     "text": [
      "no. of photons: 0\n"
     ]
    },
    {
     "name": "stderr",
     "output_type": "stream",
     "text": [
      "Using simplified polygon (for CMR request only!), 5 points using tolerance of 0.01\n"
     ]
    },
    {
     "name": "stdout",
     "output_type": "stream",
     "text": [
      "downloading ATL03 for edu_humboldt_humboldt 2023-09-27T08:17:28+00:00\n"
     ]
    },
    {
     "name": "stderr",
     "output_type": "stream",
     "text": [
      "Using simplified polygon (for CMR request only!), 5 points using tolerance of 0.01\n",
      "Using simplified polygon (for CMR request only!), 5 points using tolerance of 0.01\n",
      "Unable to complete request due to errors\n"
     ]
    },
    {
     "name": "stdout",
     "output_type": "stream",
     "text": [
      "no. of photons: 0\n",
      "downloading ATL03 for edu_humboldt_humboldt 2023-11-26T17:37:03+00:00\n"
     ]
    },
    {
     "name": "stderr",
     "output_type": "stream",
     "text": [
      "Using simplified polygon (for CMR request only!), 5 points using tolerance of 0.01\n",
      "Using simplified polygon (for CMR request only!), 5 points using tolerance of 0.01\n",
      "Using simplified polygon (for CMR request only!), 5 points using tolerance of 0.01\n",
      "Unable to complete request due to errors\n"
     ]
    },
    {
     "name": "stdout",
     "output_type": "stream",
     "text": [
      "no. of photons: 0\n",
      "downloading ATL03 for edu_humboldt_humboldt 2024-02-25T13:16:30+00:00\n"
     ]
    },
    {
     "name": "stderr",
     "output_type": "stream",
     "text": [
      "Using simplified polygon (for CMR request only!), 5 points using tolerance of 0.01\n",
      "Using simplified polygon (for CMR request only!), 5 points using tolerance of 0.01\n",
      "Using simplified polygon (for CMR request only!), 5 points using tolerance of 0.01\n",
      "Unable to complete request due to errors\n"
     ]
    },
    {
     "name": "stdout",
     "output_type": "stream",
     "text": [
      "no. of photons: 0\n",
      "downloading ATL03 for edu_humboldt_humboldt 2024-03-26T23:36:25+00:00\n"
     ]
    },
    {
     "name": "stderr",
     "output_type": "stream",
     "text": [
      "Using simplified polygon (for CMR request only!), 5 points using tolerance of 0.01\n",
      "Using simplified polygon (for CMR request only!), 5 points using tolerance of 0.01\n",
      "Using simplified polygon (for CMR request only!), 5 points using tolerance of 0.01\n",
      "Unable to complete request due to errors\n"
     ]
    },
    {
     "name": "stdout",
     "output_type": "stream",
     "text": [
      "no. of photons: 0\n",
      "downloading ATL03 for bios_jack-20190725T1346-delayed 2019-07-27T17:09:46+00:00\n"
     ]
    },
    {
     "name": "stderr",
     "output_type": "stream",
     "text": [
      "Using simplified polygon (for CMR request only!), 5 points using tolerance of 0.01\n",
      "Using simplified polygon (for CMR request only!), 5 points using tolerance of 0.01\n",
      "Using simplified polygon (for CMR request only!), 5 points using tolerance of 0.01\n",
      "Unable to complete request due to errors\n"
     ]
    },
    {
     "name": "stdout",
     "output_type": "stream",
     "text": [
      "no. of photons: 0\n",
      "downloading ATL03 for bios_minnie-20191021T1613-delayed 2019-11-05T00:17:14+00:00\n"
     ]
    },
    {
     "name": "stderr",
     "output_type": "stream",
     "text": [
      "Using simplified polygon (for CMR request only!), 5 points using tolerance of 0.01\n",
      "Using simplified polygon (for CMR request only!), 5 points using tolerance of 0.01\n",
      "Using simplified polygon (for CMR request only!), 5 points using tolerance of 0.01\n",
      "Unable to complete request due to errors\n"
     ]
    },
    {
     "name": "stdout",
     "output_type": "stream",
     "text": [
      "no. of photons: 0\n",
      "downloading ATL03 for bios_minnie-20191021T1613-delayed 2019-12-23T10:01:47+00:00\n"
     ]
    },
    {
     "name": "stderr",
     "output_type": "stream",
     "text": [
      "Using simplified polygon (for CMR request only!), 5 points using tolerance of 0.01\n",
      "Using simplified polygon (for CMR request only!), 5 points using tolerance of 0.01\n",
      "Using simplified polygon (for CMR request only!), 5 points using tolerance of 0.01\n",
      "Unable to complete request due to errors\n"
     ]
    },
    {
     "name": "stdout",
     "output_type": "stream",
     "text": [
      "no. of photons: 0\n",
      "downloading ATL03 for ooi-ce04osps-sf01b-3c-parada102 2019-01-12T06:40:49+00:00\n"
     ]
    },
    {
     "name": "stderr",
     "output_type": "stream",
     "text": [
      "Using simplified polygon (for CMR request only!), 5 points using tolerance of 0.01\n",
      "Using simplified polygon (for CMR request only!), 5 points using tolerance of 0.01\n",
      "Using simplified polygon (for CMR request only!), 5 points using tolerance of 0.01\n",
      "Unable to complete request due to errors\n"
     ]
    },
    {
     "name": "stdout",
     "output_type": "stream",
     "text": [
      "no. of photons: 0\n",
      "downloading ATL03 for ooi-ce04osps-sf01b-3c-parada102 2019-03-08T15:45:35+00:00\n"
     ]
    },
    {
     "name": "stderr",
     "output_type": "stream",
     "text": [
      "Using simplified polygon (for CMR request only!), 5 points using tolerance of 0.01\n",
      "Using simplified polygon (for CMR request only!), 5 points using tolerance of 0.01\n",
      "Using simplified polygon (for CMR request only!), 5 points using tolerance of 0.01\n",
      "Unable to complete request due to errors\n"
     ]
    },
    {
     "name": "stdout",
     "output_type": "stream",
     "text": [
      "no. of photons: 0\n",
      "downloading ATL03 for ooi-ce04osps-sf01b-3c-parada102 2019-06-07T11:25:09+00:00\n"
     ]
    },
    {
     "name": "stderr",
     "output_type": "stream",
     "text": [
      "Using simplified polygon (for CMR request only!), 5 points using tolerance of 0.01\n",
      "Using simplified polygon (for CMR request only!), 5 points using tolerance of 0.01\n",
      "Using simplified polygon (for CMR request only!), 5 points using tolerance of 0.01\n",
      "Unable to complete request due to errors\n"
     ]
    },
    {
     "name": "stdout",
     "output_type": "stream",
     "text": [
      "no. of photons: 0\n",
      "downloading ATL03 for ooi-ce04osps-sf01b-3c-parada102 2019-07-12T22:00:10+00:00\n"
     ]
    },
    {
     "name": "stderr",
     "output_type": "stream",
     "text": [
      "Using simplified polygon (for CMR request only!), 5 points using tolerance of 0.01\n",
      "Using simplified polygon (for CMR request only!), 5 points using tolerance of 0.01\n",
      "Using simplified polygon (for CMR request only!), 5 points using tolerance of 0.01\n",
      "Unable to complete request due to errors\n"
     ]
    },
    {
     "name": "stdout",
     "output_type": "stream",
     "text": [
      "no. of photons: 0\n",
      "downloading ATL03 for ooi-ce04osps-sf01b-3c-parada102 2019-08-10T20:36:23+00:00\n"
     ]
    },
    {
     "name": "stderr",
     "output_type": "stream",
     "text": [
      "Using simplified polygon (for CMR request only!), 5 points using tolerance of 0.01\n",
      "Using simplified polygon (for CMR request only!), 5 points using tolerance of 0.01\n",
      "Using simplified polygon (for CMR request only!), 5 points using tolerance of 0.01\n",
      "Unable to complete request due to errors\n"
     ]
    },
    {
     "name": "stdout",
     "output_type": "stream",
     "text": [
      "no. of photons: 0\n",
      "downloading ATL03 for ooi-ce04osps-sf01b-3c-parada102 2021-09-01T20:23:38+00:00\n"
     ]
    },
    {
     "name": "stderr",
     "output_type": "stream",
     "text": [
      "Using simplified polygon (for CMR request only!), 5 points using tolerance of 0.01\n",
      "Using simplified polygon (for CMR request only!), 5 points using tolerance of 0.01\n",
      "Using simplified polygon (for CMR request only!), 5 points using tolerance of 0.01\n",
      "Unable to complete request due to errors\n"
     ]
    },
    {
     "name": "stdout",
     "output_type": "stream",
     "text": [
      "no. of photons: 0\n",
      "downloading ATL03 for ooi-ce04osps-sf01b-3c-parada102 2022-03-02T11:43:25+00:00\n"
     ]
    },
    {
     "name": "stderr",
     "output_type": "stream",
     "text": [
      "Using simplified polygon (for CMR request only!), 5 points using tolerance of 0.01\n",
      "Using simplified polygon (for CMR request only!), 5 points using tolerance of 0.01\n",
      "Using simplified polygon (for CMR request only!), 5 points using tolerance of 0.01\n",
      "Unable to complete request due to errors\n"
     ]
    },
    {
     "name": "stdout",
     "output_type": "stream",
     "text": [
      "no. of photons: 0\n",
      "downloading ATL03 for ooi-ce04osps-sf01b-3c-parada102 2022-06-01T07:23:23+00:00\n"
     ]
    },
    {
     "name": "stderr",
     "output_type": "stream",
     "text": [
      "Using simplified polygon (for CMR request only!), 5 points using tolerance of 0.01\n",
      "Using simplified polygon (for CMR request only!), 5 points using tolerance of 0.01\n",
      "Using simplified polygon (for CMR request only!), 5 points using tolerance of 0.01\n",
      "Unable to complete request due to errors\n"
     ]
    },
    {
     "name": "stdout",
     "output_type": "stream",
     "text": [
      "no. of photons: 0\n",
      "downloading ATL03 for ooi-ce04osps-sf01b-3c-parada102 2022-07-06T17:58:39+00:00\n"
     ]
    },
    {
     "name": "stderr",
     "output_type": "stream",
     "text": [
      "Using simplified polygon (for CMR request only!), 5 points using tolerance of 0.01\n",
      "Using simplified polygon (for CMR request only!), 5 points using tolerance of 0.01\n",
      "Using simplified polygon (for CMR request only!), 5 points using tolerance of 0.01\n",
      "Unable to complete request due to errors\n"
     ]
    },
    {
     "name": "stdout",
     "output_type": "stream",
     "text": [
      "no. of photons: 0\n",
      "downloading ATL03 for ooi-ce04osps-sf01b-3c-parada102 2023-02-28T18:22:46+00:00\n"
     ]
    },
    {
     "name": "stderr",
     "output_type": "stream",
     "text": [
      "Using simplified polygon (for CMR request only!), 5 points using tolerance of 0.01\n",
      "Using simplified polygon (for CMR request only!), 5 points using tolerance of 0.01\n",
      "Using simplified polygon (for CMR request only!), 5 points using tolerance of 0.01\n",
      "Unable to complete request due to errors\n"
     ]
    },
    {
     "name": "stdout",
     "output_type": "stream",
     "text": [
      "no. of photons: 0\n",
      "downloading ATL03 for ooi-ce04osps-sf01b-3c-parada102 2023-04-05T04:58:05+00:00\n"
     ]
    },
    {
     "name": "stderr",
     "output_type": "stream",
     "text": [
      "Using simplified polygon (for CMR request only!), 5 points using tolerance of 0.01\n",
      "Using simplified polygon (for CMR request only!), 5 points using tolerance of 0.01\n",
      "Using simplified polygon (for CMR request only!), 5 points using tolerance of 0.01\n",
      "Unable to complete request due to errors\n"
     ]
    },
    {
     "name": "stdout",
     "output_type": "stream",
     "text": [
      "no. of photons: 0\n",
      "downloading ATL03 for ooi-ce04osps-sf01b-3c-parada102 2023-05-30T14:02:21+00:00\n"
     ]
    },
    {
     "name": "stderr",
     "output_type": "stream",
     "text": [
      "Using simplified polygon (for CMR request only!), 5 points using tolerance of 0.01\n",
      "Using simplified polygon (for CMR request only!), 5 points using tolerance of 0.01\n",
      "Using simplified polygon (for CMR request only!), 5 points using tolerance of 0.01\n",
      "Unable to complete request due to errors\n"
     ]
    },
    {
     "name": "stdout",
     "output_type": "stream",
     "text": [
      "no. of photons: 0\n"
     ]
    },
    {
     "name": "stderr",
     "output_type": "stream",
     "text": [
      "HTTP Request Error: Gateway Time-out\n",
      "Using simplified polygon (for CMR request only!), 5 points using tolerance of 0.0001\n"
     ]
    },
    {
     "name": "stdout",
     "output_type": "stream",
     "text": [
      "downloading ATL03 for ooi-ce02shsp-sp001-09-paradj000 2019-09-02T07:13:19+00:00\n"
     ]
    },
    {
     "name": "stderr",
     "output_type": "stream",
     "text": [
      "Using simplified polygon (for CMR request only!), 5 points using tolerance of 0.01\n",
      "Using simplified polygon (for CMR request only!), 5 points using tolerance of 0.01\n",
      "Using simplified polygon (for CMR request only!), 5 points using tolerance of 0.01\n",
      "Unable to complete request due to errors\n"
     ]
    },
    {
     "name": "stdout",
     "output_type": "stream",
     "text": [
      "no. of photons: 0\n"
     ]
    },
    {
     "name": "stderr",
     "output_type": "stream",
     "text": [
      "HTTP Request Error: Gateway Time-out\n",
      "Using simplified polygon (for CMR request only!), 5 points using tolerance of 0.0001\n"
     ]
    },
    {
     "name": "stdout",
     "output_type": "stream",
     "text": [
      "downloading ATL03 for ooi-ce06issp-sp001-10-paradj000 2019-09-08T19:12:29+00:00\n"
     ]
    },
    {
     "name": "stderr",
     "output_type": "stream",
     "text": [
      "Using simplified polygon (for CMR request only!), 5 points using tolerance of 0.01\n",
      "Using simplified polygon (for CMR request only!), 5 points using tolerance of 0.01\n",
      "Using simplified polygon (for CMR request only!), 5 points using tolerance of 0.01\n",
      "Unable to complete request due to errors\n"
     ]
    },
    {
     "name": "stdout",
     "output_type": "stream",
     "text": [
      "no. of photons: 0\n",
      "downloading ATL03 for ooi-ce06issp-sp001-10-paradj000 2021-06-27T23:28:06+00:00\n"
     ]
    },
    {
     "name": "stderr",
     "output_type": "stream",
     "text": [
      "Using simplified polygon (for CMR request only!), 5 points using tolerance of 0.01\n",
      "Using simplified polygon (for CMR request only!), 5 points using tolerance of 0.01\n",
      "Using simplified polygon (for CMR request only!), 5 points using tolerance of 0.01\n",
      "Unable to complete request due to errors\n"
     ]
    },
    {
     "name": "stdout",
     "output_type": "stream",
     "text": [
      "no. of photons: 0\n",
      "downloading ATL03 for ooi-ce06issp-sp001-10-paradj000 2022-06-26T06:07:45+00:00\n"
     ]
    },
    {
     "name": "stderr",
     "output_type": "stream",
     "text": [
      "Using simplified polygon (for CMR request only!), 5 points using tolerance of 0.01\n",
      "Using simplified polygon (for CMR request only!), 5 points using tolerance of 0.01\n",
      "Using simplified polygon (for CMR request only!), 5 points using tolerance of 0.01\n",
      "Unable to complete request due to errors\n"
     ]
    },
    {
     "name": "stdout",
     "output_type": "stream",
     "text": [
      "no. of photons: 0\n",
      "downloading ATL03 for ooi-ce09ospm-wfp01-05-paradk000 2019-03-15T03:44:44+00:00\n"
     ]
    },
    {
     "name": "stderr",
     "output_type": "stream",
     "text": [
      "Using simplified polygon (for CMR request only!), 5 points using tolerance of 0.01\n",
      "Using simplified polygon (for CMR request only!), 5 points using tolerance of 0.01\n",
      "Using simplified polygon (for CMR request only!), 5 points using tolerance of 0.01\n",
      "Unable to complete request due to errors\n"
     ]
    },
    {
     "name": "stdout",
     "output_type": "stream",
     "text": [
      "no. of photons: 0\n",
      "downloading ATL03 for ooi-ce09ospm-wfp01-05-paradk000 2019-04-06T14:21:34+00:00\n"
     ]
    },
    {
     "name": "stderr",
     "output_type": "stream",
     "text": [
      "Using simplified polygon (for CMR request only!), 5 points using tolerance of 0.01\n",
      "Using simplified polygon (for CMR request only!), 5 points using tolerance of 0.01\n",
      "Using simplified polygon (for CMR request only!), 5 points using tolerance of 0.01\n",
      "Unable to complete request due to errors\n"
     ]
    },
    {
     "name": "stdout",
     "output_type": "stream",
     "text": [
      "no. of photons: 0\n",
      "downloading ATL03 for ooi-ce09ospm-wfp01-05-paradk000 2020-10-02T12:20:06+00:00\n"
     ]
    },
    {
     "name": "stderr",
     "output_type": "stream",
     "text": [
      "Using simplified polygon (for CMR request only!), 5 points using tolerance of 0.01\n",
      "Using simplified polygon (for CMR request only!), 5 points using tolerance of 0.01\n",
      "Using simplified polygon (for CMR request only!), 5 points using tolerance of 0.01\n",
      "Unable to complete request due to errors\n"
     ]
    },
    {
     "name": "stdout",
     "output_type": "stream",
     "text": [
      "no. of photons: 0\n",
      "downloading ATL03 for ooi-ce09ospm-wfp01-05-paradk000 2020-12-09T21:23:10+00:00\n"
     ]
    },
    {
     "name": "stderr",
     "output_type": "stream",
     "text": [
      "Using simplified polygon (for CMR request only!), 5 points using tolerance of 0.01\n",
      "Using simplified polygon (for CMR request only!), 5 points using tolerance of 0.01\n",
      "Using simplified polygon (for CMR request only!), 5 points using tolerance of 0.01\n",
      "Unable to complete request due to errors\n"
     ]
    },
    {
     "name": "stdout",
     "output_type": "stream",
     "text": [
      "no. of photons: 0\n",
      "downloading ATL03 for ooi-ce09ospm-wfp01-05-paradk000 2021-04-02T03:39:56+00:00\n"
     ]
    },
    {
     "name": "stderr",
     "output_type": "stream",
     "text": [
      "Using simplified polygon (for CMR request only!), 5 points using tolerance of 0.01\n",
      "Using simplified polygon (for CMR request only!), 5 points using tolerance of 0.01\n",
      "Using simplified polygon (for CMR request only!), 5 points using tolerance of 0.01\n",
      "Unable to complete request due to errors\n"
     ]
    },
    {
     "name": "stdout",
     "output_type": "stream",
     "text": [
      "no. of photons: 0\n",
      "downloading ATL03 for ooi-ce09ospm-wfp01-05-paradk000 2021-07-01T23:19:46+00:00\n"
     ]
    },
    {
     "name": "stderr",
     "output_type": "stream",
     "text": [
      "Using simplified polygon (for CMR request only!), 5 points using tolerance of 0.01\n",
      "Using simplified polygon (for CMR request only!), 5 points using tolerance of 0.01\n",
      "Using simplified polygon (for CMR request only!), 5 points using tolerance of 0.01\n",
      "Unable to complete request due to errors\n"
     ]
    },
    {
     "name": "stdout",
     "output_type": "stream",
     "text": [
      "no. of photons: 0\n",
      "downloading ATL03 for ooi-ce09ospm-wfp01-05-paradk000 2021-09-08T08:22:50+00:00\n"
     ]
    },
    {
     "name": "stderr",
     "output_type": "stream",
     "text": [
      "Using simplified polygon (for CMR request only!), 5 points using tolerance of 0.01\n",
      "Using simplified polygon (for CMR request only!), 5 points using tolerance of 0.01\n",
      "Using simplified polygon (for CMR request only!), 5 points using tolerance of 0.01\n",
      "Unable to complete request due to errors\n"
     ]
    },
    {
     "name": "stdout",
     "output_type": "stream",
     "text": [
      "no. of photons: 0\n",
      "downloading ATL03 for ooi-ce09ospm-wfp01-05-paradk000 2022-03-08T23:42:37+00:00\n"
     ]
    },
    {
     "name": "stderr",
     "output_type": "stream",
     "text": [
      "Using simplified polygon (for CMR request only!), 5 points using tolerance of 0.01\n",
      "Using simplified polygon (for CMR request only!), 5 points using tolerance of 0.01\n",
      "Using simplified polygon (for CMR request only!), 5 points using tolerance of 0.01\n",
      "Unable to complete request due to errors\n"
     ]
    },
    {
     "name": "stdout",
     "output_type": "stream",
     "text": [
      "no. of photons: 0\n",
      "downloading ATL03 for ooi-ce09ospm-wfp01-05-paradk000 2022-03-31T10:19:30+00:00\n"
     ]
    },
    {
     "name": "stderr",
     "output_type": "stream",
     "text": [
      "Using simplified polygon (for CMR request only!), 5 points using tolerance of 0.01\n",
      "Using simplified polygon (for CMR request only!), 5 points using tolerance of 0.01\n",
      "Using simplified polygon (for CMR request only!), 5 points using tolerance of 0.01\n",
      "Unable to complete request due to errors\n"
     ]
    },
    {
     "name": "stdout",
     "output_type": "stream",
     "text": [
      "no. of photons: 0\n",
      "downloading ATL03 for ooi-ce09ospm-wfp01-05-paradk000 2022-06-30T05:59:30+00:00\n"
     ]
    },
    {
     "name": "stderr",
     "output_type": "stream",
     "text": [
      "Using simplified polygon (for CMR request only!), 5 points using tolerance of 0.01\n",
      "Using simplified polygon (for CMR request only!), 5 points using tolerance of 0.01\n",
      "Using simplified polygon (for CMR request only!), 5 points using tolerance of 0.01\n",
      "Unable to complete request due to errors\n"
     ]
    },
    {
     "name": "stdout",
     "output_type": "stream",
     "text": [
      "no. of photons: 0\n",
      "downloading ATL03 for ooi-ce09ospm-wfp01-05-paradk000 2022-09-06T15:02:28+00:00\n"
     ]
    },
    {
     "name": "stderr",
     "output_type": "stream",
     "text": [
      "Using simplified polygon (for CMR request only!), 5 points using tolerance of 0.01\n",
      "Using simplified polygon (for CMR request only!), 5 points using tolerance of 0.01\n",
      "Using simplified polygon (for CMR request only!), 5 points using tolerance of 0.01\n",
      "Unable to complete request due to errors\n"
     ]
    },
    {
     "name": "stdout",
     "output_type": "stream",
     "text": [
      "no. of photons: 0\n",
      "downloading ATL03 for ooi-ce09ospm-wfp01-05-paradk000 2023-03-29T16:58:41+00:00\n"
     ]
    },
    {
     "name": "stderr",
     "output_type": "stream",
     "text": [
      "Using simplified polygon (for CMR request only!), 5 points using tolerance of 0.01\n",
      "Using simplified polygon (for CMR request only!), 5 points using tolerance of 0.01\n",
      "Using simplified polygon (for CMR request only!), 5 points using tolerance of 0.01\n",
      "Unable to complete request due to errors\n"
     ]
    },
    {
     "name": "stdout",
     "output_type": "stream",
     "text": [
      "no. of photons: 0\n",
      "downloading ATL03 for ooi-ce09ospm-wfp01-05-paradk000 2023-06-06T02:01:24+00:00\n"
     ]
    },
    {
     "name": "stderr",
     "output_type": "stream",
     "text": [
      "Using simplified polygon (for CMR request only!), 5 points using tolerance of 0.01\n",
      "Using simplified polygon (for CMR request only!), 5 points using tolerance of 0.01\n",
      "Using simplified polygon (for CMR request only!), 5 points using tolerance of 0.01\n",
      "Unable to complete request due to errors\n"
     ]
    },
    {
     "name": "stdout",
     "output_type": "stream",
     "text": [
      "no. of photons: 0\n",
      "downloading ATL03 for ooi-cp02pmci-wfp01-05-paradk000 2019-02-04T13:43:41+00:00\n"
     ]
    },
    {
     "name": "stderr",
     "output_type": "stream",
     "text": [
      "Using simplified polygon (for CMR request only!), 5 points using tolerance of 0.01\n",
      "Using simplified polygon (for CMR request only!), 5 points using tolerance of 0.01\n",
      "Using simplified polygon (for CMR request only!), 5 points using tolerance of 0.01\n",
      "Unable to complete request due to errors\n"
     ]
    },
    {
     "name": "stdout",
     "output_type": "stream",
     "text": [
      "no. of photons: 0\n",
      "downloading ATL03 for ooi-cp02pmci-wfp01-05-paradk000 2019-08-03T17:18:49+00:00\n"
     ]
    },
    {
     "name": "stderr",
     "output_type": "stream",
     "text": [
      "Using simplified polygon (for CMR request only!), 5 points using tolerance of 0.01\n",
      "Using simplified polygon (for CMR request only!), 5 points using tolerance of 0.01\n",
      "Using simplified polygon (for CMR request only!), 5 points using tolerance of 0.01\n",
      "Unable to complete request due to errors\n"
     ]
    },
    {
     "name": "stdout",
     "output_type": "stream",
     "text": [
      "no. of photons: 0\n",
      "downloading ATL03 for ooi-cp02pmci-wfp01-05-paradk000 2020-07-31T23:58:03+00:00\n"
     ]
    },
    {
     "name": "stderr",
     "output_type": "stream",
     "text": [
      "Using simplified polygon (for CMR request only!), 5 points using tolerance of 0.01\n",
      "Using simplified polygon (for CMR request only!), 5 points using tolerance of 0.01\n",
      "Using simplified polygon (for CMR request only!), 5 points using tolerance of 0.01\n",
      "Unable to complete request due to errors\n"
     ]
    },
    {
     "name": "stdout",
     "output_type": "stream",
     "text": [
      "no. of photons: 0\n",
      "downloading ATL03 for ooi-cp02pmci-wfp01-05-paradk000 2020-08-02T11:42:13+00:00\n"
     ]
    },
    {
     "name": "stderr",
     "output_type": "stream",
     "text": [
      "Using simplified polygon (for CMR request only!), 5 points using tolerance of 0.01\n",
      "Using simplified polygon (for CMR request only!), 5 points using tolerance of 0.01\n",
      "Using simplified polygon (for CMR request only!), 5 points using tolerance of 0.01\n",
      "Unable to complete request due to errors\n"
     ]
    },
    {
     "name": "stdout",
     "output_type": "stream",
     "text": [
      "no. of photons: 0\n",
      "downloading ATL03 for ooi-cp02pmci-wfp01-05-paradk000 2020-11-01T07:22:01+00:00\n"
     ]
    },
    {
     "name": "stderr",
     "output_type": "stream",
     "text": [
      "Using simplified polygon (for CMR request only!), 5 points using tolerance of 0.01\n",
      "Using simplified polygon (for CMR request only!), 5 points using tolerance of 0.01\n",
      "Using simplified polygon (for CMR request only!), 5 points using tolerance of 0.01\n",
      "Unable to complete request due to errors\n"
     ]
    },
    {
     "name": "stdout",
     "output_type": "stream",
     "text": [
      "no. of photons: 0\n",
      "downloading ATL03 for ooi-cp02pmci-wfp01-05-paradk000 2021-07-31T18:21:38+00:00\n"
     ]
    },
    {
     "name": "stderr",
     "output_type": "stream",
     "text": [
      "Using simplified polygon (for CMR request only!), 5 points using tolerance of 0.01\n",
      "Using simplified polygon (for CMR request only!), 5 points using tolerance of 0.01\n",
      "Using simplified polygon (for CMR request only!), 5 points using tolerance of 0.01\n",
      "Unable to complete request due to errors\n"
     ]
    },
    {
     "name": "stdout",
     "output_type": "stream",
     "text": [
      "no. of photons: 0\n",
      "downloading ATL03 for ooi-cp02pmci-wfp01-05-paradk000 2021-10-29T02:17:27+00:00\n"
     ]
    },
    {
     "name": "stderr",
     "output_type": "stream",
     "text": [
      "Using simplified polygon (for CMR request only!), 5 points using tolerance of 0.01\n",
      "Using simplified polygon (for CMR request only!), 5 points using tolerance of 0.01\n",
      "Using simplified polygon (for CMR request only!), 5 points using tolerance of 0.01\n",
      "Unable to complete request due to errors\n"
     ]
    },
    {
     "name": "stdout",
     "output_type": "stream",
     "text": [
      "no. of photons: 0\n",
      "downloading ATL03 for ooi-cp02pmci-wfp01-05-paradk000 2022-10-27T08:56:52+00:00\n"
     ]
    },
    {
     "name": "stderr",
     "output_type": "stream",
     "text": [
      "Using simplified polygon (for CMR request only!), 5 points using tolerance of 0.01\n",
      "Using simplified polygon (for CMR request only!), 5 points using tolerance of 0.01\n",
      "Using simplified polygon (for CMR request only!), 5 points using tolerance of 0.01\n",
      "Unable to complete request due to errors\n"
     ]
    },
    {
     "name": "stdout",
     "output_type": "stream",
     "text": [
      "no. of photons: 0\n",
      "downloading ATL03 for ooi-cp02pmci-wfp01-05-paradk000 2022-10-28T20:41:01+00:00\n"
     ]
    },
    {
     "name": "stderr",
     "output_type": "stream",
     "text": [
      "Using simplified polygon (for CMR request only!), 5 points using tolerance of 0.01\n",
      "Using simplified polygon (for CMR request only!), 5 points using tolerance of 0.01\n",
      "Using simplified polygon (for CMR request only!), 5 points using tolerance of 0.01\n",
      "Unable to complete request due to errors\n"
     ]
    },
    {
     "name": "stdout",
     "output_type": "stream",
     "text": [
      "no. of photons: 0\n",
      "downloading ATL03 for ooi-cp02pmco-wfp01-05-paradk000 2018-11-04T06:19:37+00:00\n"
     ]
    },
    {
     "name": "stderr",
     "output_type": "stream",
     "text": [
      "Using simplified polygon (for CMR request only!), 5 points using tolerance of 0.01\n",
      "Using simplified polygon (for CMR request only!), 5 points using tolerance of 0.01\n",
      "Using simplified polygon (for CMR request only!), 5 points using tolerance of 0.01\n",
      "Unable to complete request due to errors\n"
     ]
    },
    {
     "name": "stdout",
     "output_type": "stream",
     "text": [
      "no. of photons: 0\n",
      "downloading ATL03 for ooi-cp02pmco-wfp01-05-paradk000 2018-11-05T18:03:48+00:00\n"
     ]
    },
    {
     "name": "stderr",
     "output_type": "stream",
     "text": [
      "Using simplified polygon (for CMR request only!), 5 points using tolerance of 0.01\n",
      "Using simplified polygon (for CMR request only!), 5 points using tolerance of 0.01\n",
      "Using simplified polygon (for CMR request only!), 5 points using tolerance of 0.01\n",
      "Unable to complete request due to errors\n"
     ]
    },
    {
     "name": "stdout",
     "output_type": "stream",
     "text": [
      "no. of photons: 0\n",
      "downloading ATL03 for ooi-cp02pmco-wfp01-05-paradk000 2019-02-04T13:43:41+00:00\n"
     ]
    },
    {
     "name": "stderr",
     "output_type": "stream",
     "text": [
      "Using simplified polygon (for CMR request only!), 5 points using tolerance of 0.01\n",
      "Using simplified polygon (for CMR request only!), 5 points using tolerance of 0.01\n",
      "Using simplified polygon (for CMR request only!), 5 points using tolerance of 0.01\n",
      "Unable to complete request due to errors\n"
     ]
    },
    {
     "name": "stdout",
     "output_type": "stream",
     "text": [
      "no. of photons: 0\n",
      "downloading ATL03 for ooi-cp02pmco-wfp01-05-paradk000 2019-08-03T17:18:49+00:00\n"
     ]
    },
    {
     "name": "stderr",
     "output_type": "stream",
     "text": [
      "Using simplified polygon (for CMR request only!), 5 points using tolerance of 0.01\n",
      "Using simplified polygon (for CMR request only!), 5 points using tolerance of 0.01\n",
      "Using simplified polygon (for CMR request only!), 5 points using tolerance of 0.01\n",
      "Unable to complete request due to errors\n"
     ]
    },
    {
     "name": "stdout",
     "output_type": "stream",
     "text": [
      "no. of photons: 0\n",
      "downloading ATL03 for ooi-cp02pmco-wfp01-05-paradk000 2020-07-31T23:58:03+00:00\n"
     ]
    },
    {
     "name": "stderr",
     "output_type": "stream",
     "text": [
      "Using simplified polygon (for CMR request only!), 5 points using tolerance of 0.01\n",
      "Using simplified polygon (for CMR request only!), 5 points using tolerance of 0.01\n",
      "Using simplified polygon (for CMR request only!), 5 points using tolerance of 0.01\n",
      "Unable to complete request due to errors\n"
     ]
    },
    {
     "name": "stdout",
     "output_type": "stream",
     "text": [
      "no. of photons: 0\n",
      "downloading ATL03 for ooi-cp02pmco-wfp01-05-paradk000 2020-08-02T11:42:13+00:00\n"
     ]
    },
    {
     "name": "stderr",
     "output_type": "stream",
     "text": [
      "Using simplified polygon (for CMR request only!), 5 points using tolerance of 0.01\n",
      "Using simplified polygon (for CMR request only!), 5 points using tolerance of 0.01\n",
      "Using simplified polygon (for CMR request only!), 5 points using tolerance of 0.01\n",
      "Unable to complete request due to errors\n"
     ]
    },
    {
     "name": "stdout",
     "output_type": "stream",
     "text": [
      "no. of photons: 0\n",
      "downloading ATL03 for ooi-cp02pmco-wfp01-05-paradk000 2020-11-01T07:22:01+00:00\n"
     ]
    },
    {
     "name": "stderr",
     "output_type": "stream",
     "text": [
      "Using simplified polygon (for CMR request only!), 5 points using tolerance of 0.01\n",
      "Using simplified polygon (for CMR request only!), 5 points using tolerance of 0.01\n",
      "Using simplified polygon (for CMR request only!), 5 points using tolerance of 0.01\n",
      "Unable to complete request due to errors\n"
     ]
    },
    {
     "name": "stdout",
     "output_type": "stream",
     "text": [
      "no. of photons: 0\n",
      "downloading ATL03 for ooi-cp02pmco-wfp01-05-paradk000 2021-05-01T22:41:45+00:00\n"
     ]
    },
    {
     "name": "stderr",
     "output_type": "stream",
     "text": [
      "Using simplified polygon (for CMR request only!), 5 points using tolerance of 0.01\n",
      "Using simplified polygon (for CMR request only!), 5 points using tolerance of 0.01\n",
      "Using simplified polygon (for CMR request only!), 5 points using tolerance of 0.01\n",
      "Unable to complete request due to errors\n"
     ]
    },
    {
     "name": "stdout",
     "output_type": "stream",
     "text": [
      "no. of photons: 0\n",
      "downloading ATL03 for ooi-cp02pmco-wfp01-05-paradk000 2021-07-31T18:21:38+00:00\n"
     ]
    },
    {
     "name": "stderr",
     "output_type": "stream",
     "text": [
      "Using simplified polygon (for CMR request only!), 5 points using tolerance of 0.01\n",
      "Using simplified polygon (for CMR request only!), 5 points using tolerance of 0.01\n",
      "Using simplified polygon (for CMR request only!), 5 points using tolerance of 0.01\n",
      "Unable to complete request due to errors\n"
     ]
    },
    {
     "name": "stdout",
     "output_type": "stream",
     "text": [
      "no. of photons: 0\n",
      "downloading ATL03 for ooi-cp02pmco-wfp01-05-paradk000 2022-10-27T08:56:52+00:00\n"
     ]
    },
    {
     "name": "stderr",
     "output_type": "stream",
     "text": [
      "Using simplified polygon (for CMR request only!), 5 points using tolerance of 0.01\n",
      "Using simplified polygon (for CMR request only!), 5 points using tolerance of 0.01\n",
      "Using simplified polygon (for CMR request only!), 5 points using tolerance of 0.01\n",
      "Unable to complete request due to errors\n"
     ]
    },
    {
     "name": "stdout",
     "output_type": "stream",
     "text": [
      "no. of photons: 0\n",
      "downloading ATL03 for ooi-cp02pmco-wfp01-05-paradk000 2022-10-28T20:41:01+00:00\n"
     ]
    },
    {
     "name": "stderr",
     "output_type": "stream",
     "text": [
      "Using simplified polygon (for CMR request only!), 5 points using tolerance of 0.01\n",
      "Using simplified polygon (for CMR request only!), 5 points using tolerance of 0.01\n",
      "Using simplified polygon (for CMR request only!), 5 points using tolerance of 0.01\n",
      "Unable to complete request due to errors\n"
     ]
    },
    {
     "name": "stdout",
     "output_type": "stream",
     "text": [
      "no. of photons: 0\n",
      "downloading ATL03 for ooi-cp01cnpm-wfp01-05-paradk000 2018-11-04T06:19:37+00:00\n"
     ]
    },
    {
     "name": "stderr",
     "output_type": "stream",
     "text": [
      "Using simplified polygon (for CMR request only!), 5 points using tolerance of 0.01\n",
      "Using simplified polygon (for CMR request only!), 5 points using tolerance of 0.01\n",
      "Using simplified polygon (for CMR request only!), 5 points using tolerance of 0.01\n",
      "Unable to complete request due to errors\n"
     ]
    },
    {
     "name": "stdout",
     "output_type": "stream",
     "text": [
      "no. of photons: 0\n",
      "downloading ATL03 for ooi-cp01cnpm-wfp01-05-paradk000 2018-11-05T18:03:48+00:00\n"
     ]
    },
    {
     "name": "stderr",
     "output_type": "stream",
     "text": [
      "Using simplified polygon (for CMR request only!), 5 points using tolerance of 0.01\n",
      "Using simplified polygon (for CMR request only!), 5 points using tolerance of 0.01\n",
      "Using simplified polygon (for CMR request only!), 5 points using tolerance of 0.01\n",
      "Unable to complete request due to errors\n"
     ]
    },
    {
     "name": "stdout",
     "output_type": "stream",
     "text": [
      "no. of photons: 0\n",
      "downloading ATL03 for ooi-cp01cnpm-wfp01-05-paradk000 2019-02-03T01:59:31+00:00\n"
     ]
    },
    {
     "name": "stderr",
     "output_type": "stream",
     "text": [
      "Using simplified polygon (for CMR request only!), 5 points using tolerance of 0.01\n",
      "Using simplified polygon (for CMR request only!), 5 points using tolerance of 0.01\n",
      "Using simplified polygon (for CMR request only!), 5 points using tolerance of 0.01\n",
      "Unable to complete request due to errors\n"
     ]
    },
    {
     "name": "stdout",
     "output_type": "stream",
     "text": [
      "no. of photons: 0\n",
      "downloading ATL03 for ooi-cp01cnpm-wfp01-05-paradk000 2019-12-02T23:18:54+00:00\n"
     ]
    },
    {
     "name": "stderr",
     "output_type": "stream",
     "text": [
      "Using simplified polygon (for CMR request only!), 5 points using tolerance of 0.01\n",
      "Using simplified polygon (for CMR request only!), 5 points using tolerance of 0.01\n",
      "Using simplified polygon (for CMR request only!), 5 points using tolerance of 0.01\n",
      "Unable to complete request due to errors\n"
     ]
    },
    {
     "name": "stdout",
     "output_type": "stream",
     "text": [
      "no. of photons: 0\n",
      "downloading ATL03 for ooi-cp01cnpm-wfp01-05-paradk000 2020-10-30T19:37:51+00:00\n"
     ]
    },
    {
     "name": "stderr",
     "output_type": "stream",
     "text": [
      "Using simplified polygon (for CMR request only!), 5 points using tolerance of 0.01\n",
      "Using simplified polygon (for CMR request only!), 5 points using tolerance of 0.01\n",
      "Using simplified polygon (for CMR request only!), 5 points using tolerance of 0.01\n",
      "Unable to complete request due to errors\n"
     ]
    },
    {
     "name": "stdout",
     "output_type": "stream",
     "text": [
      "no. of photons: 0\n",
      "downloading ATL03 for ooi-cp01cnpm-wfp01-05-paradk000 2021-01-31T03:01:56+00:00\n"
     ]
    },
    {
     "name": "stderr",
     "output_type": "stream",
     "text": [
      "Using simplified polygon (for CMR request only!), 5 points using tolerance of 0.01\n",
      "Using simplified polygon (for CMR request only!), 5 points using tolerance of 0.01\n",
      "Using simplified polygon (for CMR request only!), 5 points using tolerance of 0.01\n",
      "Unable to complete request due to errors\n"
     ]
    },
    {
     "name": "stdout",
     "output_type": "stream",
     "text": [
      "no. of photons: 0\n",
      "downloading ATL03 for ooi-cp03ispm-wfp01-05-paradk000 2018-11-05T18:03:48+00:00\n"
     ]
    },
    {
     "name": "stderr",
     "output_type": "stream",
     "text": [
      "Using simplified polygon (for CMR request only!), 5 points using tolerance of 0.01\n",
      "Using simplified polygon (for CMR request only!), 5 points using tolerance of 0.01\n",
      "Using simplified polygon (for CMR request only!), 5 points using tolerance of 0.01\n",
      "Unable to complete request due to errors\n"
     ]
    },
    {
     "name": "stdout",
     "output_type": "stream",
     "text": [
      "no. of photons: 0\n",
      "downloading ATL03 for ooi-cp03ispm-wfp01-05-paradk000 2019-02-04T13:43:41+00:00\n"
     ]
    },
    {
     "name": "stderr",
     "output_type": "stream",
     "text": [
      "Using simplified polygon (for CMR request only!), 5 points using tolerance of 0.01\n",
      "Using simplified polygon (for CMR request only!), 5 points using tolerance of 0.01\n",
      "Using simplified polygon (for CMR request only!), 5 points using tolerance of 0.01\n",
      "Unable to complete request due to errors\n"
     ]
    },
    {
     "name": "stdout",
     "output_type": "stream",
     "text": [
      "no. of photons: 0\n",
      "downloading ATL03 for ooi-cp03ispm-wfp01-05-paradk000 2020-11-01T07:22:01+00:00\n"
     ]
    },
    {
     "name": "stderr",
     "output_type": "stream",
     "text": [
      "Using simplified polygon (for CMR request only!), 5 points using tolerance of 0.01\n",
      "Using simplified polygon (for CMR request only!), 5 points using tolerance of 0.01\n",
      "Using simplified polygon (for CMR request only!), 5 points using tolerance of 0.01\n",
      "Unable to complete request due to errors\n"
     ]
    },
    {
     "name": "stdout",
     "output_type": "stream",
     "text": [
      "no. of photons: 0\n",
      "downloading ATL03 for ooi-cp03ispm-wfp01-05-paradk000 2021-01-29T15:17:46+00:00\n"
     ]
    },
    {
     "name": "stderr",
     "output_type": "stream",
     "text": [
      "Using simplified polygon (for CMR request only!), 5 points using tolerance of 0.01\n",
      "Using simplified polygon (for CMR request only!), 5 points using tolerance of 0.01\n",
      "Using simplified polygon (for CMR request only!), 5 points using tolerance of 0.01\n",
      "Unable to complete request due to errors\n"
     ]
    },
    {
     "name": "stdout",
     "output_type": "stream",
     "text": [
      "no. of photons: 0\n",
      "downloading ATL03 for ooi-cp03ispm-wfp01-05-paradk000 2021-01-31T03:01:56+00:00\n"
     ]
    },
    {
     "name": "stderr",
     "output_type": "stream",
     "text": [
      "Using simplified polygon (for CMR request only!), 5 points using tolerance of 0.01\n",
      "Using simplified polygon (for CMR request only!), 5 points using tolerance of 0.01\n",
      "Using simplified polygon (for CMR request only!), 5 points using tolerance of 0.01\n",
      "Unable to complete request due to errors\n"
     ]
    },
    {
     "name": "stdout",
     "output_type": "stream",
     "text": [
      "no. of photons: 0\n",
      "downloading ATL03 for ooi-cp04ospm-wfp01-05-paradk000 2018-11-05T18:03:48+00:00\n"
     ]
    },
    {
     "name": "stderr",
     "output_type": "stream",
     "text": [
      "Using simplified polygon (for CMR request only!), 5 points using tolerance of 0.01\n",
      "Using simplified polygon (for CMR request only!), 5 points using tolerance of 0.01\n",
      "Using simplified polygon (for CMR request only!), 5 points using tolerance of 0.01\n",
      "Unable to complete request due to errors\n"
     ]
    },
    {
     "name": "stdout",
     "output_type": "stream",
     "text": [
      "no. of photons: 0\n",
      "downloading ATL03 for ooi-cp04ospm-wfp01-05-paradk000 2019-02-03T01:59:31+00:00\n"
     ]
    },
    {
     "name": "stderr",
     "output_type": "stream",
     "text": [
      "Using simplified polygon (for CMR request only!), 5 points using tolerance of 0.01\n",
      "Using simplified polygon (for CMR request only!), 5 points using tolerance of 0.01\n",
      "Using simplified polygon (for CMR request only!), 5 points using tolerance of 0.01\n",
      "Unable to complete request due to errors\n"
     ]
    },
    {
     "name": "stdout",
     "output_type": "stream",
     "text": [
      "no. of photons: 0\n",
      "downloading ATL03 for ooi-cp04ospm-wfp01-05-paradk000 2019-02-04T13:43:41+00:00\n"
     ]
    },
    {
     "name": "stderr",
     "output_type": "stream",
     "text": [
      "Using simplified polygon (for CMR request only!), 5 points using tolerance of 0.01\n",
      "Using simplified polygon (for CMR request only!), 5 points using tolerance of 0.01\n",
      "Using simplified polygon (for CMR request only!), 5 points using tolerance of 0.01\n",
      "Unable to complete request due to errors\n"
     ]
    },
    {
     "name": "stdout",
     "output_type": "stream",
     "text": [
      "no. of photons: 0\n",
      "downloading ATL03 for ooi-cp04ospm-wfp01-05-paradk000 2019-08-03T17:18:49+00:00\n"
     ]
    },
    {
     "name": "stderr",
     "output_type": "stream",
     "text": [
      "Using simplified polygon (for CMR request only!), 5 points using tolerance of 0.01\n",
      "Using simplified polygon (for CMR request only!), 5 points using tolerance of 0.01\n",
      "Using simplified polygon (for CMR request only!), 5 points using tolerance of 0.01\n",
      "Unable to complete request due to errors\n"
     ]
    },
    {
     "name": "stdout",
     "output_type": "stream",
     "text": [
      "no. of photons: 0\n",
      "downloading ATL03 for ooi-cp04ospm-wfp01-05-paradk000 2019-08-05T05:02:59+00:00\n"
     ]
    },
    {
     "name": "stderr",
     "output_type": "stream",
     "text": [
      "Using simplified polygon (for CMR request only!), 5 points using tolerance of 0.01\n",
      "Using simplified polygon (for CMR request only!), 5 points using tolerance of 0.01\n",
      "Using simplified polygon (for CMR request only!), 5 points using tolerance of 0.01\n",
      "Unable to complete request due to errors\n"
     ]
    },
    {
     "name": "stdout",
     "output_type": "stream",
     "text": [
      "no. of photons: 0\n",
      "downloading ATL03 for ooi-cp04ospm-wfp01-05-paradk000 2020-07-31T23:58:03+00:00\n"
     ]
    },
    {
     "name": "stderr",
     "output_type": "stream",
     "text": [
      "Using simplified polygon (for CMR request only!), 5 points using tolerance of 0.01\n",
      "Using simplified polygon (for CMR request only!), 5 points using tolerance of 0.01\n",
      "Using simplified polygon (for CMR request only!), 5 points using tolerance of 0.01\n",
      "Unable to complete request due to errors\n"
     ]
    },
    {
     "name": "stdout",
     "output_type": "stream",
     "text": [
      "no. of photons: 0\n",
      "downloading ATL03 for ooi-cp04ospm-wfp01-05-paradk000 2020-08-02T11:42:13+00:00\n"
     ]
    },
    {
     "name": "stderr",
     "output_type": "stream",
     "text": [
      "Using simplified polygon (for CMR request only!), 5 points using tolerance of 0.01\n",
      "Using simplified polygon (for CMR request only!), 5 points using tolerance of 0.01\n",
      "Using simplified polygon (for CMR request only!), 5 points using tolerance of 0.01\n",
      "Unable to complete request due to errors\n"
     ]
    },
    {
     "name": "stdout",
     "output_type": "stream",
     "text": [
      "no. of photons: 0\n",
      "downloading ATL03 for ooi-cp04ospm-wfp01-05-paradk000 2020-10-30T19:37:51+00:00\n"
     ]
    },
    {
     "name": "stderr",
     "output_type": "stream",
     "text": [
      "Using simplified polygon (for CMR request only!), 5 points using tolerance of 0.01\n",
      "Using simplified polygon (for CMR request only!), 5 points using tolerance of 0.01\n",
      "Using simplified polygon (for CMR request only!), 5 points using tolerance of 0.01\n",
      "Unable to complete request due to errors\n"
     ]
    },
    {
     "name": "stdout",
     "output_type": "stream",
     "text": [
      "no. of photons: 0\n",
      "downloading ATL03 for ooi-cp04ospm-wfp01-05-paradk000 2020-11-01T07:22:01+00:00\n"
     ]
    },
    {
     "name": "stderr",
     "output_type": "stream",
     "text": [
      "Using simplified polygon (for CMR request only!), 5 points using tolerance of 0.01\n",
      "Using simplified polygon (for CMR request only!), 5 points using tolerance of 0.01\n",
      "Using simplified polygon (for CMR request only!), 5 points using tolerance of 0.01\n",
      "Unable to complete request due to errors\n"
     ]
    },
    {
     "name": "stdout",
     "output_type": "stream",
     "text": [
      "no. of photons: 0\n",
      "downloading ATL03 for ooi-cp04ospm-wfp01-05-paradk000 2021-01-29T15:17:46+00:00\n"
     ]
    },
    {
     "name": "stderr",
     "output_type": "stream",
     "text": [
      "Using simplified polygon (for CMR request only!), 5 points using tolerance of 0.01\n",
      "Using simplified polygon (for CMR request only!), 5 points using tolerance of 0.01\n",
      "Using simplified polygon (for CMR request only!), 5 points using tolerance of 0.01\n",
      "Unable to complete request due to errors\n"
     ]
    },
    {
     "name": "stdout",
     "output_type": "stream",
     "text": [
      "no. of photons: 0\n",
      "downloading ATL03 for ooi-cp04ospm-wfp01-05-paradk000 2021-05-01T22:41:45+00:00\n"
     ]
    },
    {
     "name": "stderr",
     "output_type": "stream",
     "text": [
      "Using simplified polygon (for CMR request only!), 5 points using tolerance of 0.01\n",
      "Using simplified polygon (for CMR request only!), 5 points using tolerance of 0.01\n",
      "Using simplified polygon (for CMR request only!), 5 points using tolerance of 0.01\n",
      "Unable to complete request due to errors\n"
     ]
    },
    {
     "name": "stdout",
     "output_type": "stream",
     "text": [
      "no. of photons: 0\n",
      "downloading ATL03 for ooi-cp04ospm-wfp01-05-paradk000 2021-07-31T18:21:38+00:00\n"
     ]
    },
    {
     "name": "stderr",
     "output_type": "stream",
     "text": [
      "Using simplified polygon (for CMR request only!), 5 points using tolerance of 0.01\n",
      "Using simplified polygon (for CMR request only!), 5 points using tolerance of 0.01\n",
      "Using simplified polygon (for CMR request only!), 5 points using tolerance of 0.01\n",
      "Unable to complete request due to errors\n"
     ]
    },
    {
     "name": "stdout",
     "output_type": "stream",
     "text": [
      "no. of photons: 0\n",
      "downloading ATL03 for ooi-cp04ospm-wfp01-05-paradk000 2021-10-29T02:17:27+00:00\n"
     ]
    },
    {
     "name": "stderr",
     "output_type": "stream",
     "text": [
      "Using simplified polygon (for CMR request only!), 5 points using tolerance of 0.01\n",
      "Using simplified polygon (for CMR request only!), 5 points using tolerance of 0.01\n",
      "Using simplified polygon (for CMR request only!), 5 points using tolerance of 0.01\n",
      "Unable to complete request due to errors\n"
     ]
    },
    {
     "name": "stdout",
     "output_type": "stream",
     "text": [
      "no. of photons: 0\n",
      "downloading ATL03 for ooi-cp04ospm-wfp01-05-paradk000 2022-04-30T05:21:16+00:00\n"
     ]
    },
    {
     "name": "stderr",
     "output_type": "stream",
     "text": [
      "Using simplified polygon (for CMR request only!), 5 points using tolerance of 0.01\n",
      "Using simplified polygon (for CMR request only!), 5 points using tolerance of 0.01\n",
      "Using simplified polygon (for CMR request only!), 5 points using tolerance of 0.01\n",
      "Unable to complete request due to errors\n"
     ]
    },
    {
     "name": "stdout",
     "output_type": "stream",
     "text": [
      "no. of photons: 0\n",
      "downloading ATL03 for ooi-cp04ospm-wfp01-05-paradk000 2022-10-27T08:56:52+00:00\n"
     ]
    },
    {
     "name": "stderr",
     "output_type": "stream",
     "text": [
      "Using simplified polygon (for CMR request only!), 5 points using tolerance of 0.01\n",
      "Using simplified polygon (for CMR request only!), 5 points using tolerance of 0.01\n",
      "Using simplified polygon (for CMR request only!), 5 points using tolerance of 0.01\n",
      "Unable to complete request due to errors\n"
     ]
    },
    {
     "name": "stdout",
     "output_type": "stream",
     "text": [
      "no. of photons: 0\n",
      "downloading ATL03 for ooi-cp04ospm-wfp01-05-paradk000 2022-10-28T20:41:01+00:00\n"
     ]
    },
    {
     "name": "stderr",
     "output_type": "stream",
     "text": [
      "Using simplified polygon (for CMR request only!), 5 points using tolerance of 0.01\n",
      "Using simplified polygon (for CMR request only!), 5 points using tolerance of 0.01\n",
      "Using simplified polygon (for CMR request only!), 5 points using tolerance of 0.01\n",
      "Unable to complete request due to errors\n"
     ]
    },
    {
     "name": "stdout",
     "output_type": "stream",
     "text": [
      "no. of photons: 0\n",
      "downloading ATL03 for ooi-cp02pmui-wfp01-05-paradk000 2018-11-04T06:19:37+00:00\n"
     ]
    },
    {
     "name": "stderr",
     "output_type": "stream",
     "text": [
      "Using simplified polygon (for CMR request only!), 5 points using tolerance of 0.01\n",
      "Using simplified polygon (for CMR request only!), 5 points using tolerance of 0.01\n",
      "Using simplified polygon (for CMR request only!), 5 points using tolerance of 0.01\n",
      "Unable to complete request due to errors\n"
     ]
    },
    {
     "name": "stdout",
     "output_type": "stream",
     "text": [
      "no. of photons: 0\n",
      "downloading ATL03 for ooi-cp02pmui-wfp01-05-paradk000 2019-02-03T01:59:31+00:00\n"
     ]
    },
    {
     "name": "stderr",
     "output_type": "stream",
     "text": [
      "Using simplified polygon (for CMR request only!), 5 points using tolerance of 0.01\n",
      "Using simplified polygon (for CMR request only!), 5 points using tolerance of 0.01\n",
      "Using simplified polygon (for CMR request only!), 5 points using tolerance of 0.01\n",
      "Unable to complete request due to errors\n"
     ]
    },
    {
     "name": "stdout",
     "output_type": "stream",
     "text": [
      "no. of photons: 0\n",
      "downloading ATL03 for ooi-cp02pmui-wfp01-05-paradk000 2019-12-02T23:18:54+00:00\n"
     ]
    },
    {
     "name": "stderr",
     "output_type": "stream",
     "text": [
      "Using simplified polygon (for CMR request only!), 5 points using tolerance of 0.01\n",
      "Using simplified polygon (for CMR request only!), 5 points using tolerance of 0.01\n",
      "Using simplified polygon (for CMR request only!), 5 points using tolerance of 0.01\n",
      "Unable to complete request due to errors\n"
     ]
    },
    {
     "name": "stdout",
     "output_type": "stream",
     "text": [
      "no. of photons: 0\n",
      "downloading ATL03 for ooi-cp02pmui-wfp01-05-paradk000 2020-07-31T23:58:03+00:00\n"
     ]
    },
    {
     "name": "stderr",
     "output_type": "stream",
     "text": [
      "Using simplified polygon (for CMR request only!), 5 points using tolerance of 0.01\n",
      "Using simplified polygon (for CMR request only!), 5 points using tolerance of 0.01\n",
      "Using simplified polygon (for CMR request only!), 5 points using tolerance of 0.01\n",
      "Unable to complete request due to errors\n"
     ]
    },
    {
     "name": "stdout",
     "output_type": "stream",
     "text": [
      "no. of photons: 0\n",
      "downloading ATL03 for ooi-cp02pmui-wfp01-05-paradk000 2020-10-30T19:37:51+00:00\n"
     ]
    },
    {
     "name": "stderr",
     "output_type": "stream",
     "text": [
      "Using simplified polygon (for CMR request only!), 5 points using tolerance of 0.01\n",
      "Using simplified polygon (for CMR request only!), 5 points using tolerance of 0.01\n",
      "Using simplified polygon (for CMR request only!), 5 points using tolerance of 0.01\n",
      "Unable to complete request due to errors\n"
     ]
    },
    {
     "name": "stdout",
     "output_type": "stream",
     "text": [
      "no. of photons: 0\n",
      "downloading ATL03 for ooi-cp02pmui-wfp01-05-paradk000 2021-05-30T21:17:49+00:00\n"
     ]
    },
    {
     "name": "stderr",
     "output_type": "stream",
     "text": [
      "Using simplified polygon (for CMR request only!), 5 points using tolerance of 0.01\n",
      "Using simplified polygon (for CMR request only!), 5 points using tolerance of 0.01\n",
      "Using simplified polygon (for CMR request only!), 5 points using tolerance of 0.01\n",
      "Unable to complete request due to errors\n"
     ]
    },
    {
     "name": "stdout",
     "output_type": "stream",
     "text": [
      "no. of photons: 0\n",
      "downloading ATL03 for ooi-cp02pmui-wfp01-05-paradk000 2021-10-30T14:01:37+00:00\n"
     ]
    },
    {
     "name": "stderr",
     "output_type": "stream",
     "text": [
      "Using simplified polygon (for CMR request only!), 5 points using tolerance of 0.01\n",
      "Using simplified polygon (for CMR request only!), 5 points using tolerance of 0.01\n",
      "Using simplified polygon (for CMR request only!), 5 points using tolerance of 0.01\n",
      "Unable to complete request due to errors\n"
     ]
    },
    {
     "name": "stdout",
     "output_type": "stream",
     "text": [
      "no. of photons: 0\n",
      "downloading ATL03 for ooi-cp02pmui-wfp01-05-paradk000 2022-07-28T13:17:07+00:00\n"
     ]
    },
    {
     "name": "stderr",
     "output_type": "stream",
     "text": [
      "Using simplified polygon (for CMR request only!), 5 points using tolerance of 0.01\n",
      "Using simplified polygon (for CMR request only!), 5 points using tolerance of 0.01\n",
      "Using simplified polygon (for CMR request only!), 5 points using tolerance of 0.01\n",
      "Unable to complete request due to errors\n"
     ]
    },
    {
     "name": "stdout",
     "output_type": "stream",
     "text": [
      "no. of photons: 0\n",
      "downloading ATL03 for ooi-cp02pmui-wfp01-05-paradk000 2022-08-27T23:37:26+00:00\n"
     ]
    },
    {
     "name": "stderr",
     "output_type": "stream",
     "text": [
      "Using simplified polygon (for CMR request only!), 5 points using tolerance of 0.01\n",
      "Using simplified polygon (for CMR request only!), 5 points using tolerance of 0.01\n",
      "Using simplified polygon (for CMR request only!), 5 points using tolerance of 0.01\n",
      "Unable to complete request due to errors\n"
     ]
    },
    {
     "name": "stdout",
     "output_type": "stream",
     "text": [
      "no. of photons: 0\n",
      "downloading ATL03 for ooi-cp02pmui-wfp01-05-paradk000 2022-10-27T08:56:52+00:00\n"
     ]
    },
    {
     "name": "stderr",
     "output_type": "stream",
     "text": [
      "Using simplified polygon (for CMR request only!), 5 points using tolerance of 0.01\n",
      "Using simplified polygon (for CMR request only!), 5 points using tolerance of 0.01\n",
      "Using simplified polygon (for CMR request only!), 5 points using tolerance of 0.01\n",
      "Unable to complete request due to errors\n"
     ]
    },
    {
     "name": "stdout",
     "output_type": "stream",
     "text": [
      "no. of photons: 0\n",
      "downloading ATL03 for ooi-cp02pmui-wfp01-05-paradk000 2022-10-28T20:41:01+00:00\n"
     ]
    },
    {
     "name": "stderr",
     "output_type": "stream",
     "text": [
      "Using simplified polygon (for CMR request only!), 5 points using tolerance of 0.01\n",
      "Using simplified polygon (for CMR request only!), 5 points using tolerance of 0.01\n",
      "Using simplified polygon (for CMR request only!), 5 points using tolerance of 0.01\n",
      "Unable to complete request due to errors\n"
     ]
    },
    {
     "name": "stdout",
     "output_type": "stream",
     "text": [
      "no. of photons: 0\n",
      "downloading ATL03 for ooi-cp02pmuo-wfp01-05-paradk000 2018-11-05T18:03:48+00:00\n"
     ]
    },
    {
     "name": "stderr",
     "output_type": "stream",
     "text": [
      "Using simplified polygon (for CMR request only!), 5 points using tolerance of 0.01\n",
      "Using simplified polygon (for CMR request only!), 5 points using tolerance of 0.01\n",
      "Using simplified polygon (for CMR request only!), 5 points using tolerance of 0.01\n",
      "Unable to complete request due to errors\n"
     ]
    },
    {
     "name": "stdout",
     "output_type": "stream",
     "text": [
      "no. of photons: 0\n",
      "downloading ATL03 for ooi-cp02pmuo-wfp01-05-paradk000 2019-02-03T01:59:31+00:00\n"
     ]
    },
    {
     "name": "stderr",
     "output_type": "stream",
     "text": [
      "Using simplified polygon (for CMR request only!), 5 points using tolerance of 0.01\n",
      "Using simplified polygon (for CMR request only!), 5 points using tolerance of 0.01\n",
      "Using simplified polygon (for CMR request only!), 5 points using tolerance of 0.01\n",
      "Unable to complete request due to errors\n"
     ]
    },
    {
     "name": "stdout",
     "output_type": "stream",
     "text": [
      "no. of photons: 0\n",
      "downloading ATL03 for ooi-cp02pmuo-wfp01-05-paradk000 2019-02-04T13:43:41+00:00\n"
     ]
    },
    {
     "name": "stderr",
     "output_type": "stream",
     "text": [
      "Using simplified polygon (for CMR request only!), 5 points using tolerance of 0.01\n",
      "Using simplified polygon (for CMR request only!), 5 points using tolerance of 0.01\n",
      "Using simplified polygon (for CMR request only!), 5 points using tolerance of 0.01\n",
      "Unable to complete request due to errors\n"
     ]
    },
    {
     "name": "stdout",
     "output_type": "stream",
     "text": [
      "no. of photons: 0\n",
      "downloading ATL03 for ooi-cp02pmuo-wfp01-05-paradk000 2020-08-02T11:42:13+00:00\n"
     ]
    },
    {
     "name": "stderr",
     "output_type": "stream",
     "text": [
      "Using simplified polygon (for CMR request only!), 5 points using tolerance of 0.01\n",
      "Using simplified polygon (for CMR request only!), 5 points using tolerance of 0.01\n",
      "Using simplified polygon (for CMR request only!), 5 points using tolerance of 0.01\n",
      "Unable to complete request due to errors\n"
     ]
    },
    {
     "name": "stdout",
     "output_type": "stream",
     "text": [
      "no. of photons: 0\n",
      "downloading ATL03 for ooi-cp02pmuo-wfp01-05-paradk000 2020-10-30T19:37:51+00:00\n"
     ]
    },
    {
     "name": "stderr",
     "output_type": "stream",
     "text": [
      "Using simplified polygon (for CMR request only!), 5 points using tolerance of 0.01\n",
      "Using simplified polygon (for CMR request only!), 5 points using tolerance of 0.01\n",
      "Using simplified polygon (for CMR request only!), 5 points using tolerance of 0.01\n",
      "Unable to complete request due to errors\n"
     ]
    },
    {
     "name": "stdout",
     "output_type": "stream",
     "text": [
      "no. of photons: 0\n"
     ]
    },
    {
     "name": "stderr",
     "output_type": "stream",
     "text": [
      "Using simplified polygon (for CMR request only!), 5 points using tolerance of 0.01\n"
     ]
    },
    {
     "name": "stdout",
     "output_type": "stream",
     "text": [
      "downloading ATL03 for ooi-cp02pmuo-wfp01-05-paradk000 2021-01-31T03:01:56+00:00\n"
     ]
    },
    {
     "name": "stderr",
     "output_type": "stream",
     "text": [
      "Using simplified polygon (for CMR request only!), 5 points using tolerance of 0.01\n",
      "Using simplified polygon (for CMR request only!), 5 points using tolerance of 0.01\n",
      "Unable to complete request due to errors\n"
     ]
    },
    {
     "name": "stdout",
     "output_type": "stream",
     "text": [
      "no. of photons: 0\n",
      "downloading ATL03 for ooi-cp02pmuo-wfp01-05-paradk000 2021-04-30T10:57:35+00:00\n"
     ]
    },
    {
     "name": "stderr",
     "output_type": "stream",
     "text": [
      "Using simplified polygon (for CMR request only!), 5 points using tolerance of 0.01\n",
      "Using simplified polygon (for CMR request only!), 5 points using tolerance of 0.01\n",
      "Using simplified polygon (for CMR request only!), 5 points using tolerance of 0.01\n",
      "Unable to complete request due to errors\n"
     ]
    },
    {
     "name": "stdout",
     "output_type": "stream",
     "text": [
      "no. of photons: 0\n",
      "downloading ATL03 for ooi-cp02pmuo-wfp01-05-paradk000 2021-07-31T18:21:38+00:00\n"
     ]
    },
    {
     "name": "stderr",
     "output_type": "stream",
     "text": [
      "Using simplified polygon (for CMR request only!), 5 points using tolerance of 0.01\n",
      "Using simplified polygon (for CMR request only!), 5 points using tolerance of 0.01\n",
      "Using simplified polygon (for CMR request only!), 5 points using tolerance of 0.01\n",
      "Unable to complete request due to errors\n"
     ]
    },
    {
     "name": "stdout",
     "output_type": "stream",
     "text": [
      "no. of photons: 0\n",
      "downloading ATL03 for ooi-cp02pmuo-wfp01-05-paradk000 2021-10-30T14:01:37+00:00\n"
     ]
    },
    {
     "name": "stderr",
     "output_type": "stream",
     "text": [
      "Using simplified polygon (for CMR request only!), 5 points using tolerance of 0.01\n",
      "Using simplified polygon (for CMR request only!), 5 points using tolerance of 0.01\n",
      "Using simplified polygon (for CMR request only!), 5 points using tolerance of 0.01\n",
      "Unable to complete request due to errors\n"
     ]
    },
    {
     "name": "stdout",
     "output_type": "stream",
     "text": [
      "no. of photons: 0\n",
      "downloading ATL03 for ooi-cp02pmuo-wfp01-05-paradk000 2022-07-28T13:17:07+00:00\n"
     ]
    },
    {
     "name": "stderr",
     "output_type": "stream",
     "text": [
      "Using simplified polygon (for CMR request only!), 5 points using tolerance of 0.01\n",
      "Using simplified polygon (for CMR request only!), 5 points using tolerance of 0.01\n",
      "Using simplified polygon (for CMR request only!), 5 points using tolerance of 0.01\n",
      "Unable to complete request due to errors\n"
     ]
    },
    {
     "name": "stdout",
     "output_type": "stream",
     "text": [
      "no. of photons: 0\n",
      "downloading ATL03 for ooi-cp02pmuo-wfp01-05-paradk000 2022-10-28T20:41:01+00:00\n"
     ]
    },
    {
     "name": "stderr",
     "output_type": "stream",
     "text": [
      "Using simplified polygon (for CMR request only!), 5 points using tolerance of 0.01\n",
      "Using simplified polygon (for CMR request only!), 5 points using tolerance of 0.01\n",
      "Using simplified polygon (for CMR request only!), 5 points using tolerance of 0.01\n",
      "Unable to complete request due to errors\n"
     ]
    },
    {
     "name": "stdout",
     "output_type": "stream",
     "text": [
      "no. of photons: 0\n",
      "downloading ATL03 for ooi-rs03axps-sf03a-3c-parada301 2020-09-27T12:54:12+00:00\n"
     ]
    },
    {
     "name": "stderr",
     "output_type": "stream",
     "text": [
      "Using simplified polygon (for CMR request only!), 5 points using tolerance of 0.01\n",
      "Using simplified polygon (for CMR request only!), 5 points using tolerance of 0.01\n",
      "Using simplified polygon (for CMR request only!), 5 points using tolerance of 0.01\n",
      "Unable to complete request due to errors\n"
     ]
    },
    {
     "name": "stdout",
     "output_type": "stream",
     "text": [
      "no. of photons: 0\n",
      "downloading ATL03 for ooi-rs03axps-sf03a-3c-parada301 2020-10-04T00:53:16+00:00\n"
     ]
    },
    {
     "name": "stderr",
     "output_type": "stream",
     "text": [
      "Using simplified polygon (for CMR request only!), 5 points using tolerance of 0.01\n",
      "Using simplified polygon (for CMR request only!), 5 points using tolerance of 0.01\n",
      "Using simplified polygon (for CMR request only!), 5 points using tolerance of 0.01\n",
      "Unable to complete request due to errors\n"
     ]
    },
    {
     "name": "stdout",
     "output_type": "stream",
     "text": [
      "no. of photons: 0\n",
      "downloading ATL03 for ooi-rs03axps-sf03a-3c-parada301 2020-12-27T08:34:02+00:00\n"
     ]
    },
    {
     "name": "stderr",
     "output_type": "stream",
     "text": [
      "Using simplified polygon (for CMR request only!), 5 points using tolerance of 0.01\n",
      "Using simplified polygon (for CMR request only!), 5 points using tolerance of 0.01\n",
      "Using simplified polygon (for CMR request only!), 5 points using tolerance of 0.01\n",
      "Unable to complete request due to errors\n"
     ]
    },
    {
     "name": "stdout",
     "output_type": "stream",
     "text": [
      "no. of photons: 0\n",
      "downloading ATL03 for ooi-rs03axps-sf03a-3c-parada301 2021-01-02T20:33:14+00:00\n"
     ]
    },
    {
     "name": "stderr",
     "output_type": "stream",
     "text": [
      "Using simplified polygon (for CMR request only!), 5 points using tolerance of 0.01\n",
      "Using simplified polygon (for CMR request only!), 5 points using tolerance of 0.01\n",
      "Using simplified polygon (for CMR request only!), 5 points using tolerance of 0.01\n",
      "Unable to complete request due to errors\n"
     ]
    },
    {
     "name": "stdout",
     "output_type": "stream",
     "text": [
      "no. of photons: 0\n",
      "downloading ATL03 for ooi-rs03axps-sf03a-3c-parada301 2021-03-28T04:13:55+00:00\n"
     ]
    },
    {
     "name": "stderr",
     "output_type": "stream",
     "text": [
      "Using simplified polygon (for CMR request only!), 5 points using tolerance of 0.01\n",
      "Using simplified polygon (for CMR request only!), 5 points using tolerance of 0.01\n",
      "Using simplified polygon (for CMR request only!), 5 points using tolerance of 0.01\n",
      "Unable to complete request due to errors\n"
     ]
    },
    {
     "name": "stdout",
     "output_type": "stream",
     "text": [
      "no. of photons: 0\n",
      "downloading ATL03 for ooi-rs03axps-sf03a-3c-parada301 2021-04-03T16:13:06+00:00\n"
     ]
    },
    {
     "name": "stderr",
     "output_type": "stream",
     "text": [
      "Using simplified polygon (for CMR request only!), 5 points using tolerance of 0.01\n",
      "Using simplified polygon (for CMR request only!), 5 points using tolerance of 0.01\n",
      "Using simplified polygon (for CMR request only!), 5 points using tolerance of 0.01\n",
      "Unable to complete request due to errors\n"
     ]
    },
    {
     "name": "stdout",
     "output_type": "stream",
     "text": [
      "no. of photons: 0\n",
      "downloading ATL03 for ooi-rs03axps-sf03a-3c-parada301 2021-06-26T23:53:45+00:00\n"
     ]
    },
    {
     "name": "stderr",
     "output_type": "stream",
     "text": [
      "Using simplified polygon (for CMR request only!), 5 points using tolerance of 0.01\n",
      "Using simplified polygon (for CMR request only!), 5 points using tolerance of 0.01\n",
      "Using simplified polygon (for CMR request only!), 5 points using tolerance of 0.01\n",
      "Unable to complete request due to errors\n"
     ]
    },
    {
     "name": "stdout",
     "output_type": "stream",
     "text": [
      "no. of photons: 0\n",
      "downloading ATL03 for ooi-rs03axps-sf03a-3c-parada301 2021-07-03T11:52:56+00:00\n"
     ]
    },
    {
     "name": "stderr",
     "output_type": "stream",
     "text": [
      "Using simplified polygon (for CMR request only!), 5 points using tolerance of 0.01\n",
      "Using simplified polygon (for CMR request only!), 5 points using tolerance of 0.01\n",
      "Using simplified polygon (for CMR request only!), 5 points using tolerance of 0.01\n",
      "Unable to complete request due to errors\n"
     ]
    },
    {
     "name": "stdout",
     "output_type": "stream",
     "text": [
      "no. of photons: 0\n",
      "downloading ATL03 for ooi-rs03axps-sf03a-3c-parada301 2021-09-25T19:33:43+00:00\n"
     ]
    },
    {
     "name": "stderr",
     "output_type": "stream",
     "text": [
      "Using simplified polygon (for CMR request only!), 5 points using tolerance of 0.01\n",
      "Using simplified polygon (for CMR request only!), 5 points using tolerance of 0.01\n",
      "Using simplified polygon (for CMR request only!), 5 points using tolerance of 0.01\n",
      "Unable to complete request due to errors\n"
     ]
    },
    {
     "name": "stdout",
     "output_type": "stream",
     "text": [
      "no. of photons: 0\n",
      "downloading ATL03 for ooi-rs03axps-sf03a-3c-parada301 2021-10-02T07:32:55+00:00\n"
     ]
    },
    {
     "name": "stderr",
     "output_type": "stream",
     "text": [
      "Using simplified polygon (for CMR request only!), 5 points using tolerance of 0.01\n",
      "Using simplified polygon (for CMR request only!), 5 points using tolerance of 0.01\n",
      "Using simplified polygon (for CMR request only!), 5 points using tolerance of 0.01\n",
      "Unable to complete request due to errors\n"
     ]
    },
    {
     "name": "stdout",
     "output_type": "stream",
     "text": [
      "no. of photons: 0\n",
      "downloading ATL03 for ooi-rs03axps-sf03a-3c-parada301 2021-12-25T15:13:37+00:00\n"
     ]
    },
    {
     "name": "stderr",
     "output_type": "stream",
     "text": [
      "Using simplified polygon (for CMR request only!), 5 points using tolerance of 0.01\n",
      "Using simplified polygon (for CMR request only!), 5 points using tolerance of 0.01\n",
      "Using simplified polygon (for CMR request only!), 5 points using tolerance of 0.01\n",
      "Unable to complete request due to errors\n"
     ]
    },
    {
     "name": "stdout",
     "output_type": "stream",
     "text": [
      "no. of photons: 0\n",
      "downloading ATL03 for ooi-rs03axps-sf03a-3c-parada301 2022-01-01T03:12:47+00:00\n"
     ]
    },
    {
     "name": "stderr",
     "output_type": "stream",
     "text": [
      "Using simplified polygon (for CMR request only!), 5 points using tolerance of 0.01\n",
      "Using simplified polygon (for CMR request only!), 5 points using tolerance of 0.01\n",
      "Using simplified polygon (for CMR request only!), 5 points using tolerance of 0.01\n",
      "Unable to complete request due to errors\n"
     ]
    },
    {
     "name": "stdout",
     "output_type": "stream",
     "text": [
      "no. of photons: 0\n",
      "downloading ATL03 for ooi-rs03axps-sf03a-3c-parada301 2022-09-24T02:13:19+00:00\n"
     ]
    },
    {
     "name": "stderr",
     "output_type": "stream",
     "text": [
      "Using simplified polygon (for CMR request only!), 5 points using tolerance of 0.01\n",
      "Using simplified polygon (for CMR request only!), 5 points using tolerance of 0.01\n",
      "Using simplified polygon (for CMR request only!), 5 points using tolerance of 0.01\n",
      "Unable to complete request due to errors\n"
     ]
    },
    {
     "name": "stdout",
     "output_type": "stream",
     "text": [
      "no. of photons: 0\n"
     ]
    },
    {
     "name": "stderr",
     "output_type": "stream",
     "text": [
      "Using simplified polygon (for CMR request only!), 5 points using tolerance of 0.01\n"
     ]
    },
    {
     "name": "stdout",
     "output_type": "stream",
     "text": [
      "downloading ATL03 for ooi-rs03axps-sf03a-3c-parada301 2022-09-30T14:12:28+00:00\n"
     ]
    },
    {
     "name": "stderr",
     "output_type": "stream",
     "text": [
      "Using simplified polygon (for CMR request only!), 5 points using tolerance of 0.01\n",
      "Using simplified polygon (for CMR request only!), 5 points using tolerance of 0.01\n",
      "Unable to complete request due to errors\n"
     ]
    },
    {
     "name": "stdout",
     "output_type": "stream",
     "text": [
      "no. of photons: 0\n",
      "downloading ATL03 for ooi-rs03axps-sf03a-3c-parada301 2022-12-23T21:52:57+00:00\n"
     ]
    },
    {
     "name": "stderr",
     "output_type": "stream",
     "text": [
      "Using simplified polygon (for CMR request only!), 5 points using tolerance of 0.01\n",
      "Using simplified polygon (for CMR request only!), 5 points using tolerance of 0.01\n",
      "Using simplified polygon (for CMR request only!), 5 points using tolerance of 0.01\n",
      "Unable to complete request due to errors\n"
     ]
    },
    {
     "name": "stdout",
     "output_type": "stream",
     "text": [
      "no. of photons: 0\n",
      "downloading ATL03 for ooi-rs03axps-sf03a-3c-parada301 2022-12-30T09:52:05+00:00\n"
     ]
    },
    {
     "name": "stderr",
     "output_type": "stream",
     "text": [
      "Using simplified polygon (for CMR request only!), 5 points using tolerance of 0.01\n",
      "Using simplified polygon (for CMR request only!), 5 points using tolerance of 0.01\n",
      "Using simplified polygon (for CMR request only!), 5 points using tolerance of 0.01\n",
      "Unable to complete request due to errors\n"
     ]
    },
    {
     "name": "stdout",
     "output_type": "stream",
     "text": [
      "no. of photons: 0\n",
      "downloading ATL03 for ooi-rs03axps-sf03a-3c-parada301 2023-03-24T17:32:48+00:00\n"
     ]
    },
    {
     "name": "stderr",
     "output_type": "stream",
     "text": [
      "Using simplified polygon (for CMR request only!), 5 points using tolerance of 0.01\n",
      "Using simplified polygon (for CMR request only!), 5 points using tolerance of 0.01\n",
      "Using simplified polygon (for CMR request only!), 5 points using tolerance of 0.01\n",
      "Unable to complete request due to errors\n"
     ]
    },
    {
     "name": "stdout",
     "output_type": "stream",
     "text": [
      "no. of photons: 0\n",
      "downloading ATL03 for ooi-rs03axps-sf03a-3c-parada301 2023-03-31T05:32:07+00:00\n"
     ]
    },
    {
     "name": "stderr",
     "output_type": "stream",
     "text": [
      "Using simplified polygon (for CMR request only!), 5 points using tolerance of 0.01\n",
      "Using simplified polygon (for CMR request only!), 5 points using tolerance of 0.01\n",
      "Using simplified polygon (for CMR request only!), 5 points using tolerance of 0.01\n",
      "Unable to complete request due to errors\n"
     ]
    },
    {
     "name": "stdout",
     "output_type": "stream",
     "text": [
      "no. of photons: 0\n",
      "downloading ATL03 for ooi-rs03axps-sf03a-3c-parada301 2023-06-23T13:12:10+00:00\n"
     ]
    },
    {
     "name": "stderr",
     "output_type": "stream",
     "text": [
      "Using simplified polygon (for CMR request only!), 5 points using tolerance of 0.01\n",
      "Using simplified polygon (for CMR request only!), 5 points using tolerance of 0.01\n",
      "Using simplified polygon (for CMR request only!), 5 points using tolerance of 0.01\n",
      "Unable to complete request due to errors\n"
     ]
    },
    {
     "name": "stdout",
     "output_type": "stream",
     "text": [
      "no. of photons: 0\n",
      "downloading ATL03 for ooi-rs03axps-sf03a-3c-parada301 2023-06-30T01:11:15+00:00\n"
     ]
    },
    {
     "name": "stderr",
     "output_type": "stream",
     "text": [
      "Using simplified polygon (for CMR request only!), 5 points using tolerance of 0.01\n",
      "Using simplified polygon (for CMR request only!), 5 points using tolerance of 0.01\n",
      "Using simplified polygon (for CMR request only!), 5 points using tolerance of 0.01\n",
      "Unable to complete request due to errors\n"
     ]
    },
    {
     "name": "stdout",
     "output_type": "stream",
     "text": [
      "no. of photons: 0\n",
      "downloading ATL03 for ooi-rs03axps-sf03a-3c-parada301 2023-09-22T08:51:29+00:00\n"
     ]
    },
    {
     "name": "stderr",
     "output_type": "stream",
     "text": [
      "Using simplified polygon (for CMR request only!), 5 points using tolerance of 0.01\n",
      "Using simplified polygon (for CMR request only!), 5 points using tolerance of 0.01\n",
      "Using simplified polygon (for CMR request only!), 5 points using tolerance of 0.01\n",
      "Unable to complete request due to errors\n"
     ]
    },
    {
     "name": "stdout",
     "output_type": "stream",
     "text": [
      "no. of photons: 0\n",
      "downloading ATL03 for ooi-rs03axps-sf03a-3c-parada301 2023-09-28T20:50:38+00:00\n"
     ]
    },
    {
     "name": "stderr",
     "output_type": "stream",
     "text": [
      "Using simplified polygon (for CMR request only!), 5 points using tolerance of 0.01\n",
      "Using simplified polygon (for CMR request only!), 5 points using tolerance of 0.01\n",
      "Using simplified polygon (for CMR request only!), 5 points using tolerance of 0.01\n",
      "Unable to complete request due to errors\n"
     ]
    },
    {
     "name": "stdout",
     "output_type": "stream",
     "text": [
      "no. of photons: 0\n",
      "downloading ATL03 for ooi-rs03axps-sf03a-3c-parada301 2023-12-22T04:31:10+00:00\n"
     ]
    },
    {
     "name": "stderr",
     "output_type": "stream",
     "text": [
      "Using simplified polygon (for CMR request only!), 5 points using tolerance of 0.01\n",
      "Using simplified polygon (for CMR request only!), 5 points using tolerance of 0.01\n",
      "Using simplified polygon (for CMR request only!), 5 points using tolerance of 0.01\n",
      "Unable to complete request due to errors\n"
     ]
    },
    {
     "name": "stdout",
     "output_type": "stream",
     "text": [
      "no. of photons: 0\n",
      "downloading ATL03 for ooi-rs03axps-sf03a-3c-parada301 2023-12-28T16:30:21+00:00\n"
     ]
    },
    {
     "name": "stderr",
     "output_type": "stream",
     "text": [
      "Using simplified polygon (for CMR request only!), 5 points using tolerance of 0.01\n",
      "Using simplified polygon (for CMR request only!), 5 points using tolerance of 0.01\n",
      "Using simplified polygon (for CMR request only!), 5 points using tolerance of 0.01\n",
      "Unable to complete request due to errors\n"
     ]
    },
    {
     "name": "stdout",
     "output_type": "stream",
     "text": [
      "no. of photons: 0\n",
      "downloading ATL03 for ooi-rs03axps-sf03a-3c-parada301 2024-03-22T00:10:31+00:00\n"
     ]
    },
    {
     "name": "stderr",
     "output_type": "stream",
     "text": [
      "Using simplified polygon (for CMR request only!), 5 points using tolerance of 0.01\n",
      "Using simplified polygon (for CMR request only!), 5 points using tolerance of 0.01\n",
      "Using simplified polygon (for CMR request only!), 5 points using tolerance of 0.01\n",
      "Unable to complete request due to errors\n"
     ]
    },
    {
     "name": "stdout",
     "output_type": "stream",
     "text": [
      "no. of photons: 0\n",
      "downloading ATL03 for ooi-rs03axps-sf03a-3c-parada301 2024-03-28T12:09:29+00:00\n"
     ]
    },
    {
     "name": "stderr",
     "output_type": "stream",
     "text": [
      "Using simplified polygon (for CMR request only!), 5 points using tolerance of 0.01\n",
      "Using simplified polygon (for CMR request only!), 5 points using tolerance of 0.01\n",
      "Using simplified polygon (for CMR request only!), 5 points using tolerance of 0.01\n",
      "Unable to complete request due to errors\n"
     ]
    },
    {
     "name": "stdout",
     "output_type": "stream",
     "text": [
      "no. of photons: 0\n",
      "downloading ATL03 for ooi-rs01sbps-sf01a-3c-parada101 2019-01-09T18:33:21+00:00\n"
     ]
    },
    {
     "name": "stderr",
     "output_type": "stream",
     "text": [
      "Using simplified polygon (for CMR request only!), 5 points using tolerance of 0.01\n",
      "Using simplified polygon (for CMR request only!), 5 points using tolerance of 0.01\n",
      "Using simplified polygon (for CMR request only!), 5 points using tolerance of 0.01\n",
      "Unable to complete request due to errors\n"
     ]
    },
    {
     "name": "stdout",
     "output_type": "stream",
     "text": [
      "no. of photons: 0\n",
      "downloading ATL03 for ooi-rs01sbps-sf01a-3c-parada101 2019-04-10T14:13:14+00:00\n"
     ]
    },
    {
     "name": "stderr",
     "output_type": "stream",
     "text": [
      "Using simplified polygon (for CMR request only!), 5 points using tolerance of 0.01\n",
      "Using simplified polygon (for CMR request only!), 5 points using tolerance of 0.01\n",
      "Using simplified polygon (for CMR request only!), 5 points using tolerance of 0.01\n",
      "Unable to complete request due to errors\n"
     ]
    },
    {
     "name": "stdout",
     "output_type": "stream",
     "text": [
      "no. of photons: 0\n",
      "downloading ATL03 for ooi-rs01sbps-sf01a-3c-parada101 2019-07-10T09:52:39+00:00\n"
     ]
    },
    {
     "name": "stderr",
     "output_type": "stream",
     "text": [
      "Using simplified polygon (for CMR request only!), 5 points using tolerance of 0.01\n",
      "Using simplified polygon (for CMR request only!), 5 points using tolerance of 0.01\n",
      "Using simplified polygon (for CMR request only!), 5 points using tolerance of 0.01\n",
      "Unable to complete request due to errors\n"
     ]
    },
    {
     "name": "stdout",
     "output_type": "stream",
     "text": [
      "no. of photons: 0\n",
      "downloading ATL03 for ooi-rs01sbps-sf01a-3c-parada101 2019-09-12T19:04:09+00:00\n"
     ]
    },
    {
     "name": "stderr",
     "output_type": "stream",
     "text": [
      "Using simplified polygon (for CMR request only!), 5 points using tolerance of 0.01\n",
      "Using simplified polygon (for CMR request only!), 5 points using tolerance of 0.01\n",
      "Using simplified polygon (for CMR request only!), 5 points using tolerance of 0.01\n",
      "Unable to complete request due to errors\n"
     ]
    },
    {
     "name": "stdout",
     "output_type": "stream",
     "text": [
      "no. of photons: 0\n",
      "downloading ATL03 for ooi-rs01sbps-sf01a-3c-parada101 2020-10-06T12:11:49+00:00\n"
     ]
    },
    {
     "name": "stderr",
     "output_type": "stream",
     "text": [
      "Using simplified polygon (for CMR request only!), 5 points using tolerance of 0.01\n",
      "Using simplified polygon (for CMR request only!), 5 points using tolerance of 0.01\n",
      "Using simplified polygon (for CMR request only!), 5 points using tolerance of 0.01\n",
      "Unable to complete request due to errors\n"
     ]
    },
    {
     "name": "stdout",
     "output_type": "stream",
     "text": [
      "no. of photons: 0\n",
      "downloading ATL03 for ooi-rs01sbps-sf01a-3c-parada101 2021-01-05T07:51:44+00:00\n"
     ]
    },
    {
     "name": "stderr",
     "output_type": "stream",
     "text": [
      "Using simplified polygon (for CMR request only!), 5 points using tolerance of 0.01\n",
      "Using simplified polygon (for CMR request only!), 5 points using tolerance of 0.01\n",
      "Using simplified polygon (for CMR request only!), 5 points using tolerance of 0.01\n",
      "Unable to complete request due to errors\n"
     ]
    },
    {
     "name": "stdout",
     "output_type": "stream",
     "text": [
      "no. of photons: 0\n",
      "downloading ATL03 for ooi-rs01sbps-sf01a-3c-parada101 2021-03-10T17:03:03+00:00\n"
     ]
    },
    {
     "name": "stderr",
     "output_type": "stream",
     "text": [
      "Using simplified polygon (for CMR request only!), 5 points using tolerance of 0.01\n",
      "Using simplified polygon (for CMR request only!), 5 points using tolerance of 0.01\n",
      "Using simplified polygon (for CMR request only!), 5 points using tolerance of 0.01\n",
      "Unable to complete request due to errors\n"
     ]
    },
    {
     "name": "stdout",
     "output_type": "stream",
     "text": [
      "no. of photons: 0\n",
      "downloading ATL03 for ooi-rs01sbps-sf01a-3c-parada101 2021-05-11T14:06:52+00:00\n"
     ]
    },
    {
     "name": "stderr",
     "output_type": "stream",
     "text": [
      "Using simplified polygon (for CMR request only!), 5 points using tolerance of 0.01\n",
      "Using simplified polygon (for CMR request only!), 5 points using tolerance of 0.01\n",
      "Using simplified polygon (for CMR request only!), 5 points using tolerance of 0.01\n",
      "Unable to complete request due to errors\n"
     ]
    },
    {
     "name": "stdout",
     "output_type": "stream",
     "text": [
      "no. of photons: 0\n",
      "downloading ATL03 for ooi-rs01sbps-sf01a-3c-parada101 2021-07-05T23:11:26+00:00\n"
     ]
    },
    {
     "name": "stderr",
     "output_type": "stream",
     "text": [
      "Using simplified polygon (for CMR request only!), 5 points using tolerance of 0.01\n",
      "Using simplified polygon (for CMR request only!), 5 points using tolerance of 0.01\n",
      "Using simplified polygon (for CMR request only!), 5 points using tolerance of 0.01\n",
      "Unable to complete request due to errors\n"
     ]
    },
    {
     "name": "stdout",
     "output_type": "stream",
     "text": [
      "no. of photons: 0\n",
      "downloading ATL03 for ooi-rs01sbps-sf01a-3c-parada101 2021-10-04T18:51:27+00:00\n"
     ]
    },
    {
     "name": "stderr",
     "output_type": "stream",
     "text": [
      "Using simplified polygon (for CMR request only!), 5 points using tolerance of 0.01\n",
      "Using simplified polygon (for CMR request only!), 5 points using tolerance of 0.01\n",
      "Using simplified polygon (for CMR request only!), 5 points using tolerance of 0.01\n",
      "Unable to complete request due to errors\n"
     ]
    },
    {
     "name": "stdout",
     "output_type": "stream",
     "text": [
      "no. of photons: 0\n",
      "downloading ATL03 for ooi-rs01sbps-sf01a-3c-parada101 2021-12-08T04:02:47+00:00\n"
     ]
    },
    {
     "name": "stderr",
     "output_type": "stream",
     "text": [
      "Using simplified polygon (for CMR request only!), 5 points using tolerance of 0.01\n",
      "Using simplified polygon (for CMR request only!), 5 points using tolerance of 0.01\n",
      "Using simplified polygon (for CMR request only!), 5 points using tolerance of 0.01\n",
      "Unable to complete request due to errors\n"
     ]
    },
    {
     "name": "stdout",
     "output_type": "stream",
     "text": [
      "no. of photons: 0\n",
      "downloading ATL03 for ooi-rs01sbps-sf01a-3c-parada101 2022-01-03T14:31:18+00:00\n"
     ]
    },
    {
     "name": "stderr",
     "output_type": "stream",
     "text": [
      "Using simplified polygon (for CMR request only!), 5 points using tolerance of 0.01\n",
      "Using simplified polygon (for CMR request only!), 5 points using tolerance of 0.01\n",
      "Using simplified polygon (for CMR request only!), 5 points using tolerance of 0.01\n",
      "Unable to complete request due to errors\n"
     ]
    },
    {
     "name": "stdout",
     "output_type": "stream",
     "text": [
      "no. of photons: 0\n",
      "downloading ATL03 for ooi-rs01sbps-sf01a-3c-parada101 2022-04-04T10:11:11+00:00\n"
     ]
    },
    {
     "name": "stderr",
     "output_type": "stream",
     "text": [
      "Using simplified polygon (for CMR request only!), 5 points using tolerance of 0.01\n",
      "Using simplified polygon (for CMR request only!), 5 points using tolerance of 0.01\n",
      "Using simplified polygon (for CMR request only!), 5 points using tolerance of 0.01\n",
      "Unable to complete request due to errors\n"
     ]
    },
    {
     "name": "stdout",
     "output_type": "stream",
     "text": [
      "no. of photons: 0\n",
      "downloading ATL03 for ooi-rs01sbps-sf01a-3c-parada101 2022-05-09T20:46:19+00:00\n"
     ]
    },
    {
     "name": "stderr",
     "output_type": "stream",
     "text": [
      "Using simplified polygon (for CMR request only!), 5 points using tolerance of 0.01\n",
      "Using simplified polygon (for CMR request only!), 5 points using tolerance of 0.01\n",
      "Using simplified polygon (for CMR request only!), 5 points using tolerance of 0.01\n",
      "Unable to complete request due to errors\n"
     ]
    },
    {
     "name": "stdout",
     "output_type": "stream",
     "text": [
      "no. of photons: 0\n",
      "downloading ATL03 for ooi-rs01sbps-sf01a-3c-parada101 2022-10-03T01:30:56+00:00\n"
     ]
    },
    {
     "name": "stderr",
     "output_type": "stream",
     "text": [
      "Using simplified polygon (for CMR request only!), 5 points using tolerance of 0.01\n",
      "Using simplified polygon (for CMR request only!), 5 points using tolerance of 0.01\n",
      "Using simplified polygon (for CMR request only!), 5 points using tolerance of 0.01\n",
      "Unable to complete request due to errors\n"
     ]
    },
    {
     "name": "stdout",
     "output_type": "stream",
     "text": [
      "no. of photons: 0\n",
      "downloading ATL03 for ooi-rs01sbps-sf01a-3c-parada101 2022-12-06T10:42:07+00:00\n"
     ]
    },
    {
     "name": "stderr",
     "output_type": "stream",
     "text": [
      "Using simplified polygon (for CMR request only!), 5 points using tolerance of 0.01\n",
      "Using simplified polygon (for CMR request only!), 5 points using tolerance of 0.01\n",
      "Using simplified polygon (for CMR request only!), 5 points using tolerance of 0.01\n",
      "Unable to complete request due to errors\n"
     ]
    },
    {
     "name": "stdout",
     "output_type": "stream",
     "text": [
      "no. of photons: 0\n",
      "downloading ATL03 for ooi-rs01sbps-sf01a-3c-parada101 2023-04-02T16:50:22+00:00\n"
     ]
    },
    {
     "name": "stderr",
     "output_type": "stream",
     "text": [
      "Using simplified polygon (for CMR request only!), 5 points using tolerance of 0.01\n",
      "Using simplified polygon (for CMR request only!), 5 points using tolerance of 0.01\n",
      "Using simplified polygon (for CMR request only!), 5 points using tolerance of 0.01\n",
      "Unable to complete request due to errors\n"
     ]
    },
    {
     "name": "stdout",
     "output_type": "stream",
     "text": [
      "no. of photons: 0\n",
      "downloading ATL03 for ooi-rs01sbps-sf01a-3c-parada101 2023-07-02T12:29:48+00:00\n"
     ]
    },
    {
     "name": "stderr",
     "output_type": "stream",
     "text": [
      "Using simplified polygon (for CMR request only!), 5 points using tolerance of 0.01\n",
      "Using simplified polygon (for CMR request only!), 5 points using tolerance of 0.01\n",
      "Using simplified polygon (for CMR request only!), 5 points using tolerance of 0.01\n",
      "Unable to complete request due to errors\n"
     ]
    },
    {
     "name": "stdout",
     "output_type": "stream",
     "text": [
      "no. of photons: 0\n",
      "downloading ATL03 for ooi-rs01sbps-sf01a-3c-parada101 2023-09-04T21:40:44+00:00\n"
     ]
    },
    {
     "name": "stderr",
     "output_type": "stream",
     "text": [
      "Using simplified polygon (for CMR request only!), 5 points using tolerance of 0.01\n",
      "Using simplified polygon (for CMR request only!), 5 points using tolerance of 0.01\n",
      "Using simplified polygon (for CMR request only!), 5 points using tolerance of 0.01\n",
      "Unable to complete request due to errors\n"
     ]
    },
    {
     "name": "stdout",
     "output_type": "stream",
     "text": [
      "no. of photons: 0\n",
      "downloading ATL03 for ooi-rs01sbps-sf01a-3c-parada101 2023-10-01T08:09:08+00:00\n"
     ]
    },
    {
     "name": "stderr",
     "output_type": "stream",
     "text": [
      "Using simplified polygon (for CMR request only!), 5 points using tolerance of 0.01\n",
      "Using simplified polygon (for CMR request only!), 5 points using tolerance of 0.01\n",
      "Using simplified polygon (for CMR request only!), 5 points using tolerance of 0.01\n",
      "Unable to complete request due to errors\n"
     ]
    },
    {
     "name": "stdout",
     "output_type": "stream",
     "text": [
      "no. of photons: 0\n",
      "downloading ATL03 for ooi-rs01sbps-sf01a-3c-parada101 2023-12-31T03:48:55+00:00\n"
     ]
    },
    {
     "name": "stderr",
     "output_type": "stream",
     "text": [
      "Using simplified polygon (for CMR request only!), 5 points using tolerance of 0.01\n",
      "Using simplified polygon (for CMR request only!), 5 points using tolerance of 0.01\n",
      "Using simplified polygon (for CMR request only!), 5 points using tolerance of 0.01\n",
      "Unable to complete request due to errors\n"
     ]
    },
    {
     "name": "stdout",
     "output_type": "stream",
     "text": [
      "no. of photons: 0\n",
      "downloading ATL03 for ooi-rs01sbps-sf01a-3c-parada101 2024-03-30T23:28:16+00:00\n"
     ]
    },
    {
     "name": "stderr",
     "output_type": "stream",
     "text": [
      "Using simplified polygon (for CMR request only!), 5 points using tolerance of 0.01\n",
      "Using simplified polygon (for CMR request only!), 5 points using tolerance of 0.01\n",
      "Using simplified polygon (for CMR request only!), 5 points using tolerance of 0.01\n",
      "Unable to complete request due to errors\n"
     ]
    },
    {
     "name": "stdout",
     "output_type": "stream",
     "text": [
      "no. of photons: 0\n",
      "downloading ATL03 for sd1066_2019 2019-11-25T05:38:41+00:00\n"
     ]
    },
    {
     "name": "stderr",
     "output_type": "stream",
     "text": [
      "Using simplified polygon (for CMR request only!), 5 points using tolerance of 0.01\n",
      "Using simplified polygon (for CMR request only!), 5 points using tolerance of 0.01\n",
      "Using simplified polygon (for CMR request only!), 5 points using tolerance of 0.01\n",
      "Unable to complete request due to errors\n"
     ]
    },
    {
     "name": "stdout",
     "output_type": "stream",
     "text": [
      "no. of photons: 0\n",
      "downloading ATL03 for sd1067_2019 2019-10-06T20:04:04+00:00\n"
     ]
    },
    {
     "name": "stderr",
     "output_type": "stream",
     "text": [
      "Using simplified polygon (for CMR request only!), 5 points using tolerance of 0.01\n",
      "Using simplified polygon (for CMR request only!), 5 points using tolerance of 0.01\n",
      "Using simplified polygon (for CMR request only!), 5 points using tolerance of 0.01\n",
      "Unable to complete request due to errors\n"
     ]
    },
    {
     "name": "stdout",
     "output_type": "stream",
     "text": [
      "no. of photons: 0\n",
      "downloading ATL03 for sd1067_2019 2019-11-25T05:38:41+00:00\n"
     ]
    },
    {
     "name": "stderr",
     "output_type": "stream",
     "text": [
      "Using simplified polygon (for CMR request only!), 5 points using tolerance of 0.01\n",
      "Using simplified polygon (for CMR request only!), 5 points using tolerance of 0.01\n",
      "Using simplified polygon (for CMR request only!), 5 points using tolerance of 0.01\n",
      "Unable to complete request due to errors\n"
     ]
    },
    {
     "name": "stdout",
     "output_type": "stream",
     "text": [
      "no. of photons: 0\n",
      "downloading ATL03 for sd1068_2019 2019-08-05T23:00:12+00:00\n"
     ]
    },
    {
     "name": "stderr",
     "output_type": "stream",
     "text": [
      "Using simplified polygon (for CMR request only!), 5 points using tolerance of 0.01\n",
      "Using simplified polygon (for CMR request only!), 5 points using tolerance of 0.01\n",
      "Using simplified polygon (for CMR request only!), 5 points using tolerance of 0.01\n",
      "Unable to complete request due to errors\n"
     ]
    },
    {
     "name": "stdout",
     "output_type": "stream",
     "text": [
      "no. of photons: 0\n",
      "downloading ATL03 for sd1065_tpos_2021 2022-01-17T16:09:33+00:00\n"
     ]
    },
    {
     "name": "stderr",
     "output_type": "stream",
     "text": [
      "Using simplified polygon (for CMR request only!), 5 points using tolerance of 0.01\n",
      "Using simplified polygon (for CMR request only!), 5 points using tolerance of 0.01\n",
      "Using simplified polygon (for CMR request only!), 5 points using tolerance of 0.01\n",
      "Unable to complete request due to errors\n"
     ]
    },
    {
     "name": "stdout",
     "output_type": "stream",
     "text": [
      "no. of photons: 0\n",
      "downloading ATL03 for sd1065_tpos_2021 2022-04-22T23:35:16+00:00\n"
     ]
    },
    {
     "name": "stderr",
     "output_type": "stream",
     "text": [
      "Using simplified polygon (for CMR request only!), 5 points using tolerance of 0.01\n",
      "Using simplified polygon (for CMR request only!), 5 points using tolerance of 0.01\n",
      "Using simplified polygon (for CMR request only!), 5 points using tolerance of 0.01\n",
      "Unable to complete request due to errors\n"
     ]
    },
    {
     "name": "stdout",
     "output_type": "stream",
     "text": [
      "no. of photons: 0\n",
      "downloading ATL03 for sd1065_tpos_2021 2022-07-18T07:29:22+00:00\n"
     ]
    },
    {
     "name": "stderr",
     "output_type": "stream",
     "text": [
      "Using simplified polygon (for CMR request only!), 5 points using tolerance of 0.01\n",
      "Using simplified polygon (for CMR request only!), 5 points using tolerance of 0.01\n",
      "Using simplified polygon (for CMR request only!), 5 points using tolerance of 0.01\n",
      "Unable to complete request due to errors\n"
     ]
    },
    {
     "name": "stdout",
     "output_type": "stream",
     "text": [
      "no. of photons: 0\n",
      "downloading ATL03 for Gulf-of-Mexico-C12-OCSv3-Data-10252018-to-01292020 2018-11-02T07:10:53+00:00\n"
     ]
    },
    {
     "name": "stderr",
     "output_type": "stream",
     "text": [
      "Using simplified polygon (for CMR request only!), 5 points using tolerance of 0.01\n",
      "Using simplified polygon (for CMR request only!), 5 points using tolerance of 0.01\n",
      "Using simplified polygon (for CMR request only!), 5 points using tolerance of 0.01\n",
      "Unable to complete request due to errors\n"
     ]
    },
    {
     "name": "stdout",
     "output_type": "stream",
     "text": [
      "no. of photons: 0\n",
      "downloading ATL03 for Gulf-of-Mexico-C12-OCSv3-Data-10252018-to-01292020 2019-03-19T12:37:39+00:00\n"
     ]
    },
    {
     "name": "stderr",
     "output_type": "stream",
     "text": [
      "Using simplified polygon (for CMR request only!), 5 points using tolerance of 0.01\n",
      "Using simplified polygon (for CMR request only!), 5 points using tolerance of 0.01\n",
      "Using simplified polygon (for CMR request only!), 5 points using tolerance of 0.01\n",
      "Unable to complete request due to errors\n"
     ]
    },
    {
     "name": "stdout",
     "output_type": "stream",
     "text": [
      "no. of photons: 0\n",
      "downloading ATL03 for Gulf-of-Mexico-C12-OCSv3-Data-10252018-to-01292020 2019-09-17T03:57:05+00:00\n"
     ]
    },
    {
     "name": "stderr",
     "output_type": "stream",
     "text": [
      "Using simplified polygon (for CMR request only!), 5 points using tolerance of 0.01\n",
      "Using simplified polygon (for CMR request only!), 5 points using tolerance of 0.01\n",
      "Using simplified polygon (for CMR request only!), 5 points using tolerance of 0.01\n",
      "Unable to complete request due to errors\n"
     ]
    },
    {
     "name": "stdout",
     "output_type": "stream",
     "text": [
      "no. of photons: 0\n",
      "downloading ATL03 for Gulf-of-Mexico-C12-OCSv3-Data-10252018-to-01292020 2019-12-16T23:36:54+00:00\n"
     ]
    },
    {
     "name": "stderr",
     "output_type": "stream",
     "text": [
      "Using simplified polygon (for CMR request only!), 5 points using tolerance of 0.01\n",
      "Using simplified polygon (for CMR request only!), 5 points using tolerance of 0.01\n",
      "Using simplified polygon (for CMR request only!), 5 points using tolerance of 0.01\n",
      "Unable to complete request due to errors\n"
     ]
    },
    {
     "name": "stdout",
     "output_type": "stream",
     "text": [
      "no. of photons: 0\n"
     ]
    }
   ],
   "source": [
    "# loop through each buoy asset:\n",
    "for jj in range(len(FF)):\n",
    "    # define a search region around the buoy \n",
    "    lat = FF['geospatial_lat_min'][jj]\n",
    "    lon = FF['geospatial_lon_min'][jj]\n",
    "    poly = buoy_bound_box(lat,lon,0.5)\n",
    "\n",
    "    # search CMR for ATL03 granules in the bounding box\n",
    "    grns = earthdata.cmr(short_name=\"ATL03\",\n",
    "                         polygon=poly,\n",
    "                         version='006')\n",
    "    # save the times for each granule as a datetime object\n",
    "    icesat_times = [fname2datetime(fname) for fname in grns]\n",
    "\n",
    "    # set up erddap search for this server:\n",
    "    e = ERDDAP(\n",
    "    server=FF['sites'][jj], \n",
    "    protocol=\"tabledap\", # Want table data (not a grid map of data) \n",
    "    response=\"csv\") #in csv format for pandas\n",
    "\n",
    "    # now check if buoy data exists for these granules\\n\",\n",
    "    e = ERDDAP(server=FF['url'][jj],\n",
    "               protocol=\"tabledap\",\n",
    "               response=\"csv\")\n",
    "    e.dataset_id = FF['sites'][jj]\n",
    "\n",
    "    for t in icesat_times:\n",
    "        # add a time buffer (+/-1 hours) to search for relevant buoy data for each granule,\n",
    "        t_start = (t-timedelta(hours=1)).strftime(\"%Y-%m-%dT%H:%M:%SZ\")\n",
    "        t_end = (t+timedelta(hours=1)).strftime(\"%Y-%m-%dT%H:%M:%SZ\")\n",
    "        e.constraints = {\"time>=\": t_start,\n",
    "                        \"time<=\": t_end}\n",
    "\n",
    "        # try to download the associated buoy data\n",
    "        try:\n",
    "            buoy = e.to_pandas(parse_dates=True)\n",
    "        except:\n",
    "            continue\n",
    "        # if buoy data exists, download the ATL03 photons in the bounding box at this time\n",
    "        print('downloading ATL03 for '+ e.dataset_id + ' ' + str(t_start))\n",
    "        # Build ATL03 Request\n",
    "        poly = buoy_bound_box(FF['geospatial_lat_min'][jj],\n",
    "                              FF['geospatial_lon_min'][jj],\n",
    "                              10)\n",
    "        parms = {\"poly\": poly,\n",
    "                 \"t0\": t_start,\n",
    "                 \"t1\": t_end,\n",
    "                 \"srt\": icesat2.SRT_OCEAN}        \n",
    "        atl_gdb = icesat2.atl03sp(parms)\n",
    "        print('no. of photons: '+str(len(atl_gdb)))\n"
   ]
  }
 ],
 "metadata": {
  "kernelspec": {
   "display_name": "Python 3 (ipykernel)",
   "language": "python",
   "name": "python3"
  },
  "language_info": {
   "codemirror_mode": {
    "name": "ipython",
    "version": 3
   },
   "file_extension": ".py",
   "mimetype": "text/x-python",
   "name": "python",
   "nbconvert_exporter": "python",
   "pygments_lexer": "ipython3",
   "version": "3.11.9"
  }
 },
 "nbformat": 4,
 "nbformat_minor": 5
}
