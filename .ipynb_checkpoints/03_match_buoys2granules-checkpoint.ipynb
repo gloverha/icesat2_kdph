{
 "cells": [
  {
   "cell_type": "markdown",
   "id": "e8ee7b13-ffc0-4421-97cb-d0521eda0e26",
   "metadata": {},
   "source": [
    "Goal: pull out 1 buoy record that has ssc&chla and search for matching icesat2 granules\n",
    "\n",
    "To do:\n",
    "- Load info for 1 relevant station\n",
    "- Find all matching atl granules and save times from file names\n",
    "- Compare times to see if any matching buoy times"
   ]
  },
  {
   "cell_type": "code",
   "execution_count": 1,
   "id": "e7ac0bb6-2b05-466a-b79e-2ca653da7401",
   "metadata": {},
   "outputs": [
    {
     "name": "stdout",
     "output_type": "stream",
     "text": [
      "Note: you may need to restart the kernel to use updated packages.\n"
     ]
    }
   ],
   "source": [
    "%pip install --quiet erddapy"
   ]
  },
  {
   "cell_type": "code",
   "execution_count": 7,
   "id": "950557e2-e65e-41e4-9e4e-e74111ba592c",
   "metadata": {},
   "outputs": [
    {
     "name": "stderr",
     "output_type": "stream",
     "text": [
      "Client (version (4, 5, 3)) is out of date with the server (version (4, 6, 4))\n"
     ]
    },
    {
     "data": {
      "text/plain": [
       "False"
      ]
     },
     "execution_count": 7,
     "metadata": {},
     "output_type": "execute_result"
    }
   ],
   "source": [
    "from erddapy import ERDDAP\n",
    "import pandas as pd\n",
    "import numpy as np\n",
    "from sliderule import sliderule, icesat2, earthdata\n",
    "from datetime import datetime, timezone, timedelta\n",
    "\n",
    "pd.set_option('display.max_columns', None)\n",
    "pd.set_option('display.max_rows', None)\n",
    "\n",
    "sliderule.init(verbose=False)"
   ]
  },
  {
   "cell_type": "code",
   "execution_count": 2,
   "id": "65db29b3-ac6e-44bb-a73c-65eb4949880f",
   "metadata": {},
   "outputs": [],
   "source": [
    "def fname2datetime(fname):\n",
    "    y = int(fname[6:10])\n",
    "    m = int(fname[10:12])\n",
    "    d = int(fname[12:14])\n",
    "    H = int(fname[14:16])\n",
    "    M = int(fname[16:18])\n",
    "    S = int(fname[18:20])\n",
    "\n",
    "    t = datetime(y,m,d,H,M,S, tzinfo=timezone.utc)\n",
    "    return t\n",
    "\n",
    "def buoy_bound_box(lat,lon,buffer_km):\n",
    "    # define a buffer distance around the buoy to search for icesat-2 data\n",
    "    lat_buff = buffer_km/111 # convert buffer distance to frac of 1 deg lat\n",
    "    lon_buff = buffer_km/(111*np.cos(lat*np.pi/180)) # convert buffer distance to frac of 1 deg lon\n",
    "    # define bounding box around the buoy (WSEN)\n",
    "    # example: bbox = [-108.3, 39.2, -107.8, 38.8]\n",
    "    # bbox = [lon-lon_buff,lat+lat_buff,lon+lon_buff,lat-lat_buff]\n",
    "    # region = sliderule.toregion(bbox)\n",
    "    minx = lon - lon_buff\n",
    "    miny = lat - lat_buff\n",
    "    maxx = lon + lon_buff\n",
    "    maxy = lat + lat_buff\n",
    "\n",
    "    poly = [{'lon': minx, 'lat': miny},\n",
    "            {'lon': maxx, 'lat': miny},\n",
    "            {'lon': maxx, 'lat': maxy},\n",
    "            {'lon': minx, 'lat': maxy},\n",
    "            {'lon': minx, 'lat': miny}] # Closing the loop by repeating the first point\n",
    "    return poly\n"
   ]
  },
  {
   "cell_type": "code",
   "execution_count": 12,
   "id": "132b8ab8-f0fb-44d2-ba8e-14c52ca4362f",
   "metadata": {
    "scrolled": true
   },
   "outputs": [],
   "source": [
    "# load a list of all the relevant ERDDAPs and their urls\n",
    "FF = pd.read_pickle(\"labeled_relevant_stations.pkl\")\n",
    "FF = FF[(FF.buoy == True) & (FF.radiation==True)]\n",
    "FF.reset_index(drop=True, inplace=True)\n",
    "\n",
    "FF[\"geospatial_lat_min\"] = pd.to_numeric(FF[\"geospatial_lat_min\"])\n",
    "FF[\"geospatial_lon_min\"] = pd.to_numeric(FF[\"geospatial_lon_min\"])\n",
    "FF[\"geospatial_lat_max\"] = pd.to_numeric(FF[\"geospatial_lat_max\"])\n",
    "FF[\"geospatial_lon_max\"] = pd.to_numeric(FF[\"geospatial_lon_max\"])\n",
    "FF[\"photon_data\"] = False\n"
   ]
  },
  {
   "cell_type": "code",
   "execution_count": null,
   "id": "f83b14d3-5c29-41db-8b18-8baec3bed70c",
   "metadata": {},
   "outputs": [],
   "source": [
    "# # example with no looping (next cell is loops)\n",
    "# # make an ROI within a 0.1 km range of buoy\n",
    "# jj = 2\n",
    "# poly = buoy_bound_box(FF['geospatial_lat_min'][jj],\n",
    "#                       FF['geospatial_lon_min'][jj],\n",
    "#                       0.1)\n",
    "\n",
    "# # search CMR for ATL03 granules in the bounding box\n",
    "# grns = earthdata.cmr(short_name=\"ATL03\",\n",
    "#                      polygon=poly,\n",
    "#                      version='006')\n",
    "\n",
    "# # save the times for each granule as a datetime object\n",
    "# icesat_times = [fname2datetime(fname) for fname in grns]\n",
    "# print(len(icesat_times))\n",
    "\n",
    "# # now check if buoy data exists for these granule times (loop)\n",
    "# kk = 5\n",
    "# t = icesat_times[kk]\n",
    "# filename = grns[kk]\n",
    "# print(filename)\n",
    "# # make erddap request for all data within +/- 1h of the icesat-2 granule\n",
    "# e = ERDDAP(server=FF['url'][jj],\n",
    "#            protocol=\"tabledap\",\n",
    "#            response=\"csv\")\n",
    "# e.dataset_id = FF['sites'][jj]\n",
    "# t_start = (t-timedelta(hours=1)).strftime(\"%Y-%m-%dT%H:%M:%S+00:00\")\n",
    "# t_end = (t+timedelta(hours=1)).strftime(\"%Y-%m-%dT%H:%M:%S+00:00\")\n",
    "# e.constraints = {\"time>=\": t_start,\n",
    "#                  \"time<=\": t_end}\n",
    "\n",
    "# # try to download the associated buoy data\n",
    "# buoy = e.to_pandas(parse_dates=True)\n",
    "\n",
    "# # try to download associated photons\n",
    "# t_start = (t-timedelta(hours=1)).strftime(\"%Y-%m-%dT%H:%M:%SZ\")\n",
    "# t_end = (t+timedelta(hours=1)).strftime(\"%Y-%m-%dT%H:%M:%SZ\")\n",
    "# poly = buoy_bound_box(FF['geospatial_lat_min'][jj],\n",
    "#                       FF['geospatial_lon_min'][jj],\n",
    "#                       2)\n",
    "# parms = {\"poly\": poly,\n",
    "#          \"t0\": t_start,\n",
    "#          \"t1\": t_end,\n",
    "#          \"srt\": icesat2.SRT_OCEAN}\n",
    "\n",
    "# atl_gdb = icesat2.atl03sp(parms)\n",
    "# len(atl_gdb)"
   ]
  },
  {
   "cell_type": "code",
   "execution_count": 6,
   "id": "88b5d7a0-4f0a-412e-ae47-70428e04ae44",
   "metadata": {},
   "outputs": [
    {
     "name": "stdout",
     "output_type": "stream",
     "text": [
      "downloading ATL03 for mpoPmzaVikingBuoysTimeseries 2020-09-03T13:44:09Z\n"
     ]
    },
    {
     "name": "stderr",
     "output_type": "stream",
     "text": [
      "Using simplified polygon (for CMR request only!), 5 points using tolerance of 0.01\n",
      "Using simplified polygon (for CMR request only!), 5 points using tolerance of 0.01\n",
      "Using simplified polygon (for CMR request only!), 5 points using tolerance of 0.01\n",
      "Unable to complete request due to errors\n"
     ]
    },
    {
     "name": "stdout",
     "output_type": "stream",
     "text": [
      "no. of photons: 0\n",
      "downloading ATL03 for mpoPmzaVikingBuoysTimeseries 2021-03-04T05:03:53Z\n"
     ]
    },
    {
     "name": "stderr",
     "output_type": "stream",
     "text": [
      "Using simplified polygon (for CMR request only!), 5 points using tolerance of 0.01\n",
      "Using simplified polygon (for CMR request only!), 5 points using tolerance of 0.01\n",
      "Using simplified polygon (for CMR request only!), 5 points using tolerance of 0.01\n",
      "Unable to complete request due to errors\n"
     ]
    },
    {
     "name": "stdout",
     "output_type": "stream",
     "text": [
      "no. of photons: 0\n"
     ]
    },
    {
     "name": "stderr",
     "output_type": "stream",
     "text": [
      "HTTP Request Error: Too Many Requests\n",
      "Using simplified polygon (for CMR request only!), 5 points using tolerance of 0.0001\n",
      "HTTP Request Error: Too Many Requests\n",
      "Using simplified polygon (for CMR request only!), 5 points using tolerance of 0.001\n",
      "HTTP Request Error: Too Many Requests\n",
      "Using simplified polygon (for CMR request only!), 5 points using tolerance of 0.01\n",
      "HTTP Request Error: Too Many Requests\n",
      "Using simplified polygon (for CMR request only!), 5 points using tolerance of 0.1\n",
      "HTTP Request Error: Too Many Requests\n",
      "Using simplified polygon (for CMR request only!), 5 points using tolerance of 1.0\n",
      "HTTP Request Error: Too Many Requests\n",
      "HTTP Request Error: Too Many Requests\n",
      "Using simplified polygon (for CMR request only!), 5 points using tolerance of 0.0001\n",
      "HTTP Request Error: Too Many Requests\n",
      "Using simplified polygon (for CMR request only!), 5 points using tolerance of 0.001\n",
      "HTTP Request Error: Too Many Requests\n",
      "Using simplified polygon (for CMR request only!), 5 points using tolerance of 0.01\n",
      "HTTP Request Error: Too Many Requests\n",
      "Using simplified polygon (for CMR request only!), 5 points using tolerance of 0.1\n",
      "HTTP Request Error: Too Many Requests\n",
      "Using simplified polygon (for CMR request only!), 5 points using tolerance of 1.0\n",
      "HTTP Request Error: Too Many Requests\n",
      "HTTP Request Error: Too Many Requests\n",
      "Using simplified polygon (for CMR request only!), 5 points using tolerance of 0.0001\n",
      "HTTP Request Error: Too Many Requests\n",
      "Using simplified polygon (for CMR request only!), 5 points using tolerance of 0.001\n",
      "HTTP Request Error: Too Many Requests\n",
      "Using simplified polygon (for CMR request only!), 5 points using tolerance of 0.01\n",
      "HTTP Request Error: Too Many Requests\n",
      "Using simplified polygon (for CMR request only!), 5 points using tolerance of 0.1\n",
      "HTTP Request Error: Too Many Requests\n",
      "Using simplified polygon (for CMR request only!), 5 points using tolerance of 1.0\n",
      "HTTP Request Error: Too Many Requests\n",
      "HTTP Request Error: Too Many Requests\n",
      "Using simplified polygon (for CMR request only!), 5 points using tolerance of 0.0001\n",
      "HTTP Request Error: Too Many Requests\n",
      "Using simplified polygon (for CMR request only!), 5 points using tolerance of 0.001\n",
      "HTTP Request Error: Too Many Requests\n",
      "Using simplified polygon (for CMR request only!), 5 points using tolerance of 0.01\n",
      "HTTP Request Error: Too Many Requests\n",
      "Using simplified polygon (for CMR request only!), 5 points using tolerance of 0.1\n",
      "HTTP Request Error: Too Many Requests\n",
      "Using simplified polygon (for CMR request only!), 5 points using tolerance of 1.0\n",
      "HTTP Request Error: Too Many Requests\n",
      "HTTP Request Error: Too Many Requests\n",
      "Using simplified polygon (for CMR request only!), 5 points using tolerance of 0.0001\n",
      "HTTP Request Error: Too Many Requests\n",
      "Using simplified polygon (for CMR request only!), 5 points using tolerance of 0.001\n",
      "HTTP Request Error: Too Many Requests\n",
      "Using simplified polygon (for CMR request only!), 5 points using tolerance of 0.01\n",
      "HTTP Request Error: Too Many Requests\n",
      "Using simplified polygon (for CMR request only!), 5 points using tolerance of 0.1\n",
      "HTTP Request Error: Too Many Requests\n",
      "Using simplified polygon (for CMR request only!), 5 points using tolerance of 1.0\n",
      "HTTP Request Error: Too Many Requests\n",
      "HTTP Request Error: Too Many Requests\n",
      "Using simplified polygon (for CMR request only!), 5 points using tolerance of 0.0001\n",
      "HTTP Request Error: Too Many Requests\n",
      "Using simplified polygon (for CMR request only!), 5 points using tolerance of 0.001\n",
      "HTTP Request Error: Too Many Requests\n",
      "Using simplified polygon (for CMR request only!), 5 points using tolerance of 0.01\n",
      "HTTP Request Error: Too Many Requests\n",
      "Using simplified polygon (for CMR request only!), 5 points using tolerance of 0.1\n",
      "HTTP Request Error: Too Many Requests\n",
      "Using simplified polygon (for CMR request only!), 5 points using tolerance of 1.0\n",
      "HTTP Request Error: Too Many Requests\n",
      "HTTP Request Error: Too Many Requests\n",
      "Using simplified polygon (for CMR request only!), 5 points using tolerance of 0.0001\n",
      "HTTP Request Error: Too Many Requests\n",
      "Using simplified polygon (for CMR request only!), 5 points using tolerance of 0.001\n",
      "HTTP Request Error: Too Many Requests\n",
      "Using simplified polygon (for CMR request only!), 5 points using tolerance of 0.01\n",
      "HTTP Request Error: Too Many Requests\n",
      "Using simplified polygon (for CMR request only!), 5 points using tolerance of 0.1\n",
      "HTTP Request Error: Too Many Requests\n",
      "Using simplified polygon (for CMR request only!), 5 points using tolerance of 1.0\n",
      "HTTP Request Error: Too Many Requests\n",
      "HTTP Request Error: Too Many Requests\n",
      "Using simplified polygon (for CMR request only!), 5 points using tolerance of 0.0001\n",
      "HTTP Request Error: Too Many Requests\n",
      "Using simplified polygon (for CMR request only!), 5 points using tolerance of 0.001\n",
      "HTTP Request Error: Too Many Requests\n",
      "Using simplified polygon (for CMR request only!), 5 points using tolerance of 0.01\n",
      "HTTP Request Error: Too Many Requests\n",
      "Using simplified polygon (for CMR request only!), 5 points using tolerance of 0.1\n",
      "HTTP Request Error: Too Many Requests\n",
      "Using simplified polygon (for CMR request only!), 5 points using tolerance of 1.0\n",
      "HTTP Request Error: Too Many Requests\n",
      "HTTP Request Error: Too Many Requests\n",
      "Using simplified polygon (for CMR request only!), 5 points using tolerance of 0.0001\n",
      "HTTP Request Error: Too Many Requests\n",
      "Using simplified polygon (for CMR request only!), 5 points using tolerance of 0.001\n",
      "HTTP Request Error: Too Many Requests\n",
      "Using simplified polygon (for CMR request only!), 5 points using tolerance of 0.01\n",
      "HTTP Request Error: Too Many Requests\n",
      "Using simplified polygon (for CMR request only!), 5 points using tolerance of 0.1\n",
      "HTTP Request Error: Too Many Requests\n",
      "Using simplified polygon (for CMR request only!), 5 points using tolerance of 1.0\n",
      "HTTP Request Error: Too Many Requests\n",
      "HTTP Request Error: Too Many Requests\n",
      "Using simplified polygon (for CMR request only!), 5 points using tolerance of 0.0001\n",
      "HTTP Request Error: Too Many Requests\n",
      "Using simplified polygon (for CMR request only!), 5 points using tolerance of 0.001\n",
      "HTTP Request Error: Too Many Requests\n",
      "Using simplified polygon (for CMR request only!), 5 points using tolerance of 0.01\n",
      "HTTP Request Error: Too Many Requests\n",
      "Using simplified polygon (for CMR request only!), 5 points using tolerance of 0.1\n",
      "HTTP Request Error: Too Many Requests\n",
      "Using simplified polygon (for CMR request only!), 5 points using tolerance of 1.0\n"
     ]
    },
    {
     "ename": "KeyboardInterrupt",
     "evalue": "",
     "output_type": "error",
     "traceback": [
      "\u001b[0;31m---------------------------------------------------------------------------\u001b[0m",
      "\u001b[0;31mKeyboardInterrupt\u001b[0m                         Traceback (most recent call last)",
      "Cell \u001b[0;32mIn[6], line 9\u001b[0m\n\u001b[1;32m      6\u001b[0m poly \u001b[38;5;241m=\u001b[39m buoy_bound_box(lat,lon,\u001b[38;5;241m0.5\u001b[39m)\n\u001b[1;32m      8\u001b[0m \u001b[38;5;66;03m# search CMR for ATL03 granules in the bounding box\u001b[39;00m\n\u001b[0;32m----> 9\u001b[0m grns \u001b[38;5;241m=\u001b[39m \u001b[43mearthdata\u001b[49m\u001b[38;5;241;43m.\u001b[39;49m\u001b[43mcmr\u001b[49m\u001b[43m(\u001b[49m\u001b[43mshort_name\u001b[49m\u001b[38;5;241;43m=\u001b[39;49m\u001b[38;5;124;43m\"\u001b[39;49m\u001b[38;5;124;43mATL03\u001b[39;49m\u001b[38;5;124;43m\"\u001b[39;49m\u001b[43m,\u001b[49m\n\u001b[1;32m     10\u001b[0m \u001b[43m                     \u001b[49m\u001b[43mpolygon\u001b[49m\u001b[38;5;241;43m=\u001b[39;49m\u001b[43mpoly\u001b[49m\u001b[43m,\u001b[49m\n\u001b[1;32m     11\u001b[0m \u001b[43m                     \u001b[49m\u001b[43mversion\u001b[49m\u001b[38;5;241;43m=\u001b[39;49m\u001b[38;5;124;43m'\u001b[39;49m\u001b[38;5;124;43m006\u001b[39;49m\u001b[38;5;124;43m'\u001b[39;49m\u001b[43m)\u001b[49m\n\u001b[1;32m     12\u001b[0m \u001b[38;5;66;03m# save the times for each granule as a datetime object\u001b[39;00m\n\u001b[1;32m     13\u001b[0m icesat_times \u001b[38;5;241m=\u001b[39m [fname2datetime(fname) \u001b[38;5;28;01mfor\u001b[39;00m fname \u001b[38;5;129;01min\u001b[39;00m grns]\n",
      "File \u001b[0;32m/srv/conda/envs/notebook/lib/python3.11/site-packages/sliderule/earthdata.py:586\u001b[0m, in \u001b[0;36mcmr\u001b[0;34m(short_name, version, polygon, time_start, time_end, return_metadata, name_filter)\u001b[0m\n\u001b[1;32m    583\u001b[0m polygons \u001b[38;5;241m=\u001b[39m __format_polygons(polygon)\n\u001b[1;32m    585\u001b[0m \u001b[38;5;66;03m# perform query\u001b[39;00m\n\u001b[0;32m--> 586\u001b[0m \u001b[38;5;28;01mreturn\u001b[39;00m \u001b[43m__cmr_search\u001b[49m\u001b[43m(\u001b[49m\u001b[43mprovider\u001b[49m\u001b[43m,\u001b[49m\u001b[43m \u001b[49m\u001b[43mshort_name\u001b[49m\u001b[43m,\u001b[49m\u001b[43m \u001b[49m\u001b[43mversion\u001b[49m\u001b[43m,\u001b[49m\u001b[43m \u001b[49m\u001b[43mpolygons\u001b[49m\u001b[43m,\u001b[49m\u001b[43m \u001b[49m\u001b[43mtime_start\u001b[49m\u001b[43m,\u001b[49m\u001b[43m \u001b[49m\u001b[43mtime_end\u001b[49m\u001b[43m,\u001b[49m\u001b[43m \u001b[49m\u001b[43mreturn_metadata\u001b[49m\u001b[43m,\u001b[49m\u001b[43m \u001b[49m\u001b[43mname_filter\u001b[49m\u001b[43m)\u001b[49m\n",
      "File \u001b[0;32m/srv/conda/envs/notebook/lib/python3.11/site-packages/sliderule/earthdata.py:328\u001b[0m, in \u001b[0;36m__cmr_search\u001b[0;34m(provider, short_name, version, polygons, time_start, time_end, return_metadata, name_filter)\u001b[0m\n\u001b[1;32m    326\u001b[0m \u001b[38;5;66;03m# call into NSIDC routines to make CMR request\u001b[39;00m\n\u001b[1;32m    327\u001b[0m \u001b[38;5;28;01mtry\u001b[39;00m:\n\u001b[0;32m--> 328\u001b[0m     urls,metadata \u001b[38;5;241m=\u001b[39m \u001b[43m__cmr_query\u001b[49m\u001b[43m(\u001b[49m\u001b[43mprovider\u001b[49m\u001b[43m,\u001b[49m\u001b[43m \u001b[49m\u001b[43mshort_name\u001b[49m\u001b[43m,\u001b[49m\u001b[43m \u001b[49m\u001b[43mversion\u001b[49m\u001b[43m,\u001b[49m\u001b[43m \u001b[49m\u001b[43mtime_start\u001b[49m\u001b[43m,\u001b[49m\u001b[43m \u001b[49m\u001b[43mtime_end\u001b[49m\u001b[43m,\u001b[49m\u001b[43m \u001b[49m\u001b[43mpolygon\u001b[49m\u001b[38;5;241;43m=\u001b[39;49m\u001b[43mpolystr\u001b[49m\u001b[43m,\u001b[49m\u001b[43m \u001b[49m\u001b[43mreturn_metadata\u001b[49m\u001b[38;5;241;43m=\u001b[39;49m\u001b[43mreturn_metadata\u001b[49m\u001b[43m,\u001b[49m\u001b[43m \u001b[49m\u001b[43mname_filter\u001b[49m\u001b[38;5;241;43m=\u001b[39;49m\u001b[43mname_filter\u001b[49m\u001b[43m)\u001b[49m\n\u001b[1;32m    329\u001b[0m     \u001b[38;5;28;01mbreak\u001b[39;00m \u001b[38;5;66;03m# exit loop because cmr search was successful\u001b[39;00m\n\u001b[1;32m    330\u001b[0m \u001b[38;5;28;01mexcept\u001b[39;00m urllib\u001b[38;5;241m.\u001b[39merror\u001b[38;5;241m.\u001b[39mHTTPError \u001b[38;5;28;01mas\u001b[39;00m e:\n",
      "File \u001b[0;32m/srv/conda/envs/notebook/lib/python3.11/site-packages/sliderule/earthdata.py:271\u001b[0m, in \u001b[0;36m__cmr_query\u001b[0;34m(provider, short_name, version, time_start, time_end, **kwargs)\u001b[0m\n\u001b[1;32m    269\u001b[0m \u001b[38;5;28;01mif\u001b[39;00m cmr_scroll_id:\n\u001b[1;32m    270\u001b[0m     req\u001b[38;5;241m.\u001b[39madd_header(\u001b[38;5;124m'\u001b[39m\u001b[38;5;124mcmr-scroll-id\u001b[39m\u001b[38;5;124m'\u001b[39m, cmr_scroll_id)\n\u001b[0;32m--> 271\u001b[0m response \u001b[38;5;241m=\u001b[39m \u001b[43murllib\u001b[49m\u001b[38;5;241;43m.\u001b[39;49m\u001b[43mrequest\u001b[49m\u001b[38;5;241;43m.\u001b[39;49m\u001b[43murlopen\u001b[49m\u001b[43m(\u001b[49m\u001b[43mreq\u001b[49m\u001b[43m,\u001b[49m\u001b[43m \u001b[49m\u001b[43mcontext\u001b[49m\u001b[38;5;241;43m=\u001b[39;49m\u001b[43mctx\u001b[49m\u001b[43m)\u001b[49m\n\u001b[1;32m    272\u001b[0m \u001b[38;5;28;01mif\u001b[39;00m \u001b[38;5;129;01mnot\u001b[39;00m cmr_scroll_id:\n\u001b[1;32m    273\u001b[0m     \u001b[38;5;66;03m# Python 2 and 3 have different case for the http headers\u001b[39;00m\n\u001b[1;32m    274\u001b[0m     headers \u001b[38;5;241m=\u001b[39m {k\u001b[38;5;241m.\u001b[39mlower(): v \u001b[38;5;28;01mfor\u001b[39;00m k, v \u001b[38;5;129;01min\u001b[39;00m \u001b[38;5;28mdict\u001b[39m(response\u001b[38;5;241m.\u001b[39minfo())\u001b[38;5;241m.\u001b[39mitems()}\n",
      "File \u001b[0;32m/srv/conda/envs/notebook/lib/python3.11/urllib/request.py:216\u001b[0m, in \u001b[0;36murlopen\u001b[0;34m(url, data, timeout, cafile, capath, cadefault, context)\u001b[0m\n\u001b[1;32m    214\u001b[0m \u001b[38;5;28;01melse\u001b[39;00m:\n\u001b[1;32m    215\u001b[0m     opener \u001b[38;5;241m=\u001b[39m _opener\n\u001b[0;32m--> 216\u001b[0m \u001b[38;5;28;01mreturn\u001b[39;00m \u001b[43mopener\u001b[49m\u001b[38;5;241;43m.\u001b[39;49m\u001b[43mopen\u001b[49m\u001b[43m(\u001b[49m\u001b[43murl\u001b[49m\u001b[43m,\u001b[49m\u001b[43m \u001b[49m\u001b[43mdata\u001b[49m\u001b[43m,\u001b[49m\u001b[43m \u001b[49m\u001b[43mtimeout\u001b[49m\u001b[43m)\u001b[49m\n",
      "File \u001b[0;32m/srv/conda/envs/notebook/lib/python3.11/urllib/request.py:519\u001b[0m, in \u001b[0;36mOpenerDirector.open\u001b[0;34m(self, fullurl, data, timeout)\u001b[0m\n\u001b[1;32m    516\u001b[0m     req \u001b[38;5;241m=\u001b[39m meth(req)\n\u001b[1;32m    518\u001b[0m sys\u001b[38;5;241m.\u001b[39maudit(\u001b[38;5;124m'\u001b[39m\u001b[38;5;124murllib.Request\u001b[39m\u001b[38;5;124m'\u001b[39m, req\u001b[38;5;241m.\u001b[39mfull_url, req\u001b[38;5;241m.\u001b[39mdata, req\u001b[38;5;241m.\u001b[39mheaders, req\u001b[38;5;241m.\u001b[39mget_method())\n\u001b[0;32m--> 519\u001b[0m response \u001b[38;5;241m=\u001b[39m \u001b[38;5;28;43mself\u001b[39;49m\u001b[38;5;241;43m.\u001b[39;49m\u001b[43m_open\u001b[49m\u001b[43m(\u001b[49m\u001b[43mreq\u001b[49m\u001b[43m,\u001b[49m\u001b[43m \u001b[49m\u001b[43mdata\u001b[49m\u001b[43m)\u001b[49m\n\u001b[1;32m    521\u001b[0m \u001b[38;5;66;03m# post-process response\u001b[39;00m\n\u001b[1;32m    522\u001b[0m meth_name \u001b[38;5;241m=\u001b[39m protocol\u001b[38;5;241m+\u001b[39m\u001b[38;5;124m\"\u001b[39m\u001b[38;5;124m_response\u001b[39m\u001b[38;5;124m\"\u001b[39m\n",
      "File \u001b[0;32m/srv/conda/envs/notebook/lib/python3.11/urllib/request.py:536\u001b[0m, in \u001b[0;36mOpenerDirector._open\u001b[0;34m(self, req, data)\u001b[0m\n\u001b[1;32m    533\u001b[0m     \u001b[38;5;28;01mreturn\u001b[39;00m result\n\u001b[1;32m    535\u001b[0m protocol \u001b[38;5;241m=\u001b[39m req\u001b[38;5;241m.\u001b[39mtype\n\u001b[0;32m--> 536\u001b[0m result \u001b[38;5;241m=\u001b[39m \u001b[38;5;28;43mself\u001b[39;49m\u001b[38;5;241;43m.\u001b[39;49m\u001b[43m_call_chain\u001b[49m\u001b[43m(\u001b[49m\u001b[38;5;28;43mself\u001b[39;49m\u001b[38;5;241;43m.\u001b[39;49m\u001b[43mhandle_open\u001b[49m\u001b[43m,\u001b[49m\u001b[43m \u001b[49m\u001b[43mprotocol\u001b[49m\u001b[43m,\u001b[49m\u001b[43m \u001b[49m\u001b[43mprotocol\u001b[49m\u001b[43m \u001b[49m\u001b[38;5;241;43m+\u001b[39;49m\n\u001b[1;32m    537\u001b[0m \u001b[43m                          \u001b[49m\u001b[38;5;124;43m'\u001b[39;49m\u001b[38;5;124;43m_open\u001b[39;49m\u001b[38;5;124;43m'\u001b[39;49m\u001b[43m,\u001b[49m\u001b[43m \u001b[49m\u001b[43mreq\u001b[49m\u001b[43m)\u001b[49m\n\u001b[1;32m    538\u001b[0m \u001b[38;5;28;01mif\u001b[39;00m result:\n\u001b[1;32m    539\u001b[0m     \u001b[38;5;28;01mreturn\u001b[39;00m result\n",
      "File \u001b[0;32m/srv/conda/envs/notebook/lib/python3.11/urllib/request.py:496\u001b[0m, in \u001b[0;36mOpenerDirector._call_chain\u001b[0;34m(self, chain, kind, meth_name, *args)\u001b[0m\n\u001b[1;32m    494\u001b[0m \u001b[38;5;28;01mfor\u001b[39;00m handler \u001b[38;5;129;01min\u001b[39;00m handlers:\n\u001b[1;32m    495\u001b[0m     func \u001b[38;5;241m=\u001b[39m \u001b[38;5;28mgetattr\u001b[39m(handler, meth_name)\n\u001b[0;32m--> 496\u001b[0m     result \u001b[38;5;241m=\u001b[39m \u001b[43mfunc\u001b[49m\u001b[43m(\u001b[49m\u001b[38;5;241;43m*\u001b[39;49m\u001b[43margs\u001b[49m\u001b[43m)\u001b[49m\n\u001b[1;32m    497\u001b[0m     \u001b[38;5;28;01mif\u001b[39;00m result \u001b[38;5;129;01mis\u001b[39;00m \u001b[38;5;129;01mnot\u001b[39;00m \u001b[38;5;28;01mNone\u001b[39;00m:\n\u001b[1;32m    498\u001b[0m         \u001b[38;5;28;01mreturn\u001b[39;00m result\n",
      "File \u001b[0;32m/srv/conda/envs/notebook/lib/python3.11/urllib/request.py:1391\u001b[0m, in \u001b[0;36mHTTPSHandler.https_open\u001b[0;34m(self, req)\u001b[0m\n\u001b[1;32m   1390\u001b[0m \u001b[38;5;28;01mdef\u001b[39;00m \u001b[38;5;21mhttps_open\u001b[39m(\u001b[38;5;28mself\u001b[39m, req):\n\u001b[0;32m-> 1391\u001b[0m     \u001b[38;5;28;01mreturn\u001b[39;00m \u001b[38;5;28;43mself\u001b[39;49m\u001b[38;5;241;43m.\u001b[39;49m\u001b[43mdo_open\u001b[49m\u001b[43m(\u001b[49m\u001b[43mhttp\u001b[49m\u001b[38;5;241;43m.\u001b[39;49m\u001b[43mclient\u001b[49m\u001b[38;5;241;43m.\u001b[39;49m\u001b[43mHTTPSConnection\u001b[49m\u001b[43m,\u001b[49m\u001b[43m \u001b[49m\u001b[43mreq\u001b[49m\u001b[43m,\u001b[49m\n\u001b[1;32m   1392\u001b[0m \u001b[43m        \u001b[49m\u001b[43mcontext\u001b[49m\u001b[38;5;241;43m=\u001b[39;49m\u001b[38;5;28;43mself\u001b[39;49m\u001b[38;5;241;43m.\u001b[39;49m\u001b[43m_context\u001b[49m\u001b[43m,\u001b[49m\u001b[43m \u001b[49m\u001b[43mcheck_hostname\u001b[49m\u001b[38;5;241;43m=\u001b[39;49m\u001b[38;5;28;43mself\u001b[39;49m\u001b[38;5;241;43m.\u001b[39;49m\u001b[43m_check_hostname\u001b[49m\u001b[43m)\u001b[49m\n",
      "File \u001b[0;32m/srv/conda/envs/notebook/lib/python3.11/urllib/request.py:1352\u001b[0m, in \u001b[0;36mAbstractHTTPHandler.do_open\u001b[0;34m(self, http_class, req, **http_conn_args)\u001b[0m\n\u001b[1;32m   1350\u001b[0m     \u001b[38;5;28;01mexcept\u001b[39;00m \u001b[38;5;167;01mOSError\u001b[39;00m \u001b[38;5;28;01mas\u001b[39;00m err: \u001b[38;5;66;03m# timeout error\u001b[39;00m\n\u001b[1;32m   1351\u001b[0m         \u001b[38;5;28;01mraise\u001b[39;00m URLError(err)\n\u001b[0;32m-> 1352\u001b[0m     r \u001b[38;5;241m=\u001b[39m \u001b[43mh\u001b[49m\u001b[38;5;241;43m.\u001b[39;49m\u001b[43mgetresponse\u001b[49m\u001b[43m(\u001b[49m\u001b[43m)\u001b[49m\n\u001b[1;32m   1353\u001b[0m \u001b[38;5;28;01mexcept\u001b[39;00m:\n\u001b[1;32m   1354\u001b[0m     h\u001b[38;5;241m.\u001b[39mclose()\n",
      "File \u001b[0;32m/srv/conda/envs/notebook/lib/python3.11/http/client.py:1395\u001b[0m, in \u001b[0;36mHTTPConnection.getresponse\u001b[0;34m(self)\u001b[0m\n\u001b[1;32m   1393\u001b[0m \u001b[38;5;28;01mtry\u001b[39;00m:\n\u001b[1;32m   1394\u001b[0m     \u001b[38;5;28;01mtry\u001b[39;00m:\n\u001b[0;32m-> 1395\u001b[0m         \u001b[43mresponse\u001b[49m\u001b[38;5;241;43m.\u001b[39;49m\u001b[43mbegin\u001b[49m\u001b[43m(\u001b[49m\u001b[43m)\u001b[49m\n\u001b[1;32m   1396\u001b[0m     \u001b[38;5;28;01mexcept\u001b[39;00m \u001b[38;5;167;01mConnectionError\u001b[39;00m:\n\u001b[1;32m   1397\u001b[0m         \u001b[38;5;28mself\u001b[39m\u001b[38;5;241m.\u001b[39mclose()\n",
      "File \u001b[0;32m/srv/conda/envs/notebook/lib/python3.11/http/client.py:325\u001b[0m, in \u001b[0;36mHTTPResponse.begin\u001b[0;34m(self)\u001b[0m\n\u001b[1;32m    323\u001b[0m \u001b[38;5;66;03m# read until we get a non-100 response\u001b[39;00m\n\u001b[1;32m    324\u001b[0m \u001b[38;5;28;01mwhile\u001b[39;00m \u001b[38;5;28;01mTrue\u001b[39;00m:\n\u001b[0;32m--> 325\u001b[0m     version, status, reason \u001b[38;5;241m=\u001b[39m \u001b[38;5;28;43mself\u001b[39;49m\u001b[38;5;241;43m.\u001b[39;49m\u001b[43m_read_status\u001b[49m\u001b[43m(\u001b[49m\u001b[43m)\u001b[49m\n\u001b[1;32m    326\u001b[0m     \u001b[38;5;28;01mif\u001b[39;00m status \u001b[38;5;241m!=\u001b[39m CONTINUE:\n\u001b[1;32m    327\u001b[0m         \u001b[38;5;28;01mbreak\u001b[39;00m\n",
      "File \u001b[0;32m/srv/conda/envs/notebook/lib/python3.11/http/client.py:286\u001b[0m, in \u001b[0;36mHTTPResponse._read_status\u001b[0;34m(self)\u001b[0m\n\u001b[1;32m    285\u001b[0m \u001b[38;5;28;01mdef\u001b[39;00m \u001b[38;5;21m_read_status\u001b[39m(\u001b[38;5;28mself\u001b[39m):\n\u001b[0;32m--> 286\u001b[0m     line \u001b[38;5;241m=\u001b[39m \u001b[38;5;28mstr\u001b[39m(\u001b[38;5;28mself\u001b[39m\u001b[38;5;241m.\u001b[39mfp\u001b[38;5;241m.\u001b[39mreadline(_MAXLINE \u001b[38;5;241m+\u001b[39m \u001b[38;5;241m1\u001b[39m), \u001b[38;5;124m\"\u001b[39m\u001b[38;5;124miso-8859-1\u001b[39m\u001b[38;5;124m\"\u001b[39m)\n\u001b[1;32m    287\u001b[0m     \u001b[38;5;28;01mif\u001b[39;00m \u001b[38;5;28mlen\u001b[39m(line) \u001b[38;5;241m>\u001b[39m _MAXLINE:\n\u001b[1;32m    288\u001b[0m         \u001b[38;5;28;01mraise\u001b[39;00m LineTooLong(\u001b[38;5;124m\"\u001b[39m\u001b[38;5;124mstatus line\u001b[39m\u001b[38;5;124m\"\u001b[39m)\n",
      "File \u001b[0;32m/srv/conda/envs/notebook/lib/python3.11/socket.py:706\u001b[0m, in \u001b[0;36mSocketIO.readinto\u001b[0;34m(self, b)\u001b[0m\n\u001b[1;32m    704\u001b[0m \u001b[38;5;28;01mwhile\u001b[39;00m \u001b[38;5;28;01mTrue\u001b[39;00m:\n\u001b[1;32m    705\u001b[0m     \u001b[38;5;28;01mtry\u001b[39;00m:\n\u001b[0;32m--> 706\u001b[0m         \u001b[38;5;28;01mreturn\u001b[39;00m \u001b[38;5;28;43mself\u001b[39;49m\u001b[38;5;241;43m.\u001b[39;49m\u001b[43m_sock\u001b[49m\u001b[38;5;241;43m.\u001b[39;49m\u001b[43mrecv_into\u001b[49m\u001b[43m(\u001b[49m\u001b[43mb\u001b[49m\u001b[43m)\u001b[49m\n\u001b[1;32m    707\u001b[0m     \u001b[38;5;28;01mexcept\u001b[39;00m timeout:\n\u001b[1;32m    708\u001b[0m         \u001b[38;5;28mself\u001b[39m\u001b[38;5;241m.\u001b[39m_timeout_occurred \u001b[38;5;241m=\u001b[39m \u001b[38;5;28;01mTrue\u001b[39;00m\n",
      "File \u001b[0;32m/srv/conda/envs/notebook/lib/python3.11/ssl.py:1314\u001b[0m, in \u001b[0;36mSSLSocket.recv_into\u001b[0;34m(self, buffer, nbytes, flags)\u001b[0m\n\u001b[1;32m   1310\u001b[0m     \u001b[38;5;28;01mif\u001b[39;00m flags \u001b[38;5;241m!=\u001b[39m \u001b[38;5;241m0\u001b[39m:\n\u001b[1;32m   1311\u001b[0m         \u001b[38;5;28;01mraise\u001b[39;00m \u001b[38;5;167;01mValueError\u001b[39;00m(\n\u001b[1;32m   1312\u001b[0m           \u001b[38;5;124m\"\u001b[39m\u001b[38;5;124mnon-zero flags not allowed in calls to recv_into() on \u001b[39m\u001b[38;5;132;01m%s\u001b[39;00m\u001b[38;5;124m\"\u001b[39m \u001b[38;5;241m%\u001b[39m\n\u001b[1;32m   1313\u001b[0m           \u001b[38;5;28mself\u001b[39m\u001b[38;5;241m.\u001b[39m\u001b[38;5;18m__class__\u001b[39m)\n\u001b[0;32m-> 1314\u001b[0m     \u001b[38;5;28;01mreturn\u001b[39;00m \u001b[38;5;28;43mself\u001b[39;49m\u001b[38;5;241;43m.\u001b[39;49m\u001b[43mread\u001b[49m\u001b[43m(\u001b[49m\u001b[43mnbytes\u001b[49m\u001b[43m,\u001b[49m\u001b[43m \u001b[49m\u001b[43mbuffer\u001b[49m\u001b[43m)\u001b[49m\n\u001b[1;32m   1315\u001b[0m \u001b[38;5;28;01melse\u001b[39;00m:\n\u001b[1;32m   1316\u001b[0m     \u001b[38;5;28;01mreturn\u001b[39;00m \u001b[38;5;28msuper\u001b[39m()\u001b[38;5;241m.\u001b[39mrecv_into(buffer, nbytes, flags)\n",
      "File \u001b[0;32m/srv/conda/envs/notebook/lib/python3.11/ssl.py:1166\u001b[0m, in \u001b[0;36mSSLSocket.read\u001b[0;34m(self, len, buffer)\u001b[0m\n\u001b[1;32m   1164\u001b[0m \u001b[38;5;28;01mtry\u001b[39;00m:\n\u001b[1;32m   1165\u001b[0m     \u001b[38;5;28;01mif\u001b[39;00m buffer \u001b[38;5;129;01mis\u001b[39;00m \u001b[38;5;129;01mnot\u001b[39;00m \u001b[38;5;28;01mNone\u001b[39;00m:\n\u001b[0;32m-> 1166\u001b[0m         \u001b[38;5;28;01mreturn\u001b[39;00m \u001b[38;5;28;43mself\u001b[39;49m\u001b[38;5;241;43m.\u001b[39;49m\u001b[43m_sslobj\u001b[49m\u001b[38;5;241;43m.\u001b[39;49m\u001b[43mread\u001b[49m\u001b[43m(\u001b[49m\u001b[38;5;28;43mlen\u001b[39;49m\u001b[43m,\u001b[49m\u001b[43m \u001b[49m\u001b[43mbuffer\u001b[49m\u001b[43m)\u001b[49m\n\u001b[1;32m   1167\u001b[0m     \u001b[38;5;28;01melse\u001b[39;00m:\n\u001b[1;32m   1168\u001b[0m         \u001b[38;5;28;01mreturn\u001b[39;00m \u001b[38;5;28mself\u001b[39m\u001b[38;5;241m.\u001b[39m_sslobj\u001b[38;5;241m.\u001b[39mread(\u001b[38;5;28mlen\u001b[39m)\n",
      "\u001b[0;31mKeyboardInterrupt\u001b[0m: "
     ]
    }
   ],
   "source": [
    "# loop through each buoy asset:\n",
    "for jj in range(len(FF)):\n",
    "    # define a search region around the buoy \n",
    "    lat = FF['geospatial_lat_min'][jj]\n",
    "    lon = FF['geospatial_lon_min'][jj]\n",
    "    poly = buoy_bound_box(lat,lon,0.5)\n",
    "\n",
    "    # search CMR for ATL03 granules in the bounding box\n",
    "    grns = earthdata.cmr(short_name=\"ATL03\",\n",
    "                         polygon=poly,\n",
    "                         version='006')\n",
    "    # save the times for each granule as a datetime object\n",
    "    icesat_times = [fname2datetime(fname) for fname in grns]\n",
    "\n",
    "    # set up erddap search for this server:\n",
    "    e = ERDDAP(\n",
    "    server=FF['sites'][jj], \n",
    "    protocol=\"tabledap\", # Want table data (not a grid map of data) \n",
    "    response=\"csv\") #in csv format for pandas\n",
    "\n",
    "    # now check if buoy data exists for these granules\\n\",\n",
    "    e = ERDDAP(server=FF['url'][jj],\n",
    "               protocol=\"tabledap\",\n",
    "               response=\"csv\")\n",
    "    e.dataset_id = FF['sites'][jj]\n",
    "\n",
    "    for t in icesat_times:\n",
    "        # add a time buffer (+/-1 hours) to search for relevant buoy data for each granule,\n",
    "        t_start = (t-timedelta(hours=1)).strftime(\"%Y-%m-%dT%H:%M:%SZ\")\n",
    "        t_end = (t+timedelta(hours=1)).strftime(\"%Y-%m-%dT%H:%M:%SZ\")\n",
    "        e.constraints = {\"time>=\": t_start,\n",
    "                        \"time<=\": t_end}\n",
    "\n",
    "        # try to download the associated buoy data\n",
    "        try:\n",
    "            buoy = e.to_pandas(parse_dates=True)\n",
    "        except:\n",
    "            continue\n",
    "        # if buoy data exists, download the ATL03 photons in the bounding box at this time\n",
    "        print('downloading ATL03 for '+ e.dataset_id + ' ' + str(t_start))\n",
    "        # Build ATL03 Request\n",
    "        poly = buoy_bound_box(lat,lon,1)       \n",
    "        parms = {\"poly\": poly,\n",
    "                 \"t0\": t_start,\n",
    "                 \"t1\": t_end,\n",
    "                 \"srt\": icesat2.SRT_OCEAN}\n",
    "        atl_gdb = icesat2.atl03sp(parms)\n",
    "        \n",
    "        if len(atl_gdb)>0:            \n",
    "            FF.loc[jj,\"photon_data\"] = True            \n",
    "            atl_gdb.to_pickle('icesat2_'+str(e.dataset_id)+'_'+str(t_start)+'.pkl')\n",
    "            print('no. of photons: '+str(len(atl_gdb)))\n"
   ]
  }
 ],
 "metadata": {
  "kernelspec": {
   "display_name": "Python 3 (ipykernel)",
   "language": "python",
   "name": "python3"
  },
  "language_info": {
   "codemirror_mode": {
    "name": "ipython",
    "version": 3
   },
   "file_extension": ".py",
   "mimetype": "text/x-python",
   "name": "python",
   "nbconvert_exporter": "python",
   "pygments_lexer": "ipython3",
   "version": "3.11.9"
  }
 },
 "nbformat": 4,
 "nbformat_minor": 5
}
