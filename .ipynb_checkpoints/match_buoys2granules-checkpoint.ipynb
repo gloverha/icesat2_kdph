{
 "cells": [
  {
   "cell_type": "markdown",
   "id": "e8ee7b13-ffc0-4421-97cb-d0521eda0e26",
   "metadata": {},
   "source": [
    "Goal: find ant buoy record that has ssc&chla and search for matching icesat2 granules\n",
    "\n",
    "To do:\n",
    "- Load info for 1 relevant station\n",
    "- Find all matching atl granules and save times from file names\n",
    "- Compare times to see if any matching buoy times"
   ]
  },
  {
   "cell_type": "code",
   "execution_count": 1,
   "id": "34db29e2-8ae8-4cc1-974f-5f1c6b5542d9",
   "metadata": {
    "scrolled": true
   },
   "outputs": [
    {
     "name": "stdout",
     "output_type": "stream",
     "text": [
      "Note: you may need to restart the kernel to use updated packages.\n"
     ]
    }
   ],
   "source": [
    "%pip install --quiet \"sliderule @ git+https://github.com/SlideRuleEarth/sliderule#subdirectory=clients/python\""
   ]
  },
  {
   "cell_type": "code",
   "execution_count": 2,
   "id": "e7ac0bb6-2b05-466a-b79e-2ca653da7401",
   "metadata": {},
   "outputs": [
    {
     "name": "stdout",
     "output_type": "stream",
     "text": [
      "Note: you may need to restart the kernel to use updated packages.\n"
     ]
    }
   ],
   "source": [
    "%pip install --quiet erddapy"
   ]
  },
  {
   "cell_type": "code",
   "execution_count": 1,
   "id": "950557e2-e65e-41e4-9e4e-e74111ba592c",
   "metadata": {},
   "outputs": [
    {
     "data": {
      "text/plain": [
       "True"
      ]
     },
     "execution_count": 1,
     "metadata": {},
     "output_type": "execute_result"
    }
   ],
   "source": [
    "from erddapy import ERDDAP\n",
    "import pandas as pd\n",
    "import numpy as np\n",
    "from sliderule import sliderule, icesat2, earthdata\n",
    "from datetime import datetime, timezone, timedelta\n",
    "\n",
    "pd.set_option('display.max_columns', None)\n",
    "# pd.set_option('display.max_rows', None)\n",
    "\n",
    "sliderule.init(verbose=False)"
   ]
  },
  {
   "cell_type": "code",
   "execution_count": 2,
   "id": "65db29b3-ac6e-44bb-a73c-65eb4949880f",
   "metadata": {},
   "outputs": [],
   "source": [
    "def fname2datetime(fname):\n",
    "    y = int(fname[6:10])\n",
    "    m = int(fname[10:12])\n",
    "    d = int(fname[12:14])\n",
    "    H = int(fname[14:16])\n",
    "    M = int(fname[16:18])\n",
    "    S = int(fname[18:20])\n",
    "\n",
    "    t = datetime(y,m,d,H,M,S, tzinfo=timezone.utc)\n",
    "    return t\n",
    "\n",
    "def buoy_bound_box(lat,lon,buffer_km):\n",
    "    # define a buffer distance around the buoy to search for icesat-2 data\n",
    "    lat_buff = buffer_km/111 # convert buffer distance to frac of 1 deg lat\n",
    "    lon_buff = buffer_km/(111*np.cos(lat*np.pi/180)) # convert buffer distance to frac of 1 deg lon\n",
    "    # define bounding box around the buoy (WSEN)\n",
    "    # example: bbox = [-108.3, 39.2, -107.8, 38.8]\n",
    "    # bbox = [lon-lon_buff,lat+lat_buff,lon+lon_buff,lat-lat_buff]\n",
    "    # region = sliderule.toregion(bbox)\n",
    "    minx = lon - lon_buff\n",
    "    miny = lat - lat_buff\n",
    "    maxx = lon + lon_buff\n",
    "    maxy = lat + lat_buff\n",
    "\n",
    "    poly = [{'lon': minx, 'lat': miny},\n",
    "            {'lon': maxx, 'lat': miny},\n",
    "            {'lon': maxx, 'lat': maxy},\n",
    "            {'lon': minx, 'lat': maxy},\n",
    "            {'lon': minx, 'lat': miny}] # Closing the loop by repeating the first point\n",
    "    return poly\n"
   ]
  },
  {
   "cell_type": "code",
   "execution_count": 3,
   "id": "fb5e01df-6f33-4f00-9909-31dad2c196cc",
   "metadata": {},
   "outputs": [],
   "source": [
    "# load a list of all the relevant ERDDAPs and their urls\n",
    "FF = pd.read_pickle(\"data/labeled_relevant_stations.pkl\")"
   ]
  },
  {
   "cell_type": "code",
   "execution_count": 4,
   "id": "132b8ab8-f0fb-44d2-ba8e-14c52ca4362f",
   "metadata": {},
   "outputs": [],
   "source": [
    "FF = FF[(FF.buoy == True) & ((FF.turb==True) | (FF.turbid==True) | (FF.ssc==True))]\n",
    "# # remove stations with PAR data in air or just no good data\n",
    "# FF = FF[19:]\n",
    "# FF = FF.drop(index=[34,35,36,37,39,40])\n",
    "FF.reset_index(drop=True, inplace=True)\n",
    "\n",
    "FF[\"geospatial_lat_min\"] = pd.to_numeric(FF[\"geospatial_lat_min\"])\n",
    "FF[\"geospatial_lon_min\"] = pd.to_numeric(FF[\"geospatial_lon_min\"])\n",
    "FF[\"geospatial_lat_max\"] = pd.to_numeric(FF[\"geospatial_lat_max\"])\n",
    "FF[\"geospatial_lon_max\"] = pd.to_numeric(FF[\"geospatial_lon_max\"])\n",
    "FF[\"photon_data\"] = False\n",
    "\n",
    "# FF"
   ]
  },
  {
   "cell_type": "code",
   "execution_count": null,
   "id": "88b5d7a0-4f0a-412e-ae47-70428e04ae44",
   "metadata": {},
   "outputs": [
    {
     "name": "stdout",
     "output_type": "stream",
     "text": [
      "working on 60/137\n",
      "success URI_169-QP_BottomSonde 2019-10-05T21:06:51Z\n",
      "no. of photons: 31673\n",
      "success URI_169-QP_BottomSonde 2020-08-04T18:49:42Z\n",
      "no. of photons: 16218\n",
      "success URI_169-QP_BottomSonde 2020-10-03T03:45:52Z\n",
      "no. of photons: 63607\n",
      "success URI_169-QP_BottomSonde 2020-11-03T14:29:30Z\n",
      "no. of photons: 22340\n",
      "working on 61/137\n",
      "success URI_169-QP_SurfaceSonde 2019-10-05T21:06:51Z\n",
      "no. of photons: 31673\n",
      "success URI_169-QP_SurfaceSonde 2020-08-04T18:49:42Z\n",
      "no. of photons: 16218\n",
      "success URI_169-QP_SurfaceSonde 2020-10-03T03:45:52Z\n",
      "no. of photons: 63607\n",
      "success URI_169-QP_SurfaceSonde 2020-11-03T14:29:30Z\n",
      "no. of photons: 22340\n",
      "working on 62/137\n",
      "success URI_CPoint_SurfaceSonde 2019-09-05T10:46:33Z\n",
      "no. of photons: 261895\n",
      "success URI_CPoint_SurfaceSonde 2019-11-06T07:50:23Z\n",
      "no. of photons: 32385\n",
      "success URI_CPoint_SurfaceSonde 2020-07-04T08:06:08Z\n",
      "no. of photons: 479011\n",
      "success URI_CPoint_SurfaceSonde 2020-10-03T03:45:52Z\n",
      "no. of photons: 124279\n",
      "working on 63/137\n",
      "success URI_GBay_BottomSonde 2018-11-08T01:11:24Z\n",
      "no. of photons: 1823\n",
      "success URI_GBay_BottomSonde 2019-10-05T21:06:51Z\n",
      "no. of photons: 44848\n",
      "success URI_GBay_BottomSonde 2020-02-05T03:30:07Z\n",
      "no. of photons: 290\n",
      "success URI_GBay_BottomSonde 2020-03-06T13:50:18Z\n",
      "no. of photons: 51337\n",
      "success URI_GBay_BottomSonde 2020-04-04T12:26:22Z\n",
      "no. of photons: 39190\n",
      "working on 64/137\n",
      "success URI_GBay_SurfaceSonde 2018-11-08T01:11:24Z\n",
      "no. of photons: 1823\n",
      "working on 65/137\n",
      "success URI_GSOPier_ExoTop 2018-11-08T01:11:24Z\n",
      "no. of photons: 226\n",
      "success URI_GSOPier_ExoTop 2019-05-08T16:30:48Z\n",
      "no. of photons: 29902\n",
      "success URI_GSOPier_ExoTop 2019-09-05T10:46:33Z\n",
      "no. of photons: 26995\n",
      "success URI_GSOPier_ExoTop 2019-10-05T21:06:51Z\n",
      "no. of photons: 34369\n",
      "success URI_GSOPier_ExoTop 2019-11-06T07:50:23Z\n",
      "no. of photons: 17175\n",
      "success URI_GSOPier_ExoTop 2020-04-04T12:26:22Z\n",
      "no. of photons: 62434\n",
      "success URI_GSOPier_ExoTop 2020-05-05T23:09:56Z\n",
      "no. of photons: 82577\n",
      "success URI_GSOPier_ExoTop 2020-10-03T03:45:52Z\n",
      "no. of photons: 50000\n",
      "working on 66/137\n",
      "success URI_NP_SurfaceSonde 2019-09-05T10:46:33Z\n",
      "no. of photons: 166094\n",
      "working on 67/137\n",
      "success URI_PP_SurfaceSonde 2019-09-05T10:46:33Z\n",
      "no. of photons: 501872\n",
      "success URI_PP_SurfaceSonde 2019-11-06T07:50:23Z\n",
      "no. of photons: 33933\n",
      "success URI_PP_SurfaceSonde 2020-10-03T03:45:52Z\n",
      "no. of photons: 35320\n",
      "working on 68/137\n",
      "working on 69/137\n",
      "working on 70/137\n",
      "success ru33-20230122T1352 2023-02-02T11:27:48Z\n",
      "no. of photons: 333283\n",
      "success ru33-20230122T1352 2023-02-13T22:15:01Z\n",
      "no. of photons: 9958\n",
      "working on 71/137\n",
      "working on 72/137\n",
      "working on 73/137\n",
      "working on 74/137\n",
      "success wqb_04 2020-07-26T00:49:04Z\n",
      "no. of photons: 17980\n",
      "success wqb_04 2020-08-24T11:19:23Z\n",
      "no. of photons: 102405\n",
      "success wqb_04 2020-10-24T20:28:49Z\n",
      "no. of photons: 1861\n",
      "success wqb_04 2022-08-24T12:35:56Z\n",
      "no. of photons: 146444\n",
      "success wqb_04 2022-11-23T08:15:33Z\n",
      "no. of photons: 15362\n",
      "success wqb_04 2023-01-16T17:30:14Z\n",
      "no. of photons: 89098\n",
      "success wqb_04 2023-02-22T03:55:28Z\n",
      "no. of photons: 9695\n",
      "success wqb_04 2023-05-23T23:35:02Z\n",
      "no. of photons: 37031\n",
      "success wqb_04 2024-02-20T10:33:20Z\n",
      "no. of photons: 18564\n",
      "working on 75/137\n",
      "success wqb_05 2018-10-29T19:04:49Z\n",
      "no. of photons: 157339\n",
      "success wqb_05 2019-01-28T14:44:46Z\n",
      "no. of photons: 254970\n",
      "success wqb_05 2019-05-02T22:21:48Z\n",
      "no. of photons: 37470\n",
      "success wqb_05 2019-07-29T06:04:05Z\n",
      "no. of photons: 77861\n",
      "success wqb_05 2019-10-28T01:44:02Z\n",
      "no. of photons: 31954\n",
      "success wqb_05 2021-01-24T04:03:03Z\n",
      "no. of photons: 5805\n",
      "success wqb_05 2021-05-31T10:08:00Z\n",
      "no. of photons: 40415\n",
      "success wqb_05 2021-08-30T05:47:54Z\n",
      "no. of photons: 32559\n",
      "success wqb_05 2021-11-29T01:27:52Z\n",
      "no. of photons: 18261\n",
      "success wqb_05 2022-01-22T10:42:35Z\n",
      "no. of photons: 37728\n",
      "success wqb_05 2022-02-27T21:07:43Z\n",
      "no. of photons: 80821\n",
      "success wqb_05 2022-04-23T06:22:32Z\n",
      "no. of photons: 29003\n",
      "success wqb_05 2022-05-29T16:47:38Z\n",
      "no. of photons: 226042\n",
      "success wqb_05 2022-07-23T02:02:27Z\n",
      "no. of photons: 15452\n",
      "success wqb_05 2022-08-28T12:27:37Z\n",
      "no. of photons: 268856\n",
      "success wqb_05 2024-02-24T10:24:57Z\n",
      "no. of photons: 3502\n",
      "success wqb_05 2024-07-18T15:18:56Z\n",
      "no. of photons: 342814\n",
      "working on 76/137\n",
      "success clbf1-clb-water-quality-clam- 2019-04-13T06:21:58Z\n",
      "no. of photons: 87611\n",
      "success clbf1-clb-water-quality-clam- 2019-05-27T16:14:44Z\n",
      "no. of photons: 45731\n",
      "success clbf1-clb-water-quality-clam- 2019-10-11T21:41:30Z\n",
      "no. of photons: 62099\n",
      "success clbf1-clb-water-quality-clam- 2020-02-24T03:14:08Z\n",
      "no. of photons: 1015\n",
      "success clbf1-clb-water-quality-clam- 2020-04-10T13:01:01Z\n",
      "no. of photons: 48594\n",
      "success clbf1-clb-water-quality-clam- 2020-07-10T08:40:47Z\n",
      "no. of photons: 57365\n",
      "success clbf1-clb-water-quality-clam- 2020-08-23T18:33:43Z\n",
      "no. of photons: 697\n",
      "success clbf1-clb-water-quality-clam- 2020-10-09T04:20:35Z\n",
      "no. of photons: 98143\n"
     ]
    },
    {
     "name": "stderr",
     "output_type": "stream",
     "text": [
      "HTTP Request Error: HTTP Error 400: Bad Request\n",
      "Using simplified polygon (for CMR request only!), 5 points using tolerance of 0.0001\n"
     ]
    },
    {
     "name": "stdout",
     "output_type": "stream",
     "text": [
      "working on 77/137\n"
     ]
    },
    {
     "name": "stderr",
     "output_type": "stream",
     "text": [
      "HTTP Request Error: HTTP Error 400: Bad Request\n",
      "Using simplified polygon (for CMR request only!), 5 points using tolerance of 0.001\n",
      "HTTP Request Error: HTTP Error 400: Bad Request\n",
      "Using simplified polygon (for CMR request only!), 5 points using tolerance of 0.01\n",
      "HTTP Request Error: HTTP Error 400: Bad Request\n",
      "Using simplified polygon (for CMR request only!), 5 points using tolerance of 0.1\n",
      "HTTP Request Error: HTTP Error 400: Bad Request\n",
      "Using simplified polygon (for CMR request only!), 5 points using tolerance of 1.0\n",
      "HTTP Request Error: HTTP Error 400: Bad Request\n"
     ]
    },
    {
     "name": "stdout",
     "output_type": "stream",
     "text": [
      "working on 78/137\n",
      "success WQB-04 2020-07-26T00:49:04Z\n",
      "no. of photons: 17980\n",
      "success WQB-04 2020-08-24T11:19:23Z\n",
      "no. of photons: 102405\n",
      "success WQB-04 2020-10-24T20:28:49Z\n",
      "no. of photons: 1861\n",
      "success WQB-04 2022-08-24T12:35:56Z\n",
      "no. of photons: 146444\n",
      "success WQB-04 2022-11-23T08:15:33Z\n",
      "no. of photons: 15362\n",
      "success WQB-04 2023-01-16T17:30:14Z\n",
      "no. of photons: 89098\n",
      "success WQB-04 2023-02-22T03:55:28Z\n",
      "no. of photons: 9695\n",
      "success WQB-04 2023-05-23T23:35:02Z\n",
      "no. of photons: 37031\n",
      "success WQB-04 2024-02-20T10:33:20Z\n",
      "no. of photons: 18564\n",
      "working on 79/137\n",
      "success WQB-05 2018-10-29T19:04:49Z\n",
      "no. of photons: 157339\n",
      "success WQB-05 2019-01-28T14:44:46Z\n",
      "no. of photons: 254970\n",
      "success WQB-05 2019-05-02T22:21:48Z\n",
      "no. of photons: 37470\n",
      "success WQB-05 2019-07-29T06:04:05Z\n",
      "no. of photons: 77861\n",
      "success WQB-05 2019-10-28T01:44:02Z\n",
      "no. of photons: 31954\n",
      "success WQB-05 2021-01-24T04:03:03Z\n",
      "no. of photons: 5805\n",
      "success WQB-05 2021-05-31T10:08:00Z\n",
      "no. of photons: 40415\n",
      "success WQB-05 2021-08-30T05:47:54Z\n",
      "no. of photons: 32559\n",
      "success WQB-05 2021-11-29T01:27:52Z\n",
      "no. of photons: 18261\n",
      "success WQB-05 2022-01-22T10:42:35Z\n",
      "no. of photons: 37728\n",
      "success WQB-05 2022-02-27T21:07:43Z\n",
      "no. of photons: 80821\n",
      "success WQB-05 2022-04-23T06:22:32Z\n",
      "no. of photons: 29003\n",
      "success WQB-05 2022-05-29T16:47:38Z\n",
      "no. of photons: 226042\n",
      "success WQB-05 2022-07-23T02:02:27Z\n",
      "no. of photons: 15452\n",
      "success WQB-05 2022-08-28T12:27:37Z\n",
      "no. of photons: 268856\n",
      "success WQB-05 2024-02-24T10:24:57Z\n",
      "no. of photons: 3502\n",
      "success WQB-05 2024-07-18T15:18:56Z\n",
      "no. of photons: 342814\n",
      "working on 80/137\n",
      "success rtcco2buoy 2018-11-29T15:22:11Z\n",
      "no. of photons: 177128\n",
      "working on 81/137\n",
      "success pmel_co2_moorings_e8f3_34cc_72d0 2018-10-16T08:01:07Z\n",
      "no. of photons: 666\n",
      "success pmel_co2_moorings_e8f3_34cc_72d0 2019-01-07T15:51:56Z\n",
      "no. of photons: 654570\n",
      "success pmel_co2_moorings_e8f3_34cc_72d0 2019-01-15T03:40:52Z\n",
      "no. of photons: 44254\n",
      "success pmel_co2_moorings_e8f3_34cc_72d0 2019-05-11T09:59:26Z\n",
      "no. of photons: 31778\n",
      "success pmel_co2_moorings_e8f3_34cc_72d0 2019-07-15T19:00:19Z\n",
      "no. of photons: 14113\n",
      "success pmel_co2_moorings_e8f3_34cc_72d0 2019-10-07T02:51:19Z\n",
      "no. of photons: 1074\n",
      "success pmel_co2_moorings_e8f3_34cc_72d0 2020-02-03T21:07:06Z\n",
      "no. of photons: 101250\n",
      "success pmel_co2_moorings_e8f3_34cc_72d0 2020-04-05T18:10:50Z\n",
      "no. of photons: 666450\n",
      "success pmel_co2_moorings_e8f3_34cc_72d0 2020-07-05T13:50:36Z\n",
      "no. of photons: 446501\n",
      "success pmel_co2_moorings_e8f3_34cc_72d0 2020-08-07T12:18:20Z\n",
      "no. of photons: 607362\n",
      "success pmel_co2_moorings_e8f3_34cc_72d0 2020-11-06T07:58:08Z\n",
      "no. of photons: 206\n",
      "success pmel_co2_moorings_e8f3_34cc_72d0 2021-01-03T05:10:19Z\n",
      "no. of photons: 38788\n",
      "working on 82/137\n",
      "success pmel_co2_moorings_ee12_e5fb_4537 2018-11-12T02:05:49Z\n",
      "no. of photons: 2882\n",
      "working on 83/137\n",
      "success pmel_co2_moorings_e27b_9478_5078 2019-10-07T12:48:35Z\n",
      "no. of photons: 54533\n",
      "success pmel_co2_moorings_e27b_9478_5078 2020-01-03T20:20:50Z\n",
      "no. of photons: 249\n",
      "success pmel_co2_moorings_e27b_9478_5078 2020-04-03T16:00:35Z\n",
      "no. of photons: 29968\n",
      "success pmel_co2_moorings_e27b_9478_5078 2020-07-03T11:40:23Z\n",
      "no. of photons: 96235\n",
      "success pmel_co2_moorings_e27b_9478_5078 2020-07-05T23:47:50Z\n",
      "no. of photons: 76848\n",
      "success pmel_co2_moorings_e27b_9478_5078 2020-10-02T07:20:06Z\n",
      "no. of photons: 40680\n",
      "success pmel_co2_moorings_e27b_9478_5078 2021-06-05T07:51:14Z\n",
      "no. of photons: 4874\n",
      "success pmel_co2_moorings_e27b_9478_5078 2021-07-01T18:19:46Z\n",
      "no. of photons: 44088\n",
      "success pmel_co2_moorings_e27b_9478_5078 2021-10-03T02:07:17Z\n",
      "no. of photons: 30765\n",
      "working on 84/137\n",
      "success pmel_co2_moorings_299e_e649_3487 2018-11-04T16:38:02Z\n",
      "no. of photons: 11745\n",
      "success pmel_co2_moorings_299e_e649_3487 2019-02-03T12:17:55Z\n",
      "no. of photons: 1052\n",
      "success pmel_co2_moorings_299e_e649_3487 2019-05-05T07:57:32Z\n",
      "no. of photons: 17254\n",
      "success pmel_co2_moorings_299e_e649_3487 2019-09-02T02:13:19Z\n",
      "no. of photons: 3417\n",
      "success pmel_co2_moorings_299e_e649_3487 2019-10-11T12:40:15Z\n",
      "no. of photons: 49901\n",
      "success pmel_co2_moorings_299e_e649_3487 2019-12-01T21:53:08Z\n",
      "no. of photons: 2000\n",
      "success pmel_co2_moorings_299e_e649_3487 2019-12-12T09:43:58Z\n",
      "no. of photons: 847\n",
      "success pmel_co2_moorings_299e_e649_3487 2020-02-01T18:56:53Z\n",
      "no. of photons: 19584\n",
      "success pmel_co2_moorings_299e_e649_3487 2021-06-09T07:42:54Z\n",
      "no. of photons: 4552\n",
      "success pmel_co2_moorings_299e_e649_3487 2021-07-30T16:55:53Z\n",
      "no. of photons: 28347\n",
      "success pmel_co2_moorings_299e_e649_3487 2021-10-29T12:35:51Z\n",
      "no. of photons: 16005\n",
      "success pmel_co2_moorings_299e_e649_3487 2022-01-28T08:15:41Z\n",
      "no. of photons: 9553\n",
      "working on 85/137\n",
      "success pmel_co2_moorings_cb2d_135a_c444 2019-01-01T13:50:03Z\n",
      "no. of photons: 23210\n",
      "success pmel_co2_moorings_cb2d_135a_c444 2019-04-02T09:29:54Z\n",
      "no. of photons: 608\n",
      "success pmel_co2_moorings_cb2d_135a_c444 2019-06-22T17:42:00Z\n",
      "no. of photons: 2805\n",
      "success pmel_co2_moorings_cb2d_135a_c444 2019-10-01T00:49:24Z\n",
      "no. of photons: 15691\n",
      "success pmel_co2_moorings_cb2d_135a_c444 2019-12-30T20:29:11Z\n",
      "no. of photons: 13025\n",
      "success pmel_co2_moorings_cb2d_135a_c444 2020-03-30T16:08:52Z\n",
      "no. of photons: 26472\n",
      "success pmel_co2_moorings_cb2d_135a_c444 2021-06-18T07:00:35Z\n",
      "no. of photons: 12282\n",
      "success pmel_co2_moorings_cb2d_135a_c444 2021-06-27T18:28:06Z\n",
      "no. of photons: 73296\n",
      "success pmel_co2_moorings_cb2d_135a_c444 2021-09-17T02:40:31Z\n",
      "no. of photons: 131\n",
      "success pmel_co2_moorings_cb2d_135a_c444 2021-09-26T14:08:02Z\n",
      "no. of photons: 234513\n",
      "success pmel_co2_moorings_cb2d_135a_c444 2021-12-16T22:20:29Z\n",
      "no. of photons: 4007\n",
      "success pmel_co2_moorings_cb2d_135a_c444 2021-12-26T09:47:58Z\n",
      "no. of photons: 21503\n",
      "success pmel_co2_moorings_cb2d_135a_c444 2022-03-17T18:00:18Z\n",
      "no. of photons: 25532\n",
      "success pmel_co2_moorings_cb2d_135a_c444 2022-03-27T05:27:51Z\n",
      "no. of photons: 1020\n",
      "success pmel_co2_moorings_cb2d_135a_c444 2022-06-16T13:40:13Z\n",
      "no. of photons: 56624\n",
      "success pmel_co2_moorings_cb2d_135a_c444 2022-06-26T01:07:45Z\n",
      "no. of photons: 1387\n",
      "success pmel_co2_moorings_cb2d_135a_c444 2022-09-15T09:20:06Z\n",
      "no. of photons: 17386\n",
      "success pmel_co2_moorings_cb2d_135a_c444 2022-12-15T04:59:44Z\n",
      "no. of photons: 3994\n",
      "success pmel_co2_moorings_cb2d_135a_c444 2022-12-24T16:27:19Z\n",
      "no. of photons: 34415\n",
      "success pmel_co2_moorings_cb2d_135a_c444 2023-03-16T00:39:37Z\n",
      "no. of photons: 4565\n",
      "success pmel_co2_moorings_cb2d_135a_c444 2023-03-25T12:07:12Z\n",
      "no. of photons: 74459\n",
      "success pmel_co2_moorings_cb2d_135a_c444 2023-06-14T20:19:00Z\n",
      "no. of photons: 11429\n",
      "success pmel_co2_moorings_cb2d_135a_c444 2023-06-24T07:46:30Z\n",
      "no. of photons: 10525\n",
      "working on 86/137\n",
      "success pmel_co2_moorings_9675_b3d3_c1c1 2018-10-23T17:02:52Z\n",
      "no. of photons: 8421\n",
      "success pmel_co2_moorings_9675_b3d3_c1c1 2019-01-22T12:42:44Z\n",
      "no. of photons: 16933\n",
      "success pmel_co2_moorings_9675_b3d3_c1c1 2019-04-23T08:22:33Z\n",
      "no. of photons: 24311\n",
      "success pmel_co2_moorings_9675_b3d3_c1c1 2019-06-14T17:58:41Z\n",
      "no. of photons: 39126\n",
      "success pmel_co2_moorings_9675_b3d3_c1c1 2020-03-13T04:58:07Z\n",
      "no. of photons: 1079\n",
      "success pmel_co2_moorings_9675_b3d3_c1c1 2020-07-20T10:41:27Z\n",
      "no. of photons: 36818\n",
      "success pmel_co2_moorings_9675_b3d3_c1c1 2020-09-10T20:17:41Z\n",
      "no. of photons: 2881\n",
      "success pmel_co2_moorings_9675_b3d3_c1c1 2020-10-19T06:21:13Z\n",
      "no. of photons: 19661\n",
      "success pmel_co2_moorings_9675_b3d3_c1c1 2020-12-10T15:57:31Z\n",
      "no. of photons: 27940\n",
      "success pmel_co2_moorings_9675_b3d3_c1c1 2021-04-18T21:40:59Z\n",
      "no. of photons: 10398\n",
      "success pmel_co2_moorings_9675_b3d3_c1c1 2021-07-18T17:20:50Z\n",
      "no. of photons: 51636\n",
      "success pmel_co2_moorings_9675_b3d3_c1c1 2021-12-08T22:37:09Z\n",
      "no. of photons: 40331\n",
      "success pmel_co2_moorings_9675_b3d3_c1c1 2022-01-16T08:40:42Z\n",
      "no. of photons: 4295\n",
      "success pmel_co2_moorings_9675_b3d3_c1c1 2022-03-09T18:16:57Z\n",
      "no. of photons: 21706\n",
      "success pmel_co2_moorings_9675_b3d3_c1c1 2022-04-17T04:20:18Z\n",
      "no. of photons: 27580\n",
      "success pmel_co2_moorings_9675_b3d3_c1c1 2022-12-07T05:16:27Z\n",
      "no. of photons: 2114\n",
      "working on 87/137\n",
      "success pmel_co2_moorings_fad6_8193_8d89 2019-01-09T13:33:21Z\n",
      "no. of photons: 823\n",
      "success pmel_co2_moorings_fad6_8193_8d89 2019-04-10T09:13:14Z\n",
      "no. of photons: 558\n",
      "success pmel_co2_moorings_fad6_8193_8d89 2019-07-20T16:43:34Z\n",
      "no. of photons: 298566\n",
      "success pmel_co2_moorings_fad6_8193_8d89 2019-08-18T15:19:46Z\n",
      "no. of photons: 1154\n",
      "success pmel_co2_moorings_fad6_8193_8d89 2019-10-09T00:32:45Z\n",
      "no. of photons: 12717\n",
      "success pmel_co2_moorings_fad6_8193_8d89 2020-08-15T21:58:57Z\n",
      "no. of photons: 10025\n",
      "success pmel_co2_moorings_fad6_8193_8d89 2021-07-05T18:11:26Z\n",
      "no. of photons: 104587\n",
      "success pmel_co2_moorings_fad6_8193_8d89 2021-12-05T10:55:16Z\n",
      "no. of photons: 1003\n",
      "success pmel_co2_moorings_fad6_8193_8d89 2022-01-03T09:31:18Z\n",
      "no. of photons: 500\n",
      "working on 88/137\n",
      "success pmel_co2_moorings_045c_c8bc_b1c6 2018-11-15T01:28:52Z\n",
      "no. of photons: 43543\n",
      "success pmel_co2_moorings_045c_c8bc_b1c6 2019-02-13T21:08:37Z\n",
      "no. of photons: 28\n",
      "success pmel_co2_moorings_045c_c8bc_b1c6 2019-05-15T16:48:17Z\n",
      "no. of photons: 4315\n",
      "success pmel_co2_moorings_045c_c8bc_b1c6 2019-08-03T00:47:16Z\n",
      "no. of photons: 34155\n",
      "success pmel_co2_moorings_045c_c8bc_b1c6 2019-11-13T08:07:54Z\n",
      "no. of photons: 64895\n",
      "success pmel_co2_moorings_045c_c8bc_b1c6 2020-05-01T11:46:41Z\n",
      "no. of photons: 182203\n",
      "success pmel_co2_moorings_045c_c8bc_b1c6 2020-08-11T19:07:12Z\n",
      "no. of photons: 40192\n",
      "success pmel_co2_moorings_045c_c8bc_b1c6 2020-11-10T14:47:01Z\n",
      "no. of photons: 23856\n",
      "success pmel_co2_moorings_045c_c8bc_b1c6 2021-08-10T01:46:38Z\n",
      "no. of photons: 50178\n",
      "working on 89/137\n"
     ]
    },
    {
     "name": "stderr",
     "output_type": "stream",
     "text": [
      "Exception <-1>: Failure on resource ATL03_20190424081244_03980307_006_02.h5 track 3.1: H5Coro::Future read failure on /gt3r/geolocation/reference_photon_lat\n"
     ]
    },
    {
     "name": "stdout",
     "output_type": "stream",
     "text": [
      "working on 90/137\n",
      "success pmel_co2_moorings_0af7_8b89_77bd 2018-12-21T12:15:02Z\n",
      "no. of photons: 9213\n",
      "success pmel_co2_moorings_0af7_8b89_77bd 2019-01-05T23:31:56Z\n",
      "no. of photons: 210201\n",
      "success pmel_co2_moorings_0af7_8b89_77bd 2019-03-22T07:54:57Z\n",
      "no. of photons: 25980\n",
      "success pmel_co2_moorings_0af7_8b89_77bd 2019-04-06T19:11:48Z\n",
      "no. of photons: 6863\n",
      "success pmel_co2_moorings_0af7_8b89_77bd 2019-06-21T03:34:34Z\n",
      "no. of photons: 97\n",
      "success pmel_co2_moorings_0af7_8b89_77bd 2019-12-19T18:54:14Z\n",
      "no. of photons: 26328\n",
      "success pmel_co2_moorings_0af7_8b89_77bd 2020-04-04T01:50:49Z\n",
      "no. of photons: 10546\n",
      "success pmel_co2_moorings_0af7_8b89_77bd 2020-06-18T10:13:46Z\n",
      "no. of photons: 22256\n",
      "success pmel_co2_moorings_0af7_8b89_77bd 2020-09-17T05:53:34Z\n",
      "no. of photons: 21129\n",
      "success pmel_co2_moorings_0af7_8b89_77bd 2020-10-02T17:10:20Z\n",
      "no. of photons: 19452\n",
      "success pmel_co2_moorings_0af7_8b89_77bd 2020-12-17T01:33:26Z\n",
      "no. of photons: 120\n",
      "success pmel_co2_moorings_0af7_8b89_77bd 2021-04-02T08:30:10Z\n",
      "no. of photons: 14001\n",
      "success pmel_co2_moorings_0af7_8b89_77bd 2021-07-02T04:10:00Z\n",
      "no. of photons: 1845\n",
      "working on 91/137\n",
      "success pmel_co2_moorings_7c7e_d9cd_9495 2018-10-16T08:01:07Z\n",
      "no. of photons: 347\n",
      "success pmel_co2_moorings_7c7e_d9cd_9495 2018-11-14T06:37:24Z\n",
      "no. of photons: 652\n",
      "success pmel_co2_moorings_7c7e_d9cd_9495 2019-07-15T19:00:19Z\n",
      "no. of photons: 8895\n",
      "working on 92/137\n",
      "success pmel_co2_moorings_c64b_e2bb_dc32 2018-10-30T01:53:30Z\n",
      "no. of photons: 22787\n",
      "success pmel_co2_moorings_c64b_e2bb_dc32 2019-01-28T21:33:27Z\n",
      "no. of photons: 61492\n",
      "success pmel_co2_moorings_c64b_e2bb_dc32 2019-04-29T17:13:07Z\n",
      "no. of photons: 5567\n",
      "success pmel_co2_moorings_c64b_e2bb_dc32 2019-07-29T12:52:46Z\n",
      "no. of photons: 44000\n",
      "success pmel_co2_moorings_c64b_e2bb_dc32 2020-04-26T23:52:15Z\n",
      "no. of photons: 83810\n",
      "success pmel_co2_moorings_c64b_e2bb_dc32 2020-07-26T19:32:02Z\n",
      "no. of photons: 19678\n",
      "working on 93/137\n",
      "success pmel_co2_moorings_d18e_ee9f_4615 2018-11-29T17:04:59Z\n",
      "no. of photons: 62633\n",
      "success pmel_co2_moorings_d18e_ee9f_4615 2019-04-28T22:16:14Z\n",
      "no. of photons: 176446\n",
      "success pmel_co2_moorings_d18e_ee9f_4615 2019-05-30T08:24:37Z\n",
      "no. of photons: 49561\n",
      "success pmel_co2_moorings_d18e_ee9f_4615 2019-07-28T17:55:52Z\n",
      "no. of photons: 355853\n",
      "success pmel_co2_moorings_d18e_ee9f_4615 2019-09-27T02:40:32Z\n",
      "no. of photons: 25637\n",
      "success pmel_co2_moorings_d18e_ee9f_4615 2019-10-27T13:35:49Z\n",
      "no. of photons: 431294\n",
      "success pmel_co2_moorings_d18e_ee9f_4615 2020-03-26T18:00:00Z\n",
      "no. of photons: 167354\n",
      "success pmel_co2_moorings_d18e_ee9f_4615 2020-04-26T04:55:22Z\n",
      "no. of photons: 37329\n",
      "success pmel_co2_moorings_d18e_ee9f_4615 2020-07-26T00:35:09Z\n",
      "no. of photons: 11900\n",
      "success pmel_co2_moorings_d18e_ee9f_4615 2020-08-26T10:43:37Z\n",
      "no. of photons: 184258\n",
      "success pmel_co2_moorings_d18e_ee9f_4615 2020-09-24T09:19:40Z\n",
      "no. of photons: 1478\n",
      "success pmel_co2_moorings_d18e_ee9f_4615 2020-10-24T20:14:54Z\n",
      "no. of photons: 14663\n",
      "success pmel_co2_moorings_d18e_ee9f_4615 2021-01-23T15:54:51Z\n",
      "no. of photons: 238616\n",
      "success pmel_co2_moorings_d18e_ee9f_4615 2021-03-25T00:39:22Z\n",
      "no. of photons: 1118\n",
      "success pmel_co2_moorings_d18e_ee9f_4615 2021-08-24T17:23:05Z\n",
      "no. of photons: 317980\n",
      "success pmel_co2_moorings_d18e_ee9f_4615 2021-10-23T02:54:32Z\n",
      "no. of photons: 362\n",
      "success pmel_co2_moorings_d18e_ee9f_4615 2021-11-23T13:03:03Z\n",
      "no. of photons: 63598\n",
      "success pmel_co2_moorings_d18e_ee9f_4615 2021-12-22T11:39:05Z\n",
      "no. of photons: 7911\n",
      "success pmel_co2_moorings_d18e_ee9f_4615 2021-12-23T23:58:19Z\n",
      "no. of photons: 29807\n",
      "success pmel_co2_moorings_d18e_ee9f_4615 2022-01-21T22:34:23Z\n",
      "no. of photons: 274\n",
      "success pmel_co2_moorings_d18e_ee9f_4615 2022-02-22T08:42:53Z\n",
      "no. of photons: 7510\n",
      "working on 94/137\n",
      "success pmel_co2_moorings_ab27_2faf_3aa1 2018-10-21T02:35:45Z\n",
      "no. of photons: 762\n",
      "success pmel_co2_moorings_ab27_2faf_3aa1 2019-07-20T13:34:59Z\n",
      "no. of photons: 74238\n",
      "success pmel_co2_moorings_ab27_2faf_3aa1 2019-08-18T12:11:11Z\n",
      "no. of photons: 3186\n",
      "success pmel_co2_moorings_ab27_2faf_3aa1 2019-09-29T22:06:28Z\n",
      "no. of photons: 32204\n",
      "success pmel_co2_moorings_ab27_2faf_3aa1 2020-02-29T14:49:58Z\n",
      "no. of photons: 15730\n",
      "success pmel_co2_moorings_ab27_2faf_3aa1 2020-03-29T13:25:59Z\n",
      "no. of photons: 4401\n",
      "success pmel_co2_moorings_ab27_2faf_3aa1 2020-04-18T00:34:33Z\n",
      "no. of photons: 47\n",
      "working on 95/137\n",
      "success pmel_co2_moorings_c2e7_ecb9_4565 2019-01-31T08:52:00Z\n",
      "no. of photons: 17842\n",
      "success pmel_co2_moorings_c2e7_ecb9_4565 2019-05-02T04:31:37Z\n",
      "no. of photons: 1376\n",
      "success pmel_co2_moorings_c2e7_ecb9_4565 2019-08-01T00:11:18Z\n",
      "no. of photons: 39328\n",
      "success pmel_co2_moorings_c2e7_ecb9_4565 2019-08-03T12:18:49Z\n",
      "no. of photons: 88580\n",
      "success pmel_co2_moorings_c2e7_ecb9_4565 2020-02-01T03:38:29Z\n",
      "no. of photons: 43213\n",
      "success pmel_co2_moorings_c2e7_ecb9_4565 2020-04-29T11:10:45Z\n",
      "no. of photons: 152682\n",
      "success pmel_co2_moorings_c2e7_ecb9_4565 2020-07-31T18:58:03Z\n",
      "no. of photons: 112897\n",
      "success pmel_co2_moorings_c2e7_ecb9_4565 2020-10-28T02:30:20Z\n",
      "no. of photons: 216\n",
      "success pmel_co2_moorings_c2e7_ecb9_4565 2021-01-29T10:17:46Z\n",
      "no. of photons: 345011\n",
      "success pmel_co2_moorings_c2e7_ecb9_4565 2021-04-01T07:21:32Z\n",
      "no. of photons: 418555\n",
      "success pmel_co2_moorings_c2e7_ecb9_4565 2021-04-27T17:50:04Z\n",
      "no. of photons: 82144\n",
      "working on 96/137\n",
      "success pmel_co2_moorings_ba50_a09b_5565 2019-09-02T07:15:15Z\n",
      "no. of photons: 5611\n",
      "success pmel_co2_moorings_ba50_a09b_5565 2019-10-12T16:41:29Z\n",
      "no. of photons: 8717\n",
      "success pmel_co2_moorings_ba50_a09b_5565 2019-11-03T04:19:03Z\n",
      "no. of photons: 2460\n",
      "success pmel_co2_moorings_ba50_a09b_5565 2019-12-02T02:55:04Z\n",
      "no. of photons: 315\n",
      "success pmel_co2_moorings_ba50_a09b_5565 2020-01-11T12:21:13Z\n",
      "no. of photons: 254\n",
      "success pmel_co2_moorings_ba50_a09b_5565 2020-02-01T23:58:49Z\n",
      "no. of photons: 85\n",
      "success pmel_co2_moorings_ba50_a09b_5565 2020-03-01T22:34:48Z\n",
      "no. of photons: 1833\n",
      "success pmel_co2_moorings_ba50_a09b_5565 2020-04-11T08:01:01Z\n",
      "no. of photons: 156774\n",
      "success pmel_co2_moorings_ba50_a09b_5565 2020-05-02T19:38:36Z\n",
      "no. of photons: 123\n",
      "success pmel_co2_moorings_ba50_a09b_5565 2020-05-31T18:14:40Z\n",
      "no. of photons: 1280\n",
      "success pmel_co2_moorings_ba50_a09b_5565 2020-07-11T03:40:47Z\n",
      "no. of photons: 64538\n",
      "success pmel_co2_moorings_ba50_a09b_5565 2020-08-01T15:18:23Z\n",
      "no. of photons: 10547\n",
      "success pmel_co2_moorings_ba50_a09b_5565 2020-08-30T13:54:26Z\n",
      "no. of photons: 390\n",
      "success pmel_co2_moorings_ba50_a09b_5565 2020-10-09T23:20:34Z\n",
      "no. of photons: 13800\n",
      "success pmel_co2_moorings_ba50_a09b_5565 2020-10-31T10:58:12Z\n",
      "no. of photons: 538\n",
      "success pmel_co2_moorings_ba50_a09b_5565 2021-01-08T19:00:29Z\n",
      "no. of photons: 16084\n",
      "success pmel_co2_moorings_ba50_a09b_5565 2021-01-30T06:38:07Z\n",
      "no. of photons: 8799\n",
      "success pmel_co2_moorings_ba50_a09b_5565 2021-02-28T05:14:07Z\n",
      "no. of photons: 2825\n",
      "success pmel_co2_moorings_ba50_a09b_5565 2021-04-09T14:40:21Z\n",
      "no. of photons: 7804\n",
      "success pmel_co2_moorings_ba50_a09b_5565 2021-05-01T02:17:56Z\n",
      "no. of photons: 107073\n",
      "success pmel_co2_moorings_ba50_a09b_5565 2021-05-30T00:54:00Z\n",
      "no. of photons: 3647\n",
      "success pmel_co2_moorings_ba50_a09b_5565 2021-07-09T10:20:10Z\n",
      "no. of photons: 59683\n",
      "success pmel_co2_moorings_ba50_a09b_5565 2021-07-30T21:57:49Z\n",
      "no. of photons: 2919\n",
      "working on 97/137\n",
      "working on 98/137\n",
      "working on 99/137\n",
      "success pmel_co2_moorings_991f_8201_6974 2018-10-16T08:01:07Z\n",
      "no. of photons: 556\n",
      "success pmel_co2_moorings_991f_8201_6974 2019-01-07T15:51:56Z\n",
      "no. of photons: 635976\n",
      "success pmel_co2_moorings_991f_8201_6974 2019-01-15T03:40:52Z\n",
      "no. of photons: 45374\n",
      "success pmel_co2_moorings_991f_8201_6974 2019-05-11T09:59:26Z\n",
      "no. of photons: 35222\n",
      "working on 100/137\n",
      "success pmel_co2_moorings_ab03_dbac_935b 2018-12-29T10:17:04Z\n",
      "no. of photons: 125919\n",
      "success pmel_co2_moorings_ab03_dbac_935b 2019-01-01T22:14:29Z\n",
      "no. of photons: 123243\n",
      "success pmel_co2_moorings_ab03_dbac_935b 2019-03-30T05:56:57Z\n",
      "no. of photons: 66537\n",
      "success pmel_co2_moorings_ab03_dbac_935b 2019-04-02T17:54:20Z\n",
      "no. of photons: 25335\n",
      "success pmel_co2_moorings_ab03_dbac_935b 2019-12-27T16:56:15Z\n",
      "no. of photons: 25073\n",
      "success pmel_co2_moorings_ab03_dbac_935b 2020-03-31T00:33:19Z\n",
      "no. of photons: 45001\n",
      "success pmel_co2_moorings_ab03_dbac_935b 2020-06-26T08:15:47Z\n",
      "no. of photons: 125335\n",
      "success pmel_co2_moorings_ab03_dbac_935b 2020-06-29T20:13:10Z\n",
      "no. of photons: 47430\n",
      "success pmel_co2_moorings_ab03_dbac_935b 2020-09-25T03:55:36Z\n",
      "no. of photons: 7520\n",
      "success pmel_co2_moorings_ab03_dbac_935b 2020-09-28T15:52:59Z\n",
      "no. of photons: 46859\n",
      "success pmel_co2_moorings_ab03_dbac_935b 2020-12-24T23:35:27Z\n",
      "no. of photons: 18550\n",
      "success pmel_co2_moorings_ab03_dbac_935b 2021-06-24T14:55:09Z\n",
      "no. of photons: 56485\n",
      "success pmel_co2_moorings_ab03_dbac_935b 2021-06-28T02:52:33Z\n",
      "no. of photons: 52710\n",
      "success pmel_co2_moorings_ab03_dbac_935b 2021-09-26T22:32:30Z\n",
      "no. of photons: 345\n",
      "working on 101/137\n",
      "success pmel_co2_moorings_87d0_7c04_27e0 2021-06-12T21:44:20Z\n",
      "no. of photons: 21748\n",
      "success pmel_co2_moorings_87d0_7c04_27e0 2021-07-05T09:10:11Z\n",
      "no. of photons: 6710\n",
      "success pmel_co2_moorings_87d0_7c04_27e0 2021-10-04T04:50:12Z\n",
      "no. of photons: 10566\n",
      "success pmel_co2_moorings_87d0_7c04_27e0 2021-12-11T13:04:13Z\n",
      "no. of photons: 325\n",
      "success pmel_co2_moorings_87d0_7c04_27e0 2022-01-03T00:30:04Z\n",
      "no. of photons: 9672\n",
      "success pmel_co2_moorings_87d0_7c04_27e0 2022-06-11T04:23:55Z\n",
      "no. of photons: 2919\n",
      "success pmel_co2_moorings_87d0_7c04_27e0 2022-07-03T15:49:53Z\n",
      "no. of photons: 50902\n",
      "working on 102/137\n",
      "success pmel_co2_moorings_9bc0_7e75_7ae7 2020-02-03T21:07:06Z\n",
      "no. of photons: 25575\n",
      "success pmel_co2_moorings_9bc0_7e75_7ae7 2021-12-11T01:02:54Z\n",
      "no. of photons: 5591\n",
      "success pmel_co2_moorings_9bc0_7e75_7ae7 2022-03-11T20:42:43Z\n",
      "no. of photons: 18627\n",
      "success pmel_co2_moorings_9bc0_7e75_7ae7 2022-04-02T07:29:44Z\n",
      "no. of photons: 98\n",
      "success pmel_co2_moorings_9bc0_7e75_7ae7 2022-12-09T07:42:10Z\n",
      "no. of photons: 744\n",
      "success pmel_co2_moorings_9bc0_7e75_7ae7 2022-12-30T18:29:12Z\n",
      "no. of photons: 13529\n",
      "success pmel_co2_moorings_9bc0_7e75_7ae7 2023-03-10T03:22:01Z\n",
      "no. of photons: 3609\n",
      "success pmel_co2_moorings_9bc0_7e75_7ae7 2023-03-31T14:09:18Z\n",
      "no. of photons: 87260\n",
      "success pmel_co2_moorings_9bc0_7e75_7ae7 2023-06-08T23:01:26Z\n",
      "no. of photons: 13046\n",
      "working on 103/137\n",
      "success pmel_co2_moorings_cba8_5413_09f9 2018-10-15T18:53:48Z\n",
      "no. of photons: 1271\n",
      "success pmel_co2_moorings_cba8_5413_09f9 2019-01-14T14:33:34Z\n",
      "no. of photons: 1231\n",
      "success pmel_co2_moorings_cba8_5413_09f9 2019-04-15T10:13:30Z\n",
      "no. of photons: 7790\n"
     ]
    },
    {
     "name": "stderr",
     "output_type": "stream",
     "text": [
      "Exception <-1>: Failure on resource ATL03_20190715115300_02660402_006_02.h5 track 3.1: H5Coro::Future read failure on /gt3r/geolocation/reference_photon_lat\n"
     ]
    },
    {
     "name": "stdout",
     "output_type": "stream",
     "text": [
      "success pmel_co2_moorings_cba8_5413_09f9 2019-10-14T01:33:04Z\n",
      "no. of photons: 71\n",
      "success pmel_co2_moorings_cba8_5413_09f9 2020-01-12T21:12:48Z\n",
      "no. of photons: 2441\n"
     ]
    },
    {
     "name": "stderr",
     "output_type": "stream",
     "text": [
      "Exception <-1>: Failure on resource ATL03_20200325120720_13710606_006_01.h5 track 2.0: H5Coro::Future read failure on /gt2l/geolocation/reference_photon_lat\n",
      "Exception <-1>: Failure on resource ATL03_20200325120720_13710606_006_01.h5 track 3.0: H5Coro::Future read failure on /gt3l/geolocation/reference_photon_lat\n",
      "Exception <-1>: Failure on resource ATL03_20200325120720_13710606_006_01.h5 track 1.0: H5Coro::Future read failure on /gt1l/geolocation/reference_photon_lat\n"
     ]
    },
    {
     "name": "stdout",
     "output_type": "stream",
     "text": [
      "success pmel_co2_moorings_cba8_5413_09f9 2020-04-12T16:52:36Z\n",
      "no. of photons: 84463\n"
     ]
    },
    {
     "name": "stderr",
     "output_type": "stream",
     "text": [
      "Exception <-1>: Failure on resource ATL03_20210110095205_02661002_006_01.h5 track 3.1: H5Coro::Future read failure on /gt3r/geolocation/reference_photon_lat\n"
     ]
    },
    {
     "name": "stdout",
     "output_type": "stream",
     "text": [
      "success pmel_co2_moorings_cba8_5413_09f9 2021-01-10T03:52:05Z\n",
      "no. of photons: 3376\n",
      "success pmel_co2_moorings_cba8_5413_09f9 2021-07-10T19:11:46Z\n",
      "no. of photons: 83177\n",
      "success pmel_co2_moorings_cba8_5413_09f9 2021-10-09T14:51:46Z\n",
      "no. of photons: 12840\n",
      "success pmel_co2_moorings_cba8_5413_09f9 2022-07-09T01:51:26Z\n",
      "no. of photons: 61\n",
      "success pmel_co2_moorings_cba8_5413_09f9 2022-10-07T21:31:13Z\n",
      "no. of photons: 618\n",
      "success pmel_co2_moorings_cba8_5413_09f9 2023-01-06T17:10:54Z\n",
      "no. of photons: 6739\n",
      "working on 104/137\n",
      "success pmel_co2_moorings_e348_a811_d900 2019-07-14T22:48:37Z\n",
      "no. of photons: 4144\n",
      "working on 105/137\n"
     ]
    },
    {
     "name": "stderr",
     "output_type": "stream",
     "text": [
      "Exception <-1>: Failure on resource ATL03_20190523104428_08420314_006_02.h5 track 3.1: H5Coro::Future read failure on /gt3r/geolocation/reference_photon_lat\n",
      "Exception <-1>: Failure on resource ATL03_20190617212257_12310308_006_02.h5 track 3.1: H5Coro::Future read failure on /gt3r/geolocation/reference_photon_lat\n",
      "Exception <-1>: Failure on resource ATL03_20190822062416_08420414_006_02.h5 track 3.1: H5Coro::Future read failure on /gt3r/geolocation/reference_photon_lat\n",
      "Exception <-1>: Failure on resource ATL03_20190916170248_12310408_006_02.h5 track 1.0: H5Coro::Future read failure on /gt1l/geolocation/reference_photon_lat\n",
      "Exception <-1>: Failure on resource ATL03_20191121020409_08420514_006_01.h5 track 1.0: H5Coro::Future read failure on /gt1l/geolocation/reference_photon_lat\n"
     ]
    },
    {
     "name": "stdout",
     "output_type": "stream",
     "text": [
      "success pmel_co2_moorings_3b97_8e9a_3b51 2019-11-20T20:04:09Z\n",
      "no. of photons: 47806\n"
     ]
    },
    {
     "name": "stderr",
     "output_type": "stream",
     "text": [
      "Exception <-1>: Failure on resource ATL03_20191216124236_12310508_006_01.h5 track 1.0: H5Coro::Future read failure on /gt1l/geolocation/reference_photon_lat\n",
      "Exception <-1>: Failure on resource ATL03_20200219214352_08420614_006_01.h5 track 1.0: H5Coro::Future read failure on /gt1l/geolocation/reference_photon_lat\n"
     ]
    },
    {
     "name": "stdout",
     "output_type": "stream",
     "text": [
      "success pmel_co2_moorings_3b97_8e9a_3b51 2020-02-19T15:43:52Z\n",
      "no. of photons: 109057\n"
     ]
    },
    {
     "name": "stderr",
     "output_type": "stream",
     "text": [
      "Exception <-1>: Failure on resource ATL03_20210217042310_08421014_006_01.h5 track 1.0: H5Coro::Future read failure on /gt1l/geolocation/reference_photon_lat\n"
     ]
    },
    {
     "name": "stdout",
     "output_type": "stream",
     "text": [
      "success pmel_co2_moorings_3b97_8e9a_3b51 2021-02-16T22:23:10Z\n",
      "no. of photons: 2825\n"
     ]
    },
    {
     "name": "stderr",
     "output_type": "stream",
     "text": [
      "Exception <-1>: Failure on resource ATL03_20210314150144_12311008_006_01.h5 track 1.0: H5Coro::Future read failure on /gt1l/geolocation/reference_photon_lat\n",
      "Exception <-1>: Failure on resource ATL03_20210519000301_08421114_006_01.h5 track 1.0: H5Coro::Future read failure on /gt1l/geolocation/reference_photon_lat\n"
     ]
    },
    {
     "name": "stdout",
     "output_type": "stream",
     "text": [
      "success pmel_co2_moorings_3b97_8e9a_3b51 2021-05-18T18:03:01Z\n",
      "no. of photons: 126198\n",
      "success pmel_co2_moorings_3b97_8e9a_3b51 2021-08-17T13:42:55Z\n",
      "no. of photons: 63537\n",
      "working on 106/137\n"
     ]
    },
    {
     "name": "stderr",
     "output_type": "stream",
     "text": [
      "Exception <-1>: Failure on resource ATL03_20190416135929_02790314_006_02.h5 track 3.1: H5Coro::Future read failure on /gt3r/geolocation/reference_photon_lat\n",
      "Exception <-1>: Failure on resource ATL03_20190416135929_02790314_006_02.h5 track 3.1: H5Coro::Future read failure on /gt3r/geolocation/reference_photon_lat\n"
     ]
    },
    {
     "name": "stdout",
     "output_type": "stream",
     "text": [
      "working on 107/137\n"
     ]
    },
    {
     "name": "stderr",
     "output_type": "stream",
     "text": [
      "Exception <-1>: Failure on resource ATL03_20181018113530_03030107_006_02.h5 track 1.0: H5Coro::Future read failure on /gt1l/geolocation/reference_photon_lat\n",
      "Exception <-1>: Failure on resource ATL03_20181018114232_03030108_006_02.h5 track 1.0: H5Coro::Future read failure on /gt1l/geolocation/reference_photon_lat\n"
     ]
    },
    {
     "name": "stdout",
     "output_type": "stream",
     "text": [
      "success pmel_co2_moorings_af32_4443_213a 2018-10-18T05:35:30Z\n",
      "no. of photons: 10021\n"
     ]
    },
    {
     "name": "stderr",
     "output_type": "stream",
     "text": [
      "Exception <-1>: Failure on resource ATL03_20181018114232_03030108_006_02.h5 track 1.0: H5Coro::Future read failure on /gt1l/geolocation/reference_photon_lat\n",
      "Exception <-1>: Failure on resource ATL03_20181018113530_03030107_006_02.h5 track 1.0: H5Coro::Future read failure on /gt1l/geolocation/reference_photon_lat\n"
     ]
    },
    {
     "name": "stdout",
     "output_type": "stream",
     "text": [
      "success pmel_co2_moorings_af32_4443_213a 2018-10-18T05:42:32Z\n",
      "no. of photons: 10021\n"
     ]
    },
    {
     "name": "stderr",
     "output_type": "stream",
     "text": [
      "Exception <-1>: Failure on resource ATL03_20181202212529_09960114_006_02.h5 track 1.0: H5Coro::Future read failure on /gt1l/geolocation/reference_photon_lat\n",
      "Exception <-1>: Failure on resource ATL03_20181202213232_09970101_006_02.h5 track 1.0: H5Coro::Future read failure on /gt1l/geolocation/reference_photon_lat\n",
      "Exception <-1>: Failure on resource ATL03_20181202212529_09960114_006_02.h5 track 1.0: H5Coro::Future read failure on /gt1l/geolocation/reference_photon_lat\n",
      "Exception <-1>: Failure on resource ATL03_20181202213232_09970101_006_02.h5 track 1.0: H5Coro::Future read failure on /gt1l/geolocation/reference_photon_lat\n",
      "Exception <-1>: Failure on resource ATL03_20190117071514_03030207_006_02.h5 track 3.1: H5Coro::Future read failure on /gt3r/geolocation/reference_photon_lat\n",
      "Exception <-1>: Failure on resource ATL03_20190117072216_03030208_006_02.h5 track 3.1: H5Coro::Future read failure on /gt3r/geolocation/reference_photon_lat\n",
      "Exception <-1>: Failure on resource ATL03_20190117071514_03030207_006_02.h5 track 3.1: H5Coro::Future read failure on /gt3r/geolocation/reference_photon_lat\n",
      "Exception <-1>: Failure on resource ATL03_20190117072216_03030208_006_02.h5 track 3.1: H5Coro::Future read failure on /gt3r/geolocation/reference_photon_lat\n",
      "Exception <-1>: Failure on resource ATL03_20190303170530_09960214_006_02.h5 track 3.1: H5Coro::Future read failure on /gt3r/geolocation/reference_photon_lat\n",
      "Exception <-1>: Failure on resource ATL03_20190303171232_09970201_006_02.h5 track 3.1: H5Coro::Future read failure on /gt3r/geolocation/reference_photon_lat\n"
     ]
    },
    {
     "name": "stdout",
     "output_type": "stream",
     "text": [
      "success pmel_co2_moorings_af32_4443_213a 2019-03-03T11:05:30Z\n",
      "no. of photons: 1762\n"
     ]
    },
    {
     "name": "stderr",
     "output_type": "stream",
     "text": [
      "Exception <-1>: Failure on resource ATL03_20190303171232_09970201_006_02.h5 track 3.1: H5Coro::Future read failure on /gt3r/geolocation/reference_photon_lat\n",
      "Exception <-1>: Failure on resource ATL03_20190303170530_09960214_006_02.h5 track 3.1: H5Coro::Future read failure on /gt3r/geolocation/reference_photon_lat\n"
     ]
    },
    {
     "name": "stdout",
     "output_type": "stream",
     "text": [
      "success pmel_co2_moorings_af32_4443_213a 2019-03-03T11:12:32Z\n",
      "no. of photons: 1762\n"
     ]
    },
    {
     "name": "stderr",
     "output_type": "stream",
     "text": [
      "Exception <-1>: Failure on resource ATL03_20190418025513_03030307_006_02.h5 track 3.1: H5Coro::Future read failure on /gt3r/geolocation/reference_photon_lat\n",
      "Exception <-1>: Failure on resource ATL03_20190418030215_03030308_006_02.h5 track 3.1: H5Coro::Future read failure on /gt3r/geolocation/reference_photon_lat\n"
     ]
    },
    {
     "name": "stdout",
     "output_type": "stream",
     "text": [
      "success pmel_co2_moorings_af32_4443_213a 2019-04-17T20:55:13Z\n",
      "no. of photons: 44417\n"
     ]
    },
    {
     "name": "stderr",
     "output_type": "stream",
     "text": [
      "Exception <-1>: Failure on resource ATL03_20190418030215_03030308_006_02.h5 track 3.1: H5Coro::Future read failure on /gt3r/geolocation/reference_photon_lat\n",
      "Exception <-1>: Failure on resource ATL03_20190418025513_03030307_006_02.h5 track 3.1: H5Coro::Future read failure on /gt3r/geolocation/reference_photon_lat\n"
     ]
    },
    {
     "name": "stdout",
     "output_type": "stream",
     "text": [
      "success pmel_co2_moorings_af32_4443_213a 2019-04-17T21:02:15Z\n",
      "no. of photons: 44417\n"
     ]
    },
    {
     "name": "stderr",
     "output_type": "stream",
     "text": [
      "Exception <-1>: Failure on resource ATL03_20190602124504_09960314_006_02.h5 track 3.1: H5Coro::Future read failure on /gt3r/geolocation/reference_photon_lat\n",
      "Exception <-1>: Failure on resource ATL03_20190602125206_09970301_006_02.h5 track 3.1: H5Coro::Future read failure on /gt3r/geolocation/reference_photon_lat\n"
     ]
    },
    {
     "name": "stdout",
     "output_type": "stream",
     "text": [
      "success pmel_co2_moorings_af32_4443_213a 2019-06-02T06:45:04Z\n",
      "no. of photons: 12443\n"
     ]
    },
    {
     "name": "stderr",
     "output_type": "stream",
     "text": [
      "Exception <-1>: Failure on resource ATL03_20190602125206_09970301_006_02.h5 track 3.1: H5Coro::Future read failure on /gt3r/geolocation/reference_photon_lat\n",
      "Exception <-1>: Failure on resource ATL03_20190602124504_09960314_006_02.h5 track 3.1: H5Coro::Future read failure on /gt3r/geolocation/reference_photon_lat\n"
     ]
    },
    {
     "name": "stdout",
     "output_type": "stream",
     "text": [
      "success pmel_co2_moorings_af32_4443_213a 2019-06-02T06:52:06Z\n",
      "no. of photons: 12443\n"
     ]
    },
    {
     "name": "stderr",
     "output_type": "stream",
     "text": [
      "Exception <-1>: Failure on resource ATL03_20191201040443_09960514_006_01.h5 track 1.0: H5Coro::Future read failure on /gt1l/geolocation/reference_photon_lat\n",
      "Exception <-1>: Failure on resource ATL03_20191201041146_09970501_006_01.h5 track 1.0: H5Coro::Future read failure on /gt1l/geolocation/reference_photon_lat\n"
     ]
    },
    {
     "name": "stdout",
     "output_type": "stream",
     "text": [
      "success pmel_co2_moorings_af32_4443_213a 2019-11-30T22:04:43Z\n",
      "no. of photons: 16017\n"
     ]
    },
    {
     "name": "stderr",
     "output_type": "stream",
     "text": [
      "Exception <-1>: Failure on resource ATL03_20191201041146_09970501_006_01.h5 track 1.0: H5Coro::Future read failure on /gt1l/geolocation/reference_photon_lat\n",
      "Exception <-1>: Failure on resource ATL03_20191201040443_09960514_006_01.h5 track 1.0: H5Coro::Future read failure on /gt1l/geolocation/reference_photon_lat\n"
     ]
    },
    {
     "name": "stdout",
     "output_type": "stream",
     "text": [
      "success pmel_co2_moorings_af32_4443_213a 2019-11-30T22:11:46Z\n",
      "no. of photons: 16017\n"
     ]
    },
    {
     "name": "stderr",
     "output_type": "stream",
     "text": [
      "Exception <-1>: Failure on resource ATL03_20200115135430_03030607_006_01.h5 track 1.0: H5Coro::Future read failure on /gt1l/geolocation/reference_photon_lat\n",
      "Exception <-1>: Failure on resource ATL03_20200115140132_03030608_006_01.h5 track 1.0: H5Coro::Future read failure on /gt1l/geolocation/reference_photon_lat\n"
     ]
    },
    {
     "name": "stdout",
     "output_type": "stream",
     "text": [
      "success pmel_co2_moorings_af32_4443_213a 2020-01-15T07:54:30Z\n",
      "no. of photons: 98\n"
     ]
    },
    {
     "name": "stderr",
     "output_type": "stream",
     "text": [
      "Exception <-1>: Failure on resource ATL03_20200115135430_03030607_006_01.h5 track 1.0: H5Coro::Future read failure on /gt1l/geolocation/reference_photon_lat\n",
      "Exception <-1>: Failure on resource ATL03_20200115140132_03030608_006_01.h5 track 1.0: H5Coro::Future read failure on /gt1l/geolocation/reference_photon_lat\n"
     ]
    },
    {
     "name": "stdout",
     "output_type": "stream",
     "text": [
      "success pmel_co2_moorings_af32_4443_213a 2020-01-15T08:01:32Z\n",
      "no. of photons: 98\n"
     ]
    },
    {
     "name": "stderr",
     "output_type": "stream",
     "text": [
      "Exception <-1>: Failure on resource ATL03_20200229235131_09970601_006_01.h5 track 1.0: H5Coro::Future read failure on /gt1l/geolocation/reference_photon_lat\n",
      "Exception <-1>: Failure on resource ATL03_20200229234429_09960614_006_01.h5 track 1.0: H5Coro::Future read failure on /gt1l/geolocation/reference_photon_lat\n"
     ]
    },
    {
     "name": "stdout",
     "output_type": "stream",
     "text": [
      "success pmel_co2_moorings_af32_4443_213a 2020-02-29T17:44:29Z\n",
      "no. of photons: 16502\n"
     ]
    },
    {
     "name": "stderr",
     "output_type": "stream",
     "text": [
      "Exception <-1>: Failure on resource ATL03_20200229235131_09970601_006_01.h5 track 1.0: H5Coro::Future read failure on /gt1l/geolocation/reference_photon_lat\n",
      "Exception <-1>: Failure on resource ATL03_20200229234429_09960614_006_01.h5 track 1.0: H5Coro::Future read failure on /gt1l/geolocation/reference_photon_lat\n"
     ]
    },
    {
     "name": "stdout",
     "output_type": "stream",
     "text": [
      "success pmel_co2_moorings_af32_4443_213a 2020-02-29T17:51:31Z\n",
      "no. of photons: 16502\n"
     ]
    },
    {
     "name": "stderr",
     "output_type": "stream",
     "text": [
      "Exception <-1>: Failure on resource ATL03_20200415094121_03030708_006_02.h5 track 1.0: H5Coro::Future read failure on /gt1l/geolocation/reference_photon_lat\n",
      "Exception <-1>: Failure on resource ATL03_20200415093419_03030707_006_02.h5 track 1.0: H5Coro::Future read failure on /gt1l/geolocation/reference_photon_lat\n"
     ]
    },
    {
     "name": "stdout",
     "output_type": "stream",
     "text": [
      "success pmel_co2_moorings_af32_4443_213a 2020-04-15T03:34:19Z\n",
      "no. of photons: 78974\n"
     ]
    },
    {
     "name": "stderr",
     "output_type": "stream",
     "text": [
      "Exception <-1>: Failure on resource ATL03_20200415094121_03030708_006_02.h5 track 1.0: H5Coro::Future read failure on /gt1l/geolocation/reference_photon_lat\n",
      "Exception <-1>: Failure on resource ATL03_20200415093419_03030707_006_02.h5 track 1.0: H5Coro::Future read failure on /gt1l/geolocation/reference_photon_lat\n"
     ]
    },
    {
     "name": "stdout",
     "output_type": "stream",
     "text": [
      "success pmel_co2_moorings_af32_4443_213a 2020-04-15T03:41:21Z\n",
      "no. of photons: 78974\n"
     ]
    },
    {
     "name": "stderr",
     "output_type": "stream",
     "text": [
      "Exception <-1>: Failure on resource ATL03_20200530193120_09970701_006_01.h5 track 3.1: H5Coro::Future read failure on /gt3r/geolocation/reference_photon_lat\n",
      "Exception <-1>: Failure on resource ATL03_20200530192418_09960714_006_01.h5 track 3.1: H5Coro::Future read failure on /gt3r/geolocation/reference_photon_lat\n"
     ]
    },
    {
     "name": "stdout",
     "output_type": "stream",
     "text": [
      "success pmel_co2_moorings_af32_4443_213a 2020-05-30T13:24:18Z\n",
      "no. of photons: 26196\n"
     ]
    },
    {
     "name": "stderr",
     "output_type": "stream",
     "text": [
      "Exception <-1>: Failure on resource ATL03_20200530193120_09970701_006_01.h5 track 3.1: H5Coro::Future read failure on /gt3r/geolocation/reference_photon_lat\n",
      "Exception <-1>: Failure on resource ATL03_20200530192418_09960714_006_01.h5 track 3.1: H5Coro::Future read failure on /gt3r/geolocation/reference_photon_lat\n"
     ]
    },
    {
     "name": "stdout",
     "output_type": "stream",
     "text": [
      "success pmel_co2_moorings_af32_4443_213a 2020-05-30T13:31:20Z\n",
      "no. of photons: 26196\n"
     ]
    },
    {
     "name": "stderr",
     "output_type": "stream",
     "text": [
      "Exception <-1>: Failure on resource ATL03_20200715052108_03030808_006_01.h5 track 3.1: H5Coro::Future read failure on /gt3r/geolocation/reference_photon_lat\n",
      "Exception <-1>: Failure on resource ATL03_20200715051406_03030807_006_01.h5 track 3.1: H5Coro::Future read failure on /gt3r/geolocation/reference_photon_lat\n"
     ]
    },
    {
     "name": "stdout",
     "output_type": "stream",
     "text": [
      "success pmel_co2_moorings_af32_4443_213a 2020-07-14T23:14:06Z\n",
      "no. of photons: 9526\n"
     ]
    },
    {
     "name": "stderr",
     "output_type": "stream",
     "text": [
      "Exception <-1>: Failure on resource ATL03_20200715052108_03030808_006_01.h5 track 3.1: H5Coro::Future read failure on /gt3r/geolocation/reference_photon_lat\n",
      "Exception <-1>: Failure on resource ATL03_20200715051406_03030807_006_01.h5 track 3.1: H5Coro::Future read failure on /gt3r/geolocation/reference_photon_lat\n"
     ]
    },
    {
     "name": "stdout",
     "output_type": "stream",
     "text": [
      "success pmel_co2_moorings_af32_4443_213a 2020-07-14T23:21:08Z\n",
      "no. of photons: 9526\n"
     ]
    },
    {
     "name": "stderr",
     "output_type": "stream",
     "text": [
      "Exception <-1>: Failure on resource ATL03_20200829151107_09970801_006_01.h5 track 3.1: H5Coro::Future read failure on /gt3r/geolocation/reference_photon_lat\n",
      "Exception <-1>: Failure on resource ATL03_20200829150404_09960814_006_01.h5 track 3.1: H5Coro::Future read failure on /gt3r/geolocation/reference_photon_lat\n"
     ]
    },
    {
     "name": "stdout",
     "output_type": "stream",
     "text": [
      "success pmel_co2_moorings_af32_4443_213a 2020-08-29T09:04:04Z\n",
      "no. of photons: 5199\n"
     ]
    },
    {
     "name": "stderr",
     "output_type": "stream",
     "text": [
      "Exception <-1>: Failure on resource ATL03_20200829151107_09970801_006_01.h5 track 3.1: H5Coro::Future read failure on /gt3r/geolocation/reference_photon_lat\n",
      "Exception <-1>: Failure on resource ATL03_20200829150404_09960814_006_01.h5 track 3.1: H5Coro::Future read failure on /gt3r/geolocation/reference_photon_lat\n"
     ]
    },
    {
     "name": "stdout",
     "output_type": "stream",
     "text": [
      "success pmel_co2_moorings_af32_4443_213a 2020-08-29T09:11:07Z\n",
      "no. of photons: 5199\n"
     ]
    },
    {
     "name": "stderr",
     "output_type": "stream",
     "text": [
      "Exception <-1>: Failure on resource ATL03_20201014010054_03030908_006_01.h5 track 3.1: H5Coro::Future read failure on /gt3r/geolocation/reference_photon_lat\n",
      "Exception <-1>: Failure on resource ATL03_20201014005352_03030907_006_01.h5 track 3.1: H5Coro::Future read failure on /gt3r/geolocation/reference_photon_lat\n"
     ]
    },
    {
     "name": "stdout",
     "output_type": "stream",
     "text": [
      "success pmel_co2_moorings_af32_4443_213a 2020-10-13T18:53:52Z\n",
      "no. of photons: 3893\n"
     ]
    },
    {
     "name": "stderr",
     "output_type": "stream",
     "text": [
      "Exception <-1>: Failure on resource ATL03_20201014010054_03030908_006_01.h5 track 3.1: H5Coro::Future read failure on /gt3r/geolocation/reference_photon_lat\n",
      "Exception <-1>: Failure on resource ATL03_20201014005352_03030907_006_01.h5 track 3.1: H5Coro::Future read failure on /gt3r/geolocation/reference_photon_lat\n"
     ]
    },
    {
     "name": "stdout",
     "output_type": "stream",
     "text": [
      "success pmel_co2_moorings_af32_4443_213a 2020-10-13T19:00:54Z\n",
      "no. of photons: 3893\n"
     ]
    },
    {
     "name": "stderr",
     "output_type": "stream",
     "text": [
      "Exception <-1>: Failure on resource ATL03_20201128105056_09970901_006_01.h5 track 3.1: H5Coro::Future read failure on /gt3r/geolocation/reference_photon_lat\n",
      "Exception <-1>: Failure on resource ATL03_20201128104354_09960914_006_01.h5 track 3.1: H5Coro::Future read failure on /gt3r/geolocation/reference_photon_lat\n"
     ]
    },
    {
     "name": "stdout",
     "output_type": "stream",
     "text": [
      "success pmel_co2_moorings_af32_4443_213a 2020-11-28T04:43:54Z\n",
      "no. of photons: 105\n"
     ]
    },
    {
     "name": "stderr",
     "output_type": "stream",
     "text": [
      "Exception <-1>: Failure on resource ATL03_20201128104354_09960914_006_01.h5 track 3.1: H5Coro::Future read failure on /gt3r/geolocation/reference_photon_lat\n",
      "Exception <-1>: Failure on resource ATL03_20201128105056_09970901_006_01.h5 track 3.1: H5Coro::Future read failure on /gt3r/geolocation/reference_photon_lat\n"
     ]
    },
    {
     "name": "stdout",
     "output_type": "stream",
     "text": [
      "success pmel_co2_moorings_af32_4443_213a 2020-11-28T04:50:56Z\n",
      "no. of photons: 105\n"
     ]
    },
    {
     "name": "stderr",
     "output_type": "stream",
     "text": [
      "Exception <-1>: Failure on resource ATL03_20210227062346_09961014_006_01.h5 track 1.0: H5Coro::Future read failure on /gt1l/geolocation/reference_photon_lat\n",
      "Exception <-1>: Failure on resource ATL03_20210227063048_09971001_006_01.h5 track 1.0: H5Coro::Future read failure on /gt1l/geolocation/reference_photon_lat\n"
     ]
    },
    {
     "name": "stdout",
     "output_type": "stream",
     "text": [
      "success pmel_co2_moorings_af32_4443_213a 2021-02-27T00:23:46Z\n",
      "no. of photons: 107\n"
     ]
    },
    {
     "name": "stderr",
     "output_type": "stream",
     "text": [
      "Exception <-1>: Failure on resource ATL03_20210227062346_09961014_006_01.h5 track 1.0: H5Coro::Future read failure on /gt1l/geolocation/reference_photon_lat\n",
      "Exception <-1>: Failure on resource ATL03_20210227063048_09971001_006_01.h5 track 1.0: H5Coro::Future read failure on /gt1l/geolocation/reference_photon_lat\n"
     ]
    },
    {
     "name": "stdout",
     "output_type": "stream",
     "text": [
      "success pmel_co2_moorings_af32_4443_213a 2021-02-27T00:30:48Z\n",
      "no. of photons: 107\n"
     ]
    },
    {
     "name": "stderr",
     "output_type": "stream",
     "text": [
      "Exception <-1>: Failure on resource ATL03_20210413162040_03031108_006_02.h5 track 1.0: H5Coro::Future read failure on /gt1l/geolocation/reference_photon_lat\n",
      "Exception <-1>: Failure on resource ATL03_20210413161338_03031107_006_02.h5 track 1.0: H5Coro::Future read failure on /gt1l/geolocation/reference_photon_lat\n"
     ]
    },
    {
     "name": "stdout",
     "output_type": "stream",
     "text": [
      "success pmel_co2_moorings_af32_4443_213a 2021-04-13T10:13:38Z\n",
      "no. of photons: 17758\n"
     ]
    },
    {
     "name": "stderr",
     "output_type": "stream",
     "text": [
      "Exception <-1>: Failure on resource ATL03_20210413162040_03031108_006_02.h5 track 1.0: H5Coro::Future read failure on /gt1l/geolocation/reference_photon_lat\n",
      "Exception <-1>: Failure on resource ATL03_20210413161338_03031107_006_02.h5 track 1.0: H5Coro::Future read failure on /gt1l/geolocation/reference_photon_lat\n"
     ]
    },
    {
     "name": "stdout",
     "output_type": "stream",
     "text": [
      "success pmel_co2_moorings_af32_4443_213a 2021-04-13T10:20:40Z\n",
      "no. of photons: 17758\n"
     ]
    },
    {
     "name": "stderr",
     "output_type": "stream",
     "text": [
      "Exception <-1>: Failure on resource ATL03_20210529020338_09961114_006_01.h5 track 1.0: H5Coro::Future read failure on /gt1l/geolocation/reference_photon_lat\n",
      "Exception <-1>: Failure on resource ATL03_20210529021040_09971101_006_01.h5 track 1.0: H5Coro::Future read failure on /gt1l/geolocation/reference_photon_lat\n"
     ]
    },
    {
     "name": "stdout",
     "output_type": "stream",
     "text": [
      "success pmel_co2_moorings_af32_4443_213a 2021-05-28T20:03:38Z\n",
      "no. of photons: 13681\n"
     ]
    },
    {
     "name": "stderr",
     "output_type": "stream",
     "text": [
      "Exception <-1>: Failure on resource ATL03_20210529020338_09961114_006_01.h5 track 1.0: H5Coro::Future read failure on /gt1l/geolocation/reference_photon_lat\n",
      "Exception <-1>: Failure on resource ATL03_20210529021040_09971101_006_01.h5 track 1.0: H5Coro::Future read failure on /gt1l/geolocation/reference_photon_lat\n"
     ]
    },
    {
     "name": "stdout",
     "output_type": "stream",
     "text": [
      "success pmel_co2_moorings_af32_4443_213a 2021-05-28T20:10:40Z\n",
      "no. of photons: 13681\n",
      "success pmel_co2_moorings_af32_4443_213a 2021-07-13T05:53:29Z\n",
      "no. of photons: 396\n",
      "success pmel_co2_moorings_af32_4443_213a 2021-07-13T06:00:31Z\n",
      "no. of photons: 396\n",
      "success pmel_co2_moorings_af32_4443_213a 2021-08-27T15:43:34Z\n",
      "no. of photons: 28823\n",
      "success pmel_co2_moorings_af32_4443_213a 2021-08-27T15:50:36Z\n",
      "no. of photons: 28823\n",
      "success pmel_co2_moorings_af32_4443_213a 2021-10-12T01:33:28Z\n",
      "no. of photons: 17643\n",
      "success pmel_co2_moorings_af32_4443_213a 2021-10-12T01:40:30Z\n",
      "no. of photons: 17643\n",
      "success pmel_co2_moorings_af32_4443_213a 2021-11-26T11:23:29Z\n",
      "no. of photons: 34953\n",
      "success pmel_co2_moorings_af32_4443_213a 2021-11-26T11:30:32Z\n",
      "no. of photons: 34953\n",
      "success pmel_co2_moorings_af32_4443_213a 2022-01-10T21:13:21Z\n",
      "no. of photons: 7471\n",
      "success pmel_co2_moorings_af32_4443_213a 2022-01-10T21:20:23Z\n",
      "no. of photons: 7471\n",
      "success pmel_co2_moorings_af32_4443_213a 2022-02-25T07:03:21Z\n",
      "no. of photons: 141\n",
      "success pmel_co2_moorings_af32_4443_213a 2022-02-25T07:10:23Z\n",
      "no. of photons: 141\n",
      "working on 108/137\n"
     ]
    },
    {
     "name": "stderr",
     "output_type": "stream",
     "text": [
      "Exception <-1>: Failure on resource ATL03_20190118201812_03270201_006_02.h5 track 3.1: H5Coro::Future read failure on /gt3r/geolocation/reference_photon_lat\n"
     ]
    },
    {
     "name": "stdout",
     "output_type": "stream",
     "text": [
      "success pmel_co2_moorings_509b_0e87_dbc3 2019-01-18T14:11:09Z\n",
      "no. of photons: 23006\n"
     ]
    },
    {
     "name": "stderr",
     "output_type": "stream",
     "text": [
      "Exception <-1>: Failure on resource ATL03_20190118201812_03270201_006_02.h5 track 3.1: H5Coro::Future read failure on /gt3r/geolocation/reference_photon_lat\n"
     ]
    },
    {
     "name": "stdout",
     "output_type": "stream",
     "text": [
      "success pmel_co2_moorings_509b_0e87_dbc3 2019-01-18T14:18:12Z\n",
      "no. of photons: 23006\n"
     ]
    },
    {
     "name": "stderr",
     "output_type": "stream",
     "text": [
      "Exception <-1>: Failure on resource ATL03_20190305060114_10200207_006_02.h5 track 3.1: H5Coro::Future read failure on /gt3r/geolocation/reference_photon_lat\n"
     ]
    },
    {
     "name": "stdout",
     "output_type": "stream",
     "text": [
      "success pmel_co2_moorings_509b_0e87_dbc3 2019-03-05T00:01:14Z\n",
      "no. of photons: 8986\n"
     ]
    },
    {
     "name": "stderr",
     "output_type": "stream",
     "text": [
      "Exception <-1>: Failure on resource ATL03_20190305060114_10200207_006_02.h5 track 3.1: H5Coro::Future read failure on /gt3r/geolocation/reference_photon_lat\n"
     ]
    },
    {
     "name": "stdout",
     "output_type": "stream",
     "text": [
      "success pmel_co2_moorings_509b_0e87_dbc3 2019-03-05T00:08:16Z\n",
      "no. of photons: 8986\n"
     ]
    },
    {
     "name": "stderr",
     "output_type": "stream",
     "text": [
      "Exception <-1>: Failure on resource ATL03_20190419155808_03270301_006_02.h5 track 3.1: H5Coro::Future read failure on /gt3r/geolocation/reference_photon_lat\n"
     ]
    },
    {
     "name": "stdout",
     "output_type": "stream",
     "text": [
      "success pmel_co2_moorings_509b_0e87_dbc3 2019-04-19T09:51:06Z\n",
      "no. of photons: 22520\n"
     ]
    },
    {
     "name": "stderr",
     "output_type": "stream",
     "text": [
      "Exception <-1>: Failure on resource ATL03_20190419155808_03270301_006_02.h5 track 3.1: H5Coro::Future read failure on /gt3r/geolocation/reference_photon_lat\n"
     ]
    },
    {
     "name": "stdout",
     "output_type": "stream",
     "text": [
      "success pmel_co2_moorings_509b_0e87_dbc3 2019-04-19T09:58:08Z\n",
      "no. of photons: 22520\n"
     ]
    },
    {
     "name": "stderr",
     "output_type": "stream",
     "text": [
      "Exception <-1>: Failure on resource ATL03_20190604014048_10200307_006_02.h5 track 3.1: H5Coro::Future read failure on /gt3r/geolocation/reference_photon_lat\n",
      "Exception <-1>: Failure on resource ATL03_20190604014749_10200308_006_02.h5 track 1.0: H5Coro::Future read failure on /gt1l/heights/quality_ph\n"
     ]
    },
    {
     "name": "stdout",
     "output_type": "stream",
     "text": [
      "success pmel_co2_moorings_509b_0e87_dbc3 2019-06-03T19:40:48Z\n",
      "no. of photons: 9129\n"
     ]
    },
    {
     "name": "stderr",
     "output_type": "stream",
     "text": [
      "Exception <-1>: Failure on resource ATL03_20190604014048_10200307_006_02.h5 track 3.1: H5Coro::Future read failure on /gt3r/geolocation/reference_photon_lat\n"
     ]
    },
    {
     "name": "stdout",
     "output_type": "stream",
     "text": [
      "success pmel_co2_moorings_509b_0e87_dbc3 2019-06-03T19:47:49Z\n",
      "no. of photons: 11905\n",
      "success pmel_co2_moorings_509b_0e87_dbc3 2019-07-19T05:30:36Z\n",
      "no. of photons: 678\n",
      "success pmel_co2_moorings_509b_0e87_dbc3 2019-07-19T05:37:39Z\n",
      "no. of photons: 678\n"
     ]
    },
    {
     "name": "stderr",
     "output_type": "stream",
     "text": [
      "Exception <-1>: Failure on resource ATL03_20190902212037_10200407_006_02.h5 track 3.1: H5Coro::Future read failure on /gt3r/geolocation/reference_photon_lat\n"
     ]
    },
    {
     "name": "stdout",
     "output_type": "stream",
     "text": [
      "success pmel_co2_moorings_509b_0e87_dbc3 2019-09-02T15:20:37Z\n",
      "no. of photons: 34840\n"
     ]
    },
    {
     "name": "stderr",
     "output_type": "stream",
     "text": [
      "Exception <-1>: Failure on resource ATL03_20190902212037_10200407_006_02.h5 track 3.1: H5Coro::Future read failure on /gt3r/geolocation/reference_photon_lat\n"
     ]
    },
    {
     "name": "stdout",
     "output_type": "stream",
     "text": [
      "success pmel_co2_moorings_509b_0e87_dbc3 2019-09-02T15:27:39Z\n",
      "no. of photons: 34840\n"
     ]
    },
    {
     "name": "stderr",
     "output_type": "stream",
     "text": [
      "Exception <-1>: Failure on resource ATL03_20191202170027_10200507_006_01.h5 track 1.0: H5Coro::Future read failure on /gt1l/geolocation/reference_photon_lat\n"
     ]
    },
    {
     "name": "stdout",
     "output_type": "stream",
     "text": [
      "success pmel_co2_moorings_509b_0e87_dbc3 2019-12-02T11:00:27Z\n",
      "no. of photons: 28946\n"
     ]
    },
    {
     "name": "stderr",
     "output_type": "stream",
     "text": [
      "Exception <-1>: Failure on resource ATL03_20191202170027_10200507_006_01.h5 track 1.0: H5Coro::Future read failure on /gt1l/geolocation/reference_photon_lat\n"
     ]
    },
    {
     "name": "stdout",
     "output_type": "stream",
     "text": [
      "success pmel_co2_moorings_509b_0e87_dbc3 2019-12-02T11:07:29Z\n",
      "no. of photons: 28946\n",
      "success pmel_co2_moorings_509b_0e87_dbc3 2020-01-16T20:50:23Z\n",
      "no. of photons: 14212\n",
      "success pmel_co2_moorings_509b_0e87_dbc3 2020-01-16T20:57:26Z\n",
      "no. of photons: 14212\n"
     ]
    },
    {
     "name": "stderr",
     "output_type": "stream",
     "text": [
      "Exception <-1>: Failure on resource ATL03_20200302124011_10200607_006_01.h5 track 1.0: H5Coro::Future read failure on /gt1l/geolocation/reference_photon_lat\n"
     ]
    },
    {
     "name": "stdout",
     "output_type": "stream",
     "text": [
      "success pmel_co2_moorings_509b_0e87_dbc3 2020-03-02T06:40:11Z\n",
      "no. of photons: 19461\n"
     ]
    },
    {
     "name": "stderr",
     "output_type": "stream",
     "text": [
      "Exception <-1>: Failure on resource ATL03_20200302124011_10200607_006_01.h5 track 1.0: H5Coro::Future read failure on /gt1l/geolocation/reference_photon_lat\n"
     ]
    },
    {
     "name": "stdout",
     "output_type": "stream",
     "text": [
      "success pmel_co2_moorings_509b_0e87_dbc3 2020-03-02T06:47:13Z\n",
      "no. of photons: 19461\n",
      "working on 109/137\n",
      "success pmel_co2_moorings_bf98_0a93_1a18 2020-07-30T12:27:59Z\n",
      "no. of photons: 14701\n",
      "success pmel_co2_moorings_bf98_0a93_1a18 2020-07-30T12:35:01Z\n",
      "no. of photons: 14701\n",
      "success pmel_co2_moorings_bf98_0a93_1a18 2020-09-17T22:09:27Z\n",
      "no. of photons: 5068\n",
      "success pmel_co2_moorings_bf98_0a93_1a18 2020-09-17T22:16:29Z\n",
      "no. of photons: 5068\n",
      "success pmel_co2_moorings_bf98_0a93_1a18 2020-10-29T08:07:47Z\n",
      "no. of photons: 10477\n",
      "success pmel_co2_moorings_bf98_0a93_1a18 2020-10-29T08:14:50Z\n",
      "no. of photons: 10477\n"
     ]
    },
    {
     "name": "stderr",
     "output_type": "stream",
     "text": [
      "Exception <-1>: Failure on resource ATL03_20210115222524_03501007_006_01.h5 track 1.0: H5Coro::Future read failure on /gt1l/geolocation/reference_photon_lat\n",
      "Exception <-1>: Failure on resource ATL03_20210115222524_03501007_006_01.h5 track 1.0: H5Coro::Future read failure on /gt1l/geolocation/reference_photon_lat\n",
      "Exception <-1>: Failure on resource ATL03_20210416180515_03501107_006_02.h5 track 1.0: H5Coro::Future read failure on /gt1l/geolocation/reference_photon_lat\n"
     ]
    },
    {
     "name": "stdout",
     "output_type": "stream",
     "text": [
      "success pmel_co2_moorings_bf98_0a93_1a18 2021-04-16T12:05:15Z\n",
      "no. of photons: 8458\n"
     ]
    },
    {
     "name": "stderr",
     "output_type": "stream",
     "text": [
      "Exception <-1>: Failure on resource ATL03_20210416180515_03501107_006_02.h5 track 1.0: H5Coro::Future read failure on /gt1l/geolocation/reference_photon_lat\n"
     ]
    },
    {
     "name": "stdout",
     "output_type": "stream",
     "text": [
      "success pmel_co2_moorings_bf98_0a93_1a18 2021-04-16T12:12:17Z\n",
      "no. of photons: 8458\n",
      "working on 110/137\n"
     ]
    },
    {
     "name": "stderr",
     "output_type": "stream",
     "text": [
      "Exception <-1>: Failure on resource ATL03_20181014163344_02450108_006_02.h5 track 1.0: H5Coro::Future read failure on /gt1l/geolocation/reference_photon_lat\n"
     ]
    },
    {
     "name": "stdout",
     "output_type": "stream",
     "text": [
      "success pmel_co2_moorings_c993_7f05_7d40 2018-10-14T10:26:42Z\n",
      "no. of photons: 36190\n"
     ]
    },
    {
     "name": "stderr",
     "output_type": "stream",
     "text": [
      "Exception <-1>: Failure on resource ATL03_20181014163344_02450108_006_02.h5 track 1.0: H5Coro::Future read failure on /gt1l/geolocation/reference_photon_lat\n"
     ]
    },
    {
     "name": "stdout",
     "output_type": "stream",
     "text": [
      "success pmel_co2_moorings_c993_7f05_7d40 2018-10-14T10:33:44Z\n",
      "no. of photons: 36190\n",
      "success pmel_co2_moorings_c993_7f05_7d40 2020-03-13T09:49:30Z\n",
      "no. of photons: 2291\n",
      "success pmel_co2_moorings_c993_7f05_7d40 2020-03-13T09:56:32Z\n",
      "no. of photons: 2291\n",
      "working on 111/137\n",
      "success pmel_co2_moorings_b1d3_602a_9da4 2023-02-11T17:16:13Z\n",
      "no. of photons: 54297\n",
      "success pmel_co2_moorings_b1d3_602a_9da4 2023-02-11T17:23:16Z\n",
      "no. of photons: 54297\n",
      "working on 112/137\n",
      "success ru33-20230122T1352 2023-02-02T11:27:48Z\n",
      "no. of photons: 333283\n",
      "success ru33-20230122T1352 2023-02-13T22:15:01Z\n",
      "no. of photons: 9958\n",
      "working on 113/137\n",
      "success TABS_X 2018-10-23T15:28:34Z\n",
      "no. of photons: 2562\n",
      "working on 114/137\n",
      "success USF_COMPS_C12 2019-01-31T21:50:48Z\n",
      "no. of photons: 6674\n",
      "success USF_COMPS_C12 2019-03-19T07:37:39Z\n",
      "no. of photons: 1354\n",
      "success USF_COMPS_C12 2019-06-18T03:17:14Z\n",
      "no. of photons: 9875\n",
      "success USF_COMPS_C12 2020-01-30T04:29:48Z\n",
      "no. of photons: 12810\n",
      "success USF_COMPS_C12 2020-04-30T00:09:33Z\n",
      "no. of photons: 120\n",
      "success USF_COMPS_C12 2022-09-10T18:55:22Z\n",
      "no. of photons: 147\n",
      "success USF_COMPS_C12 2022-10-25T04:48:13Z\n",
      "no. of photons: 14388\n",
      "success USF_COMPS_C12 2023-04-24T20:07:42Z\n",
      "no. of photons: 26\n",
      "success USF_COMPS_C12 2023-06-10T05:54:15Z\n",
      "no. of photons: 177457\n",
      "success USF_COMPS_C12 2023-07-24T15:46:55Z\n",
      "no. of photons: 3683\n",
      "success USF_COMPS_C12 2023-10-23T11:26:28Z\n",
      "no. of photons: 33702\n",
      "success USF_COMPS_C12 2023-12-08T21:13:22Z\n",
      "no. of photons: 159\n",
      "success USF_COMPS_C12 2024-01-22T07:06:00Z\n",
      "no. of photons: 10513\n",
      "success USF_COMPS_C12 2024-03-08T16:52:45Z\n",
      "no. of photons: 17942\n",
      "success USF_COMPS_C12 2024-04-22T02:45:22Z\n",
      "no. of photons: 77\n",
      "success USF_COMPS_C12 2024-07-21T22:25:13Z\n",
      "no. of photons: 15327\n",
      "working on 115/137\n",
      "success USF_COMPS_C13 2018-10-29T02:27:38Z\n",
      "no. of photons: 29317\n",
      "success USF_COMPS_C13 2019-07-28T13:26:55Z\n",
      "no. of photons: 96536\n",
      "success USF_COMPS_C13 2019-11-13T20:02:12Z\n",
      "no. of photons: 75\n",
      "success USF_COMPS_C13 2020-04-26T00:26:25Z\n",
      "no. of photons: 7553\n",
      "success USF_COMPS_C13 2020-07-25T20:06:12Z\n",
      "no. of photons: 11139\n",
      "success USF_COMPS_C13 2020-10-24T15:45:57Z\n",
      "no. of photons: 10739\n",
      "success USF_COMPS_C13 2020-11-11T02:41:18Z\n",
      "no. of photons: 1768\n",
      "success USF_COMPS_C13 2021-05-11T18:01:05Z\n",
      "no. of photons: 56471\n",
      "success USF_COMPS_C13 2021-07-24T02:45:35Z\n",
      "no. of photons: 14271\n",
      "success USF_COMPS_C13 2021-10-22T22:25:35Z\n",
      "no. of photons: 133\n",
      "success USF_COMPS_C13 2022-01-21T18:05:26Z\n",
      "no. of photons: 123\n",
      "success USF_COMPS_C13 2022-07-22T09:25:16Z\n",
      "no. of photons: 18837\n",
      "success USF_COMPS_C13 2022-08-08T20:20:37Z\n",
      "no. of photons: 120\n",
      "success USF_COMPS_C13 2023-04-20T20:24:18Z\n",
      "no. of photons: 31494\n",
      "success USF_COMPS_C13 2023-05-08T07:19:51Z\n",
      "no. of photons: 37264\n",
      "success USF_COMPS_C13 2023-07-20T16:03:43Z\n",
      "no. of photons: 46175\n",
      "success USF_COMPS_C13 2023-10-19T11:43:19Z\n",
      "no. of photons: 40815\n"
     ]
    },
    {
     "name": "stderr",
     "output_type": "stream",
     "text": [
      "Exception <-1>: Failure on resource ATL03_20240505195753_07362301_006_01.h5 track 3.0: H5Coro::Future read failure on /gt3l/geolocation/reference_photon_lat\n"
     ]
    },
    {
     "name": "stdout",
     "output_type": "stream",
     "text": [
      "success USF_COMPS_C13 2024-05-05T13:57:53Z\n",
      "no. of photons: 4950\n",
      "success USF_COMPS_C13 2024-08-04T09:37:27Z\n",
      "no. of photons: 114215\n",
      "working on 116/137\n",
      "success wmo_42043 2018-10-15T15:45:13Z\n",
      "no. of photons: 20714\n",
      "success wmo_42043 2018-10-31T03:02:09Z\n",
      "no. of photons: 13\n",
      "success wmo_42043 2019-01-29T22:42:06Z\n",
      "no. of photons: 12831\n",
      "success wmo_42043 2019-04-30T18:21:45Z\n",
      "no. of photons: 2917\n",
      "success wmo_42043 2019-07-15T02:44:25Z\n",
      "no. of photons: 359\n",
      "success wmo_42043 2019-07-30T14:01:25Z\n",
      "no. of photons: 30368\n",
      "success wmo_42043 2020-01-12T18:04:13Z\n",
      "no. of photons: 18902\n",
      "success wmo_42043 2020-07-12T09:23:47Z\n",
      "no. of photons: 18585\n",
      "success wmo_42043 2020-10-26T16:20:27Z\n",
      "no. of photons: 35302\n",
      "success wmo_42043 2021-04-26T07:40:11Z\n",
      "no. of photons: 19760\n",
      "working on 117/137\n",
      "success wmo_42044 2019-01-26T10:53:10Z\n",
      "no. of photons: 47161\n",
      "success wmo_42044 2019-07-09T15:17:03Z\n",
      "no. of photons: 23047\n",
      "success wmo_42044 2022-01-02T19:55:42Z\n",
      "no. of photons: 15762\n",
      "success wmo_42044 2022-07-20T22:10:49Z\n",
      "no. of photons: 21558\n",
      "success wmo_42044 2022-10-19T17:50:40Z\n",
      "no. of photons: 38782\n",
      "working on 118/137\n",
      "success wmo_42045 2018-12-07T01:29:58Z\n",
      "no. of photons: 30\n",
      "success wmo_42045 2018-12-24T12:25:19Z\n",
      "no. of photons: 35347\n",
      "success wmo_42045 2019-03-25T08:05:14Z\n",
      "no. of photons: 37730\n",
      "success wmo_42045 2019-06-24T03:44:50Z\n",
      "no. of photons: 52\n",
      "success wmo_42045 2020-06-03T23:28:46Z\n",
      "no. of photons: 19913\n",
      "success wmo_42045 2020-09-20T06:03:52Z\n",
      "no. of photons: 4285\n",
      "success wmo_42045 2020-12-02T14:48:23Z\n",
      "no. of photons: 14562\n",
      "success wmo_42045 2020-12-20T01:43:44Z\n",
      "no. of photons: 13165\n",
      "working on 119/137\n",
      "success wmo_42047 2018-12-08T13:05:38Z\n",
      "no. of photons: 1685\n",
      "success wmo_42047 2019-03-09T08:45:38Z\n",
      "no. of photons: 1145\n",
      "working on 120/137\n",
      "success wmo_42048 2019-09-22T23:31:46Z\n",
      "no. of photons: 36185\n",
      "success wmo_42048 2019-12-22T19:11:33Z\n",
      "no. of photons: 75526\n",
      "success wmo_42048 2020-02-22T16:15:16Z\n",
      "no. of photons: 27434\n",
      "success wmo_42048 2020-04-07T02:08:09Z\n",
      "no. of photons: 3976\n",
      "success wmo_42048 2020-10-05T17:27:41Z\n",
      "no. of photons: 47598\n",
      "success wmo_42048 2021-02-19T22:54:35Z\n",
      "no. of photons: 76585\n",
      "success wmo_42048 2021-07-05T04:27:19Z\n",
      "no. of photons: 14387\n",
      "success wmo_42048 2022-01-02T19:47:11Z\n",
      "no. of photons: 17289\n",
      "success wmo_42048 2022-04-03T15:27:02Z\n",
      "no. of photons: 30152\n",
      "success wmo_42048 2023-03-17T10:49:37Z\n",
      "no. of photons: 36683\n",
      "working on 121/137\n",
      "success wmo_42049 2018-12-20T12:40:41Z\n",
      "no. of photons: 9963\n",
      "success wmo_42049 2019-01-04T23:57:36Z\n",
      "no. of photons: 102567\n",
      "success wmo_42049 2019-03-21T08:20:37Z\n",
      "no. of photons: 49588\n",
      "success wmo_42049 2019-12-18T19:19:53Z\n",
      "no. of photons: 23025\n",
      "success wmo_42049 2020-03-18T14:59:41Z\n",
      "no. of photons: 21508\n",
      "success wmo_42049 2020-04-03T02:16:28Z\n",
      "no. of photons: 67\n",
      "success wmo_42049 2020-06-17T10:39:25Z\n",
      "no. of photons: 46101\n",
      "success wmo_42049 2020-10-01T17:36:05Z\n",
      "no. of photons: 89893\n",
      "success wmo_42049 2021-09-14T12:58:44Z\n",
      "no. of photons: 28592\n",
      "success wmo_42049 2022-03-15T04:18:30Z\n",
      "no. of photons: 13284\n",
      "success wmo_42049 2022-03-30T15:35:23Z\n",
      "no. of photons: 29171\n",
      "success wmo_42049 2022-06-29T11:15:22Z\n",
      "no. of photons: 22798\n",
      "success wmo_42049 2022-09-12T19:38:20Z\n",
      "no. of photons: 25145\n",
      "success wmo_42049 2022-12-28T02:34:54Z\n",
      "no. of photons: 16476\n",
      "success wmo_42049 2023-12-10T21:56:21Z\n",
      "no. of photons: 25983\n",
      "working on 122/137\n",
      "success wmo_42050 2018-10-27T03:10:27Z\n",
      "no. of photons: 19254\n",
      "success wmo_42050 2019-01-10T11:33:23Z\n",
      "no. of photons: 20421\n",
      "success wmo_42050 2019-04-26T18:30:06Z\n",
      "no. of photons: 24854\n",
      "success wmo_42050 2019-07-26T14:09:42Z\n",
      "no. of photons: 6186\n",
      "working on 123/137\n",
      "success wmo_42051 2018-12-24T00:22:32Z\n",
      "no. of photons: 17786\n",
      "success wmo_42051 2021-09-18T00:40:35Z\n",
      "no. of photons: 14557\n",
      "success wmo_42051 2022-03-18T16:00:22Z\n",
      "no. of photons: 28810\n",
      "working on 124/137\n",
      "success knwz-4bap 2020-08-03T06:16:33Z\n",
      "no. of photons: 468583\n",
      "success knwz-4bap 2020-11-02T01:56:21Z\n",
      "no. of photons: 128\n",
      "success knwz-4bap 2021-01-05T11:07:41Z\n",
      "no. of photons: 80827\n",
      "success knwz-4bap 2021-01-31T21:36:16Z\n",
      "no. of photons: 3161\n",
      "success knwz-4bap 2021-06-07T03:51:20Z\n",
      "no. of photons: 111273\n",
      "success knwz-4bap 2021-08-01T12:55:58Z\n",
      "no. of photons: 84068\n",
      "success knwz-4bap 2021-10-04T22:07:22Z\n",
      "no. of photons: 45209\n",
      "success knwz-4bap 2021-10-31T08:35:57Z\n",
      "no. of photons: 318219\n",
      "success knwz-4bap 2022-01-30T04:15:48Z\n",
      "no. of photons: 232\n",
      "success knwz-4bap 2022-06-05T10:30:58Z\n",
      "no. of photons: 985237\n",
      "success knwz-4bap 2022-09-04T06:10:54Z\n",
      "no. of photons: 108365\n",
      "success knwz-4bap 2022-10-29T15:15:24Z\n",
      "no. of photons: 67152\n",
      "success knwz-4bap 2023-01-28T10:55:20Z\n",
      "no. of photons: 203515\n",
      "working on 125/137\n",
      "success kgdu-nqdp 2018-10-21T13:11:18Z\n",
      "no. of photons: 3097\n",
      "success kgdu-nqdp 2021-02-20T08:44:49Z\n",
      "no. of photons: 23928\n",
      "success kgdu-nqdp 2021-05-15T16:25:29Z\n",
      "no. of photons: 27065\n",
      "success kgdu-nqdp 2021-08-21T00:04:33Z\n",
      "no. of photons: 120\n",
      "success kgdu-nqdp 2021-10-15T09:09:14Z\n",
      "no. of photons: 135166\n",
      "success kgdu-nqdp 2021-11-19T19:44:33Z\n",
      "no. of photons: 10486\n",
      "success kgdu-nqdp 2022-02-18T15:24:21Z\n",
      "no. of photons: 7851\n",
      "success kgdu-nqdp 2022-04-21T12:28:08Z\n",
      "no. of photons: 17690\n",
      "success kgdu-nqdp 2022-05-13T23:05:05Z\n",
      "no. of photons: 2884\n",
      "success kgdu-nqdp 2022-10-13T15:48:42Z\n",
      "no. of photons: 16824\n",
      "success kgdu-nqdp 2022-11-18T02:23:53Z\n",
      "no. of photons: 30104\n",
      "success kgdu-nqdp 2023-02-16T22:03:42Z\n",
      "no. of photons: 183\n",
      "success kgdu-nqdp 2023-07-13T02:47:29Z\n",
      "no. of photons: 9332\n",
      "success kgdu-nqdp 2023-08-17T13:22:32Z\n",
      "no. of photons: 189622\n",
      "working on 126/137\n",
      "success gfri-gzxa 2020-11-19T00:57:24Z\n",
      "no. of photons: 40810\n",
      "success gfri-gzxa 2020-11-25T12:56:36Z\n",
      "no. of photons: 17183\n",
      "success gfri-gzxa 2021-02-24T08:36:28Z\n",
      "no. of photons: 53653\n",
      "success gfri-gzxa 2021-05-19T16:17:09Z\n",
      "no. of photons: 57244\n",
      "success gfri-gzxa 2021-08-18T11:57:03Z\n",
      "no. of photons: 339835\n",
      "success gfri-gzxa 2021-08-24T23:56:14Z\n",
      "no. of photons: 75831\n",
      "success gfri-gzxa 2022-02-16T03:16:49Z\n",
      "no. of photons: 76811\n",
      "success gfri-gzxa 2022-02-22T15:16:02Z\n",
      "no. of photons: 60933\n",
      "success gfri-gzxa 2022-05-17T22:56:44Z\n",
      "no. of photons: 26132\n",
      "success gfri-gzxa 2022-08-16T18:36:41Z\n",
      "no. of photons: 56889\n",
      "success gfri-gzxa 2022-08-23T06:35:54Z\n",
      "no. of photons: 15900\n",
      "success gfri-gzxa 2022-11-22T02:15:33Z\n",
      "no. of photons: 182\n",
      "success gfri-gzxa 2023-02-14T09:56:13Z\n",
      "no. of photons: 281668\n",
      "success gfri-gzxa 2023-02-20T21:55:26Z\n",
      "no. of photons: 116748\n",
      "success gfri-gzxa 2023-05-16T05:35:50Z\n",
      "no. of photons: 44063\n",
      "success gfri-gzxa 2023-05-22T17:35:01Z\n",
      "no. of photons: 25992\n",
      "working on 127/137\n",
      "success wpsu-7fer 2019-03-10T06:45:41Z\n",
      "no. of photons: 48116\n",
      "success wpsu-7fer 2019-06-09T02:25:16Z\n",
      "no. of photons: 16611\n",
      "success wpsu-7fer 2019-07-14T13:00:18Z\n",
      "no. of photons: 63082\n",
      "success wpsu-7fer 2019-08-12T11:36:30Z\n",
      "no. of photons: 67266\n",
      "success wpsu-7fer 2020-02-10T02:56:07Z\n",
      "no. of photons: 382\n",
      "success wpsu-7fer 2020-03-07T13:24:40Z\n",
      "no. of photons: 98083\n",
      "success wpsu-7fer 2020-06-06T09:04:29Z\n",
      "no. of photons: 331793\n",
      "success wpsu-7fer 2020-08-09T18:15:43Z\n",
      "no. of photons: 3845\n",
      "success wpsu-7fer 2020-09-05T04:44:15Z\n",
      "no. of photons: 84468\n",
      "success wpsu-7fer 2020-12-05T00:24:06Z\n",
      "no. of photons: 95\n",
      "success wpsu-7fer 2021-02-07T09:35:27Z\n",
      "no. of photons: 416789\n",
      "success wpsu-7fer 2021-04-10T06:39:14Z\n",
      "no. of photons: 83458\n",
      "success wpsu-7fer 2021-09-03T11:23:44Z\n",
      "no. of photons: 52519\n",
      "success wpsu-7fer 2021-11-06T20:35:08Z\n",
      "no. of photons: 39606\n",
      "success wpsu-7fer 2022-03-04T02:43:31Z\n",
      "no. of photons: 3123\n",
      "success wpsu-7fer 2022-09-01T18:03:22Z\n",
      "no. of photons: 135\n",
      "success wpsu-7fer 2022-11-05T03:14:33Z\n",
      "no. of photons: 15164\n",
      "success wpsu-7fer 2022-12-01T13:43:02Z\n",
      "no. of photons: 74070\n",
      "success wpsu-7fer 2023-03-02T09:22:46Z\n",
      "no. of photons: 433174\n",
      "success wpsu-7fer 2023-06-01T05:02:25Z\n",
      "no. of photons: 33973\n",
      "success wpsu-7fer 2023-08-04T14:13:13Z\n",
      "no. of photons: 257952\n",
      "working on 128/137\n",
      "success eb3n-uxcb 2019-07-23T12:18:04Z\n",
      "no. of photons: 24500\n",
      "success eb3n-uxcb 2019-08-21T10:54:14Z\n",
      "no. of photons: 91647\n",
      "success eb3n-uxcb 2019-10-15T19:58:52Z\n",
      "no. of photons: 23846\n",
      "success eb3n-uxcb 2020-02-19T02:13:49Z\n",
      "no. of photons: 211\n"
     ]
    },
    {
     "name": "stderr",
     "output_type": "stream",
     "text": [
      "Exception <-1>: Failure on resource ATL03_20200316184225_12380602_006_01.h5 track 3.0: H5Coro::Future read failure on /gt3l/geolocation/reference_photon_lat\n"
     ]
    },
    {
     "name": "stdout",
     "output_type": "stream",
     "text": [
      "success eb3n-uxcb 2020-03-16T12:42:25Z\n",
      "no. of photons: 47572\n",
      "success eb3n-uxcb 2020-04-14T11:18:25Z\n",
      "no. of photons: 107405\n",
      "success eb3n-uxcb 2020-04-20T23:17:36Z\n",
      "no. of photons: 104\n",
      "success eb3n-uxcb 2021-02-16T08:53:07Z\n",
      "no. of photons: 304480\n",
      "success eb3n-uxcb 2021-03-14T19:21:41Z\n",
      "no. of photons: 15985\n",
      "success eb3n-uxcb 2021-04-12T17:57:44Z\n",
      "no. of photons: 1385\n",
      "success eb3n-uxcb 2021-04-19T05:56:55Z\n",
      "no. of photons: 78825\n",
      "success eb3n-uxcb 2021-11-15T19:52:52Z\n",
      "no. of photons: 20232\n",
      "success eb3n-uxcb 2021-12-12T06:21:25Z\n",
      "no. of photons: 104213\n",
      "success eb3n-uxcb 2022-07-17T08:16:26Z\n",
      "no. of photons: 33139\n",
      "success eb3n-uxcb 2022-11-14T02:32:11Z\n",
      "no. of photons: 129\n",
      "success eb3n-uxcb 2023-04-09T07:16:34Z\n",
      "no. of photons: 26933\n",
      "working on 129/137\n",
      "success x9dy-aai9 2018-11-27T11:30:38Z\n",
      "no. of photons: 94012\n",
      "success x9dy-aai9 2019-01-01T22:05:59Z\n",
      "no. of photons: 43275\n",
      "success x9dy-aai9 2019-02-26T07:10:40Z\n",
      "no. of photons: 64362\n",
      "success x9dy-aai9 2019-04-02T17:45:50Z\n",
      "no. of photons: 11427\n",
      "success x9dy-aai9 2019-05-28T02:50:16Z\n",
      "no. of photons: 22983\n",
      "success x9dy-aai9 2020-03-31T00:24:48Z\n",
      "no. of photons: 328\n",
      "success x9dy-aai9 2020-05-25T09:29:29Z\n",
      "no. of photons: 91844\n",
      "success x9dy-aai9 2020-08-24T05:09:15Z\n",
      "no. of photons: 26592\n",
      "success x9dy-aai9 2020-09-28T15:44:29Z\n",
      "no. of photons: 27351\n",
      "success x9dy-aai9 2020-11-23T00:49:05Z\n",
      "no. of photons: 314\n",
      "success x9dy-aai9 2021-03-29T07:04:12Z\n",
      "no. of photons: 322624\n",
      "success x9dy-aai9 2021-05-23T16:08:50Z\n",
      "no. of photons: 31325\n",
      "success x9dy-aai9 2021-06-28T02:44:02Z\n",
      "no. of photons: 18399\n",
      "success x9dy-aai9 2021-08-22T11:48:44Z\n",
      "no. of photons: 31110\n",
      "success x9dy-aai9 2021-10-25T21:00:06Z\n",
      "no. of photons: 46\n",
      "success x9dy-aai9 2021-12-26T18:03:54Z\n",
      "no. of photons: 17017\n",
      "success x9dy-aai9 2022-02-20T03:08:31Z\n",
      "no. of photons: 9956\n",
      "success x9dy-aai9 2022-03-27T13:43:47Z\n",
      "no. of photons: 39973\n",
      "success x9dy-aai9 2022-05-21T22:48:20Z\n",
      "no. of photons: 3356\n",
      "success x9dy-aai9 2022-06-26T09:23:42Z\n",
      "no. of photons: 65890\n",
      "success x9dy-aai9 2022-08-20T18:28:22Z\n",
      "no. of photons: 65584\n",
      "success x9dy-aai9 2022-12-25T00:43:01Z\n",
      "no. of photons: 136\n",
      "success x9dy-aai9 2023-02-18T09:47:55Z\n",
      "no. of photons: 27434\n",
      "success x9dy-aai9 2023-03-25T20:23:09Z\n",
      "no. of photons: 106\n",
      "success x9dy-aai9 2023-05-20T05:27:30Z\n",
      "no. of photons: 49158\n",
      "success x9dy-aai9 2023-08-19T01:06:41Z\n",
      "no. of photons: 150\n",
      "working on 130/137\n",
      "success eda5-aubu 2018-12-03T23:29:50Z\n",
      "no. of photons: 33569\n",
      "success eda5-aubu 2019-03-04T19:09:51Z\n",
      "no. of photons: 34043\n",
      "success eda5-aubu 2019-06-03T14:49:25Z\n",
      "no. of photons: 251614\n",
      "success eda5-aubu 2019-10-27T19:33:54Z\n",
      "no. of photons: 290\n",
      "success eda5-aubu 2020-04-26T10:53:27Z\n",
      "no. of photons: 63815\n",
      "success eda5-aubu 2020-05-31T21:28:39Z\n",
      "no. of photons: 30897\n",
      "success eda5-aubu 2020-08-30T17:08:25Z\n",
      "no. of photons: 13583\n",
      "success eda5-aubu 2020-10-25T02:12:59Z\n",
      "no. of photons: 13835\n",
      "success eda5-aubu 2020-11-29T12:48:14Z\n",
      "no. of photons: 97840\n",
      "success eda5-aubu 2020-12-25T23:16:50Z\n",
      "no. of photons: 130\n",
      "success eda5-aubu 2021-04-24T17:32:45Z\n",
      "no. of photons: 38808\n",
      "success eda5-aubu 2021-05-30T04:08:00Z\n",
      "no. of photons: 86167\n",
      "success eda5-aubu 2021-08-28T23:47:54Z\n",
      "no. of photons: 41378\n",
      "success eda5-aubu 2021-09-24T10:16:31Z\n",
      "no. of photons: 140588\n",
      "success eda5-aubu 2022-02-26T15:07:42Z\n",
      "no. of photons: 32950\n",
      "success eda5-aubu 2022-04-23T00:12:24Z\n",
      "no. of photons: 7801\n",
      "success eda5-aubu 2022-05-28T10:47:35Z\n",
      "no. of photons: 462212\n"
     ]
    },
    {
     "name": "stderr",
     "output_type": "stream",
     "text": [
      "Exception <-1>: Failure on resource ATL03_20220827122737_10171606_006_01.h5 track 2.0: H5Coro::Future read failure on /gt2l/geolocation/reference_photon_lat\n"
     ]
    },
    {
     "name": "stdout",
     "output_type": "stream",
     "text": [
      "success eda5-aubu 2022-08-27T06:27:37Z\n",
      "no. of photons: 174739\n",
      "success eda5-aubu 2023-02-24T21:47:18Z\n",
      "no. of photons: 5283\n",
      "success eda5-aubu 2023-04-21T06:51:21Z\n",
      "no. of photons: 43337\n",
      "success eda5-aubu 2023-05-26T17:26:37Z\n",
      "no. of photons: 22483\n",
      "success eda5-aubu 2023-08-25T13:05:53Z\n",
      "no. of photons: 84411\n",
      "working on 131/137\n",
      "success adpu-nyt8 2020-01-18T15:30:16Z\n",
      "no. of photons: 72098\n",
      "success adpu-nyt8 2020-04-18T11:10:06Z\n",
      "no. of photons: 130563\n",
      "success adpu-nyt8 2020-04-24T23:09:17Z\n",
      "no. of photons: 11348\n",
      "success adpu-nyt8 2020-10-17T02:29:39Z\n",
      "no. of photons: 27949\n",
      "success adpu-nyt8 2020-10-23T14:28:49Z\n",
      "no. of photons: 9070\n",
      "success adpu-nyt8 2021-02-20T08:44:49Z\n",
      "no. of photons: 8568\n",
      "success adpu-nyt8 2021-04-23T05:48:35Z\n",
      "no. of photons: 93938\n",
      "success adpu-nyt8 2021-07-16T13:29:16Z\n",
      "no. of photons: 51950\n",
      "success adpu-nyt8 2021-11-19T19:44:33Z\n",
      "no. of photons: 70\n",
      "success adpu-nyt8 2022-01-14T04:49:07Z\n",
      "no. of photons: 15697\n",
      "success adpu-nyt8 2022-04-15T00:28:31Z\n",
      "no. of photons: 2\n",
      "success adpu-nyt8 2022-04-21T12:28:08Z\n",
      "no. of photons: 79506\n",
      "success adpu-nyt8 2022-07-14T20:08:54Z\n",
      "no. of photons: 33\n",
      "success adpu-nyt8 2022-07-21T08:08:04Z\n",
      "no. of photons: 72894\n",
      "success adpu-nyt8 2023-01-12T11:28:25Z\n",
      "no. of photons: 84975\n",
      "success adpu-nyt8 2023-04-13T07:08:07Z\n",
      "no. of photons: 79813\n",
      "success adpu-nyt8 2023-04-19T19:07:12Z\n",
      "no. of photons: 32\n",
      "success adpu-nyt8 2023-07-13T02:47:29Z\n",
      "no. of photons: 17658\n",
      "success adpu-nyt8 2023-10-11T22:26:50Z\n",
      "no. of photons: 1843\n",
      "working on 132/137\n",
      "success qspp-qhb6 2020-08-01T18:32:23Z\n",
      "no. of photons: 193558\n",
      "success qspp-qhb6 2020-08-28T05:00:56Z\n",
      "no. of photons: 46429\n",
      "success qspp-qhb6 2020-11-27T00:40:45Z\n",
      "no. of photons: 16920\n",
      "success qspp-qhb6 2021-01-30T09:52:07Z\n",
      "no. of photons: 77304\n",
      "success qspp-qhb6 2021-05-27T16:00:29Z\n",
      "no. of photons: 25156\n",
      "success qspp-qhb6 2021-07-31T01:11:49Z\n",
      "no. of photons: 21276\n",
      "success qspp-qhb6 2021-08-26T11:40:24Z\n",
      "no. of photons: 44655\n",
      "success qspp-qhb6 2021-10-29T20:51:47Z\n",
      "no. of photons: 19961\n",
      "success qspp-qhb6 2022-01-28T16:31:37Z\n",
      "no. of photons: 1300\n",
      "success qspp-qhb6 2022-02-24T03:00:16Z\n",
      "no. of photons: 28720\n",
      "success qspp-qhb6 2022-05-25T22:40:01Z\n",
      "no. of photons: 12232\n",
      "working on 133/137\n",
      "success v6sa-tiit 2018-11-18T00:03:18Z\n",
      "no. of photons: 338\n",
      "success v6sa-tiit 2019-05-18T15:22:47Z\n",
      "no. of photons: 165306\n",
      "success v6sa-tiit 2019-08-10T23:03:20Z\n",
      "no. of photons: 27930\n",
      "success v6sa-tiit 2019-08-17T11:02:32Z\n",
      "no. of photons: 38460\n",
      "success v6sa-tiit 2019-11-09T18:43:15Z\n",
      "no. of photons: 30955\n",
      "success v6sa-tiit 2019-11-16T06:42:27Z\n",
      "no. of photons: 20383\n",
      "success v6sa-tiit 2020-01-10T15:46:56Z\n",
      "no. of photons: 311\n",
      "success v6sa-tiit 2020-02-15T02:22:09Z\n",
      "no. of photons: 12301\n",
      "success v6sa-tiit 2020-05-15T22:01:59Z\n",
      "no. of photons: 320\n",
      "success v6sa-tiit 2020-07-10T07:06:29Z\n",
      "no. of photons: 55798\n",
      "success v6sa-tiit 2020-08-14T17:41:44Z\n",
      "no. of photons: 207\n",
      "success v6sa-tiit 2021-01-07T22:26:12Z\n",
      "no. of photons: 199\n",
      "success v6sa-tiit 2021-02-12T09:01:29Z\n",
      "no. of photons: 40696\n",
      "success v6sa-tiit 2021-05-07T16:42:08Z\n",
      "no. of photons: 31603\n",
      "success v6sa-tiit 2021-05-14T04:41:19Z\n",
      "no. of photons: 141872\n",
      "success v6sa-tiit 2021-08-13T00:21:12Z\n",
      "no. of photons: 10173\n",
      "success v6sa-tiit 2021-10-07T09:25:53Z\n",
      "no. of photons: 109554\n",
      "success v6sa-tiit 2021-11-11T20:01:12Z\n",
      "no. of photons: 13155\n",
      "success v6sa-tiit 2022-02-10T15:40:56Z\n",
      "no. of photons: 474\n",
      "success v6sa-tiit 2022-05-05T23:21:40Z\n",
      "no. of photons: 19920\n",
      "success v6sa-tiit 2022-05-12T11:20:52Z\n",
      "no. of photons: 35525\n",
      "success v6sa-tiit 2022-08-11T07:00:52Z\n",
      "no. of photons: 137856\n",
      "success v6sa-tiit 2022-10-05T16:05:20Z\n",
      "no. of photons: 184\n",
      "success v6sa-tiit 2022-11-10T02:40:30Z\n",
      "no. of photons: 9274\n",
      "success v6sa-tiit 2023-05-10T18:00:03Z\n",
      "no. of photons: 162\n",
      "success v6sa-tiit 2023-07-05T03:04:14Z\n",
      "no. of photons: 34068\n",
      "working on 134/137\n",
      "success mq2k-54s4 2019-01-09T21:49:17Z\n",
      "no. of photons: 12821\n",
      "success mq2k-54s4 2019-04-10T17:29:10Z\n",
      "no. of photons: 27848\n",
      "success mq2k-54s4 2019-08-05T23:37:20Z\n",
      "no. of photons: 157891\n",
      "success mq2k-54s4 2019-11-04T19:17:14Z\n",
      "no. of photons: 52934\n",
      "success mq2k-54s4 2020-01-05T16:20:56Z\n",
      "no. of photons: 195\n",
      "success mq2k-54s4 2020-01-08T04:28:26Z\n",
      "no. of photons: 126\n",
      "success mq2k-54s4 2020-07-05T07:40:29Z\n",
      "no. of photons: 17820\n",
      "success mq2k-54s4 2020-07-07T19:47:58Z\n",
      "no. of photons: 202132\n",
      "success mq2k-54s4 2020-10-06T15:27:45Z\n",
      "no. of photons: 32216\n",
      "success mq2k-54s4 2021-01-02T23:00:11Z\n",
      "no. of photons: 16442\n",
      "success mq2k-54s4 2021-01-05T11:07:41Z\n",
      "no. of photons: 14819\n",
      "success mq2k-54s4 2021-05-02T17:16:06Z\n",
      "no. of photons: 19069\n",
      "success mq2k-54s4 2021-07-06T02:27:22Z\n",
      "no. of photons: 7459\n",
      "success mq2k-54s4 2021-10-02T09:59:52Z\n",
      "no. of photons: 37397\n",
      "success mq2k-54s4 2022-01-03T17:47:15Z\n",
      "no. of photons: 163\n",
      "success mq2k-54s4 2022-09-30T16:39:25Z\n",
      "no. of photons: 9261\n",
      "success mq2k-54s4 2022-10-03T04:46:52Z\n",
      "no. of photons: 36798\n",
      "success mq2k-54s4 2023-01-02T00:26:35Z\n",
      "no. of photons: 176\n",
      "success mq2k-54s4 2023-04-02T20:06:15Z\n",
      "no. of photons: 34446\n",
      "success mq2k-54s4 2023-07-02T15:45:44Z\n",
      "no. of photons: 290540\n",
      "working on 135/137\n",
      "success 9qw2-yb2f 2018-12-09T11:05:41Z\n",
      "no. of photons: 82165\n",
      "success 9qw2-yb2f 2019-02-11T20:17:07Z\n",
      "no. of photons: 23146\n",
      "success 9qw2-yb2f 2019-03-10T06:45:41Z\n",
      "no. of photons: 37053\n",
      "success 9qw2-yb2f 2019-05-13T15:56:48Z\n",
      "no. of photons: 14238\n",
      "success 9qw2-yb2f 2019-06-09T02:25:16Z\n",
      "no. of photons: 75083\n",
      "success 9qw2-yb2f 2020-09-05T04:44:15Z\n",
      "no. of photons: 118539\n",
      "success 9qw2-yb2f 2020-11-08T13:55:31Z\n",
      "no. of photons: 24121\n",
      "success 9qw2-yb2f 2020-12-05T00:24:06Z\n",
      "no. of photons: 104\n",
      "success 9qw2-yb2f 2021-05-09T05:15:18Z\n",
      "no. of photons: 40365\n",
      "success 9qw2-yb2f 2021-08-08T00:55:08Z\n",
      "no. of photons: 588\n",
      "success 9qw2-yb2f 2021-09-03T11:23:44Z\n",
      "no. of photons: 77919\n",
      "success 9qw2-yb2f 2021-12-05T19:11:13Z\n",
      "no. of photons: 17095\n",
      "success 9qw2-yb2f 2022-02-05T16:14:57Z\n",
      "no. of photons: 104\n",
      "success 9qw2-yb2f 2022-03-04T02:43:31Z\n",
      "no. of photons: 499\n",
      "success 9qw2-yb2f 2022-05-07T11:54:54Z\n",
      "no. of photons: 36950\n",
      "success 9qw2-yb2f 2022-08-06T07:34:53Z\n",
      "no. of photons: 164732\n",
      "success 9qw2-yb2f 2022-09-01T18:03:22Z\n",
      "no. of photons: 19997\n",
      "success 9qw2-yb2f 2022-12-01T13:43:02Z\n",
      "no. of photons: 48562\n",
      "success 9qw2-yb2f 2023-02-03T22:54:21Z\n",
      "no. of photons: 58\n",
      "success 9qw2-yb2f 2023-03-02T09:22:46Z\n",
      "no. of photons: 408861\n",
      "success 9qw2-yb2f 2023-05-05T18:34:03Z\n",
      "no. of photons: 45336\n",
      "success 9qw2-yb2f 2023-06-01T05:02:25Z\n",
      "no. of photons: 32910\n",
      "working on 136/137\n"
     ]
    }
   ],
   "source": [
    "# search parameters\n",
    "search_hrs = 6\n",
    "search_km = 3\n",
    "# loop through each buoy asset:\n",
    "for jj in range(59,len(FF)):\n",
    "    print('working on ' + str(jj+1)+'/'+str(len(FF)))\n",
    "    # define a search region around the buoy \n",
    "    lat = FF['geospatial_lat_min'][jj]\n",
    "    lon = FF['geospatial_lon_min'][jj]\n",
    "    poly = buoy_bound_box(lat,lon,search_km)\n",
    "\n",
    "    # search CMR for ATL03 granules in the bounding box\n",
    "    grns = earthdata.cmr(short_name=\"ATL03\",\n",
    "                         polygon=poly,\n",
    "                         version='006')\n",
    "    # save the times for each granule as a datetime object\n",
    "    icesat_times = [fname2datetime(fname) for fname in grns]\n",
    "\n",
    "    # now check if buoy data exists for these granules,\n",
    "    e = ERDDAP(server=FF['url'][jj],\n",
    "               protocol=\"tabledap\",\n",
    "               response=\"csv\")\n",
    "    e.dataset_id = FF['sites'][jj]\n",
    "\n",
    "    for t in icesat_times:\n",
    "        # add a time buffer to search for relevant buoy data for each granule,\n",
    "        t_start = (t-timedelta(hours=search_hrs)).strftime(\"%Y-%m-%dT%H:%M:%SZ\")\n",
    "        t_end = (t+timedelta(hours=search_hrs)).strftime(\"%Y-%m-%dT%H:%M:%SZ\")\n",
    "        e.constraints = {\"time>=\": t_start,\n",
    "                        \"time<=\": t_end}\n",
    "\n",
    "        # try to download the associated buoy data\n",
    "        try:\n",
    "            buoy = e.to_pandas()           \n",
    "        except:\n",
    "            continue\n",
    "        # if buoy data exists, download the ATL03 photons in the bounding box at this time\n",
    "        \n",
    "        # Build ATL03 Request\n",
    "        poly = buoy_bound_box(lat,lon,search_km)       \n",
    "        parms = {\"poly\": poly,\n",
    "                 \"t0\": t_start,\n",
    "                 \"t1\": t_end,\n",
    "                 \"track\": 0,\n",
    "                 \"len\": 20.0,\n",
    "                 \"pass_invalid\": True,\n",
    "                 \"cnf\": -2, # returns all photons\n",
    "                 \"srt\": icesat2.SRT_OCEAN}\n",
    "        atl_gdb = icesat2.atl03sp(parms)\n",
    "        \n",
    "        if len(atl_gdb)>0:            \n",
    "            FF.loc[jj,\"photon_data\"] = True            \n",
    "            # atl_gdb.to_pickle('icesat2_'+str(e.dataset_id)+'_'+str(t_start)+'.pkl')\n",
    "            print('success '+ e.dataset_id + ' ' + str(t_start))\n",
    "            print('no. of photons: '+str(len(atl_gdb)))\n",
    "            buoy.to_csv('data_'+str(e.dataset_id)+'_'+str(t_start)+'.csv')\n"
   ]
  }
 ],
 "metadata": {
  "kernelspec": {
   "display_name": "Python 3 (ipykernel)",
   "language": "python",
   "name": "python3"
  },
  "language_info": {
   "codemirror_mode": {
    "name": "ipython",
    "version": 3
   },
   "file_extension": ".py",
   "mimetype": "text/x-python",
   "name": "python",
   "nbconvert_exporter": "python",
   "pygments_lexer": "ipython3",
   "version": "3.11.9"
  }
 },
 "nbformat": 4,
 "nbformat_minor": 5
}
