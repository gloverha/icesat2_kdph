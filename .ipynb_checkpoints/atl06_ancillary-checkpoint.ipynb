{
 "cells": [
  {
   "cell_type": "code",
   "execution_count": null,
   "id": "3d6b3418-01b5-4546-ba53-175e3ad50d55",
   "metadata": {
    "tags": []
   },
   "outputs": [],
   "source": [
    "# Imports\n",
    "import matplotlib.pyplot as plt\n",
    "from sliderule import sliderule, icesat2"
   ]
  },
  {
   "cell_type": "code",
   "execution_count": null,
   "id": "2e7c4e03-2993-4ff3-9beb-0a815328ae02",
   "metadata": {
    "tags": []
   },
   "outputs": [],
   "source": [
    "# Configure ICESat-2 API\n",
    "icesat2.init(\"slideruleearth.io\", verbose=False)"
   ]
  },
  {
   "cell_type": "code",
   "execution_count": null,
   "id": "23d6327c-1b96-4a80-8843-adc760fba0e0",
   "metadata": {
    "tags": []
   },
   "outputs": [],
   "source": [
    "# Area of Interest\n",
    "region = sliderule.toregion('grandmesa.geojson')"
   ]
  },
  {
   "cell_type": "code",
   "execution_count": null,
   "id": "c7dc7f2e-c8a3-4745-a8f5-7d28af1e0449",
   "metadata": {
    "tags": []
   },
   "outputs": [],
   "source": [
    "# Build ATL06 Request\n",
    "parms = {\n",
    "    \"poly\": region[\"poly\"],\n",
    "    \"srt\": icesat2.SRT_LAND,\n",
    "    \"cnf\": icesat2.CNF_SURFACE_HIGH,\n",
    "    \"ats\": 10.0,\n",
    "    \"cnt\": 10,\n",
    "    \"len\": 40.0,\n",
    "    \"res\": 20.0,\n",
    "    \"atl03_geo_fields\": [\"dem_h\"]\n",
    "}"
   ]
  },
  {
   "cell_type": "code",
   "execution_count": null,
   "id": "fcf33b7a-026e-425e-8e6c-9887b9896138",
   "metadata": {
    "tags": []
   },
   "outputs": [],
   "source": [
    "# Request ATL06 Data\n",
    "atl06 = icesat2.atl06p(parms)\n",
    "atl06.head()"
   ]
  },
  {
   "cell_type": "code",
   "execution_count": null,
   "id": "6af9de57-1bc5-4163-abe0-f5bddd2207e2",
   "metadata": {
    "tags": []
   },
   "outputs": [],
   "source": [
    "# Display Statistics\n",
    "print(\"Reference Ground Tracks: {}\".format(atl06[\"rgt\"].unique()))\n",
    "print(\"Cycles: {}\".format(atl06[\"cycle\"].unique()))\n",
    "print(\"Received {} elevations\".format(atl06.shape[0]))\n",
    "print(\"Timing Profiles\")\n",
    "for key in icesat2.profiles:\n",
    "    print(\"{:20} {:.6f} secs\".format(key + \":\", icesat2.profiles[key]))"
   ]
  },
  {
   "cell_type": "code",
   "execution_count": null,
   "id": "47b48f46-8c12-4796-bd0f-8f26b6d5fbe3",
   "metadata": {
    "tags": []
   },
   "outputs": [],
   "source": [
    "# Build Delta Column\n",
    "atl06[\"h_delta\"] = atl06[\"h_mean\"] - atl06[\"dem_h\"]"
   ]
  },
  {
   "cell_type": "code",
   "execution_count": null,
   "id": "96aacc09-79a4-48bb-8287-8703f217aae6",
   "metadata": {
    "tags": []
   },
   "outputs": [],
   "source": [
    "# Plot Heights\n",
    "f, ax = plt.subplots(1, 2)\n",
    "ax[0].set_title(\"h_mean\")\n",
    "atl06.plot(ax=ax[0], column='h_mean', cmap='inferno', s=0.1)\n",
    "ax[1].set_title(\"h_delta\")\n",
    "atl06.plot(ax=ax[1], column='h_delta', cmap='inferno', s=0.1)"
   ]
  },
  {
   "cell_type": "code",
   "execution_count": null,
   "id": "1d0ecee5-9d52-4370-a258-411fbb0b7626",
   "metadata": {},
   "outputs": [],
   "source": []
  }
 ],
 "metadata": {
  "kernelspec": {
   "display_name": "Python 3 (ipykernel)",
   "language": "python",
   "name": "python3"
  },
  "language_info": {
   "codemirror_mode": {
    "name": "ipython",
    "version": 3
   },
   "file_extension": ".py",
   "mimetype": "text/x-python",
   "name": "python",
   "nbconvert_exporter": "python",
   "pygments_lexer": "ipython3",
   "version": "3.11.3"
  }
 },
 "nbformat": 4,
 "nbformat_minor": 5
}
