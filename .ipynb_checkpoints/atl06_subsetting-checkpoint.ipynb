{
 "cells": [
  {
   "cell_type": "markdown",
   "id": "e243172d-a731-4f1a-ae97-7c7a1fd63757",
   "metadata": {
    "tags": [],
    "user_expressions": []
   },
   "source": [
    "# ATL06 Subsetting and On-Demand Product Generation"
   ]
  },
  {
   "cell_type": "markdown",
   "id": "a824b4cc-e7a1-4d4e-be55-13f3a6c8e96e",
   "metadata": {
    "user_expressions": []
   },
   "source": [
    "### Purpose\n",
    "Subset ATL06 granule and compare against on-demand generated ATL06 elevations using SlideRule"
   ]
  },
  {
   "cell_type": "markdown",
   "id": "e5e2efc2-078a-4e37-8083-75994ebf62e8",
   "metadata": {
    "tags": [],
    "user_expressions": []
   },
   "source": [
    "#### Import Packages"
   ]
  },
  {
   "cell_type": "code",
   "execution_count": null,
   "id": "338d80d9-e8f7-40ec-a294-683562437f69",
   "metadata": {
    "tags": []
   },
   "outputs": [],
   "source": [
    "from sliderule import sliderule, icesat2, earthdata"
   ]
  },
  {
   "cell_type": "markdown",
   "id": "7dc950a2-4b0c-4c8f-b7cc-ea6092f8c96e",
   "metadata": {
    "tags": [],
    "user_expressions": []
   },
   "source": [
    "#### Configure Logging"
   ]
  },
  {
   "cell_type": "code",
   "execution_count": null,
   "id": "73e23172-83d2-4bd7-a2e9-84b9ac296037",
   "metadata": {
    "tags": []
   },
   "outputs": [],
   "source": [
    "import logging\n",
    "loglevel = logging.CRITICAL\n",
    "logging.basicConfig(level=loglevel)"
   ]
  },
  {
   "cell_type": "markdown",
   "id": "613b066a-fbda-4583-a29c-dbe35c182252",
   "metadata": {
    "tags": [],
    "user_expressions": []
   },
   "source": [
    "#### Initialize SlideRule Python Client"
   ]
  },
  {
   "cell_type": "code",
   "execution_count": null,
   "id": "0ca128df-4ff0-4b95-ae40-d0a040c9a9db",
   "metadata": {
    "tags": []
   },
   "outputs": [],
   "source": [
    "domain = \"slideruleearth.io\"\n",
    "sliderule.init(domain, verbose=True, loglevel=loglevel)"
   ]
  },
  {
   "cell_type": "markdown",
   "id": "95e29e39-bef3-4312-8498-f037267da964",
   "metadata": {
    "tags": [],
    "user_expressions": []
   },
   "source": [
    "#### Build Request Parameters"
   ]
  },
  {
   "cell_type": "code",
   "execution_count": null,
   "id": "3f58197d-5265-4c83-bc62-6049ace71538",
   "metadata": {
    "tags": []
   },
   "outputs": [],
   "source": [
    "granule = '_20181016104402_02720106_006_02.h5'"
   ]
  },
  {
   "cell_type": "code",
   "execution_count": null,
   "id": "07da0425-2ebf-41aa-b84d-8f27a508cdbe",
   "metadata": {
    "tags": []
   },
   "outputs": [],
   "source": [
    "region = sliderule.toregion(\"../data/grandmesa.geojson\")"
   ]
  },
  {
   "cell_type": "code",
   "execution_count": null,
   "id": "3f01b208-4665-47c0-90e3-95834cc61338",
   "metadata": {
    "tags": []
   },
   "outputs": [],
   "source": [
    "parms = {\n",
    "    \"poly\": region[\"poly\"],\n",
    "    \"srt\": icesat2.SRT_LAND,\n",
    "    \"cnf\": icesat2.CNF_SURFACE_HIGH,\n",
    "    \"ats\": 10.0,\n",
    "    \"cnt\": 10,\n",
    "    \"len\": 40.0,\n",
    "    \"res\": 20.0\n",
    "}"
   ]
  },
  {
   "cell_type": "markdown",
   "id": "90bb8070-d857-424a-a100-d1ea32631e82",
   "metadata": {
    "tags": [],
    "user_expressions": []
   },
   "source": [
    "#### Make ATL06 Subsetting Request"
   ]
  },
  {
   "cell_type": "code",
   "execution_count": null,
   "id": "ecc3f250-0785-4630-a261-13d12ab59819",
   "metadata": {
    "tags": []
   },
   "outputs": [],
   "source": [
    "sdp = icesat2.atl06sp(parms, resources=['ATL06'+granule])\n",
    "sdp"
   ]
  },
  {
   "cell_type": "markdown",
   "id": "a0f5c12e-c439-4549-ae7d-61af9954787b",
   "metadata": {
    "user_expressions": []
   },
   "source": [
    "#### Make ATL06 On-Demand Request"
   ]
  },
  {
   "cell_type": "code",
   "execution_count": null,
   "id": "d5128cac-5df0-4102-91e5-bb65cce7e0f2",
   "metadata": {
    "tags": []
   },
   "outputs": [],
   "source": [
    "sr = icesat2.atl06p(parms, resources=['ATL03_20181016104402_02720106_006_02.h5'])\n",
    "sr"
   ]
  },
  {
   "cell_type": "markdown",
   "id": "0b5a2b18-f3fb-48bc-90d2-53350638d1dc",
   "metadata": {
    "tags": [],
    "user_expressions": []
   },
   "source": [
    "#### Plot Results"
   ]
  },
  {
   "cell_type": "code",
   "execution_count": null,
   "id": "61c365cf-6bab-408c-8b2f-49a3d896692b",
   "metadata": {
    "tags": []
   },
   "outputs": [],
   "source": [
    "# Import Plotting Library\n",
    "import matplotlib.pyplot as plt\n",
    "import matplotlib"
   ]
  },
  {
   "cell_type": "code",
   "execution_count": null,
   "id": "64bc423d-2348-4217-804f-63119ff71d16",
   "metadata": {
    "tags": []
   },
   "outputs": [],
   "source": [
    "# Setup Plot\n",
    "fig,ax = plt.subplots(num=None, figsize=(10, 8))\n",
    "fig.set_facecolor('white')\n",
    "fig.canvas.header_visible = False\n",
    "ax.set_title(\"SlideRule vs. Standard Data Product Elevations\")\n",
    "ax.set_xlabel('UTC')\n",
    "ax.set_ylabel('height (m)')\n",
    "legend_elements = []\n",
    "\n",
    "# Plot SlideRule ATL06 Elevations\n",
    "sc1 = ax.scatter(sr.index.values, sr[\"h_mean\"].values, c='red', s=2.5)\n",
    "legend_elements.append(matplotlib.lines.Line2D([0], [0], color='red', lw=6, label='SR'))\n",
    "\n",
    "# Plot SDP ATL06 Elevations\n",
    "sc2 = ax.scatter(sdp.index.values, sdp[\"h_li\"].values, c='blue', s=2.5)\n",
    "legend_elements.append(matplotlib.lines.Line2D([0], [0], color='blue', lw=6, label='SDP'))\n",
    "\n",
    "# Display Legend\n",
    "lgd = ax.legend(handles=legend_elements, loc=3, frameon=True)\n",
    "lgd.get_frame().set_alpha(1.0)\n",
    "lgd.get_frame().set_edgecolor('white')\n",
    "\n",
    "# Show Plot\n",
    "plt.show()"
   ]
  },
  {
   "cell_type": "code",
   "execution_count": null,
   "id": "04137254-5356-4f1d-9438-2126063f2258",
   "metadata": {},
   "outputs": [],
   "source": []
  }
 ],
 "metadata": {
  "kernelspec": {
   "display_name": "Python 3 (ipykernel)",
   "language": "python",
   "name": "python3"
  },
  "language_info": {
   "codemirror_mode": {
    "name": "ipython",
    "version": 3
   },
   "file_extension": ".py",
   "mimetype": "text/x-python",
   "name": "python",
   "nbconvert_exporter": "python",
   "pygments_lexer": "ipython3",
   "version": "3.12.0"
  }
 },
 "nbformat": 4,
 "nbformat_minor": 5
}
