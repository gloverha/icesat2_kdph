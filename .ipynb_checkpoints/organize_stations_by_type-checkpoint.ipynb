{
 "cells": [
  {
   "cell_type": "markdown",
   "id": "842adedb",
   "metadata": {},
   "source": [
    "Goal: pull out buoy records that have turbidity\n",
    "\n",
    "Order of operations:\n",
    "- load all_relevant_stations.pkl\n",
    "- sort by chl|turb|sedi|par|phot|secchi|ssc\n",
    "- sort those by buoy/glider/ship"
   ]
  },
  {
   "cell_type": "code",
   "execution_count": 1,
   "id": "141611e8",
   "metadata": {},
   "outputs": [],
   "source": [
    "from erddapy import ERDDAP\n",
    "import pandas as pd\n",
    "import numpy as np\n",
    "import urllib.request\n",
    "import json \n",
    "import re\n",
    "\n",
    "pd.set_option('display.max_rows', None)\n",
    "pd.set_option('display.max_columns', None)\n"
   ]
  },
  {
   "cell_type": "code",
   "execution_count": 2,
   "id": "4e6dbb59",
   "metadata": {
    "scrolled": true
   },
   "outputs": [],
   "source": [
    "# load a list of all the relevant ERDDAPs and their urls.\n",
    "FF = pd.read_pickle(\"all_relevant_stations.pkl\")"
   ]
  },
  {
   "cell_type": "code",
   "execution_count": null,
   "id": "36f4e448",
   "metadata": {
    "scrolled": false
   },
   "outputs": [
    {
     "name": "stdout",
     "output_type": "stream",
     "text": [
      "0\n",
      "100\n",
      "200\n",
      "300\n",
      "400\n",
      "500\n",
      "600\n",
      "700\n",
      "800\n",
      "900\n",
      "1000\n",
      "1100\n",
      "1200\n",
      "1300\n",
      "1400\n",
      "1500\n",
      "1600\n",
      "1700\n",
      "1800\n"
     ]
    }
   ],
   "source": [
    "# \"chl|turb|sedi|par|phot|secchi|ssc\"\n",
    "FF[\"buoy\"] = False\n",
    "FF[\"glider\"] = False\n",
    "FF[\"ship\"] = False\n",
    "FF[\"turb\"] = False\n",
    "FF[\"ssc\"] = False\n",
    "FF[\"phot\"] = False\n",
    "FF[\"chl\"] = False\n",
    "FF['bad'] = False\n",
    "lib = {'buoy','glider','ship','turb','ssc','phot','chl'}\n",
    "\n",
    "\n",
    "for jj in range(len(FF)):\n",
    "    if jj % 100 ==0:\n",
    "        print(jj)# give a printout every 100 for my sanity\n",
    "\n",
    "    # make the info URL for this site for this time range\n",
    "    e = ERDDAP(server=FF['url'][jj],\n",
    "               protocol=\"tabledap\",\n",
    "               response=\"csv\"\n",
    "              )\n",
    "    e.dataset_id = FF['sites'][jj]\n",
    "    # e.constraints = {\"time>=\": min_time, \"time<=\": max_time}\n",
    "    info_url = e.get_info_url()\n",
    "    try:\n",
    "        ds_info = pd.read_csv(info_url)# make a dataframe for all the metadata for this station\n",
    "    except:\n",
    "        FF.loc[jj,\"bad\"] = True\n",
    "    else:\n",
    "        for kwd in lib:\n",
    "            idx = ds_info[\"Value\"].str.contains(kwd, flags = re.IGNORECASE)\n",
    "            if any(idx==True)==True:\n",
    "                FF.loc[jj,kwd] = True\n",
    "\n",
    "FF = FF[FF.bad == False] \n",
    "FF.reset_index(drop=True, inplace=True)"
   ]
  },
  {
   "cell_type": "code",
   "execution_count": null,
   "id": "9fe92229",
   "metadata": {},
   "outputs": [],
   "source": [
    "FF[(FF.buoy == True) & (FF.turb == True)]"
   ]
  }
 ],
 "metadata": {
  "kernelspec": {
   "display_name": "Python 3 (ipykernel)",
   "language": "python",
   "name": "python3"
  },
  "language_info": {
   "codemirror_mode": {
    "name": "ipython",
    "version": 3
   },
   "file_extension": ".py",
   "mimetype": "text/x-python",
   "name": "python",
   "nbconvert_exporter": "python",
   "pygments_lexer": "ipython3",
   "version": "3.9.12"
  }
 },
 "nbformat": 4,
 "nbformat_minor": 5
}
