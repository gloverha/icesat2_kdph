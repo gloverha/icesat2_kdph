{
 "cells": [
  {
   "cell_type": "code",
   "execution_count": 1,
   "id": "7c61dc4e-92fc-456f-83cc-59ac2f81e80e",
   "metadata": {},
   "outputs": [],
   "source": [
    "from erddapy import ERDDAP\n",
    "import pandas as pd\n",
    "import json\n",
    "\n",
    "\n"
   ]
  },
  {
   "cell_type": "code",
   "execution_count": 3,
   "id": "184e085b-8ab3-4074-991e-13896f68ffe3",
   "metadata": {
    "scrolled": true
   },
   "outputs": [
    {
     "data": {
      "text/plain": [
       "array(['https://erddap.observations.voiceoftheocean.org/erddap/',\n",
       "       'https://erddap.ogsl.ca/erddap/',\n",
       "       'https://coastwatch.pfeg.noaa.gov/erddap/',\n",
       "       'https://apdrc.soest.hawaii.edu/erddap/',\n",
       "       'https://www.ncei.noaa.gov/erddap/',\n",
       "       'https://erddap.bco-dmo.org/erddap/',\n",
       "       'https://erddap.emodnet.eu/erddap/',\n",
       "       'https://erddap.emodnet-physics.eu/erddap/',\n",
       "       'https://erddap.marine.ie/erddap/',\n",
       "       'https://cwcgom.aoml.noaa.gov/erddap/',\n",
       "       'https://erddap.sensors.ioos.us/erddap/',\n",
       "       'https://erddap.axiomdatascience.com/erddap/',\n",
       "       'http://erddap.cencoos.org/erddap/',\n",
       "       'http://www.neracoos.org/erddap/',\n",
       "       'https://gliders.ioos.us/erddap/',\n",
       "       'https://pae-paha.pacioos.hawaii.edu/erddap/',\n",
       "       'https://sccoos.org/erddap/', 'http://erddap.secoora.org/erddap/',\n",
       "       'http://osmc.noaa.gov/erddap/', 'http://dap.onc.uvic.ca/erddap/',\n",
       "       'https://oceanwatch.pifsc.noaa.gov/erddap/',\n",
       "       'https://erddap.dataexplorer.oceanobservatories.org/erddap/',\n",
       "       'https://erddap-goldcopy.dataexplorer.oceanobservatories.org/erddap/',\n",
       "       'https://members.oceantrack.org/erddap/',\n",
       "       'http://www.myroms.org:8080/erddap/',\n",
       "       'http://tds.marine.rutgers.edu/erddap/',\n",
       "       'https://comet.nefsc.noaa.gov/erddap/',\n",
       "       'https://opendap.co-ops.nos.noaa.gov/erddap/',\n",
       "       'https://gcoos5.geos.tamu.edu/erddap/',\n",
       "       'https://gcoos4.tamu.edu/erddap/',\n",
       "       'https://coastwatch.glerl.noaa.gov/erddap/',\n",
       "       'https://spraydata.ucsd.edu/erddap/',\n",
       "       'https://salishsea.eos.ubc.ca/erddap/',\n",
       "       'http://bmlsc.ucdavis.edu:8080/erddap/',\n",
       "       'https://upwell.pfeg.noaa.gov/erddap/',\n",
       "       'https://bluehub.jrc.ec.europa.eu/erddap/',\n",
       "       'https://www.ifremer.fr/erddap/',\n",
       "       'https://ferret.pmel.noaa.gov/pmel/erddap',\n",
       "       'https://ferret.pmel.noaa.gov/alamo/erddap/',\n",
       "       'https://ferret.pmel.noaa.gov/socat/erddap/',\n",
       "       'https://catalogue.hakai.org/erddap/',\n",
       "       'https://wilson.coas.oregonstate.edu/erddap/',\n",
       "       'https://polarwatch.noaa.gov/erddap/',\n",
       "       'http://nrm-erddap.nci.org.au/erddap/',\n",
       "       'https://geoport.usgs.esipfed.org/erddap/',\n",
       "       'https://erddap.incois.gov.in/erddap/',\n",
       "       'https://erddap.ichec.ie/erddap/',\n",
       "       'https://www.smartatlantic.ca/erddap/',\n",
       "       'https://erddap.griidc.org/erddap/', 'https://atn.ioos.us/erddap/',\n",
       "       'https://pub-data.diver.orr.noaa.gov/erddap/',\n",
       "       'https://jeodpp.jrc.ec.europa.eu/services/erddap/',\n",
       "       'https://erddap.gcoos.org/erddap/',\n",
       "       'https://basin.ceoe.udel.edu/erddap/',\n",
       "       'https://cioosatlantic.ca/erddap/',\n",
       "       'https://data.cioospacific.ca/erddap/',\n",
       "       'http://erddap.emso.eu:8080/erddap/',\n",
       "       'http://erddap.sochic-h2020.eu/erddap/',\n",
       "       'https://coastwatch.noaa.gov/erddap/',\n",
       "       'https://canwinerddap.ad.umanitoba.ca/erddap/index.html',\n",
       "       'https://oceanview.pfeg.noaa.gov/erddap/index.html',\n",
       "       'https://erddap.oa.iode.org/erddap/'], dtype=object)"
      ]
     },
     "execution_count": 3,
     "metadata": {},
     "output_type": "execute_result"
    }
   ],
   "source": [
    "# load a list of all the ERDDAPs and their urls.\n",
    "# This is saved as a JSON with the code bc I cant get the direct link to the git site to work.\n",
    "f = open('erddaps.json')\n",
    "data_json = pd.read_json(f)\n",
    "erddap_links = data_json['url'].unique()\n",
    "\n",
    "erddap_links=erddap_links\n",
    "\n",
    "erddap_links\n",
    "# # load in all possible erddap servers straight from site (not working...why??):\n",
    "# url = 'https://github.com/IrishMarineInstitute/awesome-erddap/blob/df70c66a0784a384f398492d356df46dae4281d4/erddaps.json'\n",
    "# response = urllib.request.urlopen(url)\n",
    "# data_json = json.loads(response.read())"
   ]
  },
  {
   "cell_type": "code",
   "execution_count": null,
   "id": "aae785f2-b5f0-4712-bb8d-5730e22537f2",
   "metadata": {},
   "outputs": [],
   "source": [
    "# set up for the ERDDAP API\n",
    "e = ERDDAP(\n",
    "    server=\"https://erddap.bco-dmo.org/erddap\", # pick a specific ERDDAP server\n",
    "    protocol=\"tabledap\", # pick if you want grid(raster) or table data\n",
    "    response=\"csv\") # pick type of data output\n",
    "e.dataset_id = \"bcodmo_dataset_817952\" # define the dataset on that ERDDAP server\n",
    "\n",
    "# define by space/time/variable\n",
    "e.constraints = {\n",
    "    \"time>=\": \"2017-01-13T00:00:00Z\",\n",
    "    \"time<=\": \"2017-01-16T23:59:59Z\"}\n"
   ]
  },
  {
   "cell_type": "code",
   "execution_count": null,
   "id": "4bdc3fd2-15ed-4794-bc84-0cec694410aa",
   "metadata": {},
   "outputs": [],
   "source": [
    "# look at the station metadata for this query:\n",
    "info_url = e.get_info_url()\n",
    "pd.read_csv(info_url)# make a dataframe for all the metadata for this station\n"
   ]
  },
  {
   "cell_type": "code",
   "execution_count": null,
   "id": "1fe6099f-7dc1-468a-bfcd-3f2ea4729c79",
   "metadata": {},
   "outputs": [],
   "source": [
    "# define the variables you want to download (or leave blank and download all columns)\n",
    "e.variables = [\n",
    "    \"longitude\",\n",
    "    \"latitude\",\n",
    "    \"time\",\n",
    "    \"Temperature\"]\n",
    "\n",
    "# or load the data into a dataframe\n",
    "url = e.get_download_url()\n",
    "df_bcodmo = e.to_pandas(parse_dates=True)\n",
    "\n",
    "\n"
   ]
  }
 ],
 "metadata": {
  "kernelspec": {
   "display_name": "Python 3 (ipykernel)",
   "language": "python",
   "name": "python3"
  },
  "language_info": {
   "codemirror_mode": {
    "name": "ipython",
    "version": 3
   },
   "file_extension": ".py",
   "mimetype": "text/x-python",
   "name": "python",
   "nbconvert_exporter": "python",
   "pygments_lexer": "ipython3",
   "version": "3.11.9"
  }
 },
 "nbformat": 4,
 "nbformat_minor": 5
}
