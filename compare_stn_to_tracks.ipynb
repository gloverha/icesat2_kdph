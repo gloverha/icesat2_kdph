{
 "cells": [
  {
   "cell_type": "markdown",
   "id": "842adedb",
   "metadata": {},
   "source": [
    "Goal: pull out 1 buoy record that has turbidity and search for matching icesat2 granules\n",
    "\n",
    "Order of operations:\n",
    "- load info for 1-2 relevant stations\n"
   ]
  },
  {
   "cell_type": "code",
   "execution_count": 1,
   "id": "141611e8",
   "metadata": {},
   "outputs": [
    {
     "ename": "ModuleNotFoundError",
     "evalue": "No module named 'sliderule'",
     "output_type": "error",
     "traceback": [
      "\u001b[0;31m---------------------------------------------------------------------------\u001b[0m",
      "\u001b[0;31mModuleNotFoundError\u001b[0m                       Traceback (most recent call last)",
      "Input \u001b[0;32mIn [1]\u001b[0m, in \u001b[0;36m<cell line: 4>\u001b[0;34m()\u001b[0m\n\u001b[1;32m      2\u001b[0m \u001b[38;5;28;01mimport\u001b[39;00m \u001b[38;5;21;01mpandas\u001b[39;00m \u001b[38;5;28;01mas\u001b[39;00m \u001b[38;5;21;01mpd\u001b[39;00m\n\u001b[1;32m      3\u001b[0m \u001b[38;5;28;01mimport\u001b[39;00m \u001b[38;5;21;01mnumpy\u001b[39;00m \u001b[38;5;28;01mas\u001b[39;00m \u001b[38;5;21;01mnp\u001b[39;00m\n\u001b[0;32m----> 4\u001b[0m \u001b[38;5;28;01mfrom\u001b[39;00m \u001b[38;5;21;01msliderule\u001b[39;00m \u001b[38;5;28;01mimport\u001b[39;00m sliderule, icesat2, earthdata\n\u001b[1;32m      6\u001b[0m pd\u001b[38;5;241m.\u001b[39mset_option(\u001b[38;5;124m'\u001b[39m\u001b[38;5;124mdisplay.max_rows\u001b[39m\u001b[38;5;124m'\u001b[39m, \u001b[38;5;28;01mNone\u001b[39;00m)\n\u001b[1;32m      7\u001b[0m pd\u001b[38;5;241m.\u001b[39mset_option(\u001b[38;5;124m'\u001b[39m\u001b[38;5;124mdisplay.max_columns\u001b[39m\u001b[38;5;124m'\u001b[39m, \u001b[38;5;28;01mNone\u001b[39;00m)\n",
      "\u001b[0;31mModuleNotFoundError\u001b[0m: No module named 'sliderule'"
     ]
    }
   ],
   "source": [
    "from erddapy import ERDDAP\n",
    "import pandas as pd\n",
    "import numpy as np\n",
    "from sliderule import sliderule, icesat2, earthdata\n",
    "\n",
    "pd.set_option('display.max_rows', None)\n",
    "pd.set_option('display.max_columns', None)\n",
    "\n"
   ]
  },
  {
   "cell_type": "code",
   "execution_count": null,
   "id": "4e6dbb59",
   "metadata": {
    "scrolled": true
   },
   "outputs": [],
   "source": [
    "# load a list of all the relevant ERDDAPs and their urls.\n",
    "FF = pd.read_pickle(\"labeled_relevant_stations.pkl\")\n",
    "print(len(FF))\n",
    "FF[(FF.buoy == True) & (FF.ssc == True) & (FF.chl == True)]\n",
    "# URI_PP_SurfaceSonde\thttp://www.neracoos.org/erddap/"
   ]
  },
  {
   "cell_type": "code",
   "execution_count": null,
   "id": "96241056",
   "metadata": {},
   "outputs": [],
   "source": [
    "e = ERDDAP(    \n",
    "server= \"https://erddap.bco-dmo.org/erddap/\",    \n",
    "protocol=\"tabledap\",   \n",
    "response=\"csv\", )\n",
    "\n",
    "e.dataset_id = \"bcodmo_dataset_817952\" \n",
    "e.variables = [    \n",
    "\"longitude\",    \n",
    "\"latitude\",    \n",
    "\"time\",    \n",
    "\"POC\" ] \n",
    "e.constraints = {    \n",
    "\"time>=\": \"2017-01-13T00:00:00Z\",    \n",
    "\"time<=\": \"2017-01-16T23:59:59Z\",}\n",
    "\n",
    "#Print the URL - check \n",
    "url = e.get_download_url() \n",
    "print(url)"
   ]
  },
  {
   "cell_type": "code",
   "execution_count": 4,
   "id": "36f4e448",
   "metadata": {
    "scrolled": true
   },
   "outputs": [
    {
     "name": "stdout",
     "output_type": "stream",
     "text": [
      "0\n",
      "100\n",
      "200\n",
      "300\n",
      "400\n",
      "500\n",
      "600\n",
      "700\n",
      "800\n",
      "900\n",
      "1000\n",
      "1100\n",
      "1200\n",
      "1300\n",
      "1400\n",
      "1500\n",
      "1600\n",
      "1700\n",
      "1800\n",
      "1900\n",
      "2000\n",
      "2100\n",
      "2200\n",
      "2300\n",
      "2400\n",
      "2500\n",
      "2600\n",
      "2700\n",
      "2800\n",
      "2900\n",
      "3000\n",
      "3100\n",
      "3200\n",
      "3300\n",
      "3400\n",
      "3500\n",
      "3600\n",
      "3700\n",
      "3800\n",
      "3900\n",
      "4000\n",
      "4100\n",
      "4200\n",
      "4300\n",
      "4400\n",
      "4500\n",
      "4600\n",
      "4700\n",
      "4800\n",
      "4900\n",
      "5000\n",
      "5100\n",
      "5200\n",
      "5300\n",
      "5400\n",
      "5500\n",
      "5600\n",
      "5700\n",
      "5800\n",
      "5900\n",
      "6000\n"
     ]
    }
   ],
   "source": [
    "\n",
    "\n",
    "# \"chl|turb|sedi|par|phot|secchi|ssc\"\n",
    "FF[\"buoy\"] = False\n",
    "FF[\"glider\"] = False\n",
    "FF[\"ship\"] = False\n",
    "FF[\"turb\"] = False\n",
    "FF[\"ssc\"] = False\n",
    "FF[\"phot\"] = False\n",
    "FF[\"chl\"] = False\n",
    "FF['bad'] = False\n",
    "lib = {'buoy','glider','ship','turb','ssc','phot','chl'}\n",
    "\n",
    "\n",
    "for jj in range(len(FF)):\n",
    "    if jj % 100 ==0:\n",
    "        print(jj)# give a printout every 100 for my sanity\n",
    "\n",
    "    # make the info URL for this site for this time range\n",
    "    e = ERDDAP(server=FF['url'][jj],\n",
    "               protocol=\"tabledap\",\n",
    "               response=\"csv\"\n",
    "              )\n",
    "    e.dataset_id = FF['sites'][jj]\n",
    "    # e.constraints = {\"time>=\": min_time, \"time<=\": max_time}\n",
    "    info_url = e.get_info_url()\n",
    "    try:\n",
    "        ds_info = pd.read_csv(info_url)# make a dataframe for all the metadata for this station\n",
    "    except:\n",
    "        FF.loc[jj,\"bad\"] = True\n",
    "    else:\n",
    "        for kwd in lib:\n",
    "            idx = ds_info[\"Value\"].str.contains(kwd, flags = re.IGNORECASE)\n",
    "            if any(idx==True)==True:\n",
    "                FF.loc[jj,kwd] = True\n",
    "\n",
    "FF = FF[FF.bad == False] \n",
    "FF.reset_index(drop=True, inplace=True)"
   ]
  },
  {
   "cell_type": "code",
   "execution_count": 5,
   "id": "64a1090d",
   "metadata": {},
   "outputs": [],
   "source": [
    "FF.to_pickle(\"labeled_relevant_stations.pkl\")\n"
   ]
  },
  {
   "cell_type": "code",
   "execution_count": null,
   "id": "f96fb660",
   "metadata": {},
   "outputs": [],
   "source": [
    "FF[(FF.buoy == True) & (FF.turb == True)]"
   ]
  }
 ],
 "metadata": {
  "kernelspec": {
   "display_name": "Python 3 (ipykernel)",
   "language": "python",
   "name": "python3"
  },
  "language_info": {
   "codemirror_mode": {
    "name": "ipython",
    "version": 3
   },
   "file_extension": ".py",
   "mimetype": "text/x-python",
   "name": "python",
   "nbconvert_exporter": "python",
   "pygments_lexer": "ipython3",
   "version": "3.9.12"
  }
 },
 "nbformat": 4,
 "nbformat_minor": 5
}
