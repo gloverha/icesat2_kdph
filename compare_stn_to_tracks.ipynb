{
 "cells": [
  {
   "cell_type": "markdown",
   "id": "842adedb",
   "metadata": {},
   "source": [
    "Goal: pull out 1 buoy record that has turbidity and search for matching icesat2 granules\n",
    "\n",
    "Order of operations:\n",
    "- load info for 1 relevant station\n",
    "- Find all matching atl granules and save times from file names\n",
    "- Compare times to see if any matching buoy times\n"
   ]
  },
  {
   "cell_type": "code",
   "execution_count": 1,
   "id": "f16e3e21-8480-4387-8fb1-0dc866234ca9",
   "metadata": {
    "scrolled": true
   },
   "outputs": [],
   "source": [
    "# %pip install erddapy"
   ]
  },
  {
   "cell_type": "code",
   "execution_count": 2,
   "id": "141611e8",
   "metadata": {},
   "outputs": [],
   "source": [
    "from erddapy import ERDDAP\n",
    "import pandas as pd\n",
    "import numpy as np\n",
    "from datetime import datetime, timezone\n",
    "from sliderule import sliderule, icesat2, earthdata\n",
    "\n",
    "pd.set_option('display.max_rows', None)\n",
    "pd.set_option('display.max_columns', None)\n",
    "\n",
    "def fname2datetime(fname):\n",
    "    y = int(fname[6:10])\n",
    "    m = int(fname[10:12])\n",
    "    d = int(fname[12:14])\n",
    "    H = int(fname[14:16])\n",
    "    M = int(fname[16:18])\n",
    "    S = int(fname[18:20])\n",
    "\n",
    "    t = datetime(y,m,d,H,M,S, tzinfo=timezone.utc).timestamp()\n",
    "    return t"
   ]
  },
  {
   "cell_type": "code",
   "execution_count": 24,
   "id": "4e6dbb59",
   "metadata": {},
   "outputs": [],
   "source": [
    "# load a list of all the relevant ERDDAPs and their urls.\n",
    "FF = pd.read_pickle(\"labeled_relevant_stations.pkl\")\n",
    "FF[(FF.buoy == True) & (FF.ssc == True) & (FF.chl == True)]\n",
    "# URI_PP_SurfaceSonde\thttp://www.neracoos.org/erddap/\n",
    "lat = FF['geospatial_lat_min'][FF['sites']=='URI_169-QP_SurfaceSonde'].values\n",
    "lon = FF['geospatial_lon_min'][FF['sites']=='URI_169-QP_SurfaceSonde'].values\n",
    "lat = float(lat[0])\n",
    "lon = float(lon[0])"
   ]
  },
  {
   "cell_type": "code",
   "execution_count": 25,
   "id": "131bdf5b-4177-4c72-80de-59d46b5aa33b",
   "metadata": {},
   "outputs": [
    {
     "data": {
      "text/plain": [
       "-71.37992"
      ]
     },
     "execution_count": 25,
     "metadata": {},
     "output_type": "execute_result"
    }
   ],
   "source": [
    "lat\n",
    "lon"
   ]
  },
  {
   "cell_type": "code",
   "execution_count": 26,
   "id": "404e65d1-ff0a-4272-b5b3-1769e5636100",
   "metadata": {},
   "outputs": [
    {
     "name": "stdout",
     "output_type": "stream",
     "text": [
      "[-71.42992, 41.5375, -71.32992, 41.637499999999996]\n"
     ]
    }
   ],
   "source": [
    "bbox = [lon-0.05,lat-0.05,lon+0.05,lat+0.05]\n",
    "print(bbox)"
   ]
  },
  {
   "cell_type": "code",
   "execution_count": null,
   "id": "ad000cbd-2e2f-45ab-9a75-00e66b5ad260",
   "metadata": {},
   "outputs": [],
   "source": [
    "# define bounding box; WSEN\n",
    "# bbox = [-108.3, 39.2, -107.8, 38.8]\n",
    "bbox = [-92.4, 28.5, -92.3, 28.4]\n",
    "region = sliderule.toregion(bbox)\n",
    "\n",
    "# search CMR for matching ATL03 in the bounding box\n",
    "grns = earthdata.cmr(\n",
    "    short_name=\"ATL03\",\n",
    "    polygon=region['poly'],\n",
    "    version='006')\n",
    "grns"
   ]
  },
  {
   "cell_type": "code",
   "execution_count": null,
   "id": "96241056",
   "metadata": {},
   "outputs": [],
   "source": [
    "# e = ERDDAP(    \n",
    "# server= \"https://erddap.bco-dmo.org/erddap/\",    \n",
    "# protocol=\"tabledap\",   \n",
    "# response=\"csv\", )\n",
    "\n",
    "# e.dataset_id = \"bcodmo_dataset_817952\" \n",
    "# e.variables = [    \n",
    "# \"longitude\",    \n",
    "# \"latitude\",    \n",
    "# \"time\",    \n",
    "# \"POC\" ] \n",
    "# e.constraints = {    \n",
    "# \"time>=\": \"2017-01-13T00:00:00Z\",    \n",
    "# \"time<=\": \"2017-01-16T23:59:59Z\",}\n",
    "\n",
    "# #Print the URL - check \n",
    "# url = e.get_download_url() \n",
    "# print(url)"
   ]
  },
  {
   "cell_type": "code",
   "execution_count": 4,
   "id": "36f4e448",
   "metadata": {
    "scrolled": true
   },
   "outputs": [
    {
     "name": "stdout",
     "output_type": "stream",
     "text": [
      "0\n",
      "100\n",
      "200\n",
      "300\n",
      "400\n",
      "500\n",
      "600\n",
      "700\n",
      "800\n",
      "900\n",
      "1000\n",
      "1100\n",
      "1200\n",
      "1300\n",
      "1400\n",
      "1500\n",
      "1600\n",
      "1700\n",
      "1800\n",
      "1900\n",
      "2000\n",
      "2100\n",
      "2200\n",
      "2300\n",
      "2400\n",
      "2500\n",
      "2600\n",
      "2700\n",
      "2800\n",
      "2900\n",
      "3000\n",
      "3100\n",
      "3200\n",
      "3300\n",
      "3400\n",
      "3500\n",
      "3600\n",
      "3700\n",
      "3800\n",
      "3900\n",
      "4000\n",
      "4100\n",
      "4200\n",
      "4300\n",
      "4400\n",
      "4500\n",
      "4600\n",
      "4700\n",
      "4800\n",
      "4900\n",
      "5000\n",
      "5100\n",
      "5200\n",
      "5300\n",
      "5400\n",
      "5500\n",
      "5600\n",
      "5700\n",
      "5800\n",
      "5900\n",
      "6000\n"
     ]
    }
   ],
   "source": [
    "\n",
    "\n",
    "\n",
    "\n",
    "for jj in range(len(FF)):\n",
    "    if jj % 100 ==0:\n",
    "        print(jj)# give a printout every 100 for my sanity\n",
    "\n",
    "    # make the info URL for this site for this time range\n",
    "    e = ERDDAP(server=FF['url'][jj],\n",
    "               protocol=\"tabledap\",\n",
    "               response=\"csv\"\n",
    "              )\n",
    "    e.dataset_id = FF['sites'][jj]\n",
    "    # e.constraints = {\"time>=\": min_time, \"time<=\": max_time}\n",
    "    info_url = e.get_info_url()\n",
    "    try:\n",
    "        ds_info = pd.read_csv(info_url)# make a dataframe for all the metadata for this station\n",
    "    except:\n",
    "        FF.loc[jj,\"bad\"] = True\n",
    "    else:\n",
    "        for kwd in lib:\n",
    "            idx = ds_info[\"Value\"].str.contains(kwd, flags = re.IGNORECASE)\n",
    "            if any(idx==True)==True:\n",
    "                FF.loc[jj,kwd] = True\n",
    "\n",
    "FF = FF[FF.bad == False] \n",
    "FF.reset_index(drop=True, inplace=True)"
   ]
  }
 ],
 "metadata": {
  "kernelspec": {
   "display_name": "Python 3 (ipykernel)",
   "language": "python",
   "name": "python3"
  },
  "language_info": {
   "codemirror_mode": {
    "name": "ipython",
    "version": 3
   },
   "file_extension": ".py",
   "mimetype": "text/x-python",
   "name": "python",
   "nbconvert_exporter": "python",
   "pygments_lexer": "ipython3",
   "version": "3.11.9"
  }
 },
 "nbformat": 4,
 "nbformat_minor": 5
}
