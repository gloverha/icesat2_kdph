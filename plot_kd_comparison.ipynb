{
 "cells": [
  {
   "cell_type": "markdown",
   "id": "c43f4063-0bb8-471c-bb5c-6cf373e8cc0f",
   "metadata": {},
   "source": [
    "plot kd from argo, ws profiles, and ooi array"
   ]
  },
  {
   "cell_type": "code",
   "execution_count": 1,
   "id": "7403ceef-8892-466a-86d8-01f06f288770",
   "metadata": {
    "scrolled": true
   },
   "outputs": [
    {
     "name": "stdout",
     "output_type": "stream",
     "text": [
      "Note: you may need to restart the kernel to use updated packages.\n"
     ]
    }
   ],
   "source": [
    "%pip install --quiet geopy"
   ]
  },
  {
   "cell_type": "code",
   "execution_count": 2,
   "id": "a13b3781-26c0-43db-bed8-6b65ded2dbc9",
   "metadata": {},
   "outputs": [],
   "source": [
    "import pandas as pd\n",
    "import numpy as np\n",
    "from datetime import datetime, timedelta, timezone\n",
    "import matplotlib.pyplot as plt\n",
    "from scipy import stats\n",
    "import glob\n",
    "from geopy.distance import geodesic"
   ]
  },
  {
   "cell_type": "code",
   "execution_count": 3,
   "id": "9bcf0649-2ad9-471c-84d7-6c68dd897073",
   "metadata": {},
   "outputs": [],
   "source": [
    "def matchkd_argo(file_name):\n",
    "    is2 = pd.read_csv(file_name)# load data\n",
    "    t = datetime.strptime(file_name[8:22],'%Y%m%d%H%M%S')# strip time from file name\n",
    "    t = t.replace(tzinfo=timezone.utc)\n",
    "    tdiff = abs(t - argo['dt_float']) # calculate difference between file time and each argo entry\n",
    "    \n",
    "    # find all entries in argo where tdiff<6h\n",
    "    argo_sub = argo[tdiff<(timedelta(hours=12))]\n",
    "    rows = argo_sub.index.values\n",
    "    \n",
    "    # find all entries in argo where distance is < 10km\n",
    "    for jj in rows:\n",
    "        argo_coords = (argo_sub.loc[jj,'lat_float'],argo_sub.loc[jj,'lon_float']) #lat,lon tuple\n",
    "        dist = np.ones(len(is2))*np.nan\n",
    "        for kk in range(len(is2)):\n",
    "            is2_coords = (is2.loc[kk,'latitude'],is2.loc[kk,'longitude'])\n",
    "            try:\n",
    "                dist[kk] = geodesic(argo_coords, is2_coords).km\n",
    "            except:\n",
    "                continue\n",
    "        idx = np.argmin(dist)\n",
    "        if np.min(dist)<10:\n",
    "            argo.loc[jj,'icesat2_kd'] = is2.loc[idx,'kd']\n",
    "\n",
    "def matchkd_ooi(file_name):\n",
    "    is2 = pd.read_csv(file_name)# load data\n",
    "    t = datetime.strptime(file_name[8:22],'%Y%m%d%H%M%S')# strip time from file name\n",
    "    t = t.replace(tzinfo=timezone.utc)\n",
    "    tdiff = abs(t - ooi['time']) # calculate difference between file time and each argo entry\n",
    "    \n",
    "    # find all entries in argo where tdiff<6h\n",
    "    ooi_sub = ooi[tdiff<(timedelta(hours=24))]\n",
    "    rows = ooi_sub.index.values\n",
    "\n",
    "    # find all possible matched entries where distance is < 10km\n",
    "    for jj in rows:\n",
    "        dist = np.ones(len(is2))*np.nan\n",
    "        ooi_coords = (ooi_sub.loc[jj,'lat'],ooi_sub.loc[jj,'lon']) #lat,lon tuple\n",
    "        for kk in range(len(is2)):\n",
    "            is2_coords = (is2.loc[kk,'latitude'],is2.loc[kk,'longitude'])\n",
    "            try:\n",
    "                dist[kk] = geodesic(ooi_coords, is2_coords).km\n",
    "            except:\n",
    "                continue\n",
    "        idx = np.argmin(dist)\n",
    "        if np.min(dist)<10:\n",
    "            ooi.loc[jj,'icesat2_kd'] = is2.loc[idx,'kd']\n",
    "\n",
    "def matchkd_ws(file_name):\n",
    "    is2 = pd.read_csv(file_name)# load data\n",
    "    t = datetime.strptime(file_name[8:22],'%Y%m%d%H%M%S')# strip time from file name\n",
    "    t = t.replace(tzinfo=timezone.utc)\n",
    "    tdiff = abs(t - ws['time']) # calculate difference between file time and each argo entry\n",
    "    \n",
    "    # find all entries in argo where tdiff<6h\n",
    "    ws_sub = ws[tdiff<(timedelta(hours=24))]\n",
    "    rows = ws_sub.index.values\n",
    "\n",
    "    # find all possible matched entries where distance is < 10km\n",
    "    for jj in rows:\n",
    "        dist = np.ones(len(is2))*np.nan\n",
    "        ws_coords = (ws_sub.loc[jj,'lat'],ws_sub.loc[jj,'lon']) #lat,lon tuple\n",
    "        for kk in range(len(is2)):\n",
    "            is2_coords = (is2.loc[kk,'latitude'],is2.loc[kk,'longitude'])\n",
    "            try:\n",
    "                dist[kk] = geodesic(ws_coords, is2_coords).km\n",
    "            except:\n",
    "                continue\n",
    "        idx = np.argmin(dist)\n",
    "        if np.min(dist)<10:\n",
    "            ws.loc[jj,'icesat2_kd'] = is2.loc[idx,'kd']\n",
    "\n",
    "\n",
    "\n",
    "# def matchkd_ws(file_name):\n",
    "#     is2 = pd.read_csv(file_name)# load data\n",
    "#     t = datetime.strptime(file_name[8:22],'%Y%m%d%H%M%S')# strip time from file name\n",
    "#     t = t.replace(tzinfo=timezone.utc)\n",
    "#     tdiff = abs(t - ws['time']) # calculate difference between file time and each argo entry\n",
    "    \n",
    "#     # find all entries in argo where tdiff<6h\n",
    "#     ws_sub = ws[tdiff<(timedelta(hours=24))]\n",
    "#     rows = ws_sub.index.values\n",
    "#     # find all entries in argo where distance is < 4km\n",
    "#     is2_coords = (np.nanmean(is2['latitude']),np.nanmean(is2['longitude']))\n",
    "#     for jj in rows:\n",
    "#         ws_coords = (ws_sub.loc[jj,'lat'],ws_sub.loc[jj,'lon']) #lat,lon tuple \n",
    "#         dist = geodesic(ws_coords, is2_coords).km\n",
    "#         if dist<100:\n",
    "#             ws.loc[jj,'icesat2_kd_mean'] = np.nanmean(is2['kd'])\n",
    "#             ws.loc[jj,'icesat2_kd_std'] = np.nanstd(is2['kd'])\n"
   ]
  },
  {
   "cell_type": "code",
   "execution_count": 3,
   "id": "50d5d9c2-6d9f-48e3-baf0-a0a65da88258",
   "metadata": {},
   "outputs": [
    {
     "name": "stdout",
     "output_type": "stream",
     "text": [
      "10389\n"
     ]
    },
    {
     "data": {
      "text/plain": [
       "23"
      ]
     },
     "execution_count": 3,
     "metadata": {},
     "output_type": "execute_result"
    }
   ],
   "source": [
    "pname = 'results/'\n",
    "argo = pd.read_csv('data/Dataset_Kd_Paper_2018.csv')\n",
    "argo[\"dt_float\"] = pd.to_datetime(argo[\"dt_float\"]-719529,unit='d',utc=True).round('s')\n",
    "# argo['dt_float'] = pd.to_datetime(argo[\"dt_float\"],format='ISO8601').round('s')\n",
    "argo['icesat2_kd'] = np.nan\n",
    "fnames = glob.glob(pname+'*Further.csv')\n",
    "\n",
    "file_name=fnames[0]\n",
    "is2 = pd.read_csv(file_name)# load data\n",
    "t = datetime.strptime(file_name[8:22],'%Y%m%d%H%M%S')# strip time from file name\n",
    "t = t.replace(tzinfo=timezone.utc)\n",
    "tdiff = abs(t - argo['dt_float']) # calculate difference between file time and each argo entry\n",
    "\n",
    "# find all entries in argo where tdiff<6h\n",
    "argo_sub = argo[tdiff<(timedelta(hours=12))]\n",
    "rows = argo_sub.index.values\n",
    "# # find all entries in argo where distance is < 10km\n",
    "jj = rows[0]\n",
    "print(rows[0])\n",
    "argo_coords = (argo_sub.loc[jj,'lat_float'],argo_sub.loc[jj,'lon_float'])\n",
    "dist = np.ones(len(is2))*np.nan\n",
    "for kk in range(len(is2)):\n",
    "    is2_coords = (is2.loc[kk,'latitude'],is2.loc[kk,'longitude'])\n",
    "    try:\n",
    "        dist[kk] = geodesic(argo_coords, is2_coords).km\n",
    "    except:\n",
    "        continue\n",
    "\n",
    "# for jj in rows:\n",
    "#     argo_coords = (argo_sub.loc[jj,'lat_float'],argo_sub.loc[jj,'lon_float']) #lat,lon tuple\n",
    "#     dist = np.ones(len(is2))*np.nan\n",
    "#     for kk in range(len(is2)):\n",
    "#         is2_coords = (is2.loc[kk,'latitude'],is2.loc[kk,'longitude'])\n",
    "#         try:\n",
    "#             dist[kk] = geodesic(argo_coords, is2_coords).km\n",
    "#         except:\n",
    "#             continue\n",
    "#     idx = np.argmin(dist)\n",
    "#     if np.min(dist)<10:\n",
    "#         argo.loc[jj,'icesat2_kd'] = is2.loc[idx,'kd']\n"
   ]
  },
  {
   "cell_type": "code",
   "execution_count": 4,
   "id": "9503d5d0-1a51-40aa-bc21-696b38fa46ae",
   "metadata": {
    "scrolled": true
   },
   "outputs": [],
   "source": [
    "# load argo data:\n",
    "pname = 'results/'\n",
    "argo = pd.read_csv('data/Dataset_Kd_Paper_2018.csv')\n",
    "argo[\"dt_float\"] = pd.to_datetime(argo[\"dt_float\"]-719529,unit='d',utc=True).round('s')\n",
    "# argo['dt_float'] = pd.to_datetime(argo[\"dt_float\"],format='ISO8601').round('s')\n",
    "argo['icesat2_kd'] = np.nan\n",
    "fnames = glob.glob(pname+'*Further.csv')\n",
    "for file in fnames:\n",
    "    matchkd_argo(file)\n",
    "\n",
    "\n",
    "# load ooi data:\n",
    "ooi = pd.read_csv(pname+'ooi_kdcalculations.csv',index_col=0)\n",
    "ooi['time'] = pd.to_datetime(ooi[\"time\"],format='ISO8601').round('s')\n",
    "ooi['icesat2_kd'] = np.nan\n",
    "fnames = glob.glob(pname+'*Further.csv')\n",
    "for file in fnames:\n",
    "    matchkd_ooi(file)\n",
    "\n",
    "# load ws data:\n",
    "ws = pd.read_csv(pname+'ws_kdcalculations.csv',index_col=0)\n",
    "ws['time'] = pd.to_datetime(ws[\"time\"],format='ISO8601').round('s')\n",
    "ws['icesat2_kd'] = np.nan\n",
    "fnames = glob.glob(pname+'*Further.csv')\n",
    "for file in fnames:\n",
    "    matchkd_ws(file)\n",
    "\n"
   ]
  },
  {
   "cell_type": "code",
   "execution_count": 6,
   "id": "2b3924e3-0ea6-4699-88b5-1a3eea9376bd",
   "metadata": {},
   "outputs": [
    {
     "data": {
      "text/plain": [
       "Text(0, 0.5, 'kd from icesat-2')"
      ]
     },
     "execution_count": 6,
     "metadata": {},
     "output_type": "execute_result"
    },
    {
     "data": {
      "image/png": "[encoded data removed]",
      "text/plain": [
       "<Figure size 640x480 with 1 Axes>"
      ]
     },
     "metadata": {},
     "output_type": "display_data"
    }
   ],
   "source": [
    "plt.figure()\n",
    "plt.scatter(argo['kd_490_f'],argo['icesat2_kd'], label = 'Argo Floats')\n",
    "plt.scatter(ooi['kd'],ooi['icesat2_kd'], label = 'OR Endurance Array')\n",
    "plt.scatter(ws['kd'],ws['icesat2_kd'], label = 'GoM CTD casts')\n",
    "plt.xlim([0,2])\n",
    "plt.ylim([0,2])\n",
    "plt.axline((0, 0), slope=1,c='k')\n",
    "plt.legend()\n",
    "plt.xlabel('kd from ground-truth')\n",
    "plt.ylabel('kd from icesat-2')\n",
    "\n",
    "# plt.figure()\n",
    "# plt.errorbar(argo['kd_490_f'],argo['icesat2_kd_mean'], yerr=argo['icesat2_kd_std'], label = 'argo',fmt='-o')\n",
    "# plt.errorbar(ooi['kd'],ooi['icesat2_kd_mean'], yerr=ooi['icesat2_kd_std'], label = 'ooi',fmt='-o')\n",
    "# plt.errorbar(ws['kd'],ws['icesat2_kd_mean'], yerr=ws['icesat2_kd_std'], label = 'ws',fmt='-o')\n",
    "# plt.xlim([0,0.3])\n",
    "# plt.ylim([0,0.3])\n",
    "# plt.axline((0, 0), slope=1,c='k')\n",
    "# plt.legend()\n",
    "\n",
    "# plt.xlabel('kd from ground-truth')\n",
    "# plt.ylabel('kd from icesat-2')"
   ]
  }
 ],
 "metadata": {
  "kernelspec": {
   "display_name": "Python 3 (ipykernel)",
   "language": "python",
   "name": "python3"
  },
  "language_info": {
   "codemirror_mode": {
    "name": "ipython",
    "version": 3
   },
   "file_extension": ".py",
   "mimetype": "text/x-python",
   "name": "python",
   "nbconvert_exporter": "python",
   "pygments_lexer": "ipython3",
   "version": "3.11.9"
  }
 },
 "nbformat": 4,
 "nbformat_minor": 5
}
