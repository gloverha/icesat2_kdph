{
 "cells": [
  {
   "cell_type": "code",
   "execution_count": 6,
   "id": "dbce0b86",
   "metadata": {},
   "outputs": [
    {
     "ename": "NameError",
     "evalue": "name 'DatasetID' is not defined",
     "output_type": "error",
     "traceback": [
      "\u001b[0;31m---------------------------------------------------------------------------\u001b[0m",
      "\u001b[0;31mNameError\u001b[0m                                 Traceback (most recent call last)",
      "Input \u001b[0;32mIn [6]\u001b[0m, in \u001b[0;36m<cell line: 38>\u001b[0;34m()\u001b[0m\n\u001b[1;32m     34\u001b[0m lon_w \u001b[38;5;241m=\u001b[39m \u001b[38;5;241m-\u001b[39m\u001b[38;5;241m100\u001b[39m\n\u001b[1;32m     37\u001b[0m stn_list_result \u001b[38;5;241m=\u001b[39m \u001b[38;5;124m'\u001b[39m\u001b[38;5;124mhttps://erddap.gcoos.org/erddap/info/index.csv?page=1&itemsPerPage=1000\u001b[39m\u001b[38;5;124m'\u001b[39m\n\u001b[0;32m---> 38\u001b[0m \u001b[43mDatasetID\u001b[49m\n\u001b[1;32m     40\u001b[0m \u001b[38;5;66;03m# Create the request URL\u001b[39;00m\n\u001b[1;32m     41\u001b[0m api_base_url \u001b[38;5;241m=\u001b[39m \u001b[38;5;124m'\u001b[39m\u001b[38;5;124mhttps://erddap.gcoos.org/erddap/tabledap/\u001b[39m\u001b[38;5;124m'\u001b[39m\n",
      "\u001b[0;31mNameError\u001b[0m: name 'DatasetID' is not defined"
     ]
    }
   ],
   "source": [
    "# imports\n",
    "import os,sys,re\n",
    "import numpy as np\n",
    "import netCDF4 as nc\n",
    "import xarray as xr\n",
    "import pandas as pd\n",
    "import requests, argparse\n",
    "from datetime import datetime, timedelta, date, timezone\n",
    "import matplotlib.pyplot as plt\n",
    "import ioos_mod \n",
    "\n",
    "\n",
    "\n",
    "# to do:\n",
    "# 1. make csv with all current station data\n",
    "# 2. ask for user input of lat/lon box and time range \n",
    "# 3. find station within those parameters with any relevant data\n",
    "# 4. Generate erdapp URL for each station with relevant data\n",
    "\n",
    "\n",
    "\n",
    "\n",
    "\n",
    "# Retrieving Data\n",
    "#---------------------------------------------------------------------------------------------------\n",
    "start_time = datetime(2024, 1, 10, hour=0, minute=0, second=0, microsecond=0, tzinfo=timezone.utc)\n",
    "end_time = datetime(2024, 1, 10, hour=1, minute=0, second=0, microsecond=0, tzinfo=timezone.utc)\n",
    "# Make the start and end times into useable strings\n",
    "start_time = start_time.strftime('%Y-%m-%dT%H:%M:%S.000Z')\n",
    "end_time = end_time.strftime('%Y-%m-%dT%H:%M:%S.000Z')\n",
    "lat_s = 0\n",
    "lat_n = 50\n",
    "lon_e = -50\n",
    "lon_w = -100\n",
    "\n",
    "\n",
    "stn_list_result = 'https://erddap.gcoos.org/erddap/info/index.csv?page=1&itemsPerPage=1000'\n",
    "DatasetID = np.textscan(stn_list_result)\n",
    "\n",
    "# Create the request URL\n",
    "api_base_url = 'https://erddap.gcoos.org/erddap/tabledap/'\n",
    "data_request_url ='/'.join((api_base_url,site,node,instrument,method,stream))\n",
    "# For gcoos auto search:\n",
    "# https://data.gcoos.org/get_gcoos_data.php?bbox={1}&start={2}&stop={3}&obs={4}&source={5}&fmt={6}&sortBy={7}&qc={8}\n",
    "# https://data.gcoos.org/waf.php\n",
    "# https://data.gcoos.org/data/waf/nc_by_platform/\n",
    "\n",
    "# https://coastwatch.pfeg.noaa.gov/erddap/tabledap/pmelTaoDySst.htmlTable?longitude,latitude,time,station,wmo_platform_code,T_25&time>=2015-05-23T12:00:00Z&time<=2015-05-31T12:00:00Z\n",
    "# https://erddap.gcoos.org/erddap/tabledap/CBI_069.htmlTable?time%2Clatitude%2Clongitude%2Cplatform%2Cdepth%2Cchlorophyll_instrument_1&time%3E=2024-05-09T00%3A00%3A00Z&time%3C=2024-05-16T17%3A12%3A00Z\n"
   ]
  }
 ],
 "metadata": {
  "kernelspec": {
   "display_name": "Python 3 (ipykernel)",
   "language": "python",
   "name": "python3"
  },
  "language_info": {
   "codemirror_mode": {
    "name": "ipython",
    "version": 3
   },
   "file_extension": ".py",
   "mimetype": "text/x-python",
   "name": "python",
   "nbconvert_exporter": "python",
   "pygments_lexer": "ipython3",
   "version": "3.9.12"
  }
 },
 "nbformat": 4,
 "nbformat_minor": 5
}
