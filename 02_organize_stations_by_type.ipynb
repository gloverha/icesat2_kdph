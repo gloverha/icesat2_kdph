{
 "cells": [
  {
   "cell_type": "markdown",
   "id": "842adedb",
   "metadata": {},
   "source": [
    "Goal: realized I didnt save enough station metadata in \"find_all_stations\", so this is a second pass for more info from the subset previously identified\n",
    "\n",
    "Order of operations:\n",
    "- load all_relevant_stations.pkl\n",
    "- sort by chl|turb|sedi|par|phot|secchi|ssc\n",
    "- sort those by buoy/glider/ship"
   ]
  },
  {
   "cell_type": "code",
   "execution_count": 1,
   "id": "72210c12-574d-473c-9fd4-d2521f8a0691",
   "metadata": {},
   "outputs": [
    {
     "name": "stdout",
     "output_type": "stream",
     "text": [
      "Note: you may need to restart the kernel to use updated packages.\n"
     ]
    }
   ],
   "source": [
    "%pip install --quiet erddapy"
   ]
  },
  {
   "cell_type": "code",
   "execution_count": 7,
   "id": "141611e8",
   "metadata": {},
   "outputs": [],
   "source": [
    "from erddapy import ERDDAP\n",
    "import pandas as pd\n",
    "import numpy as np\n",
    "import urllib.request\n",
    "import json\n",
    "import re\n",
    "\n",
    "pd.set_option('display.max_rows', None)\n",
    "pd.set_option('display.max_columns', None)\n"
   ]
  },
  {
   "cell_type": "code",
   "execution_count": null,
   "id": "36f4e448",
   "metadata": {},
   "outputs": [
    {
     "name": "stdout",
     "output_type": "stream",
     "text": [
      "0\n"
     ]
    }
   ],
   "source": [
    "# load previous search output\n",
    "FF = pd.read_pickle('all_relevant_stations.pkl')\n",
    "\n",
    "lib = {'buoy','glider','ship','turbid','ssc','photo','chl','radiation'}\n",
    "\n",
    "FF[\"buoy\"] = False\n",
    "FF[\"glider\"] = False\n",
    "FF[\"ship\"] = False\n",
    "FF[\"turbid\"] = False\n",
    "FF[\"ssc\"] = False\n",
    "FF[\"photo\"] = False\n",
    "FF[\"chl\"] = False\n",
    "FF['radiation'] = False\n",
    "FF['bad'] = False\n",
    "\n",
    "for jj in range(len(FF)):\n",
    "    if jj % 100 ==0:\n",
    "        print(jj)# give a printout every 100 for my sanity\n",
    "\n",
    "    # make the info URL for this site for this time range\n",
    "    e = ERDDAP(server=FF['url'][jj],\n",
    "               protocol=\"tabledap\",\n",
    "               response=\"csv\"\n",
    "              )\n",
    "    e.dataset_id = FF['sites'][jj]\n",
    "    # e.constraints = {\"time>=\": min_time, \"time<=\": max_time}\n",
    "    info_url = e.get_info_url()\n",
    "    try:\n",
    "        ds_info = pd.read_csv(info_url)# make a dataframe for all the metadata for this station\n",
    "    except:\n",
    "        FF.loc[jj,\"bad\"] = True\n",
    "    else:\n",
    "        for kwd in lib:\n",
    "            idx = ds_info[\"Value\"].str.contains(kwd, flags = re.IGNORECASE)\n",
    "            if any(idx==True)==True:\n",
    "                FF.loc[jj,kwd] = True\n",
    "\n",
    "FF = FF[FF.bad == False] \n",
    "FF.reset_index(drop=True, inplace=True)\n",
    "\n",
    "FF = FF.drop(columns=\"bad\")\n",
    "FF.to_pickle(\"labeled_relevant_stations.pkl\")\n"
   ]
  },
  {
   "cell_type": "code",
   "execution_count": null,
   "id": "368a8f0c",
   "metadata": {},
   "outputs": [],
   "source": [
    "FF[(FF.buoy == True) & (FF.radiation == True)]"
   ]
  }
 ],
 "metadata": {
  "kernelspec": {
   "display_name": "Python 3 (ipykernel)",
   "language": "python",
   "name": "python3"
  },
  "language_info": {
   "codemirror_mode": {
    "name": "ipython",
    "version": 3
   },
   "file_extension": ".py",
   "mimetype": "text/x-python",
   "name": "python",
   "nbconvert_exporter": "python",
   "pygments_lexer": "ipython3",
   "version": "3.11.9"
  }
 },
 "nbformat": 4,
 "nbformat_minor": 5
}
